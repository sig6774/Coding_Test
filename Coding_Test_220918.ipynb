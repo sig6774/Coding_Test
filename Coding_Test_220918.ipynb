{
 "cells": [
  {
   "cell_type": "markdown",
   "metadata": {},
   "source": [
    "## 송아지 찾기(BFS : 상태트리 탐색) \n",
    "- 현수는 송아지를 잃어버렸다. 다행히 송아지에는 위치추적기가 달려 있다. 현수의 위치와 송아 지의 위치가 직선상의 좌표 점으로 주어지면 현수는 현재 위치에서 송아지의 위치까지 다음과 같은 방법으로 이동한다.\n",
    "- 현수는 스카이 콩콩을 타고 가는데 한 번의 점프로 앞으로 1, 뒤로 1, 앞으로 5를 이동할 수 있다. 최소 몇 번의 점프로 현수가 송아지의 위치까지 갈 수 있는지 구하는 프로그램을 작성 하세요.\n",
    "\n",
    "<hr>\n",
    "\n",
    "- ▣ 입력설명\n",
    "    - 첫 번째 줄에 현수의 위치 S와 송아지의 위치 E가 주어진다. 직선의 좌표 점은 1부터 10,000 까지이다.\n",
    "\n",
    "- ▣ 출력설명\n",
    "    - 점프의 최소횟수를 구한다.\n"
   ]
  },
  {
   "cell_type": "code",
   "execution_count": 1,
   "metadata": {},
   "outputs": [
    {
     "data": {
      "text/plain": [
       "'\\n넓이 우선 탐색 \\n- level에 따라 탐색 \\n- 큐(선입선출)를 사용해서 pop이 되면 한번에 갈 수 있는 노드를 넣어줌 \\n'"
      ]
     },
     "execution_count": 1,
     "metadata": {},
     "output_type": "execute_result"
    }
   ],
   "source": [
    "'''\n",
    "넓이 우선 탐색 \n",
    "- level에 따라 탐색 \n",
    "- 큐(선입선출)를 사용해서 pop이 되면 한번에 갈 수 있는 노드를 넣어줌 \n",
    "- 이후 위의 과정을 반복하면서 조건에 맞도록 진행 \n",
    "'''"
   ]
  },
  {
   "cell_type": "code",
   "execution_count": 2,
   "metadata": {},
   "outputs": [
    {
     "name": "stdout",
     "output_type": "stream",
     "text": [
      "3\n"
     ]
    }
   ],
   "source": [
    "from collections import deque \n",
    "\n",
    "MAX = 10000\n",
    "ch = [0] * (MAX+1)\n",
    "# 체크 함수 \n",
    "\n",
    "dis = [0] * (MAX+1)\n",
    "\n",
    "n,m = map(int, input().split())\n",
    "ch[n] = 1 \n",
    "# n부터 시작하니깐 미리 체크해줌 \n",
    "\n",
    "dis[n] = 0 \n",
    "# 거리를 의미\n",
    "\n",
    "dQ = deque()\n",
    "dQ.append(n)\n",
    "\n",
    "while dQ:\n",
    "    now = dQ.popleft() \n",
    "    # 현재 지점을 나오라고 지시 \n",
    "\n",
    "    if now == m:\n",
    "        # pop된 now가 m이라면 종료 \n",
    "        break \n",
    "\n",
    "    for next in (now-1, now+1, now+5):\n",
    "        # 이렇게 작성하면 now로 pop된 값에 연산을 할 3가지를 차례로 진행함 \n",
    "        if 0<next<=MAX: \n",
    "            if ch[next] == 0 :\n",
    "                # 이미 방문을 했다면 굳이 갈 필요가 없으므로 \n",
    "                dQ.append(next)\n",
    "                ch[next] = 1 \n",
    "                dis[next] = dis[now] + 1 \n",
    "                # next의 거리는 now의 거리에 +1 \n",
    "print(dis[m])"
   ]
  },
  {
   "cell_type": "markdown",
   "metadata": {},
   "source": [
    "## 사과나무(BFS)\n",
    "- 현수의 농장은 N*N 격자판으로 이루어져 있으며, 각 격자안에는 한 그루의 사과나무가 심어저 있다. N의 크기는 항상 홀수이다. \n",
    "- 가을이 되어 사과를 수확해야 하는데 현수는 격자판안의 사 과를 수확할 때 다이아몬드 모양의 격자판만 수확하고 나머지 격자안의 사과는 새들을 위해서 남겨놓는다.\n",
    "- 만약 N이 5이면 아래 그림과 같이 진한 부분의 사과를 수확한다.\n",
    "- 현수과 수확하는 사과의 총 개수를 출력하세요.\n",
    "\n",
    "<hr>\n",
    "\n",
    "- ▣ 입력설명\n",
    "    - 첫 줄에 자연수 N(홀수)이 주어진다.(3<=N<=20)\n",
    "    - 두 번째 줄부터 N줄에 걸쳐 각 줄에 N개의 자연수가 주어진다. 이 자연수는 각 격자안에 있는 사과나무에 열린 사과의 개수이다. \n",
    "    - 각 격자안의 사과의 개수는 100을 넘지 않는다.\n",
    "\n",
    "- ▣ 출력설명\n",
    "    - 수확한 사과의 총 개수를 출력합니다.    "
   ]
  },
  {
   "cell_type": "code",
   "execution_count": 64,
   "metadata": {},
   "outputs": [
    {
     "data": {
      "text/plain": [
       "'\\n다이아몬드 형태로 값을 가져올 수 있도록 하는 로직 구현해야함 \\n    어떻게 구현하지? \\n\\n참고\\n(n//2, n//2) 좌표를 중심점으로 출발하며 큐에 넣음 \\n    중심점이 큐에서 나올 때 4갈래(상,하,좌,우)로 뻗고 큐에 넣음 \\n        4갈래 중 하나가 큐에서 나오면 또 4갈래로 뻗고 큐에 넣음 \\n            이렇게 진행한다면 마름모 형태로 진행됨 \\n'"
      ]
     },
     "execution_count": 64,
     "metadata": {},
     "output_type": "execute_result"
    }
   ],
   "source": [
    "'''\n",
    "다이아몬드 형태로 값을 가져올 수 있도록 하는 로직 구현해야함 \n",
    "    어떻게 구현하지? \n",
    "\n",
    "참고\n",
    "(n//2, n//2) 좌표를 중심점으로 출발하며 큐에 넣음 \n",
    "    중심점이 큐에서 나올 때 4갈래(상,하,좌,우)로 뻗고 큐에 넣음 \n",
    "        4갈래 중 하나가 큐에서 나오면 또 4갈래로 뻗고 큐에 넣음 \n",
    "            이렇게 진행한다면 마름모 형태로 진행됨 \n",
    "'''"
   ]
  },
  {
   "cell_type": "code",
   "execution_count": 7,
   "metadata": {},
   "outputs": [],
   "source": [
    "n = 5 \n",
    "li = [[10,13,10,12,15], [12,39,30,23,11], [11,25,50,53,15], [19, 27, 29, 37, 27], [19, 13,30,13,19]]"
   ]
  },
  {
   "cell_type": "code",
   "execution_count": 65,
   "metadata": {},
   "outputs": [
    {
     "name": "stdout",
     "output_type": "stream",
     "text": [
      "[0, 0, 0, 0, 0]\n",
      "[0, 0, 1, 0, 0]\n",
      "[0, 1, 1, 1, 0]\n",
      "[0, 0, 1, 0, 0]\n",
      "[0, 0, 0, 0, 0]\n",
      "[0, 0, 1, 0, 0]\n",
      "[0, 1, 1, 1, 0]\n",
      "[1, 1, 1, 1, 1]\n",
      "[0, 1, 1, 1, 0]\n",
      "[0, 0, 1, 0, 0]\n",
      "379\n"
     ]
    }
   ],
   "source": [
    "from collections import deque \n",
    "\n",
    "dx = [-1, 0, 1, 0]\n",
    "dy = [0, 1, 0, -1]\n",
    "n = int(input())\n",
    "a = [list(map(int, input().split())) for _ in range(n)]\n",
    "ch = [[0] * n for _ in range(n)]\n",
    "# 방문 확인 리스트 \n",
    "sum = 0 \n",
    "\n",
    "Q = deque() \n",
    "ch[n//2][n//2] = 1 \n",
    "# 중간 지점 체크 \n",
    "\n",
    "sum += a[n//2][n//2]\n",
    "# 값 누적 \n",
    "\n",
    "Q.append((n//2, n//2))\n",
    "L = 0 \n",
    "\n",
    "while True:\n",
    "    if L == n // 2:\n",
    "        # 목표지점으로 왔으니 종료 \n",
    "        break \n",
    "\n",
    "    size = len(Q)\n",
    "    for i in range(size):\n",
    "        tmp = Q.popleft()\n",
    "        for j in range(4):\n",
    "            x = tmp[0] + dx[j]\n",
    "            y = tmp[1] + dy[j]\n",
    "            # 상 하 좌 우 갈 수 있는 좌표 만들어줌 \n",
    "            if ch[x][y] == 0:\n",
    "                sum += a[x][y]\n",
    "                # 값을 더해줌 \n",
    "                ch[x][y] = 1\n",
    "                Q.append((x,y))\n",
    "    for x in ch:\n",
    "        print(x)\n",
    "    L += 1 \n",
    "print(sum)"
   ]
  },
  {
   "cell_type": "markdown",
   "metadata": {},
   "source": [
    "## 멀리 뛰기 \n",
    "- 효진이는 멀리 뛰기를 연습하고 있습니다. 효진이는 한번에 1칸, 또는 2칸을 뛸 수 있습니다. 칸이 총 4개 있을 때, 효진이는\n",
    "(1칸, 1칸, 1칸, 1칸)\n",
    "(1칸, 2칸, 1칸)\n",
    "(1칸, 1칸, 2칸)\n",
    "(2칸, 1칸, 1칸)\n",
    "(2칸, 2칸)\n",
    "의 5가지 방법으로 맨 끝 칸에 도달할 수 있습니다. \n",
    "- 멀리뛰기에 사용될 칸의 수 n이 주어질 때, 효진이가 끝에 도달하는 방법이 몇 가지인지 알아내, 여기에 1234567를 나눈 나머지를 리턴하는 함수, solution을 완성하세요.\n",
    "- 예를 들어 4가 입력된다면, 5를 return하면 됩니다."
   ]
  },
  {
   "cell_type": "code",
   "execution_count": 51,
   "metadata": {},
   "outputs": [],
   "source": [
    "n = 4 \n",
    "cnt = 0 \n",
    "a = []"
   ]
  },
  {
   "cell_type": "code",
   "execution_count": 58,
   "metadata": {},
   "outputs": [],
   "source": [
    "def DFS(idx, s):\n",
    "    global cnt \n",
    "    # print(idx)\n",
    "    # print(s)\n",
    "\n",
    "    if idx > n:\n",
    "        if s == n:\n",
    "            print(s)\n",
    "            cnt+=1 \n",
    "            s = 0\n",
    "\n",
    "    else:\n",
    "        DFS(idx+1, s+1)\n",
    "\n",
    "\n",
    "\n",
    "        DFS(idx+1, s+2)\n",
    "# 안됨 \n",
    "        \n",
    "\n"
   ]
  },
  {
   "cell_type": "code",
   "execution_count": 59,
   "metadata": {},
   "outputs": [],
   "source": [
    "DFS(0,0)"
   ]
  },
  {
   "cell_type": "code",
   "execution_count": 60,
   "metadata": {},
   "outputs": [
    {
     "name": "stdout",
     "output_type": "stream",
     "text": [
      "45\n"
     ]
    }
   ],
   "source": [
    "print(cnt)"
   ]
  },
  {
   "cell_type": "code",
   "execution_count": 62,
   "metadata": {},
   "outputs": [],
   "source": [
    "def solution(n):\n",
    "    if n<3:\n",
    "        return n\n",
    "    d=[0]*(n+1)\n",
    "    d[1]=1\n",
    "    d[2]=2\n",
    "    for i in range(3,n+1):\n",
    "        d[i]=d[i-1]+d[i-2]\n",
    "    return d[n]%1234567\n",
    "# 그냥 피보나치네     "
   ]
  },
  {
   "cell_type": "markdown",
   "metadata": {},
   "source": [
    "## 피보나치 수\n",
    "\n",
    "- 문제 설명\n",
    "- 피보나치 수는 F(0) = 0, F(1) = 1일 때, 1 이상의 n에 대하여 F(n) = F(n-1) + F(n-2) 가 적용되는 수 입니다.\n",
    "\n",
    "- 예를들어\n",
    "\n",
    "    - F(2) = F(0) + F(1) = 0 + 1 = 1\n",
    "    - F(3) = F(1) + F(2) = 1 + 1 = 2\n",
    "    - F(4) = F(2) + F(3) = 1 + 2 = 3\n",
    "    - F(5) = F(3) + F(4) = 2 + 3 = 5\n",
    "\n",
    "\n",
    "- 2 이상의 n이 입력되었을 때, n번째 피보나치 수를 1234567으로 나눈 나머지를 리턴하는 함수, solution을 완성해 주세요.\n",
    "\n"
   ]
  },
  {
   "cell_type": "code",
   "execution_count": 76,
   "metadata": {},
   "outputs": [],
   "source": [
    "def solution(n):\n",
    "\n",
    "    if n == 0:\n",
    "        return 0 \n",
    "        \n",
    "    if n<3:\n",
    "        return 1\n",
    "\n",
    "    d=[0]*(n+1)\n",
    "    d[0] = 0 \n",
    "    d[1]=1\n",
    "    d[2]=2\n",
    "    \n",
    "    for i in range(2, n+1):\n",
    "        d[i] = d[i-1] + d[i-2]\n",
    "\n",
    "    return d[n]%1234567"
   ]
  },
  {
   "cell_type": "code",
   "execution_count": 78,
   "metadata": {},
   "outputs": [
    {
     "data": {
      "text/plain": [
       "0"
      ]
     },
     "execution_count": 78,
     "metadata": {},
     "output_type": "execute_result"
    }
   ],
   "source": [
    "solution(0)"
   ]
  },
  {
   "cell_type": "markdown",
   "metadata": {},
   "source": [
    "## 최솟값 만들기 \n",
    "- 길이가 같은 배열 A, B 두개가 있습니다. 각 배열은 자연수로 이루어져 있습니다.\n",
    "- 배열 A, B에서 각각 한 개의 숫자를 뽑아 두 수를 곱합니다. 이러한 과정을 배열의 길이만큼 반복하며, 두 수를 곱한 값을 누적하여 더합니다. \n",
    "- 이때 최종적으로 누적된 값이 최소가 되도록 만드는 것이 목표입니다. (단, 각 배열에서 k번째 숫자를 뽑았다면 다음에 k번째 숫자는 다시 뽑을 수 없습니다.)\n",
    "\n",
    "- 예를 들어 A = [1, 4, 2] , B = [5, 4, 4] 라면\n",
    "\n",
    "    - A에서 첫번째 숫자인 1, B에서 첫번째 숫자인 5를 뽑아 곱하여 더합니다. (누적된 값 : 0 + 5(1x5) = 5)\n",
    "    - A에서 두번째 숫자인 4, B에서 세번째 숫자인 4를 뽑아 곱하여 더합니다. (누적된 값 : 5 + 16(4x4) = 21)\n",
    "    - A에서 세번째 숫자인 2, B에서 두번째 숫자인 4를 뽑아 곱하여 더합니다. (누적된 값 : 21 + 8(2x4) = 29)\n",
    "    - 즉, 이 경우가 최소가 되므로 29를 return 합니다.\n",
    "\n",
    "- 배열 A, B가 주어질 때 최종적으로 누적된 최솟값을 return 하는 solution 함수를 완성해 주세요."
   ]
  },
  {
   "cell_type": "code",
   "execution_count": 79,
   "metadata": {},
   "outputs": [],
   "source": [
    "# 이거 가장 작은 값이랑 가장 큰 값을 계속 곱해서 더해나가면 \n",
    "# 그 값이 최소값이 될 것 같은데 "
   ]
  },
  {
   "cell_type": "code",
   "execution_count": 89,
   "metadata": {},
   "outputs": [],
   "source": [
    "A = list(map(int, input().split()))\n",
    "B = list(map(int, input().split()))"
   ]
  },
  {
   "cell_type": "code",
   "execution_count": 90,
   "metadata": {},
   "outputs": [],
   "source": [
    "A.sort()\n",
    "B.sort(reverse=True)"
   ]
  },
  {
   "cell_type": "code",
   "execution_count": 91,
   "metadata": {},
   "outputs": [
    {
     "name": "stdout",
     "output_type": "stream",
     "text": [
      "[1, 2] [4, 3]\n"
     ]
    }
   ],
   "source": [
    "print(A, B)"
   ]
  },
  {
   "cell_type": "code",
   "execution_count": 92,
   "metadata": {},
   "outputs": [
    {
     "name": "stdout",
     "output_type": "stream",
     "text": [
      "10\n"
     ]
    }
   ],
   "source": [
    "s = 0 \n",
    "for i in range(len(A)):\n",
    "    s += A[i] * B[i]\n",
    "print(s)"
   ]
  },
  {
   "cell_type": "code",
   "execution_count": 93,
   "metadata": {},
   "outputs": [],
   "source": [
    "def solution(A,B):\n",
    "    answer = 0 \n",
    "\n",
    "    A.sort()\n",
    "    B.sort(reverse = True)\n",
    "\n",
    "    for i in range(len(A)):\n",
    "        answer += A[i] * B[i]\n",
    "    return answer\n"
   ]
  },
  {
   "cell_type": "code",
   "execution_count": 94,
   "metadata": {},
   "outputs": [
    {
     "data": {
      "text/plain": [
       "10"
      ]
     },
     "execution_count": 94,
     "metadata": {},
     "output_type": "execute_result"
    }
   ],
   "source": [
    "solution(A,B)"
   ]
  },
  {
   "cell_type": "code",
   "execution_count": null,
   "metadata": {},
   "outputs": [],
   "source": []
  }
 ],
 "metadata": {
  "kernelspec": {
   "display_name": "Python 3.9.12 ('base')",
   "language": "python",
   "name": "python3"
  },
  "language_info": {
   "codemirror_mode": {
    "name": "ipython",
    "version": 3
   },
   "file_extension": ".py",
   "mimetype": "text/x-python",
   "name": "python",
   "nbconvert_exporter": "python",
   "pygments_lexer": "ipython3",
   "version": "3.9.12"
  },
  "orig_nbformat": 4,
  "vscode": {
   "interpreter": {
    "hash": "4e56095587f6faaee8b6fe269bd4758f04d4dcfca17a97e0204e5c06e32115c1"
   }
  }
 },
 "nbformat": 4,
 "nbformat_minor": 2
}
