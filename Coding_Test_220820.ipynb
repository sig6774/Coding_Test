{
 "cells": [
  {
   "cell_type": "markdown",
   "metadata": {},
   "source": [
    "## 수들의 조합 \n",
    "- N개의 정수가 주어지면 그 숫자들 중 K개를 뽑는 조합의 합이 임의의 정수 M의 배수인 개수 는 몇 개가 있는지 출력하는 프로그램을 작성하세요.\n",
    "- 예를 들면 5개의 숫자 2 4 5 8 12가 주어지고, 3개를 뽑은 조합의 합이 6의 배수인 조합을 찾으면 4+8+12 2+4+12로 2가지가 있습니다.\n",
    "\n",
    "<hr>\n",
    "\n",
    "- 첫줄에 정수의 개수 N(3<=N<=20)과 임의의 정수 K(2<=K<=N)가 주어지고, 두 번째 줄에는 N개의 정수가 주어진다.\n",
    "세 번째 줄에 M이 주어집니다.\n",
    "\n",
    "- 총 가지수를 출력합니다."
   ]
  },
  {
   "cell_type": "code",
   "execution_count": 1,
   "metadata": {},
   "outputs": [
    {
     "data": {
      "text/plain": [
       "' \\n넣을지 안넣을지 선택한 후 넣은 값들의 합이 M이면 count 진행\\n'"
      ]
     },
     "execution_count": 1,
     "metadata": {},
     "output_type": "execute_result"
    }
   ],
   "source": [
    "''' \n",
    "넣을지 안넣을지 선택한 후 넣은 값들의 합이 M이면 count 진행\n",
    "'''"
   ]
  },
  {
   "cell_type": "code",
   "execution_count": 50,
   "metadata": {},
   "outputs": [],
   "source": [
    "n,k = 5, 3 \n",
    "li = [2, 4, 5, 8, 12]\n",
    "m = 6\n",
    "cnt = 0 \n",
    "S = 0 "
   ]
  },
  {
   "cell_type": "code",
   "execution_count": 51,
   "metadata": {},
   "outputs": [],
   "source": [
    "def DFS(L, S, cnt):\n",
    "    # global cnt \n",
    "    if cnt == 3:\n",
    "\n",
    "        if S % m == 0 and S != 0:\n",
    "            print(cnt)\n",
    "            print(S)\n",
    "    \n",
    "    else: \n",
    "        # 들어갔을 때 \n",
    "        DFS(L+1, S+li[L], cnt+1)\n",
    "        # print(S)\n",
    "\n",
    "        # 들어가지 않았을 때 \n",
    "        DFS(L+1, S, cnt)\n",
    "# 하나는 나오는데 더이상은 안되네 \n",
    "# 그러면 다른 걸로 해볼까 "
   ]
  },
  {
   "cell_type": "code",
   "execution_count": 52,
   "metadata": {},
   "outputs": [
    {
     "name": "stdout",
     "output_type": "stream",
     "text": [
      "3\n",
      "18\n"
     ]
    },
    {
     "ename": "IndexError",
     "evalue": "list index out of range",
     "output_type": "error",
     "traceback": [
      "\u001b[0;31m---------------------------------------------------------------------------\u001b[0m",
      "\u001b[0;31mIndexError\u001b[0m                                Traceback (most recent call last)",
      "\u001b[1;32m/Users/sig6774/CodingTest/Coding_Test_220820.ipynb 셀 5\u001b[0m in \u001b[0;36m<cell line: 1>\u001b[0;34m()\u001b[0m\n\u001b[0;32m----> <a href='vscode-notebook-cell:/Users/sig6774/CodingTest/Coding_Test_220820.ipynb#W5sZmlsZQ%3D%3D?line=0'>1</a>\u001b[0m DFS(\u001b[39m0\u001b[39;49m, \u001b[39m0\u001b[39;49m, \u001b[39m0\u001b[39;49m)\n",
      "\u001b[1;32m/Users/sig6774/CodingTest/Coding_Test_220820.ipynb 셀 5\u001b[0m in \u001b[0;36mDFS\u001b[0;34m(L, S, cnt)\u001b[0m\n\u001b[1;32m      <a href='vscode-notebook-cell:/Users/sig6774/CodingTest/Coding_Test_220820.ipynb#W5sZmlsZQ%3D%3D?line=6'>7</a>\u001b[0m         \u001b[39mprint\u001b[39m(S)\n\u001b[1;32m      <a href='vscode-notebook-cell:/Users/sig6774/CodingTest/Coding_Test_220820.ipynb#W5sZmlsZQ%3D%3D?line=8'>9</a>\u001b[0m \u001b[39melse\u001b[39;00m: \n\u001b[0;32m---> <a href='vscode-notebook-cell:/Users/sig6774/CodingTest/Coding_Test_220820.ipynb#W5sZmlsZQ%3D%3D?line=9'>10</a>\u001b[0m     DFS(L\u001b[39m+\u001b[39;49m\u001b[39m1\u001b[39;49m, S\u001b[39m+\u001b[39;49mli[L], cnt\u001b[39m+\u001b[39;49m\u001b[39m1\u001b[39;49m)\n\u001b[1;32m     <a href='vscode-notebook-cell:/Users/sig6774/CodingTest/Coding_Test_220820.ipynb#W5sZmlsZQ%3D%3D?line=10'>11</a>\u001b[0m     \u001b[39m# print(S)\u001b[39;00m\n\u001b[1;32m     <a href='vscode-notebook-cell:/Users/sig6774/CodingTest/Coding_Test_220820.ipynb#W5sZmlsZQ%3D%3D?line=12'>13</a>\u001b[0m     DFS(L\u001b[39m+\u001b[39m\u001b[39m1\u001b[39m, S, cnt)\n",
      "\u001b[1;32m/Users/sig6774/CodingTest/Coding_Test_220820.ipynb 셀 5\u001b[0m in \u001b[0;36mDFS\u001b[0;34m(L, S, cnt)\u001b[0m\n\u001b[1;32m      <a href='vscode-notebook-cell:/Users/sig6774/CodingTest/Coding_Test_220820.ipynb#W5sZmlsZQ%3D%3D?line=6'>7</a>\u001b[0m         \u001b[39mprint\u001b[39m(S)\n\u001b[1;32m      <a href='vscode-notebook-cell:/Users/sig6774/CodingTest/Coding_Test_220820.ipynb#W5sZmlsZQ%3D%3D?line=8'>9</a>\u001b[0m \u001b[39melse\u001b[39;00m: \n\u001b[0;32m---> <a href='vscode-notebook-cell:/Users/sig6774/CodingTest/Coding_Test_220820.ipynb#W5sZmlsZQ%3D%3D?line=9'>10</a>\u001b[0m     DFS(L\u001b[39m+\u001b[39;49m\u001b[39m1\u001b[39;49m, S\u001b[39m+\u001b[39;49mli[L], cnt\u001b[39m+\u001b[39;49m\u001b[39m1\u001b[39;49m)\n\u001b[1;32m     <a href='vscode-notebook-cell:/Users/sig6774/CodingTest/Coding_Test_220820.ipynb#W5sZmlsZQ%3D%3D?line=10'>11</a>\u001b[0m     \u001b[39m# print(S)\u001b[39;00m\n\u001b[1;32m     <a href='vscode-notebook-cell:/Users/sig6774/CodingTest/Coding_Test_220820.ipynb#W5sZmlsZQ%3D%3D?line=12'>13</a>\u001b[0m     DFS(L\u001b[39m+\u001b[39m\u001b[39m1\u001b[39m, S, cnt)\n",
      "\u001b[1;32m/Users/sig6774/CodingTest/Coding_Test_220820.ipynb 셀 5\u001b[0m in \u001b[0;36mDFS\u001b[0;34m(L, S, cnt)\u001b[0m\n\u001b[1;32m     <a href='vscode-notebook-cell:/Users/sig6774/CodingTest/Coding_Test_220820.ipynb#W5sZmlsZQ%3D%3D?line=9'>10</a>\u001b[0m DFS(L\u001b[39m+\u001b[39m\u001b[39m1\u001b[39m, S\u001b[39m+\u001b[39mli[L], cnt\u001b[39m+\u001b[39m\u001b[39m1\u001b[39m)\n\u001b[1;32m     <a href='vscode-notebook-cell:/Users/sig6774/CodingTest/Coding_Test_220820.ipynb#W5sZmlsZQ%3D%3D?line=10'>11</a>\u001b[0m \u001b[39m# print(S)\u001b[39;00m\n\u001b[0;32m---> <a href='vscode-notebook-cell:/Users/sig6774/CodingTest/Coding_Test_220820.ipynb#W5sZmlsZQ%3D%3D?line=12'>13</a>\u001b[0m DFS(L\u001b[39m+\u001b[39;49m\u001b[39m1\u001b[39;49m, S, cnt)\n",
      "\u001b[1;32m/Users/sig6774/CodingTest/Coding_Test_220820.ipynb 셀 5\u001b[0m in \u001b[0;36mDFS\u001b[0;34m(L, S, cnt)\u001b[0m\n\u001b[1;32m     <a href='vscode-notebook-cell:/Users/sig6774/CodingTest/Coding_Test_220820.ipynb#W5sZmlsZQ%3D%3D?line=9'>10</a>\u001b[0m DFS(L\u001b[39m+\u001b[39m\u001b[39m1\u001b[39m, S\u001b[39m+\u001b[39mli[L], cnt\u001b[39m+\u001b[39m\u001b[39m1\u001b[39m)\n\u001b[1;32m     <a href='vscode-notebook-cell:/Users/sig6774/CodingTest/Coding_Test_220820.ipynb#W5sZmlsZQ%3D%3D?line=10'>11</a>\u001b[0m \u001b[39m# print(S)\u001b[39;00m\n\u001b[0;32m---> <a href='vscode-notebook-cell:/Users/sig6774/CodingTest/Coding_Test_220820.ipynb#W5sZmlsZQ%3D%3D?line=12'>13</a>\u001b[0m DFS(L\u001b[39m+\u001b[39;49m\u001b[39m1\u001b[39;49m, S, cnt)\n",
      "\u001b[1;32m/Users/sig6774/CodingTest/Coding_Test_220820.ipynb 셀 5\u001b[0m in \u001b[0;36mDFS\u001b[0;34m(L, S, cnt)\u001b[0m\n\u001b[1;32m     <a href='vscode-notebook-cell:/Users/sig6774/CodingTest/Coding_Test_220820.ipynb#W5sZmlsZQ%3D%3D?line=9'>10</a>\u001b[0m DFS(L\u001b[39m+\u001b[39m\u001b[39m1\u001b[39m, S\u001b[39m+\u001b[39mli[L], cnt\u001b[39m+\u001b[39m\u001b[39m1\u001b[39m)\n\u001b[1;32m     <a href='vscode-notebook-cell:/Users/sig6774/CodingTest/Coding_Test_220820.ipynb#W5sZmlsZQ%3D%3D?line=10'>11</a>\u001b[0m \u001b[39m# print(S)\u001b[39;00m\n\u001b[0;32m---> <a href='vscode-notebook-cell:/Users/sig6774/CodingTest/Coding_Test_220820.ipynb#W5sZmlsZQ%3D%3D?line=12'>13</a>\u001b[0m DFS(L\u001b[39m+\u001b[39;49m\u001b[39m1\u001b[39;49m, S, cnt)\n",
      "\u001b[1;32m/Users/sig6774/CodingTest/Coding_Test_220820.ipynb 셀 5\u001b[0m in \u001b[0;36mDFS\u001b[0;34m(L, S, cnt)\u001b[0m\n\u001b[1;32m      <a href='vscode-notebook-cell:/Users/sig6774/CodingTest/Coding_Test_220820.ipynb#W5sZmlsZQ%3D%3D?line=6'>7</a>\u001b[0m         \u001b[39mprint\u001b[39m(S)\n\u001b[1;32m      <a href='vscode-notebook-cell:/Users/sig6774/CodingTest/Coding_Test_220820.ipynb#W5sZmlsZQ%3D%3D?line=8'>9</a>\u001b[0m \u001b[39melse\u001b[39;00m: \n\u001b[0;32m---> <a href='vscode-notebook-cell:/Users/sig6774/CodingTest/Coding_Test_220820.ipynb#W5sZmlsZQ%3D%3D?line=9'>10</a>\u001b[0m     DFS(L\u001b[39m+\u001b[39m\u001b[39m1\u001b[39m, S\u001b[39m+\u001b[39mli[L], cnt\u001b[39m+\u001b[39m\u001b[39m1\u001b[39m)\n\u001b[1;32m     <a href='vscode-notebook-cell:/Users/sig6774/CodingTest/Coding_Test_220820.ipynb#W5sZmlsZQ%3D%3D?line=10'>11</a>\u001b[0m     \u001b[39m# print(S)\u001b[39;00m\n\u001b[1;32m     <a href='vscode-notebook-cell:/Users/sig6774/CodingTest/Coding_Test_220820.ipynb#W5sZmlsZQ%3D%3D?line=12'>13</a>\u001b[0m     DFS(L\u001b[39m+\u001b[39m\u001b[39m1\u001b[39m, S, cnt)\n",
      "\u001b[0;31mIndexError\u001b[0m: list index out of range"
     ]
    }
   ],
   "source": [
    "DFS(0, 0, 0)"
   ]
  },
  {
   "cell_type": "markdown",
   "metadata": {},
   "source": [
    "### 참고풀이"
   ]
  },
  {
   "cell_type": "code",
   "execution_count": 59,
   "metadata": {},
   "outputs": [
    {
     "data": {
      "text/plain": [
       "'\\n3개짜리의 부분집합을 우선 만들어야함 \\nDFS(0,0,0) 3가지의 매개변수가 존재해야함 L, S, SUM \\n5개의 가지를 만들어서 경우의 수를 만듬 \\n'"
      ]
     },
     "execution_count": 59,
     "metadata": {},
     "output_type": "execute_result"
    }
   ],
   "source": [
    "'''\n",
    "3개짜리의 부분집합을 우선 만들어야함 \n",
    "DFS(0,0,0) 3가지의 매개변수가 존재해야함 L, s, SUM \n",
    "5개의 가지를 만들어서 경우의 수를 만듬 \n",
    "'''"
   ]
  },
  {
   "cell_type": "code",
   "execution_count": 62,
   "metadata": {},
   "outputs": [],
   "source": [
    "def DFS(L,s,SUM):\n",
    "    global cnt \n",
    "    if L == k:\n",
    "        if SUM % m == 0:\n",
    "            cnt+= 1 \n",
    "            # SUM값을 m으로 나눴을 때 0이 되면 count \n",
    "    else:\n",
    "        for i in range(s, n):\n",
    "            # s부터 n까지 돌아감 \n",
    "            DFS(L+1, i+1, SUM + a[i])"
   ]
  },
  {
   "cell_type": "code",
   "execution_count": 63,
   "metadata": {},
   "outputs": [
    {
     "name": "stdout",
     "output_type": "stream",
     "text": [
      "2\n"
     ]
    }
   ],
   "source": [
    "if __name__ == \"__main__\":\n",
    "    n,k = map(int, input().split())\n",
    "    a = list(map(int, input().split()))\n",
    "    m = int(input())\n",
    "    cnt = 0 \n",
    "    DFS(0,0,0)\n",
    "    print(cnt)"
   ]
  },
  {
   "cell_type": "markdown",
   "metadata": {},
   "source": [
    "## 라이브러리를 이용한 순열 \n",
    "- 가장 윗줄에 1부터 N까지의 숫자가 한 개씩 적혀 있다. 그리고 둘째 줄부터 차례대로 파스칼 의 삼각형처럼 위의 두개를 더한 값이 저장되게 된다. 예를 들어 N이 4 이고 가장 윗 줄에 3 1 2 4 가 있다고 했을 때, 다음과 같은 삼각형이 그려진다.\n",
    "- N과 가장 밑에 있는 숫자가 주어져 있을 때 가장 윗줄에 있는 숫자를 구하는 프로그램을 작성하 시오. 단, 답이 여러가지가 나오는 경우에는 사전순으로 가장 앞에 오는 것을 출력하여야 한다.\n",
    "\n",
    "<hr>\n",
    "\n",
    "- 첫째 줄에 두개의 정수 N(1≤N≤10)과 F가 주어진다. N은 가장 윗줄에 있는 숫자의 개수를 의 미하며 F는 가장 밑에 줄에 있는 수로 1,000,000 이하이다.\n",
    "- 첫째 줄에 삼각형에서 가장 위에 들어갈 N개의 숫자를 빈 칸을 사이에 두고 출력한다. 답이 존재 하지 않는 경우는 입력으로 주어지지 않는다.\n"
   ]
  },
  {
   "cell_type": "code",
   "execution_count": 1,
   "metadata": {},
   "outputs": [],
   "source": [
    "# itertools이라는 라이브러리를 이용해서 쉽게 진행 \n",
    "import itertools as it \n",
    "\n",
    "n, f = map(int, input().split())\n",
    "b=[1]*n\n",
    "for i in range(1,n):\n",
    "    b[i] = b[i-1] * (n-1) / i \n",
    "# 초기화 진행 \n",
    "a = list(range(1,n+1))\n",
    "\n",
    "for tmp in it.permutations(a):\n",
    "    # a에 있는 자료를 모두 순열 형태롤 만들어줌 \n",
    "    s = 0 \n",
    "    for L, x in enumerate(tmp):\n",
    "        s += (x * b[L])\n",
    "    if s == f:\n",
    "        for x in tmp:\n",
    "            print(x, end=\" \")\n",
    "        break   \n",
    "    \n"
   ]
  },
  {
   "cell_type": "markdown",
   "metadata": {},
   "source": [
    "## 라이브러리를 이용한 조합 "
   ]
  },
  {
   "cell_type": "code",
   "execution_count": 2,
   "metadata": {},
   "outputs": [
    {
     "name": "stdout",
     "output_type": "stream",
     "text": [
      "2\n"
     ]
    }
   ],
   "source": [
    "import itertools as it \n",
    "n,k = map(int, input().split())\n",
    "a = list(map(int, input().split()))\n",
    "m = int(input())\n",
    "\n",
    "cnt = 0 \n",
    "for x in it.combinations(a, k):\n",
    "    # a라는 리스트에서 k개를 뽑아서 조회 \n",
    "    if sum(x) % m == 0:\n",
    "        cnt +=1 \n",
    "print(cnt)"
   ]
  },
  {
   "cell_type": "code",
   "execution_count": null,
   "metadata": {},
   "outputs": [],
   "source": []
  }
 ],
 "metadata": {
  "kernelspec": {
   "display_name": "Python 3.9.1 64-bit ('3.9.1')",
   "language": "python",
   "name": "python3"
  },
  "language_info": {
   "codemirror_mode": {
    "name": "ipython",
    "version": 3
   },
   "file_extension": ".py",
   "mimetype": "text/x-python",
   "name": "python",
   "nbconvert_exporter": "python",
   "pygments_lexer": "ipython3",
   "version": "3.9.1"
  },
  "orig_nbformat": 4,
  "vscode": {
   "interpreter": {
    "hash": "b29909ae39fc17549a84839997d927dda790dc9d9d25402f3e010c02e8c51a82"
   }
  }
 },
 "nbformat": 4,
 "nbformat_minor": 2
}
