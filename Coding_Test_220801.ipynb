{
 "cells": [
  {
   "cell_type": "markdown",
   "metadata": {},
   "source": [
    "## 공주 구하기 \n",
    "- 정보 왕국의 이웃 나라 외동딸 공주가 숲속의 괴물에게 잡혀갔습니다.\n",
    "정보 왕국에는 왕자가 N명이 있는데 서로 공주를 구하러 가겠다고 합니다. \n",
    "- 정보왕국의 왕은 다음과 같은 방법으로 공주를 구하러 갈 왕자를 결정하기로 했습니다.\n",
    "- 왕은 왕자들을 나이 순으로 1번부터 N번까지 차례로 번호를 매긴다. 그리고 1번 왕자부터 N 번 왕자까지 순서대로 시계 방향으로 돌아가며 동그랗게 앉게 한다. \n",
    "- 그리고 1번 왕자부터 시 계방향으로 돌아가며 1부터 시작하여 번호를 외치게 한다. 한 왕자가 K(특정숫자)를 외치면 그 왕자는 공주를 구하러 가는데서 제외되고 원 밖으로 나오게 된다. \n",
    "- 그리고 다음 왕자부터 다시 1부터 시작하여 번호를 외친다.\n",
    "이렇게 해서 마지막까지 남은 왕자가 공주를 구하러 갈 수 있다.\n",
    "\n",
    "- 예를 들어 총 8명의 왕자가 있고, 3을 외친 왕자가 제외된다고 하자. 처음에는 3번 왕자가 3 을 외쳐 제외된다. 이어 6, 1, 5, 2, 8, 4번 왕자가 차례대로 제외되고 마지막까지 남게 된 7 번 왕자에게 공주를 구하러갑니다.\n",
    "- N과 K가 주어질 때 공주를 구하러 갈 왕자의 번호를 출력하는 프로그램을 작성하시오."
   ]
  },
  {
   "cell_type": "code",
   "execution_count": 1,
   "metadata": {},
   "outputs": [
    {
     "data": {
      "text/plain": [
       "'\\n1번째 12345678에서 3번째 3 아웃 \\n2번째 4567812에서 3번째 6 아웃 \\n3번째 781245에서 3번째 1 아웃 \\n4번째 24578에서 3번째 5 아웃 \\n5번째 7824에서 3번째 2 아웃 \\n6번째 478에서 3번째 8 아웃 \\n7번째 47에서 3번째 4 아웃 (474)\\n\\npop(자리수)를 통해서 값을 뺀 후 다음자리부터 자리수-1한 자리까지 다시 append하면 되지 않을까?\\n'"
      ]
     },
     "execution_count": 1,
     "metadata": {},
     "output_type": "execute_result"
    }
   ],
   "source": [
    "'''\n",
    "1번째 12345678에서 3번째 3 아웃 \n",
    "2번째 4567812에서 3번째 6 아웃 \n",
    "3번째 781245에서 3번째 1 아웃 \n",
    "4번째 24578에서 3번째 5 아웃 \n",
    "5번째 7824에서 3번째 2 아웃 \n",
    "6번째 478에서 3번째 8 아웃 \n",
    "7번째 47에서 3번째 4 아웃 (474)\n",
    "\n",
    "pop(자리수)를 통해서 값을 뺀 후 다음자리부터 자리수-1한 자리까지 다시 append하면 되지 않을까?\n",
    "그리고 길이가 2이면 그냥 맨 앞 자리 빼주면 끝? \n",
    "'''"
   ]
  },
  {
   "cell_type": "code",
   "execution_count": 33,
   "metadata": {},
   "outputs": [],
   "source": [
    "n,k = map(int, input().split())"
   ]
  },
  {
   "cell_type": "code",
   "execution_count": 35,
   "metadata": {},
   "outputs": [],
   "source": [
    "a = [1,2,3,4,5,6,7,8]"
   ]
  },
  {
   "cell_type": "code",
   "execution_count": 36,
   "metadata": {},
   "outputs": [
    {
     "name": "stdout",
     "output_type": "stream",
     "text": [
      "[3, 4, 5, 6, 7, 8, 1, 2]\n"
     ]
    }
   ],
   "source": [
    "b = [] \n",
    "for i in a[2:]:\n",
    "    b.append(i)\n",
    "for i in a[:2]:\n",
    "    b.append(i)\n",
    "print(b)"
   ]
  },
  {
   "cell_type": "code",
   "execution_count": null,
   "metadata": {},
   "outputs": [],
   "source": [
    "a = [1,2,3,4,5,6,7,8]\n",
    "while len(a) > 2:\n",
    "    b = [] \n",
    "    a.pop(2)\n",
    "    for i in \n",
    "# 아 이거 아닌 것 같음 "
   ]
  },
  {
   "cell_type": "code",
   "execution_count": 44,
   "metadata": {},
   "outputs": [],
   "source": [
    "n,k = map(int, input().split())"
   ]
  },
  {
   "cell_type": "code",
   "execution_count": 45,
   "metadata": {},
   "outputs": [
    {
     "name": "stdout",
     "output_type": "stream",
     "text": [
      "deque([1, 2, 3, 4, 5, 6, 7, 8, 9, 10, 11, 12, 13, 14, 15, 16, 17, 18, 19, 20, 21, 22, 23, 24, 25, 26, 27, 28, 29, 30, 31, 32, 33, 34, 35, 36, 37, 38, 39, 40, 41, 42, 43, 44, 45, 46, 47, 48, 49, 50, 51, 52, 53, 54, 55, 56, 57, 58, 59, 60, 61, 62, 63, 64, 65, 66, 67, 68, 69, 70, 71, 72, 73, 74, 75, 76, 77, 78, 79, 80, 81, 82, 83, 84, 85, 86, 87, 88, 89, 90, 91, 92, 93, 94, 95, 96, 97, 98, 99, 100])\n"
     ]
    }
   ],
   "source": [
    "from queue import Queue\n",
    "a = Queue()\n",
    "for i in range(1,n+1):\n",
    "    # print(i)\n",
    "    a.put(i)\n",
    "    # 큐에 값을 넣어줌 \n",
    "    # put() : 값 빼기 \n",
    "    # get() : 값 넣기 \n",
    "print(a.queue)"
   ]
  },
  {
   "cell_type": "code",
   "execution_count": 46,
   "metadata": {},
   "outputs": [
    {
     "name": "stdout",
     "output_type": "stream",
     "text": [
      "deque([79, 47])\n",
      "deque([47])\n"
     ]
    }
   ],
   "source": [
    "# queue를 사용해서 반복으로 넣었다 뺐다 하면 되지 않을까?\n",
    "# count 3이 되면 그거는 버리고 1,2일 때 에는 다시 넣기 \n",
    "while a.qsize() > 2:\n",
    "\n",
    "    count = k \n",
    "    while True:\n",
    "        # count를 기준으로 앞에 값을 뺏다가 그 값을 뒤에 넣어주는 것을 계속 반복하는 로직 \n",
    "        count -= 1 \n",
    "        if count == 0:\n",
    "            # count가 0이 되면 그냥 빼야하니깐 \n",
    "            a.get()\n",
    "            break \n",
    "        \n",
    "        a.put(a.get())\n",
    "        # 뺀걸 다시 넣어줌 \n",
    "        \n",
    "\n",
    "print(a.queue)\n",
    "# 이렇게 되면 2개만 남음 \n",
    "# 2개일 때에는 가장 첫번째 값이 빠지면 되기 때문에 get()을 한번 더 해주면 끝 \n",
    "if a.qsize() == 2: \n",
    "    a.get()\n",
    "print(a.queue)\n",
    "# 맞는것 같은데? "
   ]
  },
  {
   "cell_type": "markdown",
   "metadata": {},
   "source": [
    "### 참고 풀이"
   ]
  },
  {
   "cell_type": "code",
   "execution_count": 47,
   "metadata": {},
   "outputs": [
    {
     "data": {
      "text/plain": [
       "'\\n큐라는 자료구조를 사용 \\n큐 : 넣는건 뒤에서 넣고 빼는건 앞에서 빼줌 (First In First Out)\\n파이썬에서는 큐를 deque라는 자료구조를 사용 \\ndeque : 앞에서 넣을 수 있고 꺼낼 수도 있음 (appendleft, popleft)\\n입력받은 k에 대해서 넣었다 뺐다를 반복 k번째에는 그냥 빼줘야함 \\n'"
      ]
     },
     "execution_count": 47,
     "metadata": {},
     "output_type": "execute_result"
    }
   ],
   "source": [
    "'''\n",
    "큐라는 자료구조를 사용 \n",
    "큐 : 넣는건 뒤에서 넣고 빼는건 앞에서 빼줌 (First In First Out)\n",
    "파이썬에서는 큐를 deque라는 자료구조를 사용 \n",
    "deque : 앞에서 넣을 수 있고 꺼낼 수도 있음 (appendleft, popleft)\n",
    "입력받은 k에 대해서 넣었다 뺐다를 반복 k번째에는 그냥 빼줘야함 \n",
    "즉, 시계방향은 앞에서 뺀건 뒤에 다시 넣어주면 됨 \n",
    "'''"
   ]
  },
  {
   "cell_type": "code",
   "execution_count": 48,
   "metadata": {},
   "outputs": [
    {
     "name": "stdout",
     "output_type": "stream",
     "text": [
      "7\n"
     ]
    }
   ],
   "source": [
    "from collections import deque \n",
    "# deque를 사용하기 위해 라이브러리 import \n",
    "\n",
    "n,k = map(int, input().split())\n",
    "dq = list(range(1, n+1))\n",
    "# 값을 넣음 \n",
    "dq = deque(dq)\n",
    "# deque로 변환 \n",
    "while dq:\n",
    "    # deque가 비어있으면 멈춤 \n",
    "\n",
    "    for _ in range(k-1):\n",
    "        # k-1번 반복해야 뺀 값을 뒤에 다시 넣음 \n",
    "        # 즉 앞의 값을 뒤에 넣을 만큼만 반복 \n",
    "        cur = dq.popleft()\n",
    "        dq.append(cur)\n",
    "        # popleft한 맨 앞의 값을 다시 dq의 맨 뒤에 넣어줌 \n",
    "    \n",
    "    dq.popleft()\n",
    "    # k번째 값은 빼고 다시 넣어주지 않으므로 그냥 빼줌 \n",
    "\n",
    "    if len(dq) == 1:\n",
    "        print(dq[0])\n",
    "        dq.popleft()\n",
    "    # 자료가 1개이면 while을 멈춰야함 \n",
    "    # break해도 되고 그냥 값을 빼서 while을 멈추게 해도 됨 \n"
   ]
  },
  {
   "cell_type": "markdown",
   "metadata": {},
   "source": [
    "## 응급실 \n",
    "- 메디컬 병원 응급실에는 의사가 한 명밖에 없습니다.\n",
    "응급실은 환자가 도착한 순서대로 진료를 합니다. 하지만 위험도가 높은 환자는 - 빨리 응급조 치를 의사가 해야 합니다. 이런 문제를 보완하기 위해 응급실은 다음과 같은 방법으로 환자의 진료순서를 정합니다.\n",
    "- 환자가 접수한 순서대로의 목록에서 제일 앞에 있는 환자목록을 꺼냅니다.\n",
    "- 나머지 대기 목록에서 꺼낸 환자 보다 위험도가 높은 환자가 존재하면 \n",
    "- 대기목록 제일 뒤로\n",
    "다시 넣습니다. 그렇지 않으면 진료를 받습니다.\n",
    "- 현재 N명의 환자가 대기목록에 있습니다.\n",
    "N명의 대기목록 순서의 환자 위험도가 주어지면, 대기목록상의 M번째 환자는 몇 번째로 진료 를 받는지 출력하는 프로그램을 작성하세요.\n",
    "- 대기목록상의 M번째는 대기목록의 제일 처음 환자를 0번째로 간주하여 표현한 것입니다.\n",
    "\n",
    "<hr>\n",
    "\n",
    "- 첫 줄에 자연수 N(5<=N<=100)과 M(0<=M<N) 주어집니다.\n",
    "두 번째 줄에 접수한 순서대로 환자의 위험도(50<=위험도<=100)가 주어집니다.\n",
    "- 위험도는 값이 높을 수록 더 위험하다는 뜻입니다. 같은 값의 위험도가 존재할 수 있습니다.\n"
   ]
  },
  {
   "cell_type": "code",
   "execution_count": 90,
   "metadata": {},
   "outputs": [
    {
     "data": {
      "text/plain": [
       "'\\n꺼낸 수보다 큰 수가 존재하면 뒤로 가게함 \\n    어떻게 꺼낸 수보다 큰 수가 존재하는지 확인하지?\\n    꺼낸 수와 나머지 수를 반복문으로 비교? \\n위험도가 높은 순으로 진료를 하면 count를 1 더해주고 \\n입력받은 M번째 환자가 왔을 때 count를 구해주면 될 듯...?\\n\\n1번째 60 50 70 80 90에서 50 70 80 90 60 \\n2번째 50 70 80 90 60에서 70 80 90 60 50\\n3번째 70 80 90 60 50에서 80 90 60 50 70 \\n4번째 80 90 60 50 70에서 90 60 50 70 80 \\n5번째 90 60 50 70 80에서 60 50 70 80으로 변경하고 count 1 \\n6번째 60 50 70 80에서 50 70 80 60\\n7번째 50 70 80 60에서 70 80 60 50\\n8번째 70 80 60 50에서 80 60 50 70\\n9번째 80 60 50 70에서 60 50 70으로 변경하고 count 2 \\n10번째 60 50 70에서 50 70 60\\n11번째 50 70 60에서 70 60 50\\n12번째 70 60 50에서 60 50으로 변경하고 count 3 <- 정답 \\n'"
      ]
     },
     "execution_count": 90,
     "metadata": {},
     "output_type": "execute_result"
    }
   ],
   "source": [
    "'''\n",
    "꺼낸 수보다 큰 수가 존재하면 뒤로 가게함 \n",
    "    어떻게 꺼낸 수보다 큰 수가 존재하는지 확인하지?\n",
    "    꺼낸 수와 나머지 수를 반복문으로 비교? \n",
    "위험도가 높은 순으로 진료를 하면 count를 1 더해주고 \n",
    "입력받은 M번째 환자가 왔을 때 count를 구해주면 될 듯...?\n",
    "\n",
    "1번째 60 50 70 80 90에서 50 70 80 90 60 \n",
    "2번째 50 70 80 90 60에서 70 80 90 60 50\n",
    "3번째 70 80 90 60 50에서 80 90 60 50 70 \n",
    "4번째 80 90 60 50 70에서 90 60 50 70 80 \n",
    "5번째 90 60 50 70 80에서 60 50 70 80으로 변경하고 count 1 \n",
    "6번째 60 50 70 80에서 50 70 80 60\n",
    "7번째 50 70 80 60에서 70 80 60 50\n",
    "8번째 70 80 60 50에서 80 60 50 70\n",
    "9번째 80 60 50 70에서 60 50 70으로 변경하고 count 2 \n",
    "10번째 60 50 70에서 50 70 60\n",
    "11번째 50 70 60에서 70 60 50\n",
    "12번째 70 60 50에서 60 50으로 변경하고 count 3 <- 정답 \n",
    "'''"
   ]
  },
  {
   "cell_type": "code",
   "execution_count": 167,
   "metadata": {},
   "outputs": [],
   "source": [
    "from collections import deque \n",
    "n,m = map(int, input().split())\n",
    "# li = list(map(int, input().split()))\n",
    "li = [(pos, val) for pos, val in enumerate(list(map(int, input().split())))]\n"
   ]
  },
  {
   "cell_type": "code",
   "execution_count": 180,
   "metadata": {},
   "outputs": [
    {
     "data": {
      "text/plain": [
       "[(0, 60), (1, 60), (2, 90), (3, 60), (4, 60), (5, 60)]"
      ]
     },
     "execution_count": 180,
     "metadata": {},
     "output_type": "execute_result"
    }
   ],
   "source": [
    "li"
   ]
  },
  {
   "cell_type": "code",
   "execution_count": 198,
   "metadata": {},
   "outputs": [
    {
     "name": "stdout",
     "output_type": "stream",
     "text": [
      "deque([(0, 60), (1, 60), (2, 90), (3, 60), (4, 60), (5, 60)])\n"
     ]
    }
   ],
   "source": [
    "danger = deque(li)\n",
    "# danger.popleft()\n",
    "print(danger)"
   ]
  },
  {
   "cell_type": "code",
   "execution_count": 199,
   "metadata": {},
   "outputs": [
    {
     "name": "stdout",
     "output_type": "stream",
     "text": [
      "6\n"
     ]
    }
   ],
   "source": [
    "M = danger[m]\n",
    "# m번째 환자의 위험도 \n",
    "\n",
    "cnt = 0 \n",
    "while True:\n",
    "    d = danger.popleft()\n",
    "    check = False\n",
    "\n",
    "    for i in range(len(danger)):\n",
    "        if danger[i] > d:\n",
    "            check = True \n",
    "\n",
    "    if check:\n",
    "        danger.append(d)\n",
    "        # popleft해서 뺀 값보다 큰 값이 존재한다면 True로 바꿔서 다시 뒤에 넣어줌\n",
    "\n",
    "    else:\n",
    "        cnt += 1\n",
    "        # else라면 뺀 값이 가장 큰 값이라는 의미이므로 진료를 했음으로 count 올려줌  \n",
    "    \n",
    "    # print(danger)\n",
    "    # 인덱스의 값이 진료받았을 떄 count 찾기 \n",
    "    if check == False and d == M:\n",
    "        # False라는 것은 진료를 받았다는 뜻이고 popleft 했을 때 값과 M이 같을 때 \n",
    "        # 그때가 바로 M번째 환자가 진료를 받았을 때 순서 \n",
    "        print(cnt)\n",
    "        break \n",
    "# 근데 위험도가 중복되게 되면 어떻게 풀어야하지? \n",
    "# 같은 값이 여러개이면 어떻게 표시해야하지?\n",
    "# 같은 값이 여러개 일 때 못 풀겠음... "
   ]
  },
  {
   "cell_type": "markdown",
   "metadata": {},
   "source": [
    "### 참고 풀이"
   ]
  },
  {
   "cell_type": "code",
   "execution_count": 217,
   "metadata": {},
   "outputs": [
    {
     "name": "stdout",
     "output_type": "stream",
     "text": [
      "5\n"
     ]
    }
   ],
   "source": [
    "from collections import deque \n",
    "n, m = map(int, input().split())\n",
    "Q = [(pos, val) for pos, val in enumerate(list(map(int, input().split())))]\n",
    "# 아 값을 넣을 떄 순서도 추가하면 그거 같은 값이라도 알 수 있겠네!!! \n",
    "\n",
    "Q = deque(Q)\n",
    "cnt = 0 \n",
    "while True:\n",
    "    cur = Q.popleft()\n",
    "\n",
    "    if any(cur[1] < x[1] for x in Q):\n",
    "        # any라는 함수를 사용해서 특정 값보다 큰 값이 존재하는지 여부를 확인 \n",
    "        Q.append(cur)\n",
    "        # 큰 값이 있으면 다시 뒤에 넣어줌 \n",
    "\n",
    "    else:\n",
    "        # 위험도가 현재 제일 높을 때 \n",
    "        cnt += 1 \n",
    "        if cur[0] == m:\n",
    "            break \n",
    "        # 아 enumerate로 순서를 추가했으니깐  특정 순서일때 종료하면 되겠네 \n",
    "\n",
    "print(cnt)\n",
    "# enumerate를 생각하지 못했다... "
   ]
  },
  {
   "cell_type": "code",
   "execution_count": null,
   "metadata": {},
   "outputs": [],
   "source": []
  }
 ],
 "metadata": {
  "kernelspec": {
   "display_name": "Python 3.9.1 64-bit ('3.9.1')",
   "language": "python",
   "name": "python3"
  },
  "language_info": {
   "codemirror_mode": {
    "name": "ipython",
    "version": 3
   },
   "file_extension": ".py",
   "mimetype": "text/x-python",
   "name": "python",
   "nbconvert_exporter": "python",
   "pygments_lexer": "ipython3",
   "version": "3.9.1"
  },
  "orig_nbformat": 4,
  "vscode": {
   "interpreter": {
    "hash": "b29909ae39fc17549a84839997d927dda790dc9d9d25402f3e010c02e8c51a82"
   }
  }
 },
 "nbformat": 4,
 "nbformat_minor": 2
}
