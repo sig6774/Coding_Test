{
 "cells": [
  {
   "cell_type": "markdown",
   "metadata": {},
   "source": [
    "## 인접행렬 (가중치 방향 그래프)\n",
    "- 아래 그림과 같은 그래프 정보를 인접행렬로 표현해보세요.\n",
    "\n",
    "<hr>\n",
    "\n",
    "- 첫째 줄에는 정점의 수 N(2<=N<=20)와 간선의 수 M가 주어진다. 그 다음부터 M줄에 걸쳐 연결정보와 거리비용이 주어진다.\n",
    "- 인접행렬을 출력하세요."
   ]
  },
  {
   "cell_type": "code",
   "execution_count": 2,
   "metadata": {},
   "outputs": [
    {
     "data": {
      "text/plain": [
       "'\\n예제 1 2 7 이면 1행 2열에는 7이 들어간다 라는 뜻 \\n일단 N행 N열의 값을 0으로 초기화 \\n2개의 반복문을 통해서 i와 j가 특정 값이 있으면 그때 값을 바꿔줌 \\ni와 j가 모두 N이 되면 종료 그때 print\\n'"
      ]
     },
     "execution_count": 2,
     "metadata": {},
     "output_type": "execute_result"
    }
   ],
   "source": [
    "'''\n",
    "예제 1 2 7 이면 1행 2열에는 7이 들어간다 라는 뜻 \n",
    "일단 N행 N열의 값을 0으로 초기화 \n",
    "2개의 반복문을 통해서 i와 j가 특정 값과 같으면 초기화한 것의 값을 바꿔줌 \n",
    "i와 j가 모두 N이 되면 종료 그때 print\n",
    "'''"
   ]
  },
  {
   "cell_type": "code",
   "execution_count": 1,
   "metadata": {},
   "outputs": [
    {
     "name": "stdout",
     "output_type": "stream",
     "text": [
      "[[1, 2, 7], [1, 3, 4], [2, 1, 2], [2, 3, 5], [2, 5, 5], [3, 4, 5], [4, 2, 2], [4, 5, 5], [6, 4, 5]]\n"
     ]
    }
   ],
   "source": [
    "N, M = 6, 9 \n",
    "li = [] \n",
    "for i in range(M):\n",
    "    a, b, c = map(int, input().split())\n",
    "    l = [a,b,c]\n",
    "    li.append(l)\n",
    "print(li)"
   ]
  },
  {
   "cell_type": "code",
   "execution_count": 5,
   "metadata": {},
   "outputs": [
    {
     "name": "stdout",
     "output_type": "stream",
     "text": [
      "[[0, 0, 0, 0, 0, 0], [0, 0, 0, 0, 0, 0], [0, 0, 0, 0, 0, 0], [0, 0, 0, 0, 0, 0], [0, 0, 0, 0, 0, 0], [0, 0, 0, 0, 0, 0]]\n"
     ]
    }
   ],
   "source": [
    "res = [[0] * N] * N\n",
    "print(res)"
   ]
  },
  {
   "cell_type": "code",
   "execution_count": 3,
   "metadata": {},
   "outputs": [
    {
     "name": "stdout",
     "output_type": "stream",
     "text": [
      "[[1, 2, 7], [1, 3, 4], [2, 1, 2], [2, 3, 5], [2, 5, 5], [3, 4, 5], [4, 2, 2], [4, 5, 5], [6, 4, 5]]\n"
     ]
    }
   ],
   "source": [
    "print(li)"
   ]
  },
  {
   "cell_type": "code",
   "execution_count": 29,
   "metadata": {},
   "outputs": [
    {
     "name": "stdout",
     "output_type": "stream",
     "text": [
      "0 1\n",
      "[[0, 0, 0, 0, 0, 0], [0, 0, 0, 0, 0, 0], [0, 0, 0, 0, 0, 0], [0, 0, 0, 0, 0, 0], [0, 0, 0, 0, 0, 0], [0, 0, 0, 0, 0, 0]]\n"
     ]
    }
   ],
   "source": [
    "for i in range(N):\n",
    "    for j in range(N):\n",
    "        # print(li[i][0])\n",
    "        if i+1 == li[i][0] and j+1 == li[i][1]:\n",
    "            print(i,j)\n",
    "            res[i][j] == li[i][2]\n",
    "\n",
    "print(res)\n",
    "# 이거 아님 "
   ]
  },
  {
   "cell_type": "code",
   "execution_count": 4,
   "metadata": {},
   "outputs": [
    {
     "name": "stdout",
     "output_type": "stream",
     "text": [
      "0 1\n",
      "7\n",
      "0 2\n",
      "4\n",
      "1 0\n",
      "2\n",
      "1 2\n",
      "5\n",
      "1 4\n",
      "5\n",
      "2 3\n",
      "5\n",
      "3 1\n",
      "2\n",
      "3 4\n",
      "5\n",
      "5 3\n",
      "5\n",
      "[[2, 2, 5, 5, 5, 0], [2, 2, 5, 5, 5, 0], [2, 2, 5, 5, 5, 0], [2, 2, 5, 5, 5, 0], [2, 2, 5, 5, 5, 0], [2, 2, 5, 5, 5, 0]]\n"
     ]
    }
   ],
   "source": [
    "for i in range(len(li)):\n",
    "    a = (li[i][0])-1\n",
    "    b = (li[i][1])-1\n",
    "    print(a,b)\n",
    "    print(li[i][2])\n",
    "    res[a][b] = li[i][2]\n",
    "print(res)\n",
    "# 다시 "
   ]
  },
  {
   "cell_type": "code",
   "execution_count": 42,
   "metadata": {},
   "outputs": [
    {
     "name": "stdout",
     "output_type": "stream",
     "text": [
      "1\n",
      "2\n",
      "7\n",
      "1\n",
      "3\n",
      "4\n",
      "2\n",
      "1\n",
      "2\n",
      "2\n",
      "3\n",
      "5\n",
      "2\n",
      "5\n",
      "5\n",
      "3\n",
      "4\n",
      "5\n",
      "4\n",
      "2\n",
      "2\n",
      "4\n",
      "5\n",
      "5\n",
      "6\n",
      "4\n",
      "5\n"
     ]
    }
   ],
   "source": [
    "for i in range(len(li)):\n",
    "    print(li[i][0])\n",
    "    print(li[i][1])\n",
    "    print(li[i][2])"
   ]
  },
  {
   "cell_type": "code",
   "execution_count": 26,
   "metadata": {},
   "outputs": [],
   "source": [
    "N, M = 6, 9 \n",
    "res=[[0]*(N) for _ in range(N)]\n",
    "\n",
    "for i in range(M):\n",
    "    a, b, c = map(int, input().split())\n",
    "    # print(a,b,c)\n",
    "    res[a-1][b-1] = c \n",
    "    # print(res)\n"
   ]
  },
  {
   "cell_type": "code",
   "execution_count": 27,
   "metadata": {},
   "outputs": [
    {
     "name": "stdout",
     "output_type": "stream",
     "text": [
      "0 7 4 0 0 0 \n",
      "2 0 5 0 5 0 \n",
      "0 0 0 5 0 0 \n",
      "0 2 0 0 5 0 \n",
      "0 0 0 0 0 0 \n",
      "0 0 0 5 0 0 \n"
     ]
    }
   ],
   "source": [
    "for i in res:\n",
    "    for j in i:\n",
    "        print(j, end= \" \")\n",
    "    print()\n",
    "# 맞는거 같은데...?     "
   ]
  },
  {
   "cell_type": "markdown",
   "metadata": {},
   "source": [
    "### 참고풀이"
   ]
  },
  {
   "cell_type": "code",
   "execution_count": 28,
   "metadata": {},
   "outputs": [
    {
     "data": {
      "text/plain": [
       "' \\n그래프 \\n- 무방향 그래프 \\n    - 1번 노드에서 2번노드로 갈 수 있고 2번 노드에서 1번 노드로 다시 갈 수도 있는 그래프 \\n    - 0으로 초기화 되어 있으며 0은 서로 연결이 없다는 뜻 \\n    - 1번 노드와 2번 노드가 연결되어 있다면 1행 2열의 값을 1로 체크하고 2행 1열의 값을 1로 체크 \\n    - g[a][b] = 1, g[b][a] = 1 이런 과정을 반복 \\n\\n- 이거 문제가 뭔가 잘못됨\\n'"
      ]
     },
     "execution_count": 28,
     "metadata": {},
     "output_type": "execute_result"
    }
   ],
   "source": [
    "''' \n",
    "그래프 \n",
    "- 무방향 그래프 \n",
    "    - 1번 노드에서 2번노드로 갈 수 있고 2번 노드에서 1번 노드로 다시 갈 수도 있는 그래프 \n",
    "    - 0으로 초기화 되어 있으며 0은 서로 연결이 없다는 뜻 \n",
    "    - 1번 노드와 2번 노드가 연결되어 있다면 1행 2열의 값을 1로 체크하고 2행 1열의 값을 1로 체크 \n",
    "    - g[a][b] = 1, g[b][a] = 1 이런 과정을 반복 \n",
    "\n",
    "- 가중치 방향 그래프 \n",
    "    - 1 2 7은 1번 노드에서 2번 노드로 가는 그래프가 있는데 그것의 간선의 가중치 값은 7이라는 뜻 \n",
    "    - 1행 2열에 값을 7로 지정 \n",
    "\n",
    "\n",
    "'''"
   ]
  },
  {
   "cell_type": "code",
   "execution_count": 30,
   "metadata": {},
   "outputs": [
    {
     "name": "stdout",
     "output_type": "stream",
     "text": [
      "0 1 1 0 0 \n",
      "1 0 0 1 0 \n",
      "1 0 0 1 0 \n",
      "0 1 1 0 1 \n",
      "0 0 0 1 0 \n"
     ]
    }
   ],
   "source": [
    "# 무방향 그래프 \n",
    "n, m = map(int, input().split())\n",
    "g = [[0] * (n+1) for _ in range(n+1)]\n",
    "for i in range(m):\n",
    "    a, b = map(int, input().split())\n",
    "    g[a][b] = 1 \n",
    "    g[b][a] = 1 \n",
    "\n",
    "for i in range(1, n+1):\n",
    "    for j in range(1, n+1):\n",
    "        print(g[i][j], end= \" \")\n",
    "    print()"
   ]
  },
  {
   "cell_type": "code",
   "execution_count": 31,
   "metadata": {},
   "outputs": [
    {
     "name": "stdout",
     "output_type": "stream",
     "text": [
      "0 7 4 0 0 0 \n",
      "2 0 5 0 5 0 \n",
      "0 0 0 5 0 0 \n",
      "0 2 0 0 5 0 \n",
      "0 0 0 0 0 0 \n",
      "0 0 0 5 0 0 \n"
     ]
    }
   ],
   "source": [
    "# 가중치 방향 그래프 \n",
    "n, m = map(int, input().split())\n",
    "g = [[0] * (n+1) for _ in range(n+1)]\n",
    "for i in range(m):\n",
    "    a, b, c = map(int, input().split())\n",
    "    g[a][b] = c \n",
    "\n",
    "for i in range(1, n+1):\n",
    "    for j in range(1, n+1):\n",
    "        print(g[i][j], end= \" \")\n",
    "    print()"
   ]
  },
  {
   "cell_type": "markdown",
   "metadata": {},
   "source": [
    "## 경로 탐색 (그래프 DFS)\n",
    "- 방향그래프가 주어지면 1번 정점에서 N번 정점으로 가는 모든 경로의 가지 수를 출력하는 프 로그램을 작성하세요. 아래 그래프에서 1번 정점에서 5번 정점으로 가는 가지 수는 총 6 가지입니다.\n",
    "\n",
    "<hr>\n",
    "\n",
    "- 첫째 줄에는 정점의 수 N(2<=N<=20)와 간선의 수 M가 주어진다. 그 다음부터 M줄에 걸쳐 연 결정보가 주어진다.\n",
    "- 총 가지수를 출력한다."
   ]
  },
  {
   "cell_type": "code",
   "execution_count": 37,
   "metadata": {},
   "outputs": [
    {
     "name": "stdout",
     "output_type": "stream",
     "text": [
      "0 1 1 1 0 \n",
      "1 0 1 0 1 \n",
      "0 0 0 1 0 \n",
      "0 1 0 0 1 \n",
      "0 0 0 0 0 \n"
     ]
    }
   ],
   "source": [
    "# 방향 그래프 \n",
    "n, m = map(int, input().split())\n",
    "g = [[0] * (n+1) for _ in range(n+1)]\n",
    "for i in range(m):\n",
    "    a, b = map(int, input().split())\n",
    "    g[a][b] = 1 \n",
    "\n",
    "for i in range(1, n+1):\n",
    "    for j in range(1, n+1):\n",
    "        print(g[i][j], end= \" \")\n",
    "    print()"
   ]
  },
  {
   "cell_type": "code",
   "execution_count": 34,
   "metadata": {},
   "outputs": [
    {
     "data": {
      "text/plain": [
       "' \\n트리를 만들어서 진행하면서 만들어주고 5번째 값이 1이 되면 그걸 count하면 될 것 같은데 \\n'"
      ]
     },
     "execution_count": 34,
     "metadata": {},
     "output_type": "execute_result"
    }
   ],
   "source": [
    "''' \n",
    "트리를 만들어서 진행하면서 만들어주고 5번째 값이 1이 되면 그걸 count하면 될 것 같은데 \n",
    "'''"
   ]
  },
  {
   "cell_type": "code",
   "execution_count": 79,
   "metadata": {},
   "outputs": [],
   "source": [
    "def DFS(L, j):\n",
    "    global cnt \n",
    "    if j == n:\n",
    "        cnt += 1 \n",
    "    else:\n",
    "        for i in range(L, n+1):\n",
    "            for j in range(L, n+1):\n",
    "                if g[i][j] == 1:\n",
    "                    # print(j)\n",
    "                    DFS(L+1, j)"
   ]
  },
  {
   "cell_type": "code",
   "execution_count": 80,
   "metadata": {},
   "outputs": [
    {
     "name": "stdout",
     "output_type": "stream",
     "text": [
      "[[0, 0, 0, 0, 0, 0], [0, 0, 1, 1, 1, 0], [0, 1, 0, 1, 0, 1], [0, 0, 0, 0, 1, 0], [0, 0, 1, 0, 0, 1], [0, 0, 0, 0, 0, 0]]\n"
     ]
    }
   ],
   "source": [
    "print(g)"
   ]
  },
  {
   "cell_type": "code",
   "execution_count": 81,
   "metadata": {},
   "outputs": [
    {
     "name": "stdout",
     "output_type": "stream",
     "text": [
      "408\n"
     ]
    }
   ],
   "source": [
    "cnt = 0\n",
    "DFS(0, 1)\n",
    "print(cnt)\n",
    "# 못품 ... ㅠㅠㅠ"
   ]
  },
  {
   "cell_type": "markdown",
   "metadata": {},
   "source": [
    "### 참고 풀이"
   ]
  },
  {
   "cell_type": "code",
   "execution_count": 82,
   "metadata": {},
   "outputs": [
    {
     "data": {
      "text/plain": [
       "'\\n한번 방문한 노드는 다시 방문하지 않게 하기 위해 체크 리스트 생성해야함 \\nDFS(1)하게 되면 1번 노드를 체크하고 1번 노드에서 갈 수 있는 모든 경로를 탐색해야함으로 5가닥으로 뻗음 (for문으로 )\\n만약 2번에서 연결 지점을 찾게 되면 DFS(2)를 호출 \\nDFS(2)도 호출되었으니 체크하고 5가닥으로 뻗음 \\n체크 되어 있는 곳은 가지를 뻗지 않음 \\nDFS(5)로 가게 되면 종착점이므로 그때 count \\n'"
      ]
     },
     "execution_count": 82,
     "metadata": {},
     "output_type": "execute_result"
    }
   ],
   "source": [
    "'''\n",
    "한번 방문한 노드는 다시 방문하지 않게 하기 위해 체크 리스트 생성해야함 \n",
    "DFS(1)하게 되면 1번 노드를 체크하고 1번 노드에서 갈 수 있는 모든 경로를 탐색해야함으로 5가닥으로 뻗음 (for문으로 )\n",
    "만약 2번에서 연결 지점을 찾게 되면 DFS(2)를 호출 \n",
    "DFS(2)도 호출되었으니 체크하고 5가닥으로 뻗음 \n",
    "체크 되어 있는 곳은 가지를 뻗지 않음 \n",
    "DFS(5)로 가게 되면 종착점이므로 그때 count \n",
    "'''"
   ]
  },
  {
   "cell_type": "code",
   "execution_count": 83,
   "metadata": {},
   "outputs": [],
   "source": [
    "def DFS(v):\n",
    "    global cnt \n",
    "\n",
    "    if v == n:\n",
    "        cnt += 1 \n",
    "    else:\n",
    "        for i in range(1, n+1):\n",
    "            # 1번 노드부터 돌아야함 \n",
    "            # i가 방문할려는 노드 \n",
    "            if g[v][i] == 1 and ch[i] == 0:\n",
    "                # v노드에서 i번째로 갈 수 있는지 확인 \n",
    "                ch[i] = 1 \n",
    "                # 방문 체크 \n",
    "                DFS(i)\n",
    "                # v에서 i로 이동하기 때문에 매개값으로 i를 줘야함 \n",
    "                ch[i] = 0\n",
    "\n",
    "# 상태트리 구현 끄읏 ~ "
   ]
  },
  {
   "cell_type": "code",
   "execution_count": 84,
   "metadata": {},
   "outputs": [
    {
     "name": "stdout",
     "output_type": "stream",
     "text": [
      "6\n"
     ]
    }
   ],
   "source": [
    "if __name__ == \"__main__\":\n",
    "    n, m = map(int, input().split())\n",
    "    g = [[0]*(n+1) for _ in range(n+1)]\n",
    "    ch = [0] * (n+1)\n",
    "    # 체크함수 생성 \n",
    "    \n",
    "    for i in range(m):\n",
    "        a,b = map(int, input().split())\n",
    "        g[a][b] = 1 \n",
    "    cnt = 0 \n",
    "    ch[1] = 1 \n",
    "    \n",
    "    DFS(1)\n",
    "    print(cnt)"
   ]
  },
  {
   "cell_type": "code",
   "execution_count": 88,
   "metadata": {},
   "outputs": [],
   "source": [
    "# 경로까지 확인\n",
    "\n",
    "def DFS(v):\n",
    "    global cnt \n",
    "\n",
    "    if v == n:\n",
    "        cnt += 1 \n",
    "        for x in p:\n",
    "            print(x, end=\" \")\n",
    "        print()\n",
    "    else:\n",
    "        for i in range(1, n+1):\n",
    "            # 1번 노드부터 돌아야함 \n",
    "            # i가 방문할려는 노드 \n",
    "            if g[v][i] == 1 and ch[i] == 0:\n",
    "                # v노드에서 i번째로 갈 수 있는지 확인 \n",
    "                ch[i] = 1 \n",
    "                # 방문 체크 \n",
    "                p.append(i)\n",
    "\n",
    "                DFS(i)\n",
    "                # v에서 i로 이동하기 때문에 매개값으로 i를 줘야함 \n",
    "\n",
    "                p.pop()\n",
    "                ch[i] = 0\n",
    "\n",
    "# 상태트리 구현 끄읏 ~ "
   ]
  },
  {
   "cell_type": "code",
   "execution_count": 89,
   "metadata": {},
   "outputs": [
    {
     "name": "stdout",
     "output_type": "stream",
     "text": [
      "1 2 3 4 5 \n",
      "1 2 5 \n",
      "1 3 4 2 5 \n",
      "1 3 4 5 \n",
      "1 4 2 5 \n",
      "1 4 5 \n",
      "6\n"
     ]
    }
   ],
   "source": [
    "if __name__ == \"__main__\":\n",
    "    n, m = map(int, input().split())\n",
    "    g = [[0]*(n+1) for _ in range(n+1)]\n",
    "    ch = [0] * (n+1)\n",
    "    # 체크함수 생성 \n",
    "    \n",
    "    for i in range(m):\n",
    "        a,b = map(int, input().split())\n",
    "        g[a][b] = 1 \n",
    "    cnt = 0 \n",
    "    \n",
    "    # 방문을 확인하기 위한 변수 \n",
    "    p = []\n",
    "    p.append(1)\n",
    "\n",
    "    ch[1] = 1 \n",
    "    \n",
    "    DFS(1)\n",
    "    print(cnt)"
   ]
  },
  {
   "cell_type": "markdown",
   "metadata": {},
   "source": [
    "## 수열 추측 (다시 풀어봄)\n",
    "- 가장 윗줄에 1부터 N까지의 숫자가 한 개씩 적혀 있다. 그리고 둘째 줄부터 차례대로 파스칼 의 삼각형처럼 위의 두개를 더한 값이 저장되게 된다. 예를 들어 N이 4 이고 가장 윗 줄에 3 1 2 4 가 있다고 했을 때, 다음과 같은 삼각형이 그려진다.\n",
    "- N과 가장 밑에 있는 숫자가 주어져 있을 때 가장 윗줄에 있는 숫자를 구하는 프로그램을 작성하 시오. 단, 답이 여러가지가 나오는 경우에는 사전순으로 가장 앞에 오는 것을 출력하여야 한다.\n",
    "\n",
    "<hr>\n",
    "\n",
    "- 첫째 줄에 두개의 정수 N(1≤N≤10)과 F가 주어진다. N은 가장 윗줄에 있는 숫자의 개수를 의 미하며 F는 가장 밑에 줄에 있는 수로 1,000,000 이하이다.\n",
    "- 첫째 줄에 삼각형에서 가장 위에 들어갈 N개의 숫자를 빈 칸을 사이에 두고 출력한다. 답이 존재 하지 않는 경우는 입력으로 주어지지 않는다."
   ]
  },
  {
   "cell_type": "code",
   "execution_count": null,
   "metadata": {},
   "outputs": [],
   "source": [
    "'''\n",
    "1부터 N까지의 정수를 구함 \n",
    "곱할 값 배열 구해야함 \n",
    "현재 위치에 곱할 값 = 이전 위치 값 * (총 개수 - 현재 위치 인덱스) // 현재 위치 인덱스\n",
    "해당 정수들을 나열해가면서 16이 될 때 까지 진행 \n",
    "\n",
    "'''"
   ]
  },
  {
   "cell_type": "code",
   "execution_count": 94,
   "metadata": {},
   "outputs": [],
   "source": [
    "import sys \n",
    "\n",
    "def DFS(L,S):\n",
    "    if L == n and S == f:\n",
    "        for x in p:\n",
    "            print(x, end=\" \")\n",
    "        sys.exit(0)     \n",
    "\n",
    "    else:\n",
    "        for i in range(1, n+1):\n",
    "            if ch[i] == 0:\n",
    "                # 체크가 안되어 있다면 곱하지 않았다는 뜻이므로 연산진행 \n",
    "                ch[i] = 1 \n",
    "\n",
    "                p[L] = i \n",
    "                # p값에 i값 넣어줌 \n",
    "                DFS(L+1, S + (b[L] * p[L]))\n",
    "                ch[i] = 0\n",
    "'''\n",
    "b값을 구함 \n",
    "n이 4이므로 1 3 3 1 이라는 배열이 구해짐 \n",
    "\n",
    "DFS(0,0) L = 0 일 때 if 조건 만족 실패 else로 감 \n",
    "    ch[1] == 0 이므로 1로 체크해주고 p[0]의 값을 1로 만들어줌 \n",
    "    이후 DFS(1, 0 + (1 * 1)) 호출 (아직 ch[1]을 0으로 안만듬)\n",
    "        DFS(1, 1) L = 1일 때 if 조건 만족 실패 else로 감 \n",
    "        ch[1] == 1 이므로 ch[1]을 0으로 만들기 위해 다시 돌아감 \n",
    "        다시 돌아가서 ch[1]을 0으로 만듬 \n",
    "    i가 2일 때 ch[2] == 0이므로 1로 체크해주고 p[1]의 값을 2로 만들어줌 \n",
    "    DFS(1+1, 1 + (3* 1)) 호출 (아직 ch[2]를 0으로 안만듬 )\n",
    "        DFS(2, 4) L = 2일 때 if 조건 만족 실패 else로 감 \n",
    "        ch[1] == 0이므로 ch[1]을 1로 만들어줌 \n",
    "        p[2] = 1 \n",
    "        DFS(3, 4 + (3 * 1))\n",
    "            DFS(3, 7)호출 \n",
    "            ch[1]만족 못함 다시 돌아가서 \n",
    "        아... 이거 아님 잘못함 \n",
    "\n",
    "    조금 더 생각해보기 \n",
    "'''                "
   ]
  },
  {
   "cell_type": "code",
   "execution_count": 95,
   "metadata": {},
   "outputs": [
    {
     "name": "stdout",
     "output_type": "stream",
     "text": [
      "3 1 2 4 "
     ]
    },
    {
     "ename": "SystemExit",
     "evalue": "0",
     "output_type": "error",
     "traceback": [
      "An exception has occurred, use %tb to see the full traceback.\n",
      "\u001b[0;31mSystemExit\u001b[0m\u001b[0;31m:\u001b[0m 0\n"
     ]
    },
    {
     "name": "stderr",
     "output_type": "stream",
     "text": [
      "/Users/sig6774/opt/anaconda3/lib/python3.9/site-packages/IPython/core/interactiveshell.py:3377: UserWarning: To exit: use 'exit', 'quit', or Ctrl-D.\n",
      "  warn(\"To exit: use 'exit', 'quit', or Ctrl-D.\", stacklevel=1)\n"
     ]
    }
   ],
   "source": [
    "if __name__ == \"__main__\":\n",
    "    n, f = map (int, input().split())\n",
    "    p = [0] * n \n",
    "    b = [1] * n \n",
    "    ch = [0] * (n+1)\n",
    "\n",
    "    for i in range(1,n):\n",
    "        b[i] = b[i-1] * (n-i) // i \n",
    "\n",
    "    DFS(0,0)"
   ]
  },
  {
   "cell_type": "code",
   "execution_count": null,
   "metadata": {},
   "outputs": [],
   "source": []
  }
 ],
 "metadata": {
  "kernelspec": {
   "display_name": "Python 3.9.12 ('base')",
   "language": "python",
   "name": "python3"
  },
  "language_info": {
   "codemirror_mode": {
    "name": "ipython",
    "version": 3
   },
   "file_extension": ".py",
   "mimetype": "text/x-python",
   "name": "python",
   "nbconvert_exporter": "python",
   "pygments_lexer": "ipython3",
   "version": "3.9.12"
  },
  "orig_nbformat": 4,
  "vscode": {
   "interpreter": {
    "hash": "4e56095587f6faaee8b6fe269bd4758f04d4dcfca17a97e0204e5c06e32115c1"
   }
  }
 },
 "nbformat": 4,
 "nbformat_minor": 2
}
