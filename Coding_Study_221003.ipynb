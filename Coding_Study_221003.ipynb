{
 "cells": [
  {
   "cell_type": "markdown",
   "metadata": {},
   "source": [
    "## Flood Fill (찾아봄)\n",
    "- 문제 설명\n",
    "    - n x m 크기 도화지에 그려진 그림의 색깔이 2차원 리스트로 주어집니다. 같은 색깔은 같은 숫자로 나타난다고 할 때, 그림에 있는 영역은 총 몇 개인지 알아내려 합니다. 영역이란 상하좌우로 연결된 같은 색상의 공간을 말합니다.\n",
    "\n",
    "    - 예를 들어, [[1,2,3], [3,2,1]] 같은 리스트는 다음과 같이 표현할 수 있습니다.\n",
    "\n",
    "\n",
    "    - 이때, 이 그림에는 총 5개 영역이 있습니다.\n",
    "\n",
    "    - 도화지의 크기 n과 m, 도화지에 칠한 색깔 image가 주어질 때, 그림에서 영역이 몇 개 있는지 리턴하는 solution 함수를 작성해주세요.\n",
    "\n",
    "<hr>    \n",
    "\n",
    "- 입출력 예\n",
    "    - n\tm\timages\t정답\n",
    "    - 3\t2\t[[1, 2], [1, 2], [4, 5]]\t4\n",
    "\n",
    "\n",
    "    - 입출력 예 #2\n",
    "\n",
    "    - 주어진 이미지는 다음과 같이 표현할 수 있습니다.\n",
    "\n",
    "\n",
    "    - 따라서 이 이미지에는 4개 영역이 있습니다"
   ]
  },
  {
   "cell_type": "code",
   "execution_count": 15,
   "metadata": {},
   "outputs": [],
   "source": [
    "# 도저히 모르겠어서 찾아봄 \n",
    "# DFS, BFS를 사용하면 풀 수 있는 문제 "
   ]
  },
  {
   "cell_type": "code",
   "execution_count": 23,
   "metadata": {},
   "outputs": [],
   "source": [
    "# DFS\n",
    "import sys\n",
    "sys.setrecursionlimit(10**7)\n",
    "\n",
    "def solution(n, m, image):\n",
    "    answer = 0 \n",
    "    direction = [(1,0), (-1,0), (0,1), (0,-1)]\n",
    "    # 방향 설정 \n",
    "\n",
    "    visited = [[False for _ in range(m)] for _ in range(n)]\n",
    "    # 방문했는지 확인하는 리스트 선언 \n",
    "\n",
    "    def DFS(y, x, area):\n",
    "        if (y < 0 or y >= n) or (x < 0 or x >= m):\n",
    "            return \n",
    "        # 선택된 범위를 초과하게 된다면 종료 \n",
    "        \n",
    "        if visited[y][x]:\n",
    "            return \n",
    "        # 방문을 했었다면 종료 \n",
    "\n",
    "        if image[y][x] != area:\n",
    "            return \n",
    "        # 방문한 곳이 같은 값을 가진 곳이 아니라면 종료 \n",
    "\n",
    "        visited[y][x] = True \n",
    "        # 위의 조건을 모두 통과했다면 방문 처리 \n",
    "\n",
    "        DFS(y-1, x, image[y][x])\n",
    "        # 위로 이동 \n",
    "\n",
    "        DFS(y+1, x, image[y][x] )\n",
    "        # 아래로 이동 \n",
    "\n",
    "        DFS(y, x-1, image[y][x])\n",
    "        # 왼쪽으로 이동 \n",
    "\n",
    "        DFS(y, x+1, image[y][x])\n",
    "        # 오른쪽으로 이동 \n",
    "    \n",
    "    for dy in range(n):\n",
    "        for dx in range(m):\n",
    "            if visited[dy][dx]:\n",
    "                continue \n",
    "            # 이미 방문을 했다면 밑의 코드 실행 x \n",
    "\n",
    "            DFS(dy, dx, image[dy][dx])\n",
    "            answer += 1 \n",
    "    return answer \n",
    "# 계속 재귀로 돌면서 같은 값을 가진 부분의 노드로 이동하면서 count 진행 "
   ]
  },
  {
   "cell_type": "code",
   "execution_count": 24,
   "metadata": {},
   "outputs": [
    {
     "data": {
      "text/plain": [
       "5"
      ]
     },
     "execution_count": 24,
     "metadata": {},
     "output_type": "execute_result"
    }
   ],
   "source": [
    "images = [[1,2,3], [3,2,1]]\n",
    "solution(2,3, images)"
   ]
  },
  {
   "cell_type": "code",
   "execution_count": 25,
   "metadata": {},
   "outputs": [],
   "source": [
    "# BFS \n",
    "from collections import deque\n",
    "\n",
    "def bfs(n,m, x, y, image, visited):\n",
    "    queue = deque()\n",
    "    queue.append((x,y))\n",
    "    # 입력받은 x,y를 넣어줌 \n",
    "\n",
    "    while queue:\n",
    "        # 큐 안에 값이 있을때만 반복 진행 \n",
    "        x, y = queue.popleft() \n",
    "        # 입력받은 x,y를 꺼내준다 \n",
    "        directions = ((0,1), (0,-1), (1,0), (-1,0))\n",
    "\n",
    "        for dx, dy in directions:\n",
    "            next_x = x + dx \n",
    "            next_y = y + dy\n",
    "            # 상하좌우를 확인하기 위해 사용\n",
    "\n",
    "            if 0 <= next_x < n and 0 <= next_y < m and not visited[next_x][next_y] and image[next_x][next_y] == image[x][y]:\n",
    "                # 상하좌우의 값이 주어진 조건에 맞을 때 그리고 해당 값을 넣었을 때 방문하지 않았고 주어진 값과 같은 값일때만 진행 \n",
    "                queue.append((next_x, next_y))\n",
    "                visited[next_x][next_y] = True\n",
    "                # 그때 값을 넣어주고 방문처리  \n",
    "\n",
    "def solution(n,m, image):\n",
    "\n",
    "    answer = 0 \n",
    "    visited = [[False] * m for _ in range(n)]\n",
    "    # 방문을 확인하기 위한 리스트 선언 \n",
    "\n",
    "    for i in range(n):\n",
    "        for j in range(m):\n",
    "            if not visited[i][j]:\n",
    "                # 방문을 하지 않았다면 \n",
    "                answer += 1 \n",
    "                visited[i][j] = True \n",
    "                bfs(n,m, i, j, image, visited)\n",
    "    return answer \n",
    "'''\n",
    "진행 과정 \n",
    "(0,0)이 들어오고 처음 들어오기 때문에 큐에 넣어줌 \n",
    "    큐에 들어간 0,0을 빼주고 상하좌우에 0,0과 같은 값이 있는지와 방문을 한적이 있는지 그리고 주어진 n,m을 넘지 않는지 확인 \n",
    "    해당 조건에 맞는 것이 없음으로 i=0,j=0,0일때에는 끝남\n",
    "    answer = 1  \n",
    "\n",
    "(0,1)이 들어오고 처음 들어오기 때문에 큐에 넣어줌 \n",
    "    큐에 들어간 0,1을 빼주고 상하좌우에 0,1과 같은 값이 있는지와 방문을 한적이 있는지 그리고 주어진 n,m을 넘지 않는지 확인 \n",
    "    밑에 1,1이 조건을 만족하기 때문에 큐에 넣어주고 방문처리 \n",
    "        while의 조건인 큐에 값이 있다면 반복을 진행 \n",
    "            (1,1)을 빼주고 상하좌우에 1,1과 같은 값이 있는지 방문을 한적이 있는지 그리고 주어진 n,m을 넘지 않는지 확인 \n",
    "            해당 조건에 맞는것이 없으므로 i=0,j=1일때에는 끝남 \n",
    "    answer = 2 \n",
    "\n",
    "(0,2)가 들어오고 처음 들어오기 때문에 큐에 넣어줌 \n",
    "    큐에 들어간 0,2를 빼주고 상하좌우에 0,2과 같은 값이 있는지와 방문을 한적이 있는지 그리고 주어진 n,m을 넘지 않는지 확인 \n",
    "    해당 조건에 맞는 것이 없음으로 i=0, j=2일때 끝남 \n",
    "    answer = 3 \n",
    "\n",
    "(1,0)이 들어오고 처음 들어오기 때문에 큐에 넣어줌 \n",
    "    큐에 들어간 1,0을 빼주고 상하좌우에 1,0과 같은 값이 있는지와 방문을 한적이 있는지 그리고 주어진 n,m을 넘지 않는지 확인 \n",
    "    해당 조건에 맞는 것이 없으므로 i = 1, j=0일때 끝남 \n",
    "    answer = 4 \n",
    "\n",
    "(1,1)이 들어오고 1,1은 아까 0,1에서 방문 처리를 했기 때문에 끝 \n",
    "    answer = 4 \n",
    "\n",
    "(1,2)이 들어오고 처음 들어오기 때문에 큐에 넣어줌 \n",
    "    큐에 들어간 1,2를 빼주고 상하좌우에 1,2와 같은 값이 있는지와 방문을 한적이 있는지 그리고 주어진 n,m을 넘지 않는지 확인 \n",
    "    해당 조건에 맞는 것이 없으므로 i = 1, j=2일때 끝남 \n",
    "    answer = 5 \n",
    "\n",
    "반복문이 종료되었음으로 저장된 answer 출력 \n",
    "\n",
    "'''"
   ]
  },
  {
   "cell_type": "code",
   "execution_count": 26,
   "metadata": {},
   "outputs": [
    {
     "data": {
      "text/plain": [
       "5"
      ]
     },
     "execution_count": 26,
     "metadata": {},
     "output_type": "execute_result"
    }
   ],
   "source": [
    "images = [[1,2,3], [3,2,1]]\n",
    "solution(2,3, images)"
   ]
  },
  {
   "cell_type": "markdown",
   "metadata": {},
   "source": [
    "## 게임아이템 (찾아봄)\n",
    "- 문제 설명\n",
    "    - XX 게임의 유저들이 보스 몬스터를 사냥하려고 팀을 만들었습니다. 그리고 팀에 속한 캐릭터에 아이템을 사용해 공격력을 높이려 합니다.\n",
    "\n",
    "    - 이 게임의 아이템은 캐릭터의 공격력은 높이고 체력을 낮춥니다. 그래서 아이템을 적절히 사용해 팀의 공격력을 최대한 끌어올리려 합니다. 캐릭터별로 아이템을 사용할지 말지는 자유지만, 아이템을 사용한 캐릭터는 체력이 반드시 100 이상 남아야 합니다. 또, 한 캐릭터에 아이템 하나씩만 사용할 수 있으며, 사용한 아이템은 사라집니다.\n",
    "\n",
    "    - 예를 들어 캐릭터의 체력이 [200, 120, 150]이고 아이템의 효과는 다음과 같습니다.\n",
    "\n",
    "    - 높여줄 공격치\t낮추는 체력\n",
    "    - 30\t100\n",
    "    - 500\t30\n",
    "    - 100\t400\n",
    "    - 이때 팀의 공격력을 최대로 올리려면 첫 번째 캐릭터에 첫 번째 아이템을, 세 번째 캐릭터에 두 번째 아이템을 사용하면 됩니다.\n",
    "\n",
    "    - 캐릭터들의 체력을 담은 배열 healths와 아이템별 효과를 담은 이차원 배열 items가 solution 함수의 매개변수로 주어질 때, 팀의 공격력을 최고로 끌어올리려면 어떤 아이템을 사용해야 하는지 return 하도록 solution 함수를 완성해주세요.\n",
    "\n",
    "<hr>\n",
    "\n",
    "- 제한 조건\n",
    "    - healths의 길이는 1 이상 10,000 이하입니다.\n",
    "    - healths의 원소(캐릭터의 체력)는 1 이상 1,000,000 이하인 자연수입니다.\n",
    "    - items의 길이는 1 이상 5,000 이하입니다.\n",
    "    - items에는 아이템이 [올려줄 공격력, 낮출 체력]이 번호 순서대로 들어있습니다.\n",
    "        - 아이템 번호는 1번 부터 시작합니다.\n",
    "        - items[i]에는 i + 1번 아이템이 [올려줄 공격력, 낮출 체력]이 들어있습니다.\n",
    "        - 아이템이 올리는 공격력은 1 이상 500,000 이하인 자연수입니다.\n",
    "        - 아이템이 내리는 체력은 1 이상 500,000 이하인 자연수입니다.\n",
    "    - 아이템 번호는 오름차순으로 정렬해 return 해주세요.\n",
    "    - 올려주는 공격력이 같은 아이템은 없습니다.\n",
    "    - 아이템을 사용하는 방법이 여러 가지라면, 그러한 방법 중 아무거나 하나를 return 해주세요. 단, 아이템 번호는 오름차순으로 정렬되어 있어야 합니다.\n"
   ]
  },
  {
   "cell_type": "code",
   "execution_count": 14,
   "metadata": {},
   "outputs": [
    {
     "data": {
      "text/plain": [
       "' \\n조건 \\n    - 아이템을 사용한 후 남은 체력은 100이상 \\n    - 한 캐릭터에는 하나의 아이템만 사용 가능하며 사용한 아이템은 사라짐  \\n'"
      ]
     },
     "execution_count": 14,
     "metadata": {},
     "output_type": "execute_result"
    }
   ],
   "source": [
    "''' \n",
    "조건 \n",
    "    - 아이템을 사용한 후 남은 체력은 100이상 \n",
    "    - 한 캐릭터에는 하나의 아이템만 사용 가능하며 사용한 아이템은 사라짐  \n",
    "'''"
   ]
  },
  {
   "cell_type": "code",
   "execution_count": 51,
   "metadata": {},
   "outputs": [],
   "source": [
    "# 아직 3레벨은 나한테 힘든가보다 못 풀겠네 \n",
    "# 여기서 key는 체력이 가장 낮은 사람에게도 공격력을 부여할 수 있어야 최대 공격력이 됨 \n",
    "\n",
    "\n",
    "from collections import deque \n",
    "from heapq import heappush, heappop\n",
    "\n",
    "def solution(healths, items):\n",
    "\n",
    "    answer = [] \n",
    "\n",
    "    healths.sort()\n",
    "\n",
    "    items = deque(sorted([item[1], item[0], idx +1] for idx, item in enumerate(items)))\n",
    "    # 체력을 가장 적게 낮추는 것 순으로 item을 정렬 \n",
    "\n",
    "    heap = [] \n",
    "\n",
    "    for health in healths: \n",
    "        # 위에서 정렬을 했으므로 체력이 가장 작은 사람부터 진행 \n",
    "\n",
    "        while items:\n",
    "            # items에 값이 있을때만 반복 \n",
    "            debuff, buff, idx = items[0]\n",
    "            # 뺒을 체력, 올려줄 공격력, 인덱스 \n",
    "\n",
    "            if health - debuff < 100:\n",
    "                break \n",
    "            # 조건에서 체력을 뺐을때 100미만이라면 안되기 때문에 바로 종료 \n",
    "\n",
    "            else:\n",
    "                # 조건에 맞다면 즉 아이템을 사용할 수 있다면 \n",
    "                items.popleft() \n",
    "                # 사용을 했다면 다시 사용할 수 없기 때문에 pop \n",
    "\n",
    "                heappush(heap, [-buff, idx])\n",
    "                # max heap을 이용해서 heap에 넣어줌 \n",
    "\n",
    "        if heap:\n",
    "            _, idx = heappop(heap)\n",
    "            # heap안에 값이 존재한다면 해당 item의 index만 가지고 와서 answer에 넣어줌  \n",
    "            answer.append(idx)\n",
    "    return sorted(answer)"
   ]
  },
  {
   "cell_type": "code",
   "execution_count": 52,
   "metadata": {},
   "outputs": [
    {
     "data": {
      "text/plain": [
       "[1, 2]"
      ]
     },
     "execution_count": 52,
     "metadata": {},
     "output_type": "execute_result"
    }
   ],
   "source": [
    "healths = [200,120,150]\n",
    "items = [[30,100],[500,30],[100,400]]\n",
    "solution(healths, items)\n"
   ]
  },
  {
   "cell_type": "code",
   "execution_count": null,
   "metadata": {},
   "outputs": [],
   "source": []
  }
 ],
 "metadata": {
  "kernelspec": {
   "display_name": "Python 3.9.12 ('base')",
   "language": "python",
   "name": "python3"
  },
  "language_info": {
   "codemirror_mode": {
    "name": "ipython",
    "version": 3
   },
   "file_extension": ".py",
   "mimetype": "text/x-python",
   "name": "python",
   "nbconvert_exporter": "python",
   "pygments_lexer": "ipython3",
   "version": "3.9.12"
  },
  "orig_nbformat": 4,
  "vscode": {
   "interpreter": {
    "hash": "4e56095587f6faaee8b6fe269bd4758f04d4dcfca17a97e0204e5c06e32115c1"
   }
  }
 },
 "nbformat": 4,
 "nbformat_minor": 2
}
