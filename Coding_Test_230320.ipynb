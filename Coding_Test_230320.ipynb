{
 "cells": [
  {
   "attachments": {},
   "cell_type": "markdown",
   "metadata": {},
   "source": [
    "## 대표값 \n",
    "\n",
    "- N명의 학생의 수학점수가 주어집니다. N명의 학생들의 평균(소수 첫째자리 반올림)을 구하고, N명의 학생 중 평균에 가장 가까운 학생은 몇 번째 학생인지 출력하는 프로그램을 작성하세요.\n",
    "- 평균과 가장 가까운 점수가 여러 개일 경우 먼저 점수가 높은 학생의 번호를 답으로 하고, 높 은 점수를 가진 학생이 여러 명일 경우 그 중 학생번호가 빠른 학생의 번호를 답으로 합니다.\n",
    "- ▣ 입력설명\n",
    "    - 첫줄에 자연수 N(5<=N<=100)이 주어지고, 두 번째 줄에는 각 학생의 수학점수인 N개의 자연 수가 주어집니다. 학생의 번호는 앞에서부터 1로 시작해서 N까지이다.\n",
    "- ▣ 출력설명\n",
    "    - 첫줄에 평균과 평균에 가장 가까운 학생의 번호를 출력한다. 평균은 소수 첫째 자리에서 반올림합니다.\n",
    "\n",
    "- ▣ 입력예제 1\n",
    "    - 10 45 73 66 87 92 67 75 79 75 80\n",
    "\n",
    "- ▣ 출력예제 1\n",
    "    - 74 7\n",
    "\n"
   ]
  },
  {
   "cell_type": "code",
   "execution_count": 1,
   "metadata": {},
   "outputs": [
    {
     "data": {
      "text/plain": [
       "'\\n1. 평균을 구한다\\n2. 구한 평균과 각 요소를 뺀 값에서 가장 작은 값을 찾는다.\\n    2.1 만약 절대값을 했을 때 같은 값이 있다면 양수의 값의 순서를 가진다 \\n        2.1.1 만약 양수의 값이 같은 것이 여러개 있다면 순서가 가장 빠른 것의 순서와 실제 값도 출력한다.\\n'"
      ]
     },
     "execution_count": 1,
     "metadata": {},
     "output_type": "execute_result"
    }
   ],
   "source": [
    "'''\n",
    "1. 평균을 구한다\n",
    "2. 구한 평균과 각 요소를 뺀 값에서 가장 작은 값을 찾는다.\n",
    "    2.1 만약 절대값을 했을 때 같은 값이 있다면 양수의 값의 순서를 가진다 \n",
    "        2.1.1 만약 양수의 값이 같은 것이 여러개 있다면 순서가 가장 빠른 것의 순서와 실제 값도 출력한다.\n",
    "'''"
   ]
  },
  {
   "cell_type": "code",
   "execution_count": 44,
   "metadata": {},
   "outputs": [],
   "source": [
    "n = int(input())\n",
    "\n",
    "a = [] \n",
    "for i in range(n):\n",
    "    a.append(int(input()))"
   ]
  },
  {
   "cell_type": "code",
   "execution_count": 45,
   "metadata": {},
   "outputs": [
    {
     "name": "stdout",
     "output_type": "stream",
     "text": [
      "[12, 34, 17, 6, 11, 15, 27, 42, 39, 31]\n"
     ]
    }
   ],
   "source": [
    "print(a)"
   ]
  },
  {
   "cell_type": "code",
   "execution_count": 47,
   "metadata": {},
   "outputs": [
    {
     "name": "stdout",
     "output_type": "stream",
     "text": [
      "23 7\n"
     ]
    }
   ],
   "source": [
    "avg = 0 \n",
    "total = 0 \n",
    "b = [] \n",
    "abs_k = 10000000000 \n",
    "num_i = 0\n",
    "v = 0 \n",
    "\n",
    "for i in range(len(a)):\n",
    "    total += a[i] \n",
    "# sum을 사용해도 되는데 그냥 해봄 \n",
    "\n",
    "avg = int(round(total / n,0))\n",
    "\n",
    "\n",
    "for i in range(len(a)):\n",
    "    # 차이가 가장 작은 값을 찾는 과정 \n",
    "    if abs(abs_k) >= abs(avg-a[i]):\n",
    "        abs_k = avg-a[i]\n",
    "        num_i = i \n",
    "        v = a[i]\n",
    "\n",
    "# 만약 동일한 값이 존재한다면 그것의 가장 빠른 것을 찾아야하기 때문에 진행 \n",
    "for i in range(len(a)):\n",
    "\n",
    "    if v == a[i]:\n",
    "        num_i = i \n",
    "        v = a[i]\n",
    "        break \n",
    "\n",
    "print(int(avg), num_i+1)"
   ]
  },
  {
   "attachments": {},
   "cell_type": "markdown",
   "metadata": {},
   "source": [
    "### 추천 풀이 "
   ]
  },
  {
   "cell_type": "code",
   "execution_count": 50,
   "metadata": {},
   "outputs": [
    {
     "name": "stdout",
     "output_type": "stream",
     "text": [
      "74 7\n"
     ]
    }
   ],
   "source": [
    "n = int(input())\n",
    "a = list(map(int, input().split()))\n",
    "\n",
    "ave = round(sum(a) / n)\n",
    "\n",
    "min1 = 2147000000\n",
    "for idx, x in enumerate(a):\n",
    "    # 평균과 값의 거리 \n",
    "    tmp = abs(x-ave)\n",
    "\n",
    "    # 최소인 값을 찾아주는 과정 \n",
    "    if tmp < min1:\n",
    "        min1 = tmp \n",
    "        score = x \n",
    "        res = idx+1\n",
    "    # 같은 값이 나오게 된다면 \n",
    "    elif tmp == min1:\n",
    "        # 점수가 큰 학생이 와야함 \n",
    "        if x > score:\n",
    "            score = x \n",
    "            res = idx+1 \n",
    "            # 현재 학생의 순서로 변환 \n",
    "print(ave, res)\n",
    "\n",
    "# 나는 반복문을 3번이나 쓰면서 리소스 낭비를 했음 "
   ]
  },
  {
   "attachments": {},
   "cell_type": "markdown",
   "metadata": {},
   "source": [
    "## 정다면체 \n",
    "- 두 개의 정 N면체와 정 M면체의 두 개의 주사위를 던져서 나올 수 있는 눈의 합 중 가장 확 률이 높은 숫자를 출력하는 프로그램을 작성하세요.\n",
    "정답이 여러 개일 경우 오름차순으로 출력합니다.\n",
    "- ▣ 입력설명\n",
    "    - 첫 번째 줄에는 자연수 N과 M이 주어집니다. N과 M은 4, 6, 8, 12, 20 중의 하나입니다.\n",
    "- ▣ 출력설명\n",
    "    - 첫 번째 줄에 답을 출력합니다.\n",
    "- ▣ 입력예제 1 \n",
    "    - 4 6\n",
    "- ▣ 출력예제 1 \n",
    "    - 5 6 7"
   ]
  },
  {
   "cell_type": "code",
   "execution_count": null,
   "metadata": {},
   "outputs": [],
   "source": [
    "'''\n",
    "1. 각 경우의 수에 따라 dictionary를 활용해서 key, value를 입력 \n",
    "2. value값이 가장 큰 값을 추출\n",
    "    2.1 만약 value가 여러개가 있다면 각 key를 추출할 때 내림차순 진행 \n",
    "'''"
   ]
  },
  {
   "cell_type": "code",
   "execution_count": 82,
   "metadata": {},
   "outputs": [
    {
     "name": "stdout",
     "output_type": "stream",
     "text": [
      "5 6 7 "
     ]
    }
   ],
   "source": [
    "a = [] \n",
    "d1 = {}\n",
    "for i in range(1,4+1):\n",
    "    for j in range(1, 6+1):\n",
    "        tmp = i+j\n",
    "        a.append(tmp)\n",
    "\n",
    "for i in set(a):\n",
    "    d1[i] = 0\n",
    "# print(d1)\n",
    "\n",
    "for i in a:\n",
    "    d1[i] += 1\n",
    "# print(d1)\n",
    "\n",
    "all_values = d1.values()\n",
    "max_values = max(all_values)\n",
    "\n",
    "# print(max_values)\n",
    "\n",
    "for k,v in d1.items():\n",
    "    if v == max_values:\n",
    "        print(k, end=\" \")\n",
    "# 너무 복잡하고 귀찮음 "
   ]
  },
  {
   "cell_type": "code",
   "execution_count": 90,
   "metadata": {},
   "outputs": [
    {
     "name": "stdout",
     "output_type": "stream",
     "text": [
      "5 6 7 "
     ]
    }
   ],
   "source": [
    "from collections import Counter\n",
    "\n",
    "cnt = Counter()\n",
    "\n",
    "a = [] \n",
    "for i in range(1,4+1):\n",
    "    for j in range(1, 6+1):\n",
    "        tmp = i+j\n",
    "        a.append(tmp)\n",
    "\n",
    "cnt = Counter(a)\n",
    "max_values = max(cnt.values())\n",
    "for k, v in cnt.items():\n",
    "    if v == max_values:\n",
    "        print(k, end=\" \")\n",
    "# collections 패키지의 Counter 클래스를 사용해서 더욱 간단하게 해결 가능 "
   ]
  },
  {
   "attachments": {},
   "cell_type": "markdown",
   "metadata": {},
   "source": [
    "### 추천 풀이"
   ]
  },
  {
   "cell_type": "code",
   "execution_count": 92,
   "metadata": {},
   "outputs": [
    {
     "name": "stdout",
     "output_type": "stream",
     "text": [
      "5 6 7 "
     ]
    }
   ],
   "source": [
    "'''\n",
    "합의 값이 나왔다면 그 값을 인덱스 번호라고 생각하고 1씩 증가시켜주는 방식 \n",
    "'''\n",
    "\n",
    "n,m = map(int, input().split())\n",
    "cnt = [0] * (n+m+3)\n",
    "# 최대값보다 조금 넉넉하게 0으로 초기화된 리스트 생성 \n",
    "\n",
    "for i in range(1, n+1):\n",
    "    for j in range(1, m+1):\n",
    "        cnt[i+j] += 1 \n",
    "\n",
    "# 최대 빈도를 찾기 위한 과정 \n",
    "max1 = -2147000000\n",
    "for i in range(n+m+1):\n",
    "    if cnt[i] > max1:\n",
    "        max1 = cnt[i]\n",
    "\n",
    "for i in range(n+m+1):\n",
    "    if cnt[i] == max1:\n",
    "        print(i, end=\" \")\n",
    "# 깔끔하네 "
   ]
  },
  {
   "cell_type": "code",
   "execution_count": null,
   "metadata": {},
   "outputs": [],
   "source": []
  }
 ],
 "metadata": {
  "kernelspec": {
   "display_name": "Python 3",
   "language": "python",
   "name": "python3"
  },
  "language_info": {
   "codemirror_mode": {
    "name": "ipython",
    "version": 3
   },
   "file_extension": ".py",
   "mimetype": "text/x-python",
   "name": "python",
   "nbconvert_exporter": "python",
   "pygments_lexer": "ipython3",
   "version": "3.9.1"
  },
  "orig_nbformat": 4,
  "vscode": {
   "interpreter": {
    "hash": "b29909ae39fc17549a84839997d927dda790dc9d9d25402f3e010c02e8c51a82"
   }
  }
 },
 "nbformat": 4,
 "nbformat_minor": 2
}
