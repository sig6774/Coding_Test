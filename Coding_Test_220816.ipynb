{
 "cells": [
  {
   "cell_type": "markdown",
   "metadata": {},
   "source": [
    "## 수열 추측 \n",
    "- 가장 윗줄에 1부터 N까지의 숫자가 한 개씩 적혀 있다. 그리고 둘째 줄부터 차례대로 파스칼 의 삼각형처럼 위의 두개를 더한 값이 저장되게 된다. 예를 들어 N이 4 이고 가장 윗 줄에 3 1 2 4 가 있다고 했을 때, 다음과 같은 삼각형이 그려진다.\n",
    "- N과 가장 밑에 있는 숫자가 주어져 있을 때 가장 윗줄에 있는 숫자를 구하는 프로그램을 작성하 시오. 단, 답이 여러가지가 나오는 경우에는 사전순으로 가장 앞에 오는 것을 출력하여야 한다.\n",
    "\n",
    "<hr>\n",
    "\n",
    "- 첫째 줄에 두개의 정수 N(1≤N≤10)과 F가 주어진다. N은 가장 윗줄에 있는 숫자의 개수를 의 미하며 F는 가장 밑에 줄에 있는 수로 1,000,000 이하이다.\n",
    "- 첫째 줄에 삼각형에서 가장 위에 들어갈 N개의 숫자를 빈 칸을 사이에 두고 출력한다. 답이 존재 하지 않는 경우는 입력으로 주어지지 않는다."
   ]
  },
  {
   "cell_type": "code",
   "execution_count": 1,
   "metadata": {},
   "outputs": [],
   "source": [
    "# 진짜 생각이 안남 ㅠㅠㅠ"
   ]
  },
  {
   "cell_type": "markdown",
   "metadata": {},
   "source": [
    "### 참고 풀이"
   ]
  },
  {
   "cell_type": "code",
   "execution_count": null,
   "metadata": {},
   "outputs": [],
   "source": [
    "'''\n",
    "n이 4라면 1 3 3 1로써 어떤 순열이 오던지 그 값을 1 3 3 1에 곱해주면 값이 나옴 \n",
    "문제는 n에 따라 1 3 3 1과 같은 내용이 바뀜 \n",
    "그것을 어떻게 바꿀지가 정말 중요 \n",
    "'''"
   ]
  },
  {
   "cell_type": "code",
   "execution_count": 13,
   "metadata": {},
   "outputs": [],
   "source": [
    "import sys\n",
    "def DFS(L, S):\n",
    "    if L == n and S == f:\n",
    "        for x in p:\n",
    "            print(x, end = \" \")\n",
    "\n",
    "        sys.exit(0)     \n",
    "        # 찾는 순간 바로 프로그램 종료    \n",
    "\n",
    "    else:\n",
    "        for i in range(1, n+1):\n",
    "            if ch[i] == 0:\n",
    "                ch[i] = 1 \n",
    "                # 체크 해줌 \n",
    "\n",
    "                p[L] = i \n",
    "                DFS(L+1, S + (p[L] * b[L]))\n",
    "                ch[i] = 0 \n",
    "                # 다시 사용할 수 있도록 0으로 바꿔줌 \n"
   ]
  },
  {
   "cell_type": "code",
   "execution_count": 14,
   "metadata": {},
   "outputs": [
    {
     "name": "stdout",
     "output_type": "stream",
     "text": [
      "3 1 2 4 "
     ]
    },
    {
     "ename": "SystemExit",
     "evalue": "0",
     "output_type": "error",
     "traceback": [
      "An exception has occurred, use %tb to see the full traceback.\n",
      "\u001b[0;31mSystemExit\u001b[0m\u001b[0;31m:\u001b[0m 0\n"
     ]
    },
    {
     "name": "stderr",
     "output_type": "stream",
     "text": [
      "/Users/sig6774/.pyenv/versions/3.9.1/lib/python3.9/site-packages/IPython/core/interactiveshell.py:3405: UserWarning: To exit: use 'exit', 'quit', or Ctrl-D.\n",
      "  warn(\"To exit: use 'exit', 'quit', or Ctrl-D.\", stacklevel=1)\n"
     ]
    }
   ],
   "source": [
    "if __name__ == \"__main__\":\n",
    "    n, f = map (int, input().split())\n",
    "    p = [0] * n \n",
    "    b = [1] * n \n",
    "    ch = [0] * (n+1)\n",
    "\n",
    "    # b를 n에 맞게 변경시켜야 함 (1 3 3 1을 만들어 주는 과정 )\n",
    "    for i in range(1, n):\n",
    "        b[i] = b[i-1] * (n-i) // i \n",
    "        # ex) 3은 앞의 1에 (4-1)을 곱하고 1로 나눠주면 3이됨 \n",
    "        # ex) 두번째 3은 앞의 3에 (4-2)를 곱하고 i가 2이므로 2를 나눠주면 3이 됨 \n",
    "    # for x in b:\n",
    "    #     print(x, end = \" \")\n",
    "\n",
    "    DFS(0, 0)"
   ]
  },
  {
   "cell_type": "markdown",
   "metadata": {},
   "source": [
    "## 조합 구하기 \n",
    "- 1부터N까지번호가적힌구슬이있습니다.이중 M개를뽑는방법의수를출력하는프로그 램을 작성하세요.\n",
    "\n",
    "<hr>\n",
    "\n",
    "- 첫 번째 줄에 자연수 N(3<=N<=10)과 M(2<=M<=N) 이 주어집니다.\n",
    "- 첫 번째 줄에 결과를 출력합니다. 맨 마지막 총 경우의 수를 출력합니다. 출력순서는 사전순으로 오름차순으로 출력합니다."
   ]
  },
  {
   "cell_type": "code",
   "execution_count": 1,
   "metadata": {},
   "outputs": [
    {
     "data": {
      "text/plain": [
       "'\\n중복없는 경우의 수 구하면 되는거 아닌가?\\n'"
      ]
     },
     "execution_count": 1,
     "metadata": {},
     "output_type": "execute_result"
    }
   ],
   "source": [
    "'''\n",
    "중복없는 경우의 수 구하면 되는거 아닌가?\n",
    "'''"
   ]
  },
  {
   "cell_type": "code",
   "execution_count": 15,
   "metadata": {},
   "outputs": [],
   "source": [
    "def DFS(L):\n",
    "    global cnt \n",
    "    if L == N:\n",
    "        print(cnt)\n",
    "        return \n",
    "    # L이 N이 된다면 cnt를 출력하고 종료 \n",
    "\n",
    "    for i in range(L+1, N+1):\n",
    "        print(L, i)\n",
    "        # 입력받은 L보다 1높은 숫자부터 진행해야 같은 값이 들어있지 않은 경우의 수를 출력 \n",
    "        cnt += 1 \n",
    "    DFS(L+1)\n"
   ]
  },
  {
   "cell_type": "code",
   "execution_count": 16,
   "metadata": {},
   "outputs": [
    {
     "name": "stdout",
     "output_type": "stream",
     "text": [
      "1 2\n",
      "1 3\n",
      "1 4\n",
      "1 5\n",
      "2 3\n",
      "2 4\n",
      "2 5\n",
      "3 4\n",
      "3 5\n",
      "4 5\n",
      "10\n"
     ]
    }
   ],
   "source": [
    "if __name__ == \"__main__\":\n",
    "    N, M = map(int, input().split())\n",
    "    cnt = 0 \n",
    "    DFS(1)\n",
    "# 근데 이거는 2개일 떄만 적용되는데 ... 3개이상일 때는 적용이 안되는 코드임 "
   ]
  },
  {
   "cell_type": "markdown",
   "metadata": {},
   "source": [
    "### 참고 풀이"
   ]
  },
  {
   "cell_type": "code",
   "execution_count": 21,
   "metadata": {},
   "outputs": [],
   "source": [
    "def DFS(L, S):\n",
    "    global cnt \n",
    "    if L == m:\n",
    "        for j in range(L):\n",
    "            print(res[j] , end=\" \")\n",
    "        cnt +=1 \n",
    "        print()\n",
    "    else:\n",
    "        for i in range(S, n+1):\n",
    "            res[L] = i \n",
    "            DFS(L+1, i+1)\n",
    "            # 가지에 값을 넣어줘야 함으로 i+1해야함 \n",
    "'''\n",
    "DFS(0,1) -> res[0] = 1 \n",
    "DFS(1,2) -> res[1] = 2 \n",
    "DFS(2,3) -> 1 2 출력하고 cnt 1 증가 \n",
    "DFS(1,3) -> res[1] = 3 \n",
    "DFS(2,4) -> 1 3 출력하고 cnt 1 증가 \n",
    "DFS(1,4) -> res[1] = 4 \n",
    "DFS(2,5) -> 1 4 출력하고 cnt 1 증가 \n",
    "DFS(0,2) -> res[0] = 2 \n",
    "DFS(1,3) -> res[1] = 3 \n",
    "DFS(2,4) -> 2 3 출력하고 cnt 1 증가 \n",
    "DFS(1,4) -> res[1] = 4 \n",
    "DFS(2,5) -> 2 4 출력하고 cnt 1 증가 \n",
    "DFS(0,3) -> res[0] = 3 \n",
    "DFS(1,4) -> res[1] = 4 \n",
    "DFS(2,5) -> 3 4 출력하고 cnt 1 증가 \n",
    "DFS(0,4) -> res[0] = 4\n",
    "DFS(1,5) -> res[1] = 안들어감 \n",
    "DFS(2,6) -> 안됨 \n",
    "즉, cnt는 6이고 차례로 나옴\n",
    "'''"
   ]
  },
  {
   "cell_type": "code",
   "execution_count": 22,
   "metadata": {},
   "outputs": [
    {
     "name": "stdout",
     "output_type": "stream",
     "text": [
      "1 2 \n",
      "1 3 \n",
      "1 4 \n",
      "2 3 \n",
      "2 4 \n",
      "3 4 \n",
      "6\n"
     ]
    }
   ],
   "source": [
    "if __name__==\"__main__\":\n",
    "    n, m = map(int, input().split())\n",
    "    res= [0] * (n+1)\n",
    "    cnt = 0 \n",
    "    DFS(0,1)\n",
    "    print(cnt)"
   ]
  },
  {
   "cell_type": "code",
   "execution_count": null,
   "metadata": {},
   "outputs": [],
   "source": []
  }
 ],
 "metadata": {
  "kernelspec": {
   "display_name": "Python 3.9.1 64-bit ('3.9.1')",
   "language": "python",
   "name": "python3"
  },
  "language_info": {
   "codemirror_mode": {
    "name": "ipython",
    "version": 3
   },
   "file_extension": ".py",
   "mimetype": "text/x-python",
   "name": "python",
   "nbconvert_exporter": "python",
   "pygments_lexer": "ipython3",
   "version": "3.9.1"
  },
  "orig_nbformat": 4,
  "vscode": {
   "interpreter": {
    "hash": "b29909ae39fc17549a84839997d927dda790dc9d9d25402f3e010c02e8c51a82"
   }
  }
 },
 "nbformat": 4,
 "nbformat_minor": 2
}
