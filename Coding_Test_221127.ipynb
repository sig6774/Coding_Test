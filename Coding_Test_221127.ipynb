{
 "cells": [
  {
   "cell_type": "markdown",
   "metadata": {},
   "source": [
    "## 삼총사\n",
    "- 문제 설명\n",
    "    - 한국중학교에 다니는 학생들은 각자 정수 번호를 갖고 있습니다. 이 학교 학생 3명의 정수 번호를 더했을 때 0이 되면 3명의 학생은 삼총사라고 합니다. 예를 들어, 5명의 학생이 있고, 각각의 정수 번호가 순서대로 -2, 3, 0, 2, -5일 때, 첫 번째, 세 번째, 네 번째 학생의 정수 번호를 더하면 0이므로 세 학생은 삼총사입니다. 또한, 두 번째, 네 번째, 다섯 번째 학생의 정수 번호를 더해도 0이므로 세 학생도 삼총사입니다. 따라서 이 경우 한국중학교에서는 두 가지 방법으로 삼총사를 만들 수 있습니다.\n",
    "\n",
    "    - 한국중학교 학생들의 번호를 나타내는 정수 배열 number가 매개변수로 주어질 때, 학생들 중 삼총사를 만들 수 있는 방법의 수를 return 하도록 solution 함수를 완성하세요.\n",
    "\n",
    "<hr>\n",
    "\n",
    "- 제한사항\n",
    "    - 3 ≤ number의 길이 ≤ 13\n",
    "    - -1,000 ≤ number의 각 원소 ≤ 1,000\n",
    "    - 서로 다른 학생의 정수 번호가 같을 수 있습니다.\n",
    "\n",
    "<hr>\n",
    "\n",
    "- 입출력 예\n",
    "    - number\tresult\n",
    "    - [-2, 3, 0, 2, -5]\t2\n",
    "    - [-3, -2, -1, 0, 1, 2, 3]\t5\n",
    "    - [-1, 1, -1, 1]\t0"
   ]
  },
  {
   "cell_type": "code",
   "execution_count": 15,
   "metadata": {},
   "outputs": [],
   "source": [
    "def DFS(L, S):\n",
    "    # print(L, S)\n",
    "    global cnt \n",
    "    if L > 3:\n",
    "        return \n",
    "        \n",
    "    if L == 3 and S == 0:\n",
    "        cnt += 1 \n",
    "    \n",
    "    else:\n",
    "        for i in range(L, len(a)):\n",
    "            \n",
    "            DFS(L+1, S+a[i])\n",
    "# 이거 왜 안되지 다시 해보기 "
   ]
  },
  {
   "cell_type": "code",
   "execution_count": 16,
   "metadata": {},
   "outputs": [],
   "source": [
    "a = [-2, 3, 0, 2, -5]"
   ]
  },
  {
   "cell_type": "code",
   "execution_count": 17,
   "metadata": {},
   "outputs": [
    {
     "name": "stdout",
     "output_type": "stream",
     "text": [
      "7\n"
     ]
    }
   ],
   "source": [
    "cnt = 0 \n",
    "DFS(0,0)\n",
    "print(cnt)"
   ]
  },
  {
   "cell_type": "code",
   "execution_count": 23,
   "metadata": {},
   "outputs": [
    {
     "name": "stdout",
     "output_type": "stream",
     "text": [
      "2\n"
     ]
    }
   ],
   "source": [
    "cnt = 0 \n",
    "for i in range(len(a)):\n",
    "    for j in range(i+1, len(a)):\n",
    "        for k in range(j+1, len(a)):\n",
    "            if a[i] + a[j] + a[k] == 0:\n",
    "                cnt += 1\n",
    "\n",
    "print(cnt)"
   ]
  },
  {
   "cell_type": "code",
   "execution_count": 26,
   "metadata": {},
   "outputs": [],
   "source": [
    "def solution(number):\n",
    "    answer = 0\n",
    "    for i in range(len(number)):\n",
    "        for j in range(i+1, len(number)):\n",
    "            for k in range(j+1, len(number)):\n",
    "                if number[i] + number[j] + number[k] == 0:\n",
    "                    answer += 1\n",
    "    return answer"
   ]
  },
  {
   "cell_type": "code",
   "execution_count": 27,
   "metadata": {},
   "outputs": [
    {
     "data": {
      "text/plain": [
       "2"
      ]
     },
     "execution_count": 27,
     "metadata": {},
     "output_type": "execute_result"
    }
   ],
   "source": [
    "solution(a)"
   ]
  },
  {
   "cell_type": "markdown",
   "metadata": {},
   "source": [
    "## 운송 트럭 \n",
    "- 문제 설명\n",
    "    - XX 회사는 트럭을 이용해 상품을 운반합니다. 트럭은 최대 무게가 한정되어있습니다. 직원은 트럭에 상품을 순서대로 실으며, 상품을 실을 수 없는 트럭은 바로 목적지로 출발합니다. 이때 우리는 모든 상품을 운반하는데 필요한 트럭은 최소 몇 대인지 구하려 합니다.\n",
    "\n",
    "    - 예를 들어, 각 상품의 스펙이 다음과 같고, 트럭의 허용 무게가 300, 실어야 할 상품이 [\"toy\", \"snack\", \"snack\"]라고 합니다.\n",
    "\n",
    "    - 상품 이름\t무게\n",
    "    - toy\t70\n",
    "    - snack\t200\n",
    "    - 이 경우 첫째 상품과 둘째 상품은 같은 트럭에 들어가지만, 셋째 상품은 다른 트럭에 넣어야 합니다. 따라서 필요한 트럭 수는 두 대 입니다.\n",
    "\n",
    "    - 상품\t누적 무게\t새 트럭\n",
    "    - toy\t70\t불필요\n",
    "    - snack\t270\t불필요\n",
    "    - snack\t200\t필요\n",
    "    - 트럭의 허용 무게 max_weight와 상품의 스펙을 담은 배열 specs, 운반할 상품의 이름이 순서대로 들은 배열 names가 주어집니다. 이때, 상품을 순서대로 운반하기 위해 필요한 트럭 수를 리턴하는 함수, soution을 완성하세요.\n",
    "\n",
    "<hr>    \n",
    "\n",
    "- 제한 조건\n",
    "    - max_weight는 1 이상 100,000 이하입니다.\n",
    "    - specs의 길이는 1 이상 100,000 이하입니다.\n",
    "    - specs의 원소는 [상품 이름, 상품 무게]를 나타냅니다.\n",
    "    - 상품 이름은 길이가 1 이상 10,000 이하인 문자열입니다.\n",
    "    - 상품 무게는 1 이상 max_weight 이하인 자연수를 나타내는 문자열입니다.\n",
    "    - 이름이 같은 상품은 없습니다.\n",
    "    - names는 길이가 1 이상 10,000 이하인 배열입니다.\n",
    "    - names의 원소는 모두 specs에 있는 상품입니다.\n",
    "\n",
    "<hr>    \n",
    "\n",
    "- 입출력 예\n",
    "    - max_weight\tspecs\tnames\treturn\n",
    "    - 300\t[[\"toy\",\"70\"], [\"snack\", \"200\"]]\t[\"toy\", \"snack\", \"snack\"]\t2\n",
    "    - 200\t[[\"toy\",\"70\"], [\"snack\", \"200\"]]\t[\"toy\", \"snack\", \"toy\"]\t3"
   ]
  },
  {
   "cell_type": "code",
   "execution_count": 48,
   "metadata": {},
   "outputs": [],
   "source": [
    "max_weight = 200\n",
    "specs = [[\"toy\", \"70\"], [\"snack\", \"200\"]]\n",
    "names = [\"toy\", \"snack\", \"toy\"]"
   ]
  },
  {
   "cell_type": "code",
   "execution_count": 57,
   "metadata": {},
   "outputs": [],
   "source": [
    "# spec을 dict로 key value 형태로 만들고 해당 key가 입력되면 그 값을 더했을 때 최대 무게를 초과하면 count 진행 \n",
    "def solution(max_weight, specs, names):\n",
    "    answer = 0\n",
    "    weight = 0 \n",
    "    spec_dict = dict()\n",
    "\n",
    "    for i in specs:\n",
    "        spec_dict[i[0]] = int(i[1])\n",
    "        \n",
    "    for i in names:\n",
    "        if spec_dict[i]:\n",
    "            if (weight + spec_dict[i]) >= max_weight:\n",
    "                answer += 1 \n",
    "                weight = 0 \n",
    "            else:\n",
    "                weight += spec_dict[i]\n",
    "            print(answer, weight)\n",
    "\n",
    "    answer += 1 \n",
    "    return answer\n",
    "# 몇개는 맞고 몇개는 틀림 "
   ]
  },
  {
   "cell_type": "code",
   "execution_count": 58,
   "metadata": {},
   "outputs": [
    {
     "name": "stdout",
     "output_type": "stream",
     "text": [
      "0 70\n",
      "1 0\n",
      "1 70\n"
     ]
    },
    {
     "data": {
      "text/plain": [
       "2"
      ]
     },
     "execution_count": 58,
     "metadata": {},
     "output_type": "execute_result"
    }
   ],
   "source": [
    "solution(max_weight, specs, names)"
   ]
  },
  {
   "cell_type": "code",
   "execution_count": 28,
   "metadata": {},
   "outputs": [],
   "source": [
    "def solution(max_weight, specs, names):\n",
    "    answer = 0\n",
    "    weight = 0 \n",
    "    \n",
    "    for i in names:\n",
    "        for j in range(len(specs)):\n",
    "        \n",
    "            if specs[j][0] == i:\n",
    "                if (weight + int(specs[j][1])) >= max_weight:\n",
    "                    answer += 1 \n",
    "                    weight = 0 \n",
    "                weight += int(specs[j][1])\n",
    "    answer += 1 \n",
    "    return answer\n",
    "# 이거는 아예 시간 초과"
   ]
  },
  {
   "cell_type": "code",
   "execution_count": 29,
   "metadata": {},
   "outputs": [
    {
     "data": {
      "text/plain": [
       "3"
      ]
     },
     "execution_count": 29,
     "metadata": {},
     "output_type": "execute_result"
    }
   ],
   "source": [
    "solution(max_weight, specs, names)"
   ]
  },
  {
   "cell_type": "code",
   "execution_count": 74,
   "metadata": {},
   "outputs": [],
   "source": [
    "max_weight = 200\n",
    "specs = [[\"toy\", \"70\"], [\"snack\", \"200\"]]\n",
    "names = [\"toy\", \"snack\", \"toy\"]"
   ]
  },
  {
   "cell_type": "code",
   "execution_count": 79,
   "metadata": {},
   "outputs": [],
   "source": [
    "def solution(max_weight, specs, names):\n",
    "    answer = 0\n",
    "    weight = 0 \n",
    "    spec_dict = dict()\n",
    "    tmp_weights = max_weight\n",
    "\n",
    "    for i in specs:\n",
    "        spec_dict[i[0]] = int(i[1])\n",
    "        \n",
    "    for i in names:\n",
    "        tmp = spec_dict[i] \n",
    "\n",
    "        if tmp > tmp_weights:\n",
    "            answer += 1 \n",
    "            tmp_weights = max_weight \n",
    "        \n",
    "        tmp_weights -= tmp \n",
    "        # 70이 들어오고 200이 들어오면 count를 2개 해줘야하는데 위의 코드는 그게 가능 \n",
    "        # 참고함...\n",
    "    answer += 1 \n",
    "    return answer"
   ]
  },
  {
   "cell_type": "code",
   "execution_count": 80,
   "metadata": {},
   "outputs": [
    {
     "data": {
      "text/plain": [
       "3"
      ]
     },
     "execution_count": 80,
     "metadata": {},
     "output_type": "execute_result"
    }
   ],
   "source": [
    "solution(max_weight, specs, names)"
   ]
  },
  {
   "cell_type": "code",
   "execution_count": null,
   "metadata": {},
   "outputs": [],
   "source": []
  }
 ],
 "metadata": {
  "kernelspec": {
   "display_name": "Python 3.9.1 64-bit ('3.9.1')",
   "language": "python",
   "name": "python3"
  },
  "language_info": {
   "codemirror_mode": {
    "name": "ipython",
    "version": 3
   },
   "file_extension": ".py",
   "mimetype": "text/x-python",
   "name": "python",
   "nbconvert_exporter": "python",
   "pygments_lexer": "ipython3",
   "version": "3.9.1"
  },
  "orig_nbformat": 4,
  "vscode": {
   "interpreter": {
    "hash": "b29909ae39fc17549a84839997d927dda790dc9d9d25402f3e010c02e8c51a82"
   }
  }
 },
 "nbformat": 4,
 "nbformat_minor": 2
}
