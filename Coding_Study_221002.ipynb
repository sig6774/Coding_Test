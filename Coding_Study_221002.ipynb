{
 "cells": [
  {
   "cell_type": "markdown",
   "metadata": {},
   "source": [
    "## 기능개발 \n",
    "\n",
    "- 문제 설명\n",
    "    - 프로그래머스 팀에서는 기능 개선 작업을 수행 중입니다. 각 기능은 진도가 100%일 때 서비스에 반영할 수 있습니다.\n",
    "\n",
    "    - 또, 각 기능의 개발속도는 모두 다르기 때문에 뒤에 있는 기능이 앞에 있는 기능보다 먼저 개발될 수 있고, 이때 뒤에 있는 기능은 앞에 있는 기능이 배포될 때 함께 배포됩니다.\n",
    "\n",
    "    - 먼저 배포되어야 하는 순서대로 작업의 진도가 적힌 정수 배열 progresses와 각 작업의 개발 속도가 적힌 정수 배열 speeds가 주어질 때 각 배포마다 몇 개의 기능이 배포되는지를 return 하도록 solution 함수를 완성하세요.\n",
    "\n",
    "-  제한 사항\n",
    "    - 작업의 개수(progresses, speeds배열의 길이)는 100개 이하입니다.\n",
    "    - 작업 진도는 100 미만의 자연수입니다.\n",
    "    - 작업 속도는 100 이하의 자연수입니다.\n",
    "    - 배포는 하루에 한 번만 할 수 있으며, 하루의 끝에 이루어진다고 가정합니다. 예를 들어 진도율이 95%인 작업의 개발 속도가 하루에 4%라면 배포는 2일 뒤에 이루어집니다.\n",
    "\n",
    "<hr>\n",
    "\n",
    "- 입출력 예\n",
    "    - progresses\tspeeds\treturn\n",
    "    - [93,30,55]\t[1,30,5]\t[2,1]\n",
    "\n",
    "- 입출력 예 설명\n",
    "    - 첫 번째 기능은 93% 완료되어 있고 하루에 1%씩 작업이 가능하므로 7일간 작업 후 배포가 가능합니다.\n",
    "    - 두 번째 기능은 30%가 완료되어 있고 하루에 30%씩 작업이 가능하므로 3일간 작업 후 배포가 가능합니다. 하지만 이전 첫 번째 기능이 아직 완성된 상태가 아니기 때문에 첫 번째 기능이 배포되는 7일째 배포됩니다.\n",
    "    - 세 번째 기능은 55%가 완료되어 있고 하루에 5%씩 작업이 가능하므로 9일간 작업 후 배포가 가능합니다.\n",
    "\n",
    "    - 따라서 7일째에 2개의 기능, 9일째에 1개의 기능이 배포됩니다."
   ]
  },
  {
   "cell_type": "code",
   "execution_count": 2,
   "metadata": {},
   "outputs": [
    {
     "data": {
      "text/plain": [
       "'\\nstack 사용해서 progress가 100이 되면 해당 값 스택에 넣어줌 근데 앞에 progress가 끝나지 않았으면 일단 넣어주기만 함 \\n앞에 progress가 끝났을 때 stack의 길이를 return리스트에 넣고 모두 pop 진행 \\n위의 과정을 progresses 리스트에 있는 모든 값이 다 완료될 때 까지 진행\\n'"
      ]
     },
     "execution_count": 2,
     "metadata": {},
     "output_type": "execute_result"
    }
   ],
   "source": [
    "'''\n",
    "stack 사용해서 progress가 100이 되면 해당 기간을 스택에 넣어줌 \n",
    "앞에 progress가 끝났을 때 stack의 길이를 return리스트에 넣고 모두 pop 진행 \n",
    "위의 과정을 progresses 리스트에 있는 모든 값이 다 완료될 때 까지 진행\n",
    "'''"
   ]
  },
  {
   "cell_type": "code",
   "execution_count": 58,
   "metadata": {},
   "outputs": [],
   "source": [
    "progresses = [93, 30, 55]\n",
    "speeds = [1, 30, 5]\n",
    "\n",
    "stack = [] "
   ]
  },
  {
   "cell_type": "code",
   "execution_count": 49,
   "metadata": {},
   "outputs": [
    {
     "ename": "KeyboardInterrupt",
     "evalue": "",
     "output_type": "error",
     "traceback": [
      "\u001b[0;31m---------------------------------------------------------------------------\u001b[0m",
      "\u001b[0;31mKeyboardInterrupt\u001b[0m                         Traceback (most recent call last)",
      "\u001b[1;32m/Users/sig6774/CodingTest/Coding_Study_221002.ipynb 셀 7\u001b[0m in \u001b[0;36m<cell line: 4>\u001b[0;34m()\u001b[0m\n\u001b[1;32m     <a href='vscode-notebook-cell:/Users/sig6774/CodingTest/Coding_Study_221002.ipynb#W6sZmlsZQ%3D%3D?line=9'>10</a>\u001b[0m \u001b[39mif\u001b[39;00m progresses[i] \u001b[39m>\u001b[39m\u001b[39m=\u001b[39m \u001b[39m100\u001b[39m:\n\u001b[1;32m     <a href='vscode-notebook-cell:/Users/sig6774/CodingTest/Coding_Study_221002.ipynb#W6sZmlsZQ%3D%3D?line=10'>11</a>\u001b[0m     cnt \u001b[39m+\u001b[39m\u001b[39m=\u001b[39m \u001b[39m1\u001b[39m \n\u001b[0;32m---> <a href='vscode-notebook-cell:/Users/sig6774/CodingTest/Coding_Study_221002.ipynb#W6sZmlsZQ%3D%3D?line=11'>12</a>\u001b[0m     stack\u001b[39m.\u001b[39;49mappend(cnt)\n\u001b[1;32m     <a href='vscode-notebook-cell:/Users/sig6774/CodingTest/Coding_Study_221002.ipynb#W6sZmlsZQ%3D%3D?line=12'>13</a>\u001b[0m     \u001b[39mcontinue\u001b[39;00m\n\u001b[1;32m     <a href='vscode-notebook-cell:/Users/sig6774/CodingTest/Coding_Study_221002.ipynb#W6sZmlsZQ%3D%3D?line=13'>14</a>\u001b[0m \u001b[39melse\u001b[39;00m:\n",
      "\u001b[0;31mKeyboardInterrupt\u001b[0m: "
     ]
    }
   ],
   "source": [
    "stack = []\n",
    "while True:\n",
    "\n",
    "    for k in progresses:\n",
    "        if k >= 100:\n",
    "            break \n",
    "\n",
    "    for i in range(len(progresses)):\n",
    "        cnt = 0 \n",
    "        if progresses[i] >= 100:\n",
    "            cnt += 1 \n",
    "            stack.push(cnt)\n",
    "            continue\n",
    "        else:\n",
    "            progresses[i] += speeds[i]\n",
    "    \n",
    "    # 종료조건이 뭘까?\n",
    "\n"
   ]
  },
  {
   "cell_type": "code",
   "execution_count": 221,
   "metadata": {},
   "outputs": [],
   "source": [
    "progresses = [93, 30, 55]\n",
    "speeds = [1, 30, 5]\n",
    "stack = []\n",
    "check = []"
   ]
  },
  {
   "cell_type": "code",
   "execution_count": 185,
   "metadata": {},
   "outputs": [
    {
     "name": "stdout",
     "output_type": "stream",
     "text": [
      "100\n",
      "120\n",
      "100\n"
     ]
    }
   ],
   "source": [
    "cnt = 0 \n",
    "\n",
    "while len(progresses) >= 1:\n",
    "\n",
    "        if progresses[0] >= 100:\n",
    "            print(progresses[0])\n",
    "            progresses.pop(0)\n",
    "            speeds.pop(0)\n",
    "            stack.append(cnt)\n",
    "            cnt = 0 \n",
    "            continue\n",
    "\n",
    "        else:\n",
    "            progresses[0] += speeds[0]\n",
    "            cnt += 1 \n",
    "    \n",
    "# 한개씩 비교하면서 조건에 맞다면 pop을 진행\n",
    "\n"
   ]
  },
  {
   "cell_type": "code",
   "execution_count": 204,
   "metadata": {},
   "outputs": [
    {
     "name": "stdout",
     "output_type": "stream",
     "text": [
      "[]\n",
      "[7, 3, 9]\n"
     ]
    }
   ],
   "source": [
    "print(progresses)\n",
    "print(stack)"
   ]
  },
  {
   "cell_type": "code",
   "execution_count": 216,
   "metadata": {},
   "outputs": [
    {
     "name": "stdout",
     "output_type": "stream",
     "text": [
      "1\n",
      "[2, 1]\n"
     ]
    }
   ],
   "source": [
    "# 만약에 완료일자가 앞의 일자보다 작다면 작은 일자의 순서를 시작 인덱스에서 빼줌 \n",
    "answer = [] \n",
    "idx = 0 \n",
    "for i in range(len(stack)):\n",
    "\n",
    "    if stack[i] < stack[idx]:\n",
    "        idx = i\n",
    "        answer.append(len(stack[:idx+1]))\n",
    "        print(idx)\n",
    "\n",
    "answer.append(len(stack[idx+1:len(stack)]))\n",
    "\n",
    "print(answer)"
   ]
  },
  {
   "cell_type": "markdown",
   "metadata": {},
   "source": [
    "### 해결"
   ]
  },
  {
   "cell_type": "code",
   "execution_count": 230,
   "metadata": {},
   "outputs": [],
   "source": [
    "def solution(progresses, speeds):\n",
    "    answer = []\n",
    "    stack = [] \n",
    "\n",
    "    cnt = 0 \n",
    "\n",
    "    while len(progresses) >= 1:\n",
    "\n",
    "        if progresses[0] >= 100:\n",
    "            # print(progresses[0])\n",
    "            progresses.pop(0)\n",
    "            speeds.pop(0)\n",
    "            stack.append(cnt)\n",
    "            cnt = 0 \n",
    "\n",
    "        else:\n",
    "            progresses[0] += speeds[0]\n",
    "            cnt += 1 \n",
    "    \n",
    "    # 한개씩 비교하면서 조건에 맞다면 pop을 진행\n",
    "\n",
    "    idx = 0 \n",
    "\n",
    "\n",
    "\n",
    "    # 만약에 완료일자가 앞의 일자보다 작다면 그 순서를 알려줘야하기 때문에 뺄셈연산 진행 \n",
    "    for i in range(len(stack)) :\n",
    "        if stack[idx] < stack[i] :    \n",
    "            answer.append(i - idx)    \n",
    "            idx = i                   \n",
    "            \n",
    "    answer.append(len(stack) - idx) \n",
    "\n",
    "    \n",
    "    return answer"
   ]
  },
  {
   "cell_type": "code",
   "execution_count": 233,
   "metadata": {},
   "outputs": [],
   "source": [
    "progresses = [93, 30, 55]\n",
    "speeds = [1, 30, 5]"
   ]
  },
  {
   "cell_type": "code",
   "execution_count": 234,
   "metadata": {},
   "outputs": [
    {
     "data": {
      "text/plain": [
       "[2, 1]"
      ]
     },
     "execution_count": 234,
     "metadata": {},
     "output_type": "execute_result"
    }
   ],
   "source": [
    "solution(progresses, speeds)"
   ]
  },
  {
   "cell_type": "markdown",
   "metadata": {},
   "source": [
    "### 표준 답안"
   ]
  },
  {
   "cell_type": "code",
   "execution_count": 1,
   "metadata": {},
   "outputs": [],
   "source": [
    "# 풀이1 \n",
    "# O(n^2)\n",
    "\n",
    "\n",
    "def solution(progresses, speeds):\n",
    "    answer = [] \n",
    "    while progresses:\n",
    "        for i in range(len(progresses)):\n",
    "            progresses[i] += speeds[i]\n",
    "\n",
    "\n",
    "        if progresses[0] >= 100:\n",
    "            cnt = 0 \n",
    "            while progresses and progresses[0] > 100:\n",
    "                cnt += 1 \n",
    "                progresses.pop(0)\n",
    "                speeds.pop(0)\n",
    "            answer.append(cnt)\n",
    "    return answer"
   ]
  },
  {
   "cell_type": "code",
   "execution_count": null,
   "metadata": {},
   "outputs": [],
   "source": [
    "# 풀이2 \n",
    "# O(n)\n",
    "from collections import deque \n",
    "from math import ceil \n",
    "\n",
    "def solution(progresses, speeds):\n",
    "    \n",
    "    max_duration = ceil((100 - progresses[0]) / speeds[0])\n",
    "    coont = 0 \n",
    "    for progress, speed in zip(progresses, speeds):\n",
    "        duration = ceil((100-progress) / speed)\n",
    "        \n",
    "        if max_duration < duration:\n",
    "            answer.append(count)\n",
    "            max_duration = duration\n",
    "            count = 0\n",
    "        count += 1 \n",
    "\n",
    "    answer.append(count)\n",
    "    print(answer)\n",
    "    \n",
    "    return answer\n"
   ]
  },
  {
   "cell_type": "markdown",
   "metadata": {},
   "source": [
    "## 더 맵게 \n",
    "- 문제 설명\n",
    "    - 매운 것을 좋아하는 Leo는 모든 음식의 스코빌 지수를 K 이상으로 만들고 싶습니다. 모든 음식의 스코빌 지수를 K 이상으로 만들기 위해 Leo는 스코빌 지수가 가장 낮은 두 개의 음식을 아래와 같이 특별한 방법으로 섞어 새로운 음식을 만듭니다.\n",
    "\n",
    "    - 섞은 음식의 스코빌 지수 = 가장 맵지 않은 음식의 스코빌 지수 + (두 번째로 맵지 않은 음식의 스코빌 지수 * 2)\n",
    "    - Leo는 모든 음식의 스코빌 지수가 K 이상이 될 때까지 반복하여 섞습니다.\n",
    "    - Leo가 가진 음식의 스코빌 지수를 담은 배열 scoville과 원하는 스코빌 지수 K가 주어질 때, 모든 음식의 스코빌 지수를 K 이상으로 만들기 위해 섞어야 하는 최소 횟수를 return 하도록 solution 함수를 작성해주세요.\n",
    "\n",
    "<hr>    \n",
    "\n",
    "- 입출력 예\n",
    "    - scoville\tK\treturn\n",
    "    - [1, 2, 3, 9, 10, 12]\t7\t2\n",
    "\n",
    "- 입출력 예 설명\n",
    "    - 스코빌 지수가 1인 음식과 2인 음식을 섞으면 음식의 스코빌 지수가 아래와 같이 됩니다.\n",
    "    - 새로운 음식의 스코빌 지수 = 1 + (2 * 2) = 5\n",
    "    - 가진 음식의 스코빌 지수 = [5, 3, 9, 10, 12]\n",
    "\n",
    "    - 스코빌 지수가 3인 음식과 5인 음식을 섞으면 음식의 스코빌 지수가 아래와 같이 됩니다.\n",
    "    - 새로운 음식의 스코빌 지수 = 3 + (5 * 2) = 13\n",
    "    - 가진 음식의 스코빌 지수 = [13, 9, 10, 12]\n",
    "\n",
    "    - 모든 음식의 스코빌 지수가 7 이상이 되었고 이때 섞은 횟수는 2회입니다.\n",
    "\n"
   ]
  },
  {
   "cell_type": "code",
   "execution_count": 235,
   "metadata": {},
   "outputs": [
    {
     "data": {
      "text/plain": [
       "' \\n\\n정렬 후 가장 맵지 않은 것과 그 다음으로 맵지 않은 것 pop한 후 새로운 스코빌 지수 push 후 count \\n다시 정렬 후 위의 과정을 반복하고 해당 조건에 모두 맞다면 count \\n\\n'"
      ]
     },
     "execution_count": 235,
     "metadata": {},
     "output_type": "execute_result"
    }
   ],
   "source": [
    "''' \n",
    "\n",
    "정렬 후 가장 맵지 않은 것과 그 다음으로 맵지 않은 것 pop한 후 새로운 스코빌 지수 push 후 count \n",
    "다시 정렬 후 위의 과정을 반복하고 해당 조건에 모두 맞다면 count \n",
    "\n",
    "'''"
   ]
  },
  {
   "cell_type": "code",
   "execution_count": 277,
   "metadata": {},
   "outputs": [],
   "source": [
    "scoville = [1,2,3,9,10,12]\n",
    "\n",
    "k = 7 \n",
    "cnt = 0 "
   ]
  },
  {
   "cell_type": "code",
   "execution_count": 258,
   "metadata": {},
   "outputs": [
    {
     "name": "stdout",
     "output_type": "stream",
     "text": [
      "[3, 9, 10, 12, 5]\n"
     ]
    }
   ],
   "source": [
    "scoville.sort()\n",
    "\n",
    "first = scoville.pop(0)\n",
    "second = scoville.pop(0)\n",
    "new = first + (second * 2) \n",
    "scoville.append(new)\n",
    "cnt += 1 \n",
    "\n",
    "\n",
    "print(scoville)"
   ]
  },
  {
   "cell_type": "code",
   "execution_count": 256,
   "metadata": {},
   "outputs": [
    {
     "name": "stdout",
     "output_type": "stream",
     "text": [
      "[9, 10, 12, 13]\n"
     ]
    }
   ],
   "source": [
    "a = [k for k in scoville if k >= 7]\n",
    "print(a)"
   ]
  },
  {
   "cell_type": "code",
   "execution_count": 259,
   "metadata": {},
   "outputs": [],
   "source": [
    "while True:\n",
    "    a = [k for k in scoville if k >= 7]\n",
    "    if len(a) == len(scoville):\n",
    "        break \n",
    "\n",
    "    scoville.sort() \n",
    "    first = scoville.pop(0)\n",
    "    second = scoville.pop(0)\n",
    "    new = first + (second * 2) \n",
    "    scoville.append(new)\n",
    "    cnt += 1 \n",
    "\n"
   ]
  },
  {
   "cell_type": "code",
   "execution_count": 347,
   "metadata": {},
   "outputs": [],
   "source": [
    "scoville = list(map(int, input().split()))\n",
    "# [1, 2, 3, 9, 10, 12]\n",
    "\n",
    "K = 7"
   ]
  },
  {
   "cell_type": "code",
   "execution_count": 348,
   "metadata": {},
   "outputs": [],
   "source": [
    "def solution(scoville, K):\n",
    "    answer = 0\n",
    "\n",
    "    while len(scoville) >= 2:\n",
    "        # 2개 이상 있어야 pop이 가능하기 때문에 \n",
    "\n",
    "        if sum(scoville) < K:\n",
    "            answer = -1 \n",
    "            break \n",
    "        # 다 합해도 K가 되지 않는다면 -1 조건을 맞출 수 없으므로 -1 \n",
    "\n",
    "        a = [i for i in scoville if i >= K]\n",
    "\n",
    "        if len(a) == len(scoville):\n",
    "            break \n",
    "        # 조건을 걸어둔 리스트와 scoville 리스트의 개수가 같다면 모두 K이상이므로 종료 \n",
    "\n",
    "        scoville.sort()\n",
    "        # 정렬 \n",
    "\n",
    "        first = scoville.pop(0)\n",
    "        # 가장 맵지 않은 것 \n",
    "\n",
    "        second = scoville.pop(0)\n",
    "        # 두번째로 맵지 않은 것 \n",
    "\n",
    "        new = first + (second * 2)\n",
    "        # 새롭게 만들어진 것 \n",
    "\n",
    "        scoville.append(new)\n",
    "\n",
    "        answer += 1 \n",
    "        # count \n",
    "    if len(scoville) < 2:\n",
    "        answer = -1\n",
    "\n",
    "    if answer >= 0:\n",
    "        return answer \n",
    "    else:\n",
    "        return -1 \n"
   ]
  },
  {
   "cell_type": "code",
   "execution_count": 349,
   "metadata": {},
   "outputs": [
    {
     "data": {
      "text/plain": [
       "-1"
      ]
     },
     "execution_count": 349,
     "metadata": {},
     "output_type": "execute_result"
    }
   ],
   "source": [
    "solution(scoville, K)"
   ]
  },
  {
   "cell_type": "code",
   "execution_count": 275,
   "metadata": {},
   "outputs": [
    {
     "name": "stdout",
     "output_type": "stream",
     "text": [
      "[9, 10, 12, 13]\n"
     ]
    }
   ],
   "source": [
    "a = [i for i in scoville if i >= k]\n",
    "print(a)\n"
   ]
  },
  {
   "cell_type": "markdown",
   "metadata": {},
   "source": [
    "### 정답"
   ]
  },
  {
   "cell_type": "code",
   "execution_count": 350,
   "metadata": {},
   "outputs": [],
   "source": [
    "import heapq\n",
    "\n",
    "# 도저히 정답이 안되서 찾아보니 heap을 사용해야 풀 수 있는 문제 \n",
    "def solution(scoville, K):\n",
    "    answer = 0\n",
    "    heapq.heapify(scoville) \n",
    "    # 힙으로 변환 \n",
    "    \n",
    "    while scoville[0] < K and len(scoville) >= 2:\n",
    "        # 파이썬에서 힙은 최소힙이므로 힙의 첫번째 값이 조건을 K보다 작다면 반복을 진행함 \n",
    "            answer += 1\n",
    "            new = heapq.heappop(scoville)+ heapq.heappop(scoville) *2\n",
    "            # 문제에 정의한 규칙 \n",
    "\n",
    "            heapq.heappush(scoville, new)\n",
    "            # 다시 힙에 넣어줌 \n",
    "            # 힙을 이용해서 진행하면 끝남 \n",
    "\n",
    "    if scoville[0] < K:\n",
    "        return -1\n",
    "    # while을 거치지 않은 힙은 길이가 2이하 이고 첫번째 값이 K보다 작으면 문제에 정의한 규칙을 사용할 수 없으므로 -1 리턴 \n",
    "    return answer\n"
   ]
  },
  {
   "cell_type": "markdown",
   "metadata": {},
   "source": [
    "### 표준답안 "
   ]
  },
  {
   "cell_type": "code",
   "execution_count": null,
   "metadata": {},
   "outputs": [],
   "source": [
    "from heapq import heapify, heappush, heappop \n",
    "\n",
    "def solution(scoville, K):\n",
    "    heapify(scoville)\n",
    "    count = 0 \n",
    "\n",
    "    while scoville[0] < K:\n",
    "        try:\n",
    "            heappush(scoville, heappop(scoville) + heappop(scoville)*2)\n",
    "            # pop을 하게 되면 현재 heap에서 가장 작은 수가 나옴 \n",
    "        except:\n",
    "            return -1 \n",
    "        count += 1 \n",
    "        \n",
    "    return count "
   ]
  },
  {
   "cell_type": "markdown",
   "metadata": {},
   "source": [
    "## 배상 비용 최소화 \n",
    "- 문제 설명\n",
    "    - OO 조선소에서는 태풍으로 인한 작업지연으로 수주한 선박들을 기한 내에 완성하지 못할 것이 예상됩니다. 기한 내에 완성하지 못하면 손해 배상을 해야 하므로 남은 일의 작업량을 숫자로 매기고 배상비용을 최소화하는 방법을 찾으려고 합니다.\n",
    "    - 배상 비용은 각 선박의 완성까지 남은 일의 작업량을 제곱하여 모두 더한 값이 됩니다.\n",
    "\n",
    "    - 조선소에서는 1시간 동안 남은 일 중 하나를 골라 작업량 1만큼 처리할 수 있습니다. 조선소에서 작업할 수 있는 N 시간과 각 일에 대한 작업량이 담긴 배열(works)이 있을 때 배상 비용을 최소화한 결과를 반환하는 함수를 만들어 주세요. 예를 들어, N=4일 때, 선박별로 남은 일의 작업량이 works = [4, 3, 3]이라면 배상 비용을 최소화하기 위해 일을 한 결과는 [2, 2, 2]가 되고 배상 비용은 22 + 22 + 22 = 12가 되어 12를 반환해 줍니다.\n",
    "\n",
    "- 제한사항\n",
    "    - 일할 수 있는 시간 N : 1,000,000 이하의 자연수\n",
    "    - 배열 works의 크기 : 1,000 이하의 자연수\n",
    "    - 각 일에 대한 작업량 : 1,000 이하의 자연수\n",
    "\n",
    "<hr> \n",
    "\n",
    "- 입출력 예 설명\n",
    "    - 입출력 예 #1\n",
    "    - 문제의 예제와 같습니다.\n",
    "\n",
    "    - 입출력 예 #2\n",
    "    - 배상 비용을 최소화하기 위해 일을 한 결과는 [2, 2, 3]가 되고 배상 비용은 2 ** 2 + 2 ** 2 + 3 ** 2 = 17가 되어 17를 반환해 줍니다."
   ]
  },
  {
   "cell_type": "code",
   "execution_count": 375,
   "metadata": {},
   "outputs": [],
   "source": [
    "N = 4 \n",
    "works = [4, 3, 3]"
   ]
  },
  {
   "cell_type": "code",
   "execution_count": 376,
   "metadata": {},
   "outputs": [],
   "source": [
    "result = 0\n",
    "test = 0\n",
    "\n",
    "works.sort()\n",
    "if result > test:\n",
    "    result = test \n",
    "else:\n",
    "    while N > 0: \n",
    "        for i in range(len(works)):\n",
    "            if works[i] >= 3:\n",
    "                works[i] -= 1 \n",
    "                N-=1\n",
    "\n",
    "\n",
    "    for i in works:\n",
    "        result += i ** i \n",
    "    \n"
   ]
  },
  {
   "cell_type": "code",
   "execution_count": 377,
   "metadata": {},
   "outputs": [
    {
     "data": {
      "text/plain": [
       "[2, 2, 2]"
      ]
     },
     "execution_count": 377,
     "metadata": {},
     "output_type": "execute_result"
    }
   ],
   "source": [
    "works"
   ]
  },
  {
   "cell_type": "code",
   "execution_count": 379,
   "metadata": {},
   "outputs": [
    {
     "data": {
      "text/plain": [
       "12"
      ]
     },
     "execution_count": 379,
     "metadata": {},
     "output_type": "execute_result"
    }
   ],
   "source": [
    "result"
   ]
  },
  {
   "cell_type": "code",
   "execution_count": 455,
   "metadata": {},
   "outputs": [],
   "source": [
    "def solution(no, works):\n",
    "    result = 0\n",
    "\n",
    "\n",
    "    while no > 0: \n",
    "\n",
    "\n",
    "        for idx, n in enumerate(works):\n",
    "            maxW = max(works)\n",
    "            \n",
    "            if maxW == n:\n",
    "                if works[idx] > 0:\n",
    "                    works[idx] = n -1 \n",
    "                    no -= 1 \n",
    "                else:\n",
    "                    break \n",
    "            if no == 0:\n",
    "                break \n",
    "\n",
    "\n",
    "    for j in works:\n",
    "        result += j ** 2\n",
    "\n",
    "    return result\n",
    "# 이거 아님 시간초과 뜸 ... "
   ]
  },
  {
   "cell_type": "code",
   "execution_count": 456,
   "metadata": {},
   "outputs": [
    {
     "data": {
      "text/plain": [
       "12"
      ]
     },
     "execution_count": 456,
     "metadata": {},
     "output_type": "execute_result"
    }
   ],
   "source": [
    "works = [4,3,3]\n",
    "solution(4, works)"
   ]
  },
  {
   "cell_type": "markdown",
   "metadata": {},
   "source": [
    "### 참고 풀이"
   ]
  },
  {
   "cell_type": "code",
   "execution_count": 23,
   "metadata": {},
   "outputs": [
    {
     "name": "stdout",
     "output_type": "stream",
     "text": [
      "12\n"
     ]
    }
   ],
   "source": [
    "import heapq\n",
    "\n",
    "N = 4 \n",
    "works = [4, 3, 3]\n",
    "\n",
    "heap_works = [(-i, i) for i in works]\n",
    "# 파이썬은 heappop을 하게 되면 최소값이 나오게 되는데 나는 최대값을 뽑아서 연산을 진행해야하기 때문에 -붙여서 진행하고 [1]로 추출하면 됨 \n",
    "heapq.heapify(heap_works)\n",
    "# print(heap_works)\n",
    "\n",
    "\n",
    "for i in range(N):\n",
    "    heap = heapq.heappop(heap_works)[1]\n",
    "    # 최소값을 뽑는 heappop의 특징을 활용해서 최대값을 뽑아주고 그것을 연산 진행 \n",
    "    # print(heap)\n",
    "    heap_pop = heap -1\n",
    "    heapq.heappush(heap_works, (-heap_pop, heap_pop))\n",
    "# 이렇게 하게 되면 문제의 쟁점인 최대값을 계속 줄여줄 수 있음 \n",
    "\n",
    "answer = 0 \n",
    "for i in heap_works:\n",
    "    answer += (i[1] ** 2)\n",
    "print(answer)\n"
   ]
  },
  {
   "cell_type": "code",
   "execution_count": 31,
   "metadata": {},
   "outputs": [],
   "source": [
    "import heapq\n",
    "\n",
    "def solution(no, works):\n",
    "\n",
    "    if no > sum(works):\n",
    "        return 0 \n",
    "    # 남은 기간보다 합친 작업량이 작다면 배상을 할 필요가 없으므로 0을 리턴 \n",
    "\n",
    "    heap_works = [(-i, i) for i in works]\n",
    "    heapq.heapify(heap_works)\n",
    "    # heap으로 변환 \n",
    "\n",
    "\n",
    "    for j in range(no):\n",
    "        heap = heapq.heappop(heap_works)[1]\n",
    "        # 가장 작은 값을 pop함 우리는 만들 때 -를 붙여서 넣었으므로 heap이 최소값을 가지고 오지만 내가 가지고 오는건 최대값임 \n",
    "        heap_pop = heap - 1 \n",
    "        # 문제에 정의된 것에 따라 -1 연산 진행 \n",
    "        heapq.heappush(heap_works, (-heap_pop, heap_pop))\n",
    "        # 연산을 진행한 것을 다시 heap에 넣어줌 \n",
    "        # 위의 과정을 반복하면서 주어진 no만큼 계속 반복 진행 \n",
    "\n",
    "    result = [(i[1]**2) for i in heap_works]\n",
    "    # 제곱한 리스트 선언하면서 연산을 진행 \n",
    "    # 원래 얻고 싶은 값은 각 heap의 두번째 값이므로 [1]진행 \n",
    "    \n",
    "    # 해당 리스트를 sum함수를 이용해서 return \n",
    "    return sum(result)\n",
    "    # 이렇게 하면 2개가 틀림 \n",
    "    # 위에 초기 작업량과 남은 기간에 대한 조건을 작성하니깐 정답 처리 됨 "
   ]
  },
  {
   "cell_type": "code",
   "execution_count": 32,
   "metadata": {},
   "outputs": [
    {
     "data": {
      "text/plain": [
       "12"
      ]
     },
     "execution_count": 32,
     "metadata": {},
     "output_type": "execute_result"
    }
   ],
   "source": [
    "solution(4, [4, 3, 3])"
   ]
  },
  {
   "cell_type": "markdown",
   "metadata": {},
   "source": [
    "### 표준답안"
   ]
  },
  {
   "cell_type": "code",
   "execution_count": 2,
   "metadata": {},
   "outputs": [],
   "source": [
    "# 배상 비용을 최소화 하기 위해서는 각 값들을 최대한 비슷하게 만들어주는게 좋음\n",
    "def solution(no, works):\n",
    "\n",
    "    if sum(works) < no:\n",
    "        return 0 \n",
    "    # 작업량보다 남은 기간이 더 작다면 배상할 필요없음 \n",
    "\n",
    "    for _ in range(no):\n",
    "        works = sorted(works)\n",
    "        works[-1] -= 1 \n",
    "        # 계속 정렬을 해주면서 가장  큰 값을 찾아서 그것을 남은 no만큼 -1 해줌\n",
    "        \n",
    "    return sum(x ** 2 for x in works)"
   ]
  },
  {
   "cell_type": "code",
   "execution_count": null,
   "metadata": {},
   "outputs": [],
   "source": [
    "# 배상 비용을 최소화 하기 위해서는 각 값들을 최대한 비슷하게 만들어주는게 좋음\n",
    "from heapq import heappush, heappop, heapreplace \n",
    "def solution(no, works):\n",
    "\n",
    "    if sum(works) < no:\n",
    "        return 0 \n",
    "    # 작업량보다 남은 기간이 더 작다면 배상할 필요없음 \n",
    "\n",
    "    # maxheap을 사용하기 위해서는 음수로 값을 변환해줌 \n",
    "    works = [-i for i in works]\n",
    "    heapify(works)\n",
    "\n",
    "    for _ in range(no):\n",
    "        # heappush(works, heappop(works) + 1)\n",
    "        heapreplace(works, works[0] + 1)\n",
    "        # replace를 사용해도 됨\n",
    "\n",
    "\n",
    "    return sum(x ** 2 for x in works)\n",
    "# 이게 훨씬 빠름 \n",
    "# 우선순위가 높은 것을 찾는 것은 대부분 heap을 사용하면 됨"
   ]
  }
 ],
 "metadata": {
  "kernelspec": {
   "display_name": "Python 3.9.1 64-bit ('3.9.1')",
   "language": "python",
   "name": "python3"
  },
  "language_info": {
   "codemirror_mode": {
    "name": "ipython",
    "version": 3
   },
   "file_extension": ".py",
   "mimetype": "text/x-python",
   "name": "python",
   "nbconvert_exporter": "python",
   "pygments_lexer": "ipython3",
   "version": "3.9.1"
  },
  "orig_nbformat": 4,
  "vscode": {
   "interpreter": {
    "hash": "b29909ae39fc17549a84839997d927dda790dc9d9d25402f3e010c02e8c51a82"
   }
  }
 },
 "nbformat": 4,
 "nbformat_minor": 2
}
