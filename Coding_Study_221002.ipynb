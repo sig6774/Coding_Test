{
 "cells": [
  {
   "cell_type": "markdown",
   "metadata": {},
   "source": [
    "## 문자열 압축 사본\n",
    "- 문제 설명\n",
    "    - 데이터 처리 전문가가 되고 싶은 \"어피치\"는 문자열을 압축하는 방법에 대해 공부를 하고 있습니다. 최근에 대량의 데이터 처리를 위한 간단한 비손실 압축 방법에 대해 공부를 하고 있는데, 문자열에서 같은 값이 연속해서 나타나는 것을 그 문자의 개수와 반복되는 값으로 표현하여 더 짧은 문자열로 줄여서 표현하는 알고리즘을 공부하고 있습니다.\n",
    "    - 간단한 예로 \"aabbaccc\"의 경우 \"2a2ba3c\"(문자가 반복되지 않아 한번만 나타난 경우 1은 생략함)와 같이 표현할 수 있는데, 이러한 방식은 반복되는 문자가 적은 경우 압축률이 낮다는 단점이 있습니다. 예를 들면, \"abcabcdede\"와 같은 문자열은 전혀 압축되지 않습니다. \"어피치\"는 이러한 단점을 해결하기 위해 문자열을 1개 이상의 단위로 잘라서 압축하여 더 짧은 문자열로 표현할 수 있는지 방법을 찾아보려고 합니다.\n",
    "\n",
    "    - 예를 들어, \"ababcdcdababcdcd\"의 경우 문자를 1개 단위로 자르면 전혀 압축되지 않지만, 2개 단위로 잘라서 압축한다면 \"2ab2cd2ab2cd\"로 표현할 수 있습니다. 다른 방법으로 8개 단위로 잘라서 압축한다면 \"2ababcdcd\"로 표현할 수 있으며, 이때가 가장 짧게 압축하여 표현할 수 있는 방법입니다.\n",
    "\n",
    "    - 다른 예로, \"abcabcdede\"와 같은 경우, 문자를 2개 단위로 잘라서 압축하면 \"abcabc2de\"가 되지만, 3개 단위로 자른다면 \"2abcdede\"가 되어 3개 단위가 가장 짧은 압축 방법이 됩니다. 이때 3개 단위로 자르고 마지막에 남는 문자열은 그대로 붙여주면 됩니다.\n",
    "\n",
    "    - 압축할 문자열 s가 매개변수로 주어질 때, 위에 설명한 방법으로 1개 이상 단위로 문자열을 잘라 압축하여 표현한 문자열 중 가장 짧은 것의 길이를 return 하도록 solution 함수를 완성해주세요.\n",
    "\n",
    "<hr>\n",
    "\n",
    "- 입출력 예\n",
    "- s\tresult\n",
    "- \"aabbaccc\"\t7\n",
    "- \"ababcdcdababcdcd\"\t9\n",
    "- \"abcabcdede\"\t8\n",
    "- \"abcabcabcabcdededededede\"\t14\n",
    "- \"xababcdcdababcdcd\"\t17\n",
    "\n"
   ]
  },
  {
   "cell_type": "code",
   "execution_count": 1,
   "metadata": {},
   "outputs": [
    {
     "data": {
      "text/plain": [
       "'\\n1. aabbaccc -> aabba3c -> 7자리 \\n'"
      ]
     },
     "execution_count": 1,
     "metadata": {},
     "output_type": "execute_result"
    }
   ],
   "source": [
    "'''\n",
    "1. aabbaccc -> aabba3c -> 7자리 \n",
    "'''"
   ]
  },
  {
   "cell_type": "markdown",
   "metadata": {},
   "source": [
    "## 기능개발 \n",
    "\n",
    "- 문제 설명\n",
    "    - 프로그래머스 팀에서는 기능 개선 작업을 수행 중입니다. 각 기능은 진도가 100%일 때 서비스에 반영할 수 있습니다.\n",
    "\n",
    "    - 또, 각 기능의 개발속도는 모두 다르기 때문에 뒤에 있는 기능이 앞에 있는 기능보다 먼저 개발될 수 있고, 이때 뒤에 있는 기능은 앞에 있는 기능이 배포될 때 함께 배포됩니다.\n",
    "\n",
    "    - 먼저 배포되어야 하는 순서대로 작업의 진도가 적힌 정수 배열 progresses와 각 작업의 개발 속도가 적힌 정수 배열 speeds가 주어질 때 각 배포마다 몇 개의 기능이 배포되는지를 return 하도록 solution 함수를 완성하세요.\n",
    "\n",
    "-  제한 사항\n",
    "    - 작업의 개수(progresses, speeds배열의 길이)는 100개 이하입니다.\n",
    "    - 작업 진도는 100 미만의 자연수입니다.\n",
    "    - 작업 속도는 100 이하의 자연수입니다.\n",
    "    - 배포는 하루에 한 번만 할 수 있으며, 하루의 끝에 이루어진다고 가정합니다. 예를 들어 진도율이 95%인 작업의 개발 속도가 하루에 4%라면 배포는 2일 뒤에 이루어집니다.\n",
    "\n",
    "<hr>\n",
    "\n",
    "- 입출력 예\n",
    "    - progresses\tspeeds\treturn\n",
    "    - [93,30,55]\t[1,30,5]\t[2,1]\n",
    "\n",
    "- 입출력 예 설명\n",
    "    - 첫 번째 기능은 93% 완료되어 있고 하루에 1%씩 작업이 가능하므로 7일간 작업 후 배포가 가능합니다.\n",
    "    - 두 번째 기능은 30%가 완료되어 있고 하루에 30%씩 작업이 가능하므로 3일간 작업 후 배포가 가능합니다. 하지만 이전 첫 번째 기능이 아직 완성된 상태가 아니기 때문에 첫 번째 기능이 배포되는 7일째 배포됩니다.\n",
    "    - 세 번째 기능은 55%가 완료되어 있고 하루에 5%씩 작업이 가능하므로 9일간 작업 후 배포가 가능합니다.\n",
    "\n",
    "    - 따라서 7일째에 2개의 기능, 9일째에 1개의 기능이 배포됩니다."
   ]
  },
  {
   "cell_type": "code",
   "execution_count": 2,
   "metadata": {},
   "outputs": [
    {
     "data": {
      "text/plain": [
       "'\\nstack 사용해서 progress가 100이 되면 해당 값 스택에 넣어줌 근데 앞에 progress가 끝나지 않았으면 일단 넣어주기만 함 \\n앞에 progress가 끝났을 때 stack의 길이를 return리스트에 넣고 모두 pop 진행 \\n위의 과정을 progresses 리스트에 있는 모든 값이 다 완료될 때 까지 진행\\n'"
      ]
     },
     "execution_count": 2,
     "metadata": {},
     "output_type": "execute_result"
    }
   ],
   "source": [
    "'''\n",
    "stack 사용해서 progress가 100이 되면 해당 기간을 스택에 넣어줌 \n",
    "앞에 progress가 끝났을 때 stack의 길이를 return리스트에 넣고 모두 pop 진행 \n",
    "위의 과정을 progresses 리스트에 있는 모든 값이 다 완료될 때 까지 진행\n",
    "'''"
   ]
  },
  {
   "cell_type": "code",
   "execution_count": 58,
   "metadata": {},
   "outputs": [],
   "source": [
    "progresses = [93, 30, 55]\n",
    "speeds = [1, 30, 5]\n",
    "\n",
    "stack = [] "
   ]
  },
  {
   "cell_type": "code",
   "execution_count": 49,
   "metadata": {},
   "outputs": [
    {
     "ename": "KeyboardInterrupt",
     "evalue": "",
     "output_type": "error",
     "traceback": [
      "\u001b[0;31m---------------------------------------------------------------------------\u001b[0m",
      "\u001b[0;31mKeyboardInterrupt\u001b[0m                         Traceback (most recent call last)",
      "\u001b[1;32m/Users/sig6774/CodingTest/Coding_Study_221002.ipynb 셀 7\u001b[0m in \u001b[0;36m<cell line: 4>\u001b[0;34m()\u001b[0m\n\u001b[1;32m     <a href='vscode-notebook-cell:/Users/sig6774/CodingTest/Coding_Study_221002.ipynb#W6sZmlsZQ%3D%3D?line=9'>10</a>\u001b[0m \u001b[39mif\u001b[39;00m progresses[i] \u001b[39m>\u001b[39m\u001b[39m=\u001b[39m \u001b[39m100\u001b[39m:\n\u001b[1;32m     <a href='vscode-notebook-cell:/Users/sig6774/CodingTest/Coding_Study_221002.ipynb#W6sZmlsZQ%3D%3D?line=10'>11</a>\u001b[0m     cnt \u001b[39m+\u001b[39m\u001b[39m=\u001b[39m \u001b[39m1\u001b[39m \n\u001b[0;32m---> <a href='vscode-notebook-cell:/Users/sig6774/CodingTest/Coding_Study_221002.ipynb#W6sZmlsZQ%3D%3D?line=11'>12</a>\u001b[0m     stack\u001b[39m.\u001b[39;49mappend(cnt)\n\u001b[1;32m     <a href='vscode-notebook-cell:/Users/sig6774/CodingTest/Coding_Study_221002.ipynb#W6sZmlsZQ%3D%3D?line=12'>13</a>\u001b[0m     \u001b[39mcontinue\u001b[39;00m\n\u001b[1;32m     <a href='vscode-notebook-cell:/Users/sig6774/CodingTest/Coding_Study_221002.ipynb#W6sZmlsZQ%3D%3D?line=13'>14</a>\u001b[0m \u001b[39melse\u001b[39;00m:\n",
      "\u001b[0;31mKeyboardInterrupt\u001b[0m: "
     ]
    }
   ],
   "source": [
    "stack = []\n",
    "while True:\n",
    "\n",
    "    for k in progresses:\n",
    "        if k >= 100:\n",
    "            break \n",
    "\n",
    "    for i in range(len(progresses)):\n",
    "        cnt = 0 \n",
    "        if progresses[i] >= 100:\n",
    "            cnt += 1 \n",
    "            stack.push(cnt)\n",
    "            continue\n",
    "        else:\n",
    "            progresses[i] += speeds[i]\n",
    "    \n",
    "    # 종료조건이 뭘까?\n",
    "\n"
   ]
  },
  {
   "cell_type": "code",
   "execution_count": 221,
   "metadata": {},
   "outputs": [],
   "source": [
    "progresses = [93, 30, 55]\n",
    "speeds = [1, 30, 5]\n",
    "stack = []\n",
    "check = []"
   ]
  },
  {
   "cell_type": "code",
   "execution_count": 185,
   "metadata": {},
   "outputs": [
    {
     "name": "stdout",
     "output_type": "stream",
     "text": [
      "100\n",
      "120\n",
      "100\n"
     ]
    }
   ],
   "source": [
    "cnt = 0 \n",
    "\n",
    "while len(progresses) >= 1:\n",
    "\n",
    "        if progresses[0] >= 100:\n",
    "            print(progresses[0])\n",
    "            progresses.pop(0)\n",
    "            speeds.pop(0)\n",
    "            stack.append(cnt)\n",
    "            cnt = 0 \n",
    "            continue\n",
    "\n",
    "        else:\n",
    "            progresses[0] += speeds[0]\n",
    "            cnt += 1 \n",
    "    \n",
    "# 한개씩 비교하면서 조건에 맞다면 pop을 진행\n",
    "\n"
   ]
  },
  {
   "cell_type": "code",
   "execution_count": 204,
   "metadata": {},
   "outputs": [
    {
     "name": "stdout",
     "output_type": "stream",
     "text": [
      "[]\n",
      "[7, 3, 9]\n"
     ]
    }
   ],
   "source": [
    "print(progresses)\n",
    "print(stack)"
   ]
  },
  {
   "cell_type": "code",
   "execution_count": 216,
   "metadata": {},
   "outputs": [
    {
     "name": "stdout",
     "output_type": "stream",
     "text": [
      "1\n",
      "[2, 1]\n"
     ]
    }
   ],
   "source": [
    "# 만약에 완료일자가 앞의 일자보다 작다면 작은 일자의 순서를 시작 인덱스에서 빼줌 \n",
    "answer = [] \n",
    "idx = 0 \n",
    "for i in range(len(stack)):\n",
    "\n",
    "    if stack[i] < stack[idx]:\n",
    "        idx = i\n",
    "        answer.append(len(stack[:idx+1]))\n",
    "        print(idx)\n",
    "\n",
    "answer.append(len(stack[idx+1:len(stack)]))\n",
    "\n",
    "print(answer)"
   ]
  },
  {
   "cell_type": "markdown",
   "metadata": {},
   "source": [
    "### 해결"
   ]
  },
  {
   "cell_type": "code",
   "execution_count": 230,
   "metadata": {},
   "outputs": [],
   "source": [
    "def solution(progresses, speeds):\n",
    "    answer = []\n",
    "    stack = [] \n",
    "\n",
    "    cnt = 0 \n",
    "\n",
    "    while len(progresses) >= 1:\n",
    "\n",
    "        if progresses[0] >= 100:\n",
    "            # print(progresses[0])\n",
    "            progresses.pop(0)\n",
    "            speeds.pop(0)\n",
    "            stack.append(cnt)\n",
    "            cnt = 0 \n",
    "\n",
    "        else:\n",
    "            progresses[0] += speeds[0]\n",
    "            cnt += 1 \n",
    "    \n",
    "    # 한개씩 비교하면서 조건에 맞다면 pop을 진행\n",
    "\n",
    "    idx = 0 \n",
    "\n",
    "\n",
    "\n",
    "    # 만약에 완료일자가 앞의 일자보다 작다면 그 순서를 알려줘야하기 때문에 뺄셈연산 진행 \n",
    "    for i in range(len(stack)) :\n",
    "        if stack[idx] < stack[i] :    \n",
    "            answer.append(i - idx)    \n",
    "            idx = i                   \n",
    "            \n",
    "    answer.append(len(stack) - idx) \n",
    "\n",
    "    \n",
    "    return answer"
   ]
  },
  {
   "cell_type": "code",
   "execution_count": 233,
   "metadata": {},
   "outputs": [],
   "source": [
    "progresses = [93, 30, 55]\n",
    "speeds = [1, 30, 5]"
   ]
  },
  {
   "cell_type": "code",
   "execution_count": 234,
   "metadata": {},
   "outputs": [
    {
     "data": {
      "text/plain": [
       "[2, 1]"
      ]
     },
     "execution_count": 234,
     "metadata": {},
     "output_type": "execute_result"
    }
   ],
   "source": [
    "solution(progresses, speeds)"
   ]
  },
  {
   "cell_type": "markdown",
   "metadata": {},
   "source": [
    "## 더 맵게 \n",
    "- 문제 설명\n",
    "    - 매운 것을 좋아하는 Leo는 모든 음식의 스코빌 지수를 K 이상으로 만들고 싶습니다. 모든 음식의 스코빌 지수를 K 이상으로 만들기 위해 Leo는 스코빌 지수가 가장 낮은 두 개의 음식을 아래와 같이 특별한 방법으로 섞어 새로운 음식을 만듭니다.\n",
    "\n",
    "    - 섞은 음식의 스코빌 지수 = 가장 맵지 않은 음식의 스코빌 지수 + (두 번째로 맵지 않은 음식의 스코빌 지수 * 2)\n",
    "    - Leo는 모든 음식의 스코빌 지수가 K 이상이 될 때까지 반복하여 섞습니다.\n",
    "    - Leo가 가진 음식의 스코빌 지수를 담은 배열 scoville과 원하는 스코빌 지수 K가 주어질 때, 모든 음식의 스코빌 지수를 K 이상으로 만들기 위해 섞어야 하는 최소 횟수를 return 하도록 solution 함수를 작성해주세요.\n",
    "\n",
    "<hr>    \n",
    "\n",
    "- 입출력 예\n",
    "    - scoville\tK\treturn\n",
    "    - [1, 2, 3, 9, 10, 12]\t7\t2\n",
    "\n",
    "- 입출력 예 설명\n",
    "    - 스코빌 지수가 1인 음식과 2인 음식을 섞으면 음식의 스코빌 지수가 아래와 같이 됩니다.\n",
    "    - 새로운 음식의 스코빌 지수 = 1 + (2 * 2) = 5\n",
    "    - 가진 음식의 스코빌 지수 = [5, 3, 9, 10, 12]\n",
    "\n",
    "    - 스코빌 지수가 3인 음식과 5인 음식을 섞으면 음식의 스코빌 지수가 아래와 같이 됩니다.\n",
    "    - 새로운 음식의 스코빌 지수 = 3 + (5 * 2) = 13\n",
    "    - 가진 음식의 스코빌 지수 = [13, 9, 10, 12]\n",
    "\n",
    "    - 모든 음식의 스코빌 지수가 7 이상이 되었고 이때 섞은 횟수는 2회입니다.\n",
    "\n"
   ]
  },
  {
   "cell_type": "code",
   "execution_count": 235,
   "metadata": {},
   "outputs": [
    {
     "data": {
      "text/plain": [
       "' \\n\\n정렬 후 가장 맵지 않은 것과 그 다음으로 맵지 않은 것 pop한 후 새로운 스코빌 지수 push 후 count \\n다시 정렬 후 위의 과정을 반복하고 해당 조건에 모두 맞다면 count \\n\\n'"
      ]
     },
     "execution_count": 235,
     "metadata": {},
     "output_type": "execute_result"
    }
   ],
   "source": [
    "''' \n",
    "\n",
    "정렬 후 가장 맵지 않은 것과 그 다음으로 맵지 않은 것 pop한 후 새로운 스코빌 지수 push 후 count \n",
    "다시 정렬 후 위의 과정을 반복하고 해당 조건에 모두 맞다면 count \n",
    "\n",
    "'''"
   ]
  },
  {
   "cell_type": "code",
   "execution_count": 277,
   "metadata": {},
   "outputs": [],
   "source": [
    "scoville = [1,2,3,9,10,12]\n",
    "\n",
    "k = 7 \n",
    "cnt = 0 "
   ]
  },
  {
   "cell_type": "code",
   "execution_count": 258,
   "metadata": {},
   "outputs": [
    {
     "name": "stdout",
     "output_type": "stream",
     "text": [
      "[3, 9, 10, 12, 5]\n"
     ]
    }
   ],
   "source": [
    "scoville.sort()\n",
    "\n",
    "first = scoville.pop(0)\n",
    "second = scoville.pop(0)\n",
    "new = first + (second * 2) \n",
    "scoville.append(new)\n",
    "cnt += 1 \n",
    "\n",
    "\n",
    "print(scoville)"
   ]
  },
  {
   "cell_type": "code",
   "execution_count": 256,
   "metadata": {},
   "outputs": [
    {
     "name": "stdout",
     "output_type": "stream",
     "text": [
      "[9, 10, 12, 13]\n"
     ]
    }
   ],
   "source": [
    "a = [k for k in scoville if k >= 7]\n",
    "print(a)"
   ]
  },
  {
   "cell_type": "code",
   "execution_count": 259,
   "metadata": {},
   "outputs": [],
   "source": [
    "while True:\n",
    "    a = [k for k in scoville if k >= 7]\n",
    "    if len(a) == len(scoville):\n",
    "        break \n",
    "\n",
    "    scoville.sort() \n",
    "    first = scoville.pop(0)\n",
    "    second = scoville.pop(0)\n",
    "    new = first + (second * 2) \n",
    "    scoville.append(new)\n",
    "    cnt += 1 \n",
    "\n"
   ]
  },
  {
   "cell_type": "code",
   "execution_count": 347,
   "metadata": {},
   "outputs": [],
   "source": [
    "scoville = list(map(int, input().split()))\n",
    "# [1, 2, 3, 9, 10, 12]\n",
    "\n",
    "K = 7"
   ]
  },
  {
   "cell_type": "code",
   "execution_count": 348,
   "metadata": {},
   "outputs": [],
   "source": [
    "def solution(scoville, K):\n",
    "    answer = 0\n",
    "\n",
    "    while len(scoville) >= 2:\n",
    "        # 2개 이상 있어야 pop이 가능하기 때문에 \n",
    "\n",
    "        if sum(scoville) < K:\n",
    "            answer = -1 \n",
    "            break \n",
    "        # 다 합해도 K가 되지 않는다면 -1 조건을 맞출 수 없으므로 -1 \n",
    "\n",
    "        a = [i for i in scoville if i >= K]\n",
    "\n",
    "        if len(a) == len(scoville):\n",
    "            break \n",
    "        # 조건을 걸어둔 리스트와 scoville 리스트의 개수가 같다면 모두 K이상이므로 종료 \n",
    "\n",
    "        scoville.sort()\n",
    "        # 정렬 \n",
    "\n",
    "        first = scoville.pop(0)\n",
    "        # 가장 맵지 않은 것 \n",
    "\n",
    "        second = scoville.pop(0)\n",
    "        # 두번째로 맵지 않은 것 \n",
    "\n",
    "        new = first + (second * 2)\n",
    "        # 새롭게 만들어진 것 \n",
    "\n",
    "        scoville.append(new)\n",
    "\n",
    "        answer += 1 \n",
    "        # count \n",
    "    if len(scoville) < 2:\n",
    "        answer = -1\n",
    "\n",
    "    if answer >= 0:\n",
    "        return answer \n",
    "    else:\n",
    "        return -1 \n"
   ]
  },
  {
   "cell_type": "code",
   "execution_count": 349,
   "metadata": {},
   "outputs": [
    {
     "data": {
      "text/plain": [
       "-1"
      ]
     },
     "execution_count": 349,
     "metadata": {},
     "output_type": "execute_result"
    }
   ],
   "source": [
    "solution(scoville, K)"
   ]
  },
  {
   "cell_type": "code",
   "execution_count": 275,
   "metadata": {},
   "outputs": [
    {
     "name": "stdout",
     "output_type": "stream",
     "text": [
      "[9, 10, 12, 13]\n"
     ]
    }
   ],
   "source": [
    "a = [i for i in scoville if i >= k]\n",
    "print(a)\n"
   ]
  },
  {
   "cell_type": "markdown",
   "metadata": {},
   "source": [
    "### 정답"
   ]
  },
  {
   "cell_type": "code",
   "execution_count": 350,
   "metadata": {},
   "outputs": [],
   "source": [
    "import heapq\n",
    "\n",
    "# 도저히 정답이 안되서 찾아보니 heap을 사용해야 풀 수 있는 문제 \n",
    "def solution(scoville, K):\n",
    "    answer = 0\n",
    "    heapq.heapify(scoville) #list to heapq\n",
    "    \n",
    "    while scoville[0] < K and len(scoville) >= 2:\n",
    "            answer += 1\n",
    "            new = heapq.heappop(scoville)+ heapq.heappop(scoville) *2\n",
    "            heapq.heappush(scoville, new)\n",
    "            # 힙을 이용해서 진행하면 끝남 \n",
    "\n",
    "    if scoville[0] < K:\n",
    "        return -1\n",
    "    return answer\n"
   ]
  },
  {
   "cell_type": "code",
   "execution_count": null,
   "metadata": {},
   "outputs": [],
   "source": []
  }
 ],
 "metadata": {
  "kernelspec": {
   "display_name": "Python 3.9.1 64-bit ('3.9.1')",
   "language": "python",
   "name": "python3"
  },
  "language_info": {
   "codemirror_mode": {
    "name": "ipython",
    "version": 3
   },
   "file_extension": ".py",
   "mimetype": "text/x-python",
   "name": "python",
   "nbconvert_exporter": "python",
   "pygments_lexer": "ipython3",
   "version": "3.9.1"
  },
  "orig_nbformat": 4,
  "vscode": {
   "interpreter": {
    "hash": "b29909ae39fc17549a84839997d927dda790dc9d9d25402f3e010c02e8c51a82"
   }
  }
 },
 "nbformat": 4,
 "nbformat_minor": 2
}
