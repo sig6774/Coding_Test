{
 "cells": [
  {
   "cell_type": "markdown",
   "metadata": {},
   "source": [
    "## 교육과정 설계 \n",
    "- 현수는 1년 과정의 수업계획을 짜야 합니다.\n",
    "수업중에는 필수과목이 있습니다. 이 필수과목은 반드시 이수해야 하며, 그 순서도 정해져 있 습니다.\n",
    "- 만약 총 과목이 A, B, C, D, E, F, G가 있고, 여기서 필수과목이 CBA로 주어지면 필수과목은 C, B, A과목이며 이 순서대로 꼭 수업계획을 짜야 합니다.\n",
    "- 여기서 순서란 B과목은 C과목을 이수한 후에 들어야 하고, A과목은 C와 B를 이수한 후에 들 어야 한다는 것입니다.\n",
    "- 현수가 C, B, D, A, G, E로 수업계획을 짜면 제대로 된 설계이지만\n",
    "C, G, E, A, D, B 순서로 짰다면 잘 못 설계된 수업계획이 됩니다.\n",
    "수업계획은 그 순서대로 앞에 수업이 이수되면 다음 수업을 시작하다는 것으로 해석합니다. \n",
    "- 수업계획서상의 각 과목은 무조건 이수된다고 가정합니다.\n",
    "필수과목순서가 주어지면 현수가 짠 N개의 수업설계가 잘된 것이면 “YES\", 잘못된 것이면 ”NO“를 출력하는 프로그램을 작성하세요.\n",
    "\n",
    "<hr>\n",
    "\n",
    "- 첫 줄에 한 줄에 필수과목의 순서가 주어집니다. 모든 과목은 영문 대문자입니다.\n",
    "- 두 번째 줄에 N(1<=N<=10)이 주어집니다.\n",
    "- 세 번 째 줄부터 현수가 짠 N개의 수업설계가 주어집니다.(수업설계의 길이는 30이하이다) 수업설계는 같은 과목을 여러 번 이수하도록 설계해도 됩니다.\n",
    "\n",
    "- 수업설계가 잘된 것이면 “YES\", 잘못된 것이면 ”NO“를 출력합니다."
   ]
  },
  {
   "cell_type": "code",
   "execution_count": 1,
   "metadata": {},
   "outputs": [
    {
     "data": {
      "text/plain": [
       "'\\ncount함수를 통해 인덱스에 접근하는 방법으로 진행\\n반복문을 통해 값을 탐색하는데 필수과목이 들어있는 리스트의 값과 전체 과목의 값이 \\n같다면 count를 올려주고 count는 필수과목의 인덱스로 활용 \\n'"
      ]
     },
     "execution_count": 1,
     "metadata": {},
     "output_type": "execute_result"
    }
   ],
   "source": [
    "'''\n",
    "count함수를 통해 인덱스에 접근하는 방법으로 진행\n",
    "반복문을 통해 값을 탐색하는데 필수과목이 들어있는 리스트의 값과 전체 과목의 값이 \n",
    "같다면 count를 올려주고 count는 필수과목의 인덱스로 활용 \n",
    "'''"
   ]
  },
  {
   "cell_type": "code",
   "execution_count": 27,
   "metadata": {},
   "outputs": [
    {
     "name": "stdout",
     "output_type": "stream",
     "text": [
      "['C', 'B', 'A'] 3\n",
      "['C', 'B', 'D', 'A', 'G', 'E']\n",
      "YES\n",
      "['F', 'G', 'C', 'D', 'A', 'B']\n",
      "NO\n",
      "['C', 'T', 'S', 'B', 'D', 'E', 'A']\n",
      "YES\n"
     ]
    }
   ],
   "source": [
    "li = list(input())\n",
    "N = int(input())\n",
    "# 값 입력 \n",
    "print(li,N)\n",
    "\n",
    "for i in range(N):\n",
    "    l = list(input())\n",
    "    print(l)\n",
    "\n",
    "    count = 0 \n",
    "    for i in range(len(l)):\n",
    "\n",
    "        if l[i] == li[count]:\n",
    "            count += 1 \n",
    "            # 순서대로 맞는 값이 있다면 count를 증가시켜\n",
    "            # 과목의 값과 필수과목의 값이 같은지 \n",
    "            # 비교를 통해 필수과목 순서대로 진행하도록 작성 \n",
    "\n",
    "        if count == 3:\n",
    "            print(\"YES\")\n",
    "            break\n",
    "            # count가 3이라면 더이상 반복문을 돌 필요가 없으므로 break \n",
    "\n",
    "    if count != 3:\n",
    "        print(\"NO\")\n",
    "    # 3이 아니라면 순서대로 진행한 것이 아니므로 NO출력 \n",
    "# 맞는것 같은데...?    "
   ]
  },
  {
   "cell_type": "markdown",
   "metadata": {},
   "source": [
    "### 참고 풀이"
   ]
  },
  {
   "cell_type": "code",
   "execution_count": 28,
   "metadata": {},
   "outputs": [
    {
     "data": {
      "text/plain": [
       "'\\n필수과목을 담은 문자열 변수를 선언 \\n큐안에 필수과목을 넣음 \\nin을 사용해서 값이 있고 그 값이 과목의 값과 pop을 통해 빼서 값이 일치하는지 확인 \\n끝났을 때 큐안에 넣은 필수과목이 비어있으면 통과 \\n'"
      ]
     },
     "execution_count": 28,
     "metadata": {},
     "output_type": "execute_result"
    }
   ],
   "source": [
    "'''\n",
    "필수과목을 담은 문자열 변수를 선언 \n",
    "큐안에 필수과목을 넣음 \n",
    "in을 사용해서 값이 있고 그 값이 과목의 값과 pop을 통해 빼서 값이 일치하는지 확인 \n",
    "끝났을 때 큐안에 넣은 필수과목이 비어있으면 통과 \n",
    "'''"
   ]
  },
  {
   "cell_type": "code",
   "execution_count": 29,
   "metadata": {},
   "outputs": [
    {
     "name": "stdout",
     "output_type": "stream",
     "text": [
      "#1 YES\n",
      "#2 NO\n",
      "#3 YES\n"
     ]
    }
   ],
   "source": [
    "from collections import deque \n",
    "need = input()\n",
    "n = int(input())\n",
    "for i in range(n):\n",
    "    plan = input()\n",
    "\n",
    "    dq = deque(need)\n",
    "    # 큐로 초기화 \n",
    "\n",
    "    # 과목을 하나씩 불러오기 위해 사용 \n",
    "    for x in plan:\n",
    "        if x in dq:\n",
    "            if x != dq.popleft():\n",
    "                # 필수과목이 저장된 공간의 맨앞의 값과 과목의 값이 같지않다면 \n",
    "                # 그러면 순서에 맞지 않도록 과목이 설정되어 있다는 뜻 \n",
    "                print(\"#%d NO\" %(i+1))\n",
    "                break \n",
    "                # 더이상 반복문을 돌릴필요가 업음 \n",
    "    else:\n",
    "        # 순서는 통과됨 \n",
    "        if len(dq) == 0:\n",
    "            # 값이 없으면 순서대로 만들어진 것임 \n",
    "            print(\"#%d YES\" %(i+1))\n",
    "        else:\n",
    "            print(\"#%d NO\" %(i+1))\n",
    "\n",
    "# popleft를 통해서 진행"
   ]
  },
  {
   "cell_type": "markdown",
   "metadata": {},
   "source": [
    "### 단어 찾기 \n",
    "- 현수는 영어로 시는 쓰는 것을 좋아합니다.\n",
    "현수는 시를 쓰기 전에 시에 쓰일 단어를 미리 노트에 적어둡니다.\n",
    "- 이번에는 N개의 단어를 노트에 적었는데 시에 쓰지 않은 단어가 하나 있다고 합니다. 여러분이 찾아 주세요.\n",
    "\n",
    "<hr>\n",
    "\n",
    "- 첫 번째 줄에 자연수 N(3<=N<=100)이 주어진다.\n",
    "두 번째 줄부터 노트에 미리 적어놓은 N개의 단어가 주어지고, 이어 바로 다음 줄부터 시에 쓰인 N-1개의 단어가 주어진다."
   ]
  },
  {
   "cell_type": "code",
   "execution_count": 30,
   "metadata": {},
   "outputs": [
    {
     "data": {
      "text/plain": [
       "'\\n입력받은 N만큼 데이터를 자르고 나머지와 자른 데이터를 비교하면서 진행 \\n자른 데이터를 popleft한 값이 있다면 다음으로 가고 없다면 바로 그 값을 출력\\n'"
      ]
     },
     "execution_count": 30,
     "metadata": {},
     "output_type": "execute_result"
    }
   ],
   "source": [
    "'''\n",
    "입력받은 N만큼 데이터를 자르고 나머지와 자른 데이터를 비교하면서 진행 \n",
    "자른 데이터를 popleft한 값이 있다면 다음으로 가고 없다면 바로 그 값을 출력\n",
    "'''"
   ]
  },
  {
   "cell_type": "code",
   "execution_count": 34,
   "metadata": {},
   "outputs": [],
   "source": [
    "N = int(input())\n",
    "w = [] \n",
    "nw = [] \n",
    "for i in range(N):\n",
    "    w.append(input())\n",
    "for i in range(N-1):\n",
    "    nw.append(input())"
   ]
  },
  {
   "cell_type": "code",
   "execution_count": 54,
   "metadata": {},
   "outputs": [
    {
     "name": "stdout",
     "output_type": "stream",
     "text": [
      "deque(['big', 'good', 'sky', 'blue', 'mouse'])\n",
      "deque(['sky', 'good', 'mouse', 'big'])\n"
     ]
    }
   ],
   "source": [
    "from collections import deque \n",
    "w1 = deque(w)\n",
    "nw1 = deque(nw)\n",
    "print(w1)\n",
    "print(nw1)"
   ]
  },
  {
   "cell_type": "code",
   "execution_count": 55,
   "metadata": {},
   "outputs": [
    {
     "name": "stdout",
     "output_type": "stream",
     "text": [
      "blue\n"
     ]
    }
   ],
   "source": [
    "for i in range(len(w1)):\n",
    "    a = w1.popleft()\n",
    "    if a in nw1:\n",
    "        # popleft한 값이 나머지 저장한 곳에 있으면 pass \n",
    "        pass \n",
    "    else:\n",
    "        print(a)\n",
    "    # else는 나머지 저장한 곳에 없다는 뜻이므로 출력 \n",
    "            \n",
    "# 맞는것 같은데?"
   ]
  },
  {
   "cell_type": "markdown",
   "metadata": {},
   "source": [
    "### 참고 풀이"
   ]
  },
  {
   "cell_type": "code",
   "execution_count": 57,
   "metadata": {},
   "outputs": [
    {
     "name": "stdout",
     "output_type": "stream",
     "text": [
      "{'big': 0, 'good': 0, 'sky': 0, 'blue': 1, 'mouse': 0}\n"
     ]
    }
   ],
   "source": [
    "n = int(input())\n",
    "p = dict()\n",
    "# dictionary를 통해 진행하면 쉽게 풀 수 있음 \n",
    "\n",
    "# 미리 입력한 단어 \n",
    "for i in range(n):\n",
    "    word = input()\n",
    "    p[word] = 1 \n",
    "\n",
    "# 실제 시에 쓰인 단어 \n",
    "for i in range(n-1):\n",
    "    word = input()\n",
    "    p[word] = 0 \n",
    "\n",
    "print(p)"
   ]
  },
  {
   "cell_type": "code",
   "execution_count": 60,
   "metadata": {},
   "outputs": [
    {
     "name": "stdout",
     "output_type": "stream",
     "text": [
      "blue\n"
     ]
    }
   ],
   "source": [
    "for key, val in p.items():\n",
    "\n",
    "    if val == 1:\n",
    "        # val이 1이라면 시에 사용되지 않았다는 뜻이므로 그때 값을 출력 \n",
    "        print(key)\n",
    "        break "
   ]
  },
  {
   "cell_type": "markdown",
   "metadata": {},
   "source": [
    "## Anagram \n",
    "- Anagram이란 두 문자열이 알파벳의 나열 순서를 다르지만 그 구성이 일치하면 두 단어는 아 나그램이라고 합니다.\n",
    "- 예를 들면 AbaAeCe 와 baeeACA 는 알파벳을 나열 순서는 다르지만 그 구성을 살펴보면 A(2), a(1), b(1), C(1), e(2)로 알파벳과 그 개수가 모두 일치합니다. \n",
    "- 즉 어느 한 단어를 재 배열하면 상대편 단어가 될 수 있는 것을 아나그램이라 합니다.\n",
    "- 길이가 같은 두 개의 단어가 주어지면 두 단어가 아나그램인지 판별하는 프로그램을 작성하세 요. 아나그램 판별시 대소문자가 구분됩니다.\n",
    "\n",
    "<hr>\n",
    "\n",
    "- 첫 줄에 첫 번째 단어가 입력되고, 두 번째 줄에 두 번째 단어가 입력됩니다. 단어의 길이는 100을 넘지 않습니다.\n",
    "- 두 단어가 아나그램이면 “YES\"를 출력하고, 아니면 ”NO\"를 출력합니다."
   ]
  },
  {
   "cell_type": "code",
   "execution_count": null,
   "metadata": {},
   "outputs": [],
   "source": [
    "'''\n",
    "dictionary로 key,value를 사용해서 풀면 될 것 같은데?\n",
    "'''"
   ]
  },
  {
   "cell_type": "code",
   "execution_count": 61,
   "metadata": {},
   "outputs": [],
   "source": [
    "n = input()\n",
    "m = input()"
   ]
  },
  {
   "cell_type": "code",
   "execution_count": 62,
   "metadata": {},
   "outputs": [
    {
     "name": "stdout",
     "output_type": "stream",
     "text": [
      "AbaAeCe baeeACA\n"
     ]
    }
   ],
   "source": [
    "print(n,m)"
   ]
  },
  {
   "cell_type": "code",
   "execution_count": 76,
   "metadata": {},
   "outputs": [
    {
     "name": "stdout",
     "output_type": "stream",
     "text": [
      "{'A': 0, 'b': 0, 'a': 0, 'e': 0, 'C': 0}\n"
     ]
    }
   ],
   "source": [
    "d = dict()\n",
    "\n",
    "for i in range(len(n)):\n",
    "    d[n[i]] = 0\n",
    "print(d)\n",
    "\n"
   ]
  },
  {
   "cell_type": "code",
   "execution_count": 81,
   "metadata": {},
   "outputs": [
    {
     "data": {
      "text/plain": [
       "dict_values([0, 0, 0, 0, 0])"
      ]
     },
     "execution_count": 81,
     "metadata": {},
     "output_type": "execute_result"
    }
   ],
   "source": [
    "d.values()"
   ]
  },
  {
   "cell_type": "code",
   "execution_count": 89,
   "metadata": {},
   "outputs": [
    {
     "data": {
      "text/plain": [
       "dict_keys(['A', 'b', 'a', 'e', 'C'])"
      ]
     },
     "execution_count": 89,
     "metadata": {},
     "output_type": "execute_result"
    }
   ],
   "source": [
    "d.keys()"
   ]
  },
  {
   "cell_type": "code",
   "execution_count": 91,
   "metadata": {},
   "outputs": [],
   "source": [
    "for i in n:\n",
    "    for j in d.keys():\n",
    "        if i == j:\n",
    "            d[i] += 1 "
   ]
  },
  {
   "cell_type": "code",
   "execution_count": 92,
   "metadata": {},
   "outputs": [
    {
     "name": "stdout",
     "output_type": "stream",
     "text": [
      "{'A': 2, 'b': 1, 'a': 1, 'e': 2, 'C': 1}\n"
     ]
    }
   ],
   "source": [
    "print(d)"
   ]
  },
  {
   "cell_type": "code",
   "execution_count": 94,
   "metadata": {},
   "outputs": [
    {
     "name": "stdout",
     "output_type": "stream",
     "text": [
      "{'A': 2, 'b': 1, 'a': 1, 'e': 2, 'C': 1}\n",
      "{'b': 1, 'a': 1, 'e': 2, 'A': 2, 'C': 1}\n"
     ]
    }
   ],
   "source": [
    "d = dict()\n",
    "\n",
    "for i in range(len(n)):\n",
    "    d[n[i]] = 0\n",
    "for i in n:\n",
    "    for j in d.keys():\n",
    "        if i == j:\n",
    "            d[i] += 1 \n",
    "# 하나의 입력사항에 대해 요소와 등장 횟수 만듬 \n",
    "\n",
    "e = dict()\n",
    "\n",
    "for i in range(len(m)):\n",
    "    e[m[i]] = 0\n",
    "for i in m:\n",
    "    for j in e.keys():\n",
    "        if i == j:\n",
    "            e[i] += 1 \n",
    "print(d)\n",
    "print(e)"
   ]
  },
  {
   "cell_type": "code",
   "execution_count": 98,
   "metadata": {},
   "outputs": [
    {
     "name": "stdout",
     "output_type": "stream",
     "text": [
      "YES\n"
     ]
    }
   ],
   "source": [
    "count = 0 \n",
    "for key, val in d.items():\n",
    "    for key1, val1 in e.items():\n",
    "        if key == key1 and val == val1:\n",
    "            count += 1 \n",
    "        # 각각 만든 dict값이 같은게 있으면 count 진행 \n",
    "\n",
    "if len(d) == count:\n",
    "    # dict길이와 count가 같다면 모두 같다는 의미이므로 YES 출력 \n",
    "    print(\"YES\")\n",
    "else:\n",
    "    print(\"NO\")\n",
    "# 맞는것 같은데...?"
   ]
  },
  {
   "cell_type": "markdown",
   "metadata": {},
   "source": [
    "### 참고 풀이"
   ]
  },
  {
   "cell_type": "code",
   "execution_count": 99,
   "metadata": {},
   "outputs": [
    {
     "data": {
      "text/plain": [
       "'\\n각각 입력받은 문자를 counting할 dictionary를 만들어줌 \\n만들어진 dict의 key와 value값이 같은지 비교하고 \\n모두 같다면 YES출력하고 하나라도 틀리면 NO 출력 \\n'"
      ]
     },
     "execution_count": 99,
     "metadata": {},
     "output_type": "execute_result"
    }
   ],
   "source": [
    "'''\n",
    "각각 입력받은 문자를 counting할 dictionary를 만들어줌 \n",
    "만들어진 dict의 key와 value값이 같은지 비교하고 \n",
    "모두 같다면 YES출력하고 하나라도 틀리면 NO 출력 \n",
    "'''"
   ]
  },
  {
   "cell_type": "code",
   "execution_count": 100,
   "metadata": {},
   "outputs": [
    {
     "name": "stdout",
     "output_type": "stream",
     "text": [
      "YES\n"
     ]
    }
   ],
   "source": [
    "a = input()\n",
    "b = input() \n",
    "\n",
    "str1 = dict()\n",
    "str2 = dict()\n",
    "\n",
    "for x in a:\n",
    "    str1[x] = str1.get(x, 0)+1\n",
    "    # 등장할 때 마다 1씩 증가 \n",
    "for x in b:\n",
    "    str2[x] = str2.get(x,0)+1\n",
    "    # 다른 dict에 저장 \n",
    "\n",
    "# 모두 작성했으니 이제 두개의 dict를 비교 \n",
    "\n",
    "for i in str1.keys():\n",
    "    if i in str2.keys(): \n",
    "        # str1의 key값이 str2의 key에 있어야 아나그램이므로 \n",
    "        if str1[i] != str2[i]:\n",
    "            # key는 같은데 value가 다르다면 아나르갬이 아님 \n",
    "            print(\"NO\")\n",
    "            break \n",
    "\n",
    "    else:\n",
    "        print(\"NO\")\n",
    "        break \n",
    "else:\n",
    "    # key와 value도 같다면 break 되지 않음 \n",
    "    print(\"YES\")"
   ]
  },
  {
   "cell_type": "code",
   "execution_count": null,
   "metadata": {},
   "outputs": [],
   "source": []
  }
 ],
 "metadata": {
  "kernelspec": {
   "display_name": "Python 3.9.12 ('base')",
   "language": "python",
   "name": "python3"
  },
  "language_info": {
   "codemirror_mode": {
    "name": "ipython",
    "version": 3
   },
   "file_extension": ".py",
   "mimetype": "text/x-python",
   "name": "python",
   "nbconvert_exporter": "python",
   "pygments_lexer": "ipython3",
   "version": "3.9.12"
  },
  "orig_nbformat": 4,
  "vscode": {
   "interpreter": {
    "hash": "4e56095587f6faaee8b6fe269bd4758f04d4dcfca17a97e0204e5c06e32115c1"
   }
  }
 },
 "nbformat": 4,
 "nbformat_minor": 2
}
