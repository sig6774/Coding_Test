{
 "cells": [
  {
   "cell_type": "markdown",
   "metadata": {},
   "source": [
    "## 동전 바꿔주기(DFS)\n",
    "- 명보네 동네 가게의 현금 출납기에는 k가지 동전이 각각n1, n2, ... , nk개 씩 들어있다.\n",
    "- 가게 주인은 명보에게 T원의 지폐를 동전으로 바꿔 주려고한다. 이때, 동전 교환 방법은 여러 가지가 있을 수 있다.예를 들어, 10원 짜리, 5원 짜리, 1원 짜리 동전이 각각2개, 3개, 5개씩 있을 때, 20원 짜리 지폐를 다음과 같은4가지 방법으로 교환할 수 있다.\n",
    "- 20 = 10×2\n",
    "- 20 = 10×1+5×2\n",
    "- 20 = 10×1+5×1+1×5\n",
    "- 20 = 5×3+1×5\n",
    "- 입력으로 지폐의 금액 T, 동전의 가지수 k, 각 동전 하나의금액 pi와 개수 ni가 주어질 때 (i=1,2,...,k)\n",
    "- 지폐를 동전으로 교환하는 방법의 가지 수를 계산하는프로그램을 작성하시오. 방법의 수는 231 을 초과하지않는 것으로 가정한다.\n",
    "\n",
    "<hr>\n",
    "\n",
    "- ▣ 입력설명\n",
    "    - 첫째 줄에는지폐의 금액 T(0<T≤10,000), 둘째 줄에는 동전의 가지 수k(0<k≤10), 셋째 줄부터 마지막 줄까지는 각 줄에 동전의금액 pi(0<pi≤T)와 개수 ni(0<ni≤10)가 주어진다. pi와 ni 사이 에는 빈 칸이 하나씩 있다.\n",
    "\n",
    "- ▣ 출력설명\n",
    "    - 첫 번째 줄에 동전 교환 방법의 가지 수를 출력한다.(교환할 수 없는 경우는 존재하지 않는 다.)"
   ]
  },
  {
   "cell_type": "code",
   "execution_count": 1,
   "metadata": {},
   "outputs": [
    {
     "data": {
      "text/plain": [
       "'\\n여러 동전을 사용할 지 말지를 판단하면서 입력받은 금액에 맞도록 진행 \\n만약 맞다면 count\\n'"
      ]
     },
     "execution_count": 1,
     "metadata": {},
     "output_type": "execute_result"
    }
   ],
   "source": [
    "'''\n",
    "여러 동전을 사용할 지 말지를 판단하면서 입력받은 금액에 맞도록 진행 \n",
    "만약 맞다면 count\n",
    "\n",
    "문제는 여러 동전이 한개씩 있는게 아니라 여러개씩 존재한다는 것 \n",
    "'''"
   ]
  },
  {
   "cell_type": "code",
   "execution_count": 34,
   "metadata": {},
   "outputs": [],
   "source": [
    "def DFS(L, s):\n",
    "    global cnt \n",
    "    print(s)\n",
    "    if s == T:\n",
    "        cnt += 1 \n",
    "\n",
    "    else:\n",
    "        if c[0] > 0:\n",
    "            c[0]-=1\n",
    "            DFS(L+1, s + v[0])\n",
    "\n",
    "        elif c[1] > 0:\n",
    "            c[1]-=1\n",
    "            DFS(L+1, s + v[1])\n",
    "\n",
    "        elif c[2] > 0:\n",
    "            c[2]-=1\n",
    "            DFS(L+1, s + v[2])\n",
    "# 이거 문제가 한 sector진행 후 c가 초기화 되어야 하는데 그걸 어떻게 해야할 지 모르겠음 ㅠㅠ"
   ]
  },
  {
   "cell_type": "code",
   "execution_count": 35,
   "metadata": {},
   "outputs": [],
   "source": [
    "T = 20 \n",
    "k = 3 \n",
    "v = [5, 10, 1]\n",
    "c = [3, 2, 5]\n",
    "s = 0 \n",
    "cnt = 0 "
   ]
  },
  {
   "cell_type": "code",
   "execution_count": 36,
   "metadata": {},
   "outputs": [
    {
     "data": {
      "text/plain": [
       "3"
      ]
     },
     "execution_count": 36,
     "metadata": {},
     "output_type": "execute_result"
    }
   ],
   "source": [
    "c[0]"
   ]
  },
  {
   "cell_type": "code",
   "execution_count": 37,
   "metadata": {},
   "outputs": [
    {
     "name": "stdout",
     "output_type": "stream",
     "text": [
      "0\n",
      "5\n",
      "10\n",
      "15\n",
      "25\n",
      "35\n",
      "36\n",
      "37\n",
      "38\n",
      "39\n",
      "40\n"
     ]
    }
   ],
   "source": [
    "DFS(0,0)"
   ]
  },
  {
   "cell_type": "code",
   "execution_count": 31,
   "metadata": {},
   "outputs": [
    {
     "name": "stdout",
     "output_type": "stream",
     "text": [
      "0\n"
     ]
    }
   ],
   "source": [
    "print(cnt)"
   ]
  },
  {
   "cell_type": "markdown",
   "metadata": {},
   "source": [
    "### 참고 풀이"
   ]
  },
  {
   "cell_type": "code",
   "execution_count": 41,
   "metadata": {},
   "outputs": [
    {
     "data": {
      "text/plain": [
       "'\\n만약 특정 동전이 3개이면 4개의 가지를 뻗음 (0개, 1개, 2개, 3개)\\n이런 방식으로 계속 가닥을 뻗어나가면 됨 \\n'"
      ]
     },
     "execution_count": 41,
     "metadata": {},
     "output_type": "execute_result"
    }
   ],
   "source": [
    "'''\n",
    "만약 특정 동전이 3개이면 4개의 가지를 뻗음 (0개, 1개, 2개, 3개)\n",
    "이런 방식으로 계속 가닥을 뻗어나가면서 특정 조건에 맞으면 count \n",
    "'''"
   ]
  },
  {
   "cell_type": "code",
   "execution_count": 45,
   "metadata": {},
   "outputs": [],
   "source": [
    "def DFS(L,sum):\n",
    "    global cnt \n",
    "\n",
    "    if sum > T:\n",
    "        return \n",
    "    \n",
    "    if L == k:\n",
    "        # 동전의 가지수가 같다면 \n",
    "\n",
    "        if sum == T:\n",
    "            # 합이 T라면 count\n",
    "            cnt += 1 \n",
    "\n",
    "    else:\n",
    "        for i in range(cn[L]+1):\n",
    "            # +1 한 이유는 사용하지 않을 때도 생각해야하기 때문 \n",
    "            DFS(L+1, sum+(cv[L]*i))\n",
    "            # 동전을 사용했을 때 \n",
    "            # 이렇게 하면 가지를 여러개 뻗을 수 있구나 \n"
   ]
  },
  {
   "cell_type": "code",
   "execution_count": 46,
   "metadata": {},
   "outputs": [
    {
     "name": "stdout",
     "output_type": "stream",
     "text": [
      "4\n"
     ]
    }
   ],
   "source": [
    "if __name__ == \"__main__\":\n",
    "    T = int(input())\n",
    "    k = int(input())\n",
    "    cv = list()\n",
    "    cn = list() \n",
    "    for i in range(k):\n",
    "        a, b = map(int, input().split())\n",
    "        cv.append(a)\n",
    "        # 동전 금액 \n",
    "        cn.append(b)\n",
    "        # 동전 개수 \n",
    "    cnt = 0 \n",
    "    DFS(0,0)\n",
    "    print(cnt)"
   ]
  },
  {
   "cell_type": "markdown",
   "metadata": {},
   "source": [
    "## 동전 분배하기(DFS)\n",
    "- N개의 동전을 A, B, C 세명에게 나누어 주려고 합니다.\n",
    "- 세 명에게 동전을 적절히 나누어 주어, 세 명이 받은 각각의 총액을 계산해, 총액이 가장 큰 사람과 가장 작은 사람의 차가 최소가 되도록 해보세요.\n",
    "- 단 세 사람의 총액은 서로 달라야 합니다.\n",
    "\n",
    "<hr>\n",
    "\n",
    "- ▣ 입력설명\n",
    "    - 첫째 줄에는 동전의 개수 N(3<=N<=12)이 주어집니다. 그 다음 N줄에 걸쳐 각 동전의 금액이 주어집니다.\n",
    "\n",
    "- ▣ 출력설명 \n",
    "    - 총액이 가장 큰 사람과 가장 작은 사람의 최소차를 출력하세요."
   ]
  },
  {
   "cell_type": "code",
   "execution_count": 59,
   "metadata": {},
   "outputs": [],
   "source": [
    "N = 7 \n",
    "li = [8,9,11,12,23,15,17]\n",
    "slc_Max = 0 \n",
    "slc_Min = 0 \n",
    "diff = []"
   ]
  },
  {
   "cell_type": "code",
   "execution_count": 63,
   "metadata": {},
   "outputs": [],
   "source": [
    "def DFS(L, sumA, sumB, sumC):\n",
    "    global slc_Max\n",
    "    global slc_Min\n",
    "    \n",
    "    if L == N:\n",
    "        if sumA > sumB:\n",
    "            if sumA > sumC:\n",
    "                slc_Max = sumA \n",
    "            elif sumB > sumC:\n",
    "                slc_Min = sumC\n",
    "            else:\n",
    "                slc_Min = sumB \n",
    "\n",
    "        elif sumC > sumB:\n",
    "            slc_Max = sumC \n",
    "            slc_Min = sumA \n",
    "        \n",
    "        else:\n",
    "            slc_Max = sumB\n",
    "\n",
    "        diff.append(slc_Max - slc_Min)\n",
    "        return \n",
    "\n",
    "        \n",
    "    else:\n",
    "        for i in li:\n",
    "            DFS(L+1, sumA+i, sumB, sumC)\n",
    "\n",
    "            DFS(L+1, sumA, sumB+i, sumC)\n",
    "\n",
    "            DFS(L+1, sumA, sumB, sumC+i)\n",
    "        \n",
    "        "
   ]
  },
  {
   "cell_type": "code",
   "execution_count": 64,
   "metadata": {},
   "outputs": [
    {
     "ename": "KeyboardInterrupt",
     "evalue": "",
     "output_type": "error",
     "traceback": [
      "\u001b[0;31m---------------------------------------------------------------------------\u001b[0m",
      "\u001b[0;31mKeyboardInterrupt\u001b[0m                         Traceback (most recent call last)",
      "\u001b[1;32m/Users/sig6774/CodingTest/Coding_Test_220916.ipynb 셀 15\u001b[0m in \u001b[0;36m<cell line: 1>\u001b[0;34m()\u001b[0m\n\u001b[0;32m----> <a href='vscode-notebook-cell:/Users/sig6774/CodingTest/Coding_Test_220916.ipynb#X32sZmlsZQ%3D%3D?line=0'>1</a>\u001b[0m DFS(\u001b[39m0\u001b[39;49m,\u001b[39m0\u001b[39;49m,\u001b[39m0\u001b[39;49m,\u001b[39m0\u001b[39;49m)\n",
      "\u001b[1;32m/Users/sig6774/CodingTest/Coding_Test_220916.ipynb 셀 15\u001b[0m in \u001b[0;36mDFS\u001b[0;34m(L, sumA, sumB, sumC)\u001b[0m\n\u001b[1;32m     <a href='vscode-notebook-cell:/Users/sig6774/CodingTest/Coding_Test_220916.ipynb#X32sZmlsZQ%3D%3D?line=24'>25</a>\u001b[0m \u001b[39melse\u001b[39;00m:\n\u001b[1;32m     <a href='vscode-notebook-cell:/Users/sig6774/CodingTest/Coding_Test_220916.ipynb#X32sZmlsZQ%3D%3D?line=25'>26</a>\u001b[0m     \u001b[39mfor\u001b[39;00m i \u001b[39min\u001b[39;00m li:\n\u001b[0;32m---> <a href='vscode-notebook-cell:/Users/sig6774/CodingTest/Coding_Test_220916.ipynb#X32sZmlsZQ%3D%3D?line=26'>27</a>\u001b[0m         DFS(L\u001b[39m+\u001b[39;49m\u001b[39m1\u001b[39;49m, sumA\u001b[39m+\u001b[39;49mi, sumB, sumC)\n\u001b[1;32m     <a href='vscode-notebook-cell:/Users/sig6774/CodingTest/Coding_Test_220916.ipynb#X32sZmlsZQ%3D%3D?line=28'>29</a>\u001b[0m         DFS(L\u001b[39m+\u001b[39m\u001b[39m1\u001b[39m, sumA, sumB\u001b[39m+\u001b[39mi, sumC)\n\u001b[1;32m     <a href='vscode-notebook-cell:/Users/sig6774/CodingTest/Coding_Test_220916.ipynb#X32sZmlsZQ%3D%3D?line=30'>31</a>\u001b[0m         DFS(L\u001b[39m+\u001b[39m\u001b[39m1\u001b[39m, sumA, sumB, sumC\u001b[39m+\u001b[39mi)\n",
      "\u001b[1;32m/Users/sig6774/CodingTest/Coding_Test_220916.ipynb 셀 15\u001b[0m in \u001b[0;36mDFS\u001b[0;34m(L, sumA, sumB, sumC)\u001b[0m\n\u001b[1;32m     <a href='vscode-notebook-cell:/Users/sig6774/CodingTest/Coding_Test_220916.ipynb#X32sZmlsZQ%3D%3D?line=25'>26</a>\u001b[0m \u001b[39mfor\u001b[39;00m i \u001b[39min\u001b[39;00m li:\n\u001b[1;32m     <a href='vscode-notebook-cell:/Users/sig6774/CodingTest/Coding_Test_220916.ipynb#X32sZmlsZQ%3D%3D?line=26'>27</a>\u001b[0m     DFS(L\u001b[39m+\u001b[39m\u001b[39m1\u001b[39m, sumA\u001b[39m+\u001b[39mi, sumB, sumC)\n\u001b[0;32m---> <a href='vscode-notebook-cell:/Users/sig6774/CodingTest/Coding_Test_220916.ipynb#X32sZmlsZQ%3D%3D?line=28'>29</a>\u001b[0m     DFS(L\u001b[39m+\u001b[39;49m\u001b[39m1\u001b[39;49m, sumA, sumB\u001b[39m+\u001b[39;49mi, sumC)\n\u001b[1;32m     <a href='vscode-notebook-cell:/Users/sig6774/CodingTest/Coding_Test_220916.ipynb#X32sZmlsZQ%3D%3D?line=30'>31</a>\u001b[0m     DFS(L\u001b[39m+\u001b[39m\u001b[39m1\u001b[39m, sumA, sumB, sumC\u001b[39m+\u001b[39mi)\n",
      "\u001b[1;32m/Users/sig6774/CodingTest/Coding_Test_220916.ipynb 셀 15\u001b[0m in \u001b[0;36mDFS\u001b[0;34m(L, sumA, sumB, sumC)\u001b[0m\n\u001b[1;32m     <a href='vscode-notebook-cell:/Users/sig6774/CodingTest/Coding_Test_220916.ipynb#X32sZmlsZQ%3D%3D?line=25'>26</a>\u001b[0m \u001b[39mfor\u001b[39;00m i \u001b[39min\u001b[39;00m li:\n\u001b[1;32m     <a href='vscode-notebook-cell:/Users/sig6774/CodingTest/Coding_Test_220916.ipynb#X32sZmlsZQ%3D%3D?line=26'>27</a>\u001b[0m     DFS(L\u001b[39m+\u001b[39m\u001b[39m1\u001b[39m, sumA\u001b[39m+\u001b[39mi, sumB, sumC)\n\u001b[0;32m---> <a href='vscode-notebook-cell:/Users/sig6774/CodingTest/Coding_Test_220916.ipynb#X32sZmlsZQ%3D%3D?line=28'>29</a>\u001b[0m     DFS(L\u001b[39m+\u001b[39;49m\u001b[39m1\u001b[39;49m, sumA, sumB\u001b[39m+\u001b[39;49mi, sumC)\n\u001b[1;32m     <a href='vscode-notebook-cell:/Users/sig6774/CodingTest/Coding_Test_220916.ipynb#X32sZmlsZQ%3D%3D?line=30'>31</a>\u001b[0m     DFS(L\u001b[39m+\u001b[39m\u001b[39m1\u001b[39m, sumA, sumB, sumC\u001b[39m+\u001b[39mi)\n",
      "\u001b[1;32m/Users/sig6774/CodingTest/Coding_Test_220916.ipynb 셀 15\u001b[0m in \u001b[0;36mDFS\u001b[0;34m(L, sumA, sumB, sumC)\u001b[0m\n\u001b[1;32m     <a href='vscode-notebook-cell:/Users/sig6774/CodingTest/Coding_Test_220916.ipynb#X32sZmlsZQ%3D%3D?line=24'>25</a>\u001b[0m \u001b[39melse\u001b[39;00m:\n\u001b[1;32m     <a href='vscode-notebook-cell:/Users/sig6774/CodingTest/Coding_Test_220916.ipynb#X32sZmlsZQ%3D%3D?line=25'>26</a>\u001b[0m     \u001b[39mfor\u001b[39;00m i \u001b[39min\u001b[39;00m li:\n\u001b[0;32m---> <a href='vscode-notebook-cell:/Users/sig6774/CodingTest/Coding_Test_220916.ipynb#X32sZmlsZQ%3D%3D?line=26'>27</a>\u001b[0m         DFS(L\u001b[39m+\u001b[39;49m\u001b[39m1\u001b[39;49m, sumA\u001b[39m+\u001b[39;49mi, sumB, sumC)\n\u001b[1;32m     <a href='vscode-notebook-cell:/Users/sig6774/CodingTest/Coding_Test_220916.ipynb#X32sZmlsZQ%3D%3D?line=28'>29</a>\u001b[0m         DFS(L\u001b[39m+\u001b[39m\u001b[39m1\u001b[39m, sumA, sumB\u001b[39m+\u001b[39mi, sumC)\n\u001b[1;32m     <a href='vscode-notebook-cell:/Users/sig6774/CodingTest/Coding_Test_220916.ipynb#X32sZmlsZQ%3D%3D?line=30'>31</a>\u001b[0m         DFS(L\u001b[39m+\u001b[39m\u001b[39m1\u001b[39m, sumA, sumB, sumC\u001b[39m+\u001b[39mi)\n",
      "\u001b[1;32m/Users/sig6774/CodingTest/Coding_Test_220916.ipynb 셀 15\u001b[0m in \u001b[0;36mDFS\u001b[0;34m(L, sumA, sumB, sumC)\u001b[0m\n\u001b[1;32m     <a href='vscode-notebook-cell:/Users/sig6774/CodingTest/Coding_Test_220916.ipynb#X32sZmlsZQ%3D%3D?line=25'>26</a>\u001b[0m \u001b[39mfor\u001b[39;00m i \u001b[39min\u001b[39;00m li:\n\u001b[1;32m     <a href='vscode-notebook-cell:/Users/sig6774/CodingTest/Coding_Test_220916.ipynb#X32sZmlsZQ%3D%3D?line=26'>27</a>\u001b[0m     DFS(L\u001b[39m+\u001b[39m\u001b[39m1\u001b[39m, sumA\u001b[39m+\u001b[39mi, sumB, sumC)\n\u001b[0;32m---> <a href='vscode-notebook-cell:/Users/sig6774/CodingTest/Coding_Test_220916.ipynb#X32sZmlsZQ%3D%3D?line=28'>29</a>\u001b[0m     DFS(L\u001b[39m+\u001b[39;49m\u001b[39m1\u001b[39;49m, sumA, sumB\u001b[39m+\u001b[39;49mi, sumC)\n\u001b[1;32m     <a href='vscode-notebook-cell:/Users/sig6774/CodingTest/Coding_Test_220916.ipynb#X32sZmlsZQ%3D%3D?line=30'>31</a>\u001b[0m     DFS(L\u001b[39m+\u001b[39m\u001b[39m1\u001b[39m, sumA, sumB, sumC\u001b[39m+\u001b[39mi)\n",
      "\u001b[1;32m/Users/sig6774/CodingTest/Coding_Test_220916.ipynb 셀 15\u001b[0m in \u001b[0;36mDFS\u001b[0;34m(L, sumA, sumB, sumC)\u001b[0m\n\u001b[1;32m     <a href='vscode-notebook-cell:/Users/sig6774/CodingTest/Coding_Test_220916.ipynb#X32sZmlsZQ%3D%3D?line=25'>26</a>\u001b[0m \u001b[39mfor\u001b[39;00m i \u001b[39min\u001b[39;00m li:\n\u001b[1;32m     <a href='vscode-notebook-cell:/Users/sig6774/CodingTest/Coding_Test_220916.ipynb#X32sZmlsZQ%3D%3D?line=26'>27</a>\u001b[0m     DFS(L\u001b[39m+\u001b[39m\u001b[39m1\u001b[39m, sumA\u001b[39m+\u001b[39mi, sumB, sumC)\n\u001b[0;32m---> <a href='vscode-notebook-cell:/Users/sig6774/CodingTest/Coding_Test_220916.ipynb#X32sZmlsZQ%3D%3D?line=28'>29</a>\u001b[0m     DFS(L\u001b[39m+\u001b[39;49m\u001b[39m1\u001b[39;49m, sumA, sumB\u001b[39m+\u001b[39;49mi, sumC)\n\u001b[1;32m     <a href='vscode-notebook-cell:/Users/sig6774/CodingTest/Coding_Test_220916.ipynb#X32sZmlsZQ%3D%3D?line=30'>31</a>\u001b[0m     DFS(L\u001b[39m+\u001b[39m\u001b[39m1\u001b[39m, sumA, sumB, sumC\u001b[39m+\u001b[39mi)\n",
      "\u001b[1;32m/Users/sig6774/CodingTest/Coding_Test_220916.ipynb 셀 15\u001b[0m in \u001b[0;36mDFS\u001b[0;34m(L, sumA, sumB, sumC)\u001b[0m\n\u001b[1;32m     <a href='vscode-notebook-cell:/Users/sig6774/CodingTest/Coding_Test_220916.ipynb#X32sZmlsZQ%3D%3D?line=25'>26</a>\u001b[0m \u001b[39mfor\u001b[39;00m i \u001b[39min\u001b[39;00m li:\n\u001b[1;32m     <a href='vscode-notebook-cell:/Users/sig6774/CodingTest/Coding_Test_220916.ipynb#X32sZmlsZQ%3D%3D?line=26'>27</a>\u001b[0m     DFS(L\u001b[39m+\u001b[39m\u001b[39m1\u001b[39m, sumA\u001b[39m+\u001b[39mi, sumB, sumC)\n\u001b[0;32m---> <a href='vscode-notebook-cell:/Users/sig6774/CodingTest/Coding_Test_220916.ipynb#X32sZmlsZQ%3D%3D?line=28'>29</a>\u001b[0m     DFS(L\u001b[39m+\u001b[39;49m\u001b[39m1\u001b[39;49m, sumA, sumB\u001b[39m+\u001b[39;49mi, sumC)\n\u001b[1;32m     <a href='vscode-notebook-cell:/Users/sig6774/CodingTest/Coding_Test_220916.ipynb#X32sZmlsZQ%3D%3D?line=30'>31</a>\u001b[0m     DFS(L\u001b[39m+\u001b[39m\u001b[39m1\u001b[39m, sumA, sumB, sumC\u001b[39m+\u001b[39mi)\n",
      "\u001b[1;32m/Users/sig6774/CodingTest/Coding_Test_220916.ipynb 셀 15\u001b[0m in \u001b[0;36mDFS\u001b[0;34m(L, sumA, sumB, sumC)\u001b[0m\n\u001b[1;32m     <a href='vscode-notebook-cell:/Users/sig6774/CodingTest/Coding_Test_220916.ipynb#X32sZmlsZQ%3D%3D?line=17'>18</a>\u001b[0m     \u001b[39melse\u001b[39;00m:\n\u001b[1;32m     <a href='vscode-notebook-cell:/Users/sig6774/CodingTest/Coding_Test_220916.ipynb#X32sZmlsZQ%3D%3D?line=18'>19</a>\u001b[0m         slc_Max \u001b[39m=\u001b[39m sumB\n\u001b[0;32m---> <a href='vscode-notebook-cell:/Users/sig6774/CodingTest/Coding_Test_220916.ipynb#X32sZmlsZQ%3D%3D?line=20'>21</a>\u001b[0m     diff\u001b[39m.\u001b[39;49mappend(slc_Max \u001b[39m-\u001b[39;49m slc_Min)\n\u001b[1;32m     <a href='vscode-notebook-cell:/Users/sig6774/CodingTest/Coding_Test_220916.ipynb#X32sZmlsZQ%3D%3D?line=21'>22</a>\u001b[0m     \u001b[39mreturn\u001b[39;00m \n\u001b[1;32m     <a href='vscode-notebook-cell:/Users/sig6774/CodingTest/Coding_Test_220916.ipynb#X32sZmlsZQ%3D%3D?line=24'>25</a>\u001b[0m \u001b[39melse\u001b[39;00m:\n",
      "\u001b[0;31mKeyboardInterrupt\u001b[0m: "
     ]
    }
   ],
   "source": [
    "DFS(0,0,0,0)"
   ]
  },
  {
   "cell_type": "code",
   "execution_count": 65,
   "metadata": {},
   "outputs": [
    {
     "data": {
      "text/plain": [
       "0"
      ]
     },
     "execution_count": 65,
     "metadata": {},
     "output_type": "execute_result"
    }
   ],
   "source": [
    "min(diff)\n",
    "# 안되네 ... \n",
    "# 이렇게 하는게 아닌가? "
   ]
  },
  {
   "cell_type": "markdown",
   "metadata": {},
   "source": [
    "### 참고 풀이"
   ]
  },
  {
   "cell_type": "code",
   "execution_count": 67,
   "metadata": {},
   "outputs": [
    {
     "data": {
      "text/plain": [
       "'\\nDFS는 상태트리를 잘 그리면 쉽기 때문에 상태트리를 잘 그려보자 \\n모든 동전마다 누구한테 줄 건지 선택 (3가지로)\\n'"
      ]
     },
     "execution_count": 67,
     "metadata": {},
     "output_type": "execute_result"
    }
   ],
   "source": [
    "'''\n",
    "DFS는 상태트리를 잘 그리면 쉽기 때문에 상태트리를 잘 그려보자 \n",
    "모든 동전마다 누구한테 줄 건지 선택 (3가지로)\n",
    "'''"
   ]
  },
  {
   "cell_type": "code",
   "execution_count": 71,
   "metadata": {},
   "outputs": [],
   "source": [
    "def DFS(L):\n",
    "    global res \n",
    "\n",
    "    if L == n:\n",
    "        diff = max(money) - min(money)\n",
    "        if diff < res:\n",
    "            tmp = set()\n",
    "            for x in money:\n",
    "                tmp.add(x)\n",
    "            if len(tmp) == 3:\n",
    "                res = diff \n",
    "\n",
    "\n",
    "    else:\n",
    "        for i in range(len(money)):\n",
    "            money[i] += coin[L]\n",
    "            # coin의 L번째 값을 money의 i에 넣어줌 \n",
    "            DFS(L+1)\n",
    "            # 뒤로 다시 값을 돌려줘야 모든 경우에서 사용할 수 있음 \n",
    "            money[i] -= coin[L]"
   ]
  },
  {
   "cell_type": "code",
   "execution_count": 72,
   "metadata": {},
   "outputs": [
    {
     "name": "stdout",
     "output_type": "stream",
     "text": [
      "5\n"
     ]
    }
   ],
   "source": [
    "if __name__ == \"__main__\":\n",
    "    n = int(input())\n",
    "    coin = [] \n",
    "    money = [0] * 3 \n",
    "    res = 214700000\n",
    "\n",
    "    for _ in range(n):\n",
    "        coin.append(int(input()))\n",
    "\n",
    "    DFS(0)\n",
    "    print(res)"
   ]
  },
  {
   "cell_type": "markdown",
   "metadata": {},
   "source": [
    "## 알파코드(DFS)\n",
    "- 철수와 영희는 서로의 비밀편지를 암호화해서 서로 주고받기로 했다. 그래서 서로 어떻게 암 호화를 할 것인지 의논을 하고 있다.\n",
    "- 영희 : 우리 알파벳 A에는 1로, B에는 2로 이렇게 해서 Z에는 26을 할당하여 번호로 보내기 로 하자.\n",
    "- 철수 : 정말 바보같은 생각이군!! 생각해 봐!! 만약 내가 “BEAN\"을 너에게 보낸다면 그것을 암 호화하면 25114이잖아!! 그러면 이것을 다시 알파벳으로 복원할 때는 많은 방법이 존재하는 데 어떻게 할건데... 이것을 알파벳으로 바꾸면 BEAAD, YAAD, YAN, YKD 그리고 BEKD로 BEAN말고도 5가지나 더 있군.\n",
    "- 당신은 위와 같은 영희의 방법으로 암호화된 코드가 주어지면 그것을 알파벳으로 복원하는데 얼마나 많은 방법인 있는지 구하세요.\n",
    "\n",
    "<hr>\n",
    "\n",
    "- ▣ 입력설명\n",
    "    - 첫 번째 줄에 숫자로 암호화된 코드가 입력된다. (코드는 0으로 시작하지는 않는다, 코드의 길 이는 최대 50이다) 0이 입력되면 입력종료를 의미한다.\n",
    "\n",
    "- ▣ 출력설명\n",
    "    - 입력된 코드를 알파벳으로 복원하는데 몇 가지의 방법이 있는지 각 경우를 출력한다. 그 가지 수도 출력한다. 단어의 출력은 사전순으로 출력한다.\n",
    "\n",
    "- ▣ 입력예제\n",
    "    - 25114\n",
    "\n",
    "- ▣ 출력예제\n",
    "    - BEAAD\n",
    "    - BEAN\n",
    "    - BEKD\n",
    "    - YAAD \n",
    "    - YAN \n",
    "    - YKD \n",
    "    - 6"
   ]
  },
  {
   "cell_type": "code",
   "execution_count": null,
   "metadata": {},
   "outputs": [],
   "source": [
    "# 감도 안잡히네 ㅠㅠ  "
   ]
  },
  {
   "cell_type": "markdown",
   "metadata": {},
   "source": [
    "### 참고 풀이"
   ]
  },
  {
   "cell_type": "code",
   "execution_count": 73,
   "metadata": {},
   "outputs": [
    {
     "data": {
      "text/plain": [
       "'\\n상태트리 \\n    25114를 리스트에 넣어줌 \\n    D(L, P) : 가짓 수와 자리 수 \\n    1~26(A~Z)까지의 가지를 뻗어나감 \\n'"
      ]
     },
     "execution_count": 73,
     "metadata": {},
     "output_type": "execute_result"
    }
   ],
   "source": [
    "'''\n",
    "상태트리 \n",
    "    25114를 리스트에 넣어줌 \n",
    "    D(L, P) : 가짓 수와 자리 수 \n",
    "    1~26(A~Z)까지의 가지를 뻗어나감 \n",
    "'''"
   ]
  },
  {
   "cell_type": "code",
   "execution_count": 79,
   "metadata": {},
   "outputs": [],
   "source": [
    "def DFS(L, p):\n",
    "    global cnt \n",
    "    if L == n:\n",
    "        cnt += 1 \n",
    "        for j in range(p):\n",
    "            # p는 인덱스 느낌 \n",
    "            print(chr(res[j]+64), end=\"\")\n",
    "            # 대문자로 변환하기 위해 +64사용 65부터 대문자임 \n",
    "        print()\n",
    "        \n",
    "    else:\n",
    "        for i in range(1, 27):\n",
    "            if code[L] == i:\n",
    "                res[p] = i\n",
    "                DFS(L+1, p+1)\n",
    "                # 한자리 숫자 일 때 \n",
    "\n",
    "            elif i >= 10 and code[L] == i // 10 and code[L+1] == i % 10:\n",
    "                res[p] = i \n",
    "                DFS(L+2, p+1)\n",
    "                # 두자리 숫자이면 +2해야함 \n",
    "\n"
   ]
  },
  {
   "cell_type": "code",
   "execution_count": 80,
   "metadata": {},
   "outputs": [
    {
     "name": "stdout",
     "output_type": "stream",
     "text": [
      "BEAAD\n",
      "BEAN\n",
      "BEKD\n",
      "YAAD\n",
      "YAN\n",
      "YKD\n",
      "6\n"
     ]
    }
   ],
   "source": [
    "if __name__ == \"__main__\":\n",
    "    code = list(map(int, input()))\n",
    "    n = len(code)\n",
    "    code.insert(n, -1)\n",
    "    # 만약 맨끝에 자리수를 판단할 때 두자리를 판단할려면 out of range가 되기 때문에 \n",
    "    # 에러가 나서 그냥 넣어줌 \n",
    "    res = [0] * (n+3)\n",
    "    cnt = 0 \n",
    "    DFS(0,0)\n",
    "    print(cnt)"
   ]
  },
  {
   "cell_type": "code",
   "execution_count": null,
   "metadata": {},
   "outputs": [],
   "source": []
  }
 ],
 "metadata": {
  "kernelspec": {
   "display_name": "Python 3.9.12 ('base')",
   "language": "python",
   "name": "python3"
  },
  "language_info": {
   "codemirror_mode": {
    "name": "ipython",
    "version": 3
   },
   "file_extension": ".py",
   "mimetype": "text/x-python",
   "name": "python",
   "nbconvert_exporter": "python",
   "pygments_lexer": "ipython3",
   "version": "3.9.12"
  },
  "orig_nbformat": 4,
  "vscode": {
   "interpreter": {
    "hash": "4e56095587f6faaee8b6fe269bd4758f04d4dcfca17a97e0204e5c06e32115c1"
   }
  }
 },
 "nbformat": 4,
 "nbformat_minor": 2
}
