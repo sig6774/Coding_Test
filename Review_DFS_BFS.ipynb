{
 "cells": [
  {
   "attachments": {},
   "cell_type": "markdown",
   "metadata": {},
   "source": [
    "## Stack \n",
    "- 먼저 들어온 데이터가 나중에 나가는 형식(선입후출)의 자료구조 \n",
    "    - 프링글스 과자통이라고 생각하면 될 듯?"
   ]
  },
  {
   "cell_type": "code",
   "execution_count": 1,
   "metadata": {},
   "outputs": [
    {
     "name": "stdout",
     "output_type": "stream",
     "text": [
      "[5, 2, 3, 1]\n"
     ]
    }
   ],
   "source": [
    "stack = [] \n",
    "# 삽입(5) -> 삽입(2) -> 삽입(3) -> 삽입(7) -> 삭제() -> 삽입(1) - 삽입(4) - 삭제()\n",
    "stack.append(5)\n",
    "stack.append(2)\n",
    "stack.append(3)\n",
    "stack.append(7)\n",
    "stack.pop()\n",
    "stack.append(1)\n",
    "stack.append(4)\n",
    "stack.pop()\n",
    "print(stack)"
   ]
  },
  {
   "attachments": {},
   "cell_type": "markdown",
   "metadata": {},
   "source": [
    "## Queue\n",
    "- 먼저 들어 온 데이터가 먼저 나가는 형식(선입선출)의 자료구조 \n",
    "    - 차례대로 들어온 데이터가 먼저 나감 \n",
    "    - 쉽게 생각하자면 왼쪽에서 데이터가 들어오고 오른쪽으로 데이터가 나감"
   ]
  },
  {
   "cell_type": "code",
   "execution_count": 2,
   "metadata": {},
   "outputs": [
    {
     "name": "stdout",
     "output_type": "stream",
     "text": [
      "deque([3, 7, 1, 4])\n"
     ]
    }
   ],
   "source": [
    "# 삽입(5) -> 삽입(2) -> 삽입(3) -> 삽입(7) -> 삭제() -> 삽입(1) - 삽입(4) - 삭제()\n",
    "from collections import deque\n",
    "\n",
    "queue = deque()\n",
    "\n",
    "queue.append(5)\n",
    "queue.append(2)\n",
    "queue.append(3)\n",
    "queue.append(7)\n",
    "queue.popleft()\n",
    "queue.append(1)\n",
    "queue.append(4)\n",
    "queue.popleft()\n",
    "print(queue)"
   ]
  },
  {
   "attachments": {},
   "cell_type": "markdown",
   "metadata": {},
   "source": [
    "## Recursive Function (재귀함수)\n",
    "- 자기 자신을 다시 호출하는 함수 \n",
    "    - 종료 조건을 반드시 명시해야 무한 Loop 방지 "
   ]
  },
  {
   "cell_type": "code",
   "execution_count": 4,
   "metadata": {},
   "outputs": [
    {
     "name": "stdout",
     "output_type": "stream",
     "text": [
      "1 번째 재귀함수에서  2 번째 재귀함수를 호출합니다.\n",
      "2 번째 재귀함수에서  3 번째 재귀함수를 호출합니다.\n",
      "3 번째 재귀함수에서  4 번째 재귀함수를 호출합니다.\n",
      "4 번째 재귀함수에서  5 번째 재귀함수를 호출합니다.\n",
      "5 번째 재귀함수에서  6 번째 재귀함수를 호출합니다.\n",
      "6 번째 재귀함수에서  7 번째 재귀함수를 호출합니다.\n",
      "7 번째 재귀함수에서  8 번째 재귀함수를 호출합니다.\n",
      "8 번째 재귀함수에서  9 번째 재귀함수를 호출합니다.\n",
      "9 번째 재귀함수에서  10 번째 재귀함수를 호출합니다.\n",
      "9 번째 재귀함수를 종료합니다.\n",
      "8 번째 재귀함수를 종료합니다.\n",
      "7 번째 재귀함수를 종료합니다.\n",
      "6 번째 재귀함수를 종료합니다.\n",
      "5 번째 재귀함수를 종료합니다.\n",
      "4 번째 재귀함수를 종료합니다.\n",
      "3 번째 재귀함수를 종료합니다.\n",
      "2 번째 재귀함수를 종료합니다.\n",
      "1 번째 재귀함수를 종료합니다.\n"
     ]
    }
   ],
   "source": [
    "def r_f(i):\n",
    "    if i == 10:\n",
    "        return \n",
    "    print(i, \"번째 재귀함수에서 \", i + 1, '번째 재귀함수를 호출합니다.')\n",
    "    r_f(i+1)\n",
    "    print(i, \"번째 재귀함수를 종료합니다.\")\n",
    "r_f(1)\n",
    "# 재귀 함수는 Stack처럼 해당 내용을 모두 불러온 후 (만약 print를 사용해서 확인을 한다면) 맨 마지막에 불러온 함수부터 차례대로 print되는 과정으로 진행\n",
    "# 즉, 일단 모두 불러온 후 종료조건을 만족하게 된다면 이후 저장된 값을 차례대로 끄집어 내는 과정 "
   ]
  },
  {
   "cell_type": "code",
   "execution_count": 16,
   "metadata": {},
   "outputs": [],
   "source": [
    "# factorial 구현 \n",
    "def fat(n):\n",
    "    if n == 1:\n",
    "        return 1\n",
    "    s = n * fat(n-1)\n",
    "    return s \n",
    "# if 조건을 만족하지 않기 때문에 s = n * fat(n-1)을 반복 \n",
    "    # n-1이 1이 될 때 까지 진행 한 후 1을 만나게 되었을 때 부터 연산 진행 \n",
    "        # 2*1(2 * fat(2-1)) -> 3*2*1 -> 4*3*2*1 -> 5*4*3*2*1"
   ]
  },
  {
   "cell_type": "code",
   "execution_count": 17,
   "metadata": {},
   "outputs": [
    {
     "data": {
      "text/plain": [
       "120"
      ]
     },
     "execution_count": 17,
     "metadata": {},
     "output_type": "execute_result"
    }
   ],
   "source": [
    "fat(5)"
   ]
  },
  {
   "attachments": {},
   "cell_type": "markdown",
   "metadata": {},
   "source": [
    "## DFS(Depth-Firsh Search)\n",
    "- 깊이 우선 탐색 \n",
    "- 스택 자료 구조를 이용\n",
    "    - 탐색 시작 노드를 스택에 삽입하고 방문 처리를 진행 \n",
    "    - 스택의 최상단 노드에 방문하지 않은 인접한 노드가 하나라도 있으면 그 노드를 스택에 넣고 방문 처리 \n",
    "        - 방문하지 않은 인접 노드가 없으면 스택에서 최상단 노드를 꺼냄 \n",
    "    - 더 이상 위의 과정을 수행할 수 없을 때까지 반복 "
   ]
  },
  {
   "cell_type": "code",
   "execution_count": 18,
   "metadata": {},
   "outputs": [],
   "source": [
    "graph = [\n",
    "    [],\n",
    "    [2,3,8],\n",
    "    [1,7],\n",
    "    [1,4,5],\n",
    "    [3,5],\n",
    "    [3,4],\n",
    "    [7],\n",
    "    [2,6,8],\n",
    "    [1,7]\n",
    "]\n",
    "visited = [False] * 9"
   ]
  },
  {
   "cell_type": "code",
   "execution_count": 21,
   "metadata": {},
   "outputs": [],
   "source": [
    "def dfs(g, v, visited):\n",
    "    visited[v] = True \n",
    "    print(v , end= \" \")\n",
    "\n",
    "    for i in g[v]:\n",
    "        if not visited[i]:\n",
    "            dfs(g, i, visited)"
   ]
  },
  {
   "cell_type": "code",
   "execution_count": 23,
   "metadata": {},
   "outputs": [
    {
     "name": "stdout",
     "output_type": "stream",
     "text": [
      "1 "
     ]
    },
    {
     "data": {
      "text/plain": [
       "'\\n    1번째 방문 완료 이후 Print\\n    1번째에 있는 [2,3,8]에서 방문을 하지 않을 곳이 있다면 방문을 진행하기 위해 재귀 진행 \\n        2번째인 [1,7]에서 7번을 방문하지 않았기 때문에 해당 7번 방문 진행하고 다시 돌아옴 위의 과정을 반복\\n'"
      ]
     },
     "execution_count": 23,
     "metadata": {},
     "output_type": "execute_result"
    }
   ],
   "source": [
    "dfs(graph, 1, visited)\n",
    "'''\n",
    "    1번째 방문 완료 이후 Print\n",
    "    1번째에 있는 [2,3,8]에서 방문을 하지 않을 곳이 있다면 방문을 진행하기 위해 재귀 진행 \n",
    "        2번째인 [1,7]에서 7번을 방문하지 않았기 때문에 해당 7번 방문 진행하고 다시 돌아옴 위의 과정을 반복\n",
    "'''"
   ]
  },
  {
   "cell_type": "code",
   "execution_count": null,
   "metadata": {},
   "outputs": [],
   "source": []
  }
 ],
 "metadata": {
  "kernelspec": {
   "display_name": "base",
   "language": "python",
   "name": "python3"
  },
  "language_info": {
   "codemirror_mode": {
    "name": "ipython",
    "version": 3
   },
   "file_extension": ".py",
   "mimetype": "text/x-python",
   "name": "python",
   "nbconvert_exporter": "python",
   "pygments_lexer": "ipython3",
   "version": "3.9.12"
  },
  "orig_nbformat": 4,
  "vscode": {
   "interpreter": {
    "hash": "4e56095587f6faaee8b6fe269bd4758f04d4dcfca17a97e0204e5c06e32115c1"
   }
  }
 },
 "nbformat": 4,
 "nbformat_minor": 2
}
