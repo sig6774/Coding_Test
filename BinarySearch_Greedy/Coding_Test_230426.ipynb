{
 "cells": [
  {
   "attachments": {},
   "cell_type": "markdown",
   "metadata": {},
   "source": [
    "## 이분탐색 \n",
    "- 임의의 N개의 숫자가 입력으로 주어집니다. N개의 수를 오름차순으로 정렬한 다음 N개의 수 중 한 개의 수인 M이 주어지면 이분검색으로 M이 정렬된 상태에서 몇 번째에 있는지 구하는 프로그램을 작성하세요. - 단 중복값은 존재하지 않습니다.\n",
    "- ▣ 입력설명\n",
    "    - 첫 줄에 한 줄에 자연수 N(3<=N<=1,000,000)과 M이 주어집니다. 두 번째 줄에 N개의 수가 공백을 사이에 두고 주어집니다.\n",
    "- ▣ 출력설명\n",
    "    - 첫 줄에 정렬 후 M의 값의 위치 번호를 출력한다.\n",
    "\n"
   ]
  },
  {
   "cell_type": "code",
   "execution_count": 1,
   "metadata": {},
   "outputs": [
    {
     "data": {
      "text/plain": [
       "'\\n1. 정렬 진행 (오름차순)\\n2. 정렬한 값의 중간값과 입력값 비교\\n    2.1 입력값이 크다면 중간값보다 큰 값 사이 비교 진행(계속 반씩 쪼개면서)\\n    2.2 입력값이 작다면 중간값보다 작은 값 사이 비교 진행(계속 반씩 쪼개면서)\\n'"
      ]
     },
     "execution_count": 1,
     "metadata": {},
     "output_type": "execute_result"
    }
   ],
   "source": [
    "'''\n",
    "1. 정렬 진행 (오름차순)\n",
    "2. 정렬한 값의 중간값과 입력값 비교\n",
    "    2.1 입력값이 크다면 중간값보다 큰 값 사이 비교 진행(계속 반씩 쪼개면서)\n",
    "    2.2 입력값이 작다면 중간값보다 작은 값 사이 비교 진행(계속 반씩 쪼개면서)\n",
    "'''"
   ]
  },
  {
   "cell_type": "code",
   "execution_count": 5,
   "metadata": {},
   "outputs": [
    {
     "name": "stdout",
     "output_type": "stream",
     "text": [
      "8 32\n"
     ]
    }
   ],
   "source": [
    "n, m = map(int, input().split())\n",
    "print(n,m)"
   ]
  },
  {
   "cell_type": "code",
   "execution_count": 8,
   "metadata": {},
   "outputs": [
    {
     "name": "stdout",
     "output_type": "stream",
     "text": [
      "[23, 87, 65, 12, 57, 32, 99, 81]\n"
     ]
    }
   ],
   "source": [
    "li = list(map(int, input().split()))\n",
    "print(li)"
   ]
  },
  {
   "cell_type": "code",
   "execution_count": 10,
   "metadata": {},
   "outputs": [
    {
     "name": "stdout",
     "output_type": "stream",
     "text": [
      "[12, 23, 32, 57, 65, 81, 87, 99]\n"
     ]
    }
   ],
   "source": [
    "sort_li = sorted(li)\n",
    "print(sort_li)"
   ]
  },
  {
   "cell_type": "code",
   "execution_count": 28,
   "metadata": {},
   "outputs": [
    {
     "name": "stdout",
     "output_type": "stream",
     "text": [
      "3\n"
     ]
    }
   ],
   "source": [
    "mm = len(sort_li) // 2 \n",
    "\n",
    "# 반으로 계속 나누면서 값 비교 \n",
    "while True:\n",
    "    # print(mid)\n",
    "    if sort_li[mm] > m:\n",
    "        # 값보다 작으니깐 해당 값보다 작은 값에서 찾음 \n",
    "        mm = len(sort_li[:mm]) // 2 \n",
    "        continue\n",
    "    elif sort_li[mm] < m:\n",
    "        # 값보다 크니 해당 값보다 큰 값에서 찾음 \n",
    "        mm = len(sort_li[mm:]) // 2\n",
    "        continue\n",
    "    else:\n",
    "        # mm은 인덱스라서 +1 해야함\n",
    "        print(mm+1)\n",
    "        break \n",
    "# 맞는 것 같은데?\n"
   ]
  },
  {
   "attachments": {},
   "cell_type": "markdown",
   "metadata": {},
   "source": [
    "### 추천 풀이"
   ]
  },
  {
   "cell_type": "code",
   "execution_count": null,
   "metadata": {},
   "outputs": [],
   "source": [
    "# lt,rt를 만들어서 해당 값들을 갱신하면서 비교를 통해 범위를 줄여나가며 값을 찾는 방식 \n",
    "N,M = map(int, input().split())\n",
    "a = list(map(int, input().split()))\n",
    "\n",
    "a.sort()\n",
    "lt = 0 \n",
    "rt = N-1\n",
    "\n",
    "# lt가 rt보다 크면 해당 반복은 잘못된 것\n",
    "while lt <= rt:\n",
    "    mid = (lt+rt)//2\n",
    "    if a[mid] == M:\n",
    "        print(mid+1)\n",
    "        break \n",
    "    elif a[mid] > M:\n",
    "        # 값이 크다면 rt 갱신 \n",
    "        rt = mid - 1\n",
    "    else:\n",
    "        lt = mid + 1\n"
   ]
  },
  {
   "attachments": {},
   "cell_type": "markdown",
   "metadata": {},
   "source": [
    "## 랜선자르기\n",
    "- 엘리트 학원은 자체적으로 K개의 랜선을 가지고 있다. 그러나 K개의 랜선은 길이가 제각각이 다. 선생님은 랜선을 모두 N개의 같은 길이의 랜선으로 만들고 싶었기 때문에 K개의 랜선을 잘라서 만들어야 한다. \n",
    "- 예를 들어 300cm 짜리 랜선에서 140cm 짜리 랜선을 두 개 잘라내면 20cm 은 버려야 한다. (이미 자른 랜선은 붙일 수 없다.)\n",
    "- 편의를 위해 랜선을 자를때 손실되는 길이는 없다고 가정하며, 기존의 K개의 랜선으로 N개의 랜선을 만들 수 없는 경우는 없다고 가정하자. 그리고 자를 때는 항상 센티미터 단위로 정수 길이만큼 자른다고 \n",
    "- 가정하자. N개보다 많이 만드는 것도 N개를 만드는 것에 포함된다. 이때 만들 수 있는 최대 랜선의 길이를 구하는 프로그램을 작성하시오.\n",
    "- ▣ 입력설명\n",
    "    - 첫째 줄에는 엘리트학원이 이미 가지고 있는 랜선의 개수 K, 그리고 필요한 랜선의 개수 N이 입력된다. K는 1이상 10,000이하의 정수이고, N은 1이상 1,000,000이하의 정수이다. 그리고 항상 K ≦ N 이다. 그 후 K줄에 걸쳐 이미 가지고 있는 각 랜선의 길이가 센티미터 단위의   이하의 자연수로 주어진다.\n",
    "- ▣ 출력설명\n",
    "    - 첫째 줄에 N개를 만들 수 있는 랜선의 최대 길이를 센티미터 단위의 정수로 출력한다.\n",
    "- ▣ 입력예제 1 \n",
    "    - 4 11\n",
    "    - 802\n",
    "    - 743\n",
    "    - 457 \n",
    "    - 539\n",
    "- ▣ 출력예제 1 \n",
    "    - 200"
   ]
  },
  {
   "cell_type": "code",
   "execution_count": 29,
   "metadata": {},
   "outputs": [
    {
     "data": {
      "text/plain": [
       "'\\n1. lt, rt 선언 \\n2. N에 맞도록 lt,rt 변경 진행 \\n3. 만약 N 값으로 된다면 해당 값을 +1하면서 최대로 가지고 올 수 있도록 갱신\\n'"
      ]
     },
     "execution_count": 29,
     "metadata": {},
     "output_type": "execute_result"
    }
   ],
   "source": [
    "'''\n",
    "1. lt, rt 선언 \n",
    "2. N에 맞도록 lt,rt 변경 진행 \n",
    "3. 만약 N 값으로 된다면 해당 값을 +1하면서 최대로 가지고 올 수 있도록 갱신\n",
    "'''"
   ]
  },
  {
   "cell_type": "code",
   "execution_count": 46,
   "metadata": {},
   "outputs": [],
   "source": [
    "k,n = map(int, input().split())\n",
    "li = list(int(input()) for _ in range(k))\n",
    "lt = 0 \n",
    "rt = max(li)"
   ]
  },
  {
   "cell_type": "code",
   "execution_count": 47,
   "metadata": {},
   "outputs": [
    {
     "name": "stdout",
     "output_type": "stream",
     "text": [
      "4 11 [802, 743, 457, 539]\n",
      "0 802\n"
     ]
    }
   ],
   "source": [
    "print(k,n,li)\n",
    "print(lt, rt)"
   ]
  },
  {
   "cell_type": "code",
   "execution_count": 54,
   "metadata": {},
   "outputs": [
    {
     "name": "stdout",
     "output_type": "stream",
     "text": [
      "200\n"
     ]
    }
   ],
   "source": [
    "while lt <= rt:\n",
    "    cnt = 0 \n",
    "    mid = (lt + rt) // 2 \n",
    "    for i in li:\n",
    "        cnt += i // mid \n",
    "    \n",
    "    # cnt가 n보다 작다면 rt 갱신 (현재 나누는 mid가 크다는 의미)\n",
    "    if cnt < n:\n",
    "        rt = mid \n",
    "    # cnt가 n보다 크다면 lt 갱신 (현재 나누는 mid가 작다는 의미)\n",
    "    elif cnt > n:\n",
    "        lt = mid \n",
    "    else:\n",
    "        # n에 맞는 값을 찾았다면 이제 lt,rt를 바탕으로 최적의 n을 찾는 작업 \n",
    "        a = []\n",
    "        # lt가 0이라면 나누기가 안되기 때문에 +1진행 \n",
    "        for i in range(lt+1,rt+1):\n",
    "            new_cnt = 0 \n",
    "            for j in li:\n",
    "                new_cnt += j // i\n",
    "            if new_cnt == n:\n",
    "                a.append(i)\n",
    "        print(max(a))\n",
    "        break \n",
    "# 맞는 것 같은데 \n",
    "# 근데 시간 복잡도가 너무 불필요하게 큰 것 같음 \n"
   ]
  },
  {
   "attachments": {},
   "cell_type": "markdown",
   "metadata": {},
   "source": [
    "### 추천 풀이"
   ]
  },
  {
   "cell_type": "code",
   "execution_count": 55,
   "metadata": {},
   "outputs": [
    {
     "name": "stdout",
     "output_type": "stream",
     "text": [
      "200\n"
     ]
    }
   ],
   "source": [
    "k, n = map(int, input().split())\n",
    "Line = []\n",
    "res = 0 \n",
    "largest = 0 \n",
    "for i in range(k):\n",
    "    tmp = int(input())\n",
    "    Line.append(tmp)\n",
    "    largest = max(largest, tmp)\n",
    "\n",
    "lt = 1 \n",
    "rt = largest\n",
    "\n",
    "def Count(mid):\n",
    "    cnt = 0 \n",
    "    for x in Line:\n",
    "        cnt += x // mid\n",
    "    return cnt \n",
    "\n",
    "while lt <= rt:\n",
    "    mid = (lt+rt) // 2 \n",
    "    if Count(mid) >= n:\n",
    "        res = mid \n",
    "        lt = mid+1\n",
    "    else:\n",
    "        rt = mid-1\n",
    "    \n",
    "print(res)\n"
   ]
  },
  {
   "cell_type": "code",
   "execution_count": null,
   "metadata": {},
   "outputs": [],
   "source": []
  }
 ],
 "metadata": {
  "kernelspec": {
   "display_name": "Python 3",
   "language": "python",
   "name": "python3"
  },
  "language_info": {
   "codemirror_mode": {
    "name": "ipython",
    "version": 3
   },
   "file_extension": ".py",
   "mimetype": "text/x-python",
   "name": "python",
   "nbconvert_exporter": "python",
   "pygments_lexer": "ipython3",
   "version": "3.9.1"
  },
  "orig_nbformat": 4
 },
 "nbformat": 4,
 "nbformat_minor": 2
}
