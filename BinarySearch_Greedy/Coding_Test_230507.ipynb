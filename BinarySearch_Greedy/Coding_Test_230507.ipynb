{
 "cells": [
  {
   "attachments": {},
   "cell_type": "markdown",
   "metadata": {},
   "source": [
    "## 회의실 배정\n",
    "- 한 개의 회의실이 있는데 이를 사용하고자 하는 n개의 회의들에 대하여 회의실 사용표를 만들 려고 한다. 각 회의에 대해 시작시간과 끝나는 시간이 주어져 있고, 각 회의가 겹치지 않게 하 면서 회의실을 사용할 수 있는 최대수의 회의를 찾아라. 단, 회의는 한번 시작하면 중간에 중 단될 수 없으며 한 회의가 끝나는 것과 동시에 다음 회의가 시작될 수 있다.\n",
    "- ▣ 입력설명\n",
    "    - 첫째 줄에 회의의 수 n(1<=n<=100,000)이 주어진다. 둘째 줄부터 n+1 줄까지 각 회의의 정 보가 주어지는데 이것은 공백을 사이에 두고 회의의 시작시간과 끝나는 시간이 주어진다.\n",
    "- ▣ 출력설명\n",
    "    - 첫째 줄에 최대 사용할 수 있는 회의 수를 출력하여라.\n",
    "- ▣ 입력예제 1 \n",
    "    - 5\n",
    "    - 14\n",
    "    - 23\n",
    "    - 35 \n",
    "    - 46 \n",
    "    - 57\n",
    "- ▣ 출력예제 1 \n",
    "    - 3"
   ]
  },
  {
   "cell_type": "code",
   "execution_count": 4,
   "metadata": {},
   "outputs": [
    {
     "data": {
      "text/plain": [
       "'\\n1. 시작과 끝 값을 갱신할 수 있는 변수 생성 \\n2. 반복문을 통해 조건을 작성하여 시작과 끝 값 갱신하며 count 진행 \\n'"
      ]
     },
     "execution_count": 4,
     "metadata": {},
     "output_type": "execute_result"
    }
   ],
   "source": [
    "'''\n",
    "1. 시작과 끝 값을 갱신할 수 있는 변수 생성 \n",
    "2. 반복문을 통해 조건을 작성하여 시작과 끝 값 갱신하며 count 진행 \n",
    "'''"
   ]
  },
  {
   "cell_type": "code",
   "execution_count": 42,
   "metadata": {},
   "outputs": [],
   "source": [
    "n = int(input())\n",
    "li = [] \n",
    "for i in range(n):\n",
    "    a = list(map(int, input().split()))\n",
    "    li.append(a)"
   ]
  },
  {
   "cell_type": "code",
   "execution_count": 43,
   "metadata": {},
   "outputs": [
    {
     "data": {
      "text/plain": [
       "[[1, 4], [2, 3], [3, 5], [4, 6], [5, 7]]"
      ]
     },
     "execution_count": 43,
     "metadata": {},
     "output_type": "execute_result"
    }
   ],
   "source": [
    "li"
   ]
  },
  {
   "cell_type": "code",
   "execution_count": 44,
   "metadata": {},
   "outputs": [
    {
     "name": "stdout",
     "output_type": "stream",
     "text": [
      "7\n",
      "[0, 0, 0, 0, 0, 0, 0, 0]\n"
     ]
    }
   ],
   "source": [
    "l = []\n",
    "for i in range(len(li)):\n",
    "    l.append(li[i][1])\n",
    "max_value = max(l)\n",
    "new_li = [0]*(max_value+1)\n",
    "print(max_value)\n",
    "print(new_li)"
   ]
  },
  {
   "cell_type": "code",
   "execution_count": 45,
   "metadata": {},
   "outputs": [
    {
     "name": "stdout",
     "output_type": "stream",
     "text": [
      "[0, 0, 0, 0, 0, 0, 1, 0]\n",
      "[0, 0, 0, 0, 0, 1, 0, 1]\n",
      "[0, 0, 0, 0, 0, 0, 0, 1]\n",
      "[0, 0, 0, 0, 0, 0, 0, 0]\n",
      "[0, 0, 0, 0, 0, 0, 0, 0]\n",
      "3\n"
     ]
    }
   ],
   "source": [
    "res = 0 \n",
    "for i in range(n):\n",
    "    new_li = [0] * (max_value+1)\n",
    "    s = li[i][0] \n",
    "    e = li[i][1]\n",
    "    cnt = 0 \n",
    "    # print(new_li)\n",
    "    for j in li[i:]:\n",
    "        if e <= j[0]:\n",
    "            # print(j[1])\n",
    "            new_li[j[1]] = 1 \n",
    "            s = j[0]\n",
    "            e = j[1]\n",
    "    print(new_li)\n",
    "    for k in new_li:\n",
    "        if k == 1:\n",
    "            cnt += 1 \n",
    "\n",
    "    if res < cnt:\n",
    "        res = cnt \n",
    "    # print(new_li)\n",
    "print(res+1)\n",
    "# 못 품 \n",
    "# 다른 예제에서 틀림 "
   ]
  },
  {
   "attachments": {},
   "cell_type": "markdown",
   "metadata": {},
   "source": [
    "### 추천 풀이"
   ]
  },
  {
   "cell_type": "code",
   "execution_count": 41,
   "metadata": {},
   "outputs": [
    {
     "data": {
      "text/plain": [
       "'\\ngreedy algorithm : 현재 문제를 풀어야할 때 가장 최적의 방법으로 푸는 알고리즘 \\n대부분의 greedy는 정렬문제임 \\n'"
      ]
     },
     "execution_count": 41,
     "metadata": {},
     "output_type": "execute_result"
    }
   ],
   "source": [
    "'''\n",
    "greedy algorithm : 현재 문제를 풀어야할 때 가장 최적의 방법으로 푸는 알고리즘 \n",
    "대부분의 greedy는 정렬문제임 \n",
    "\n",
    "회의가 끝나는 시간을 기준으로 정렬을 진행 \n",
    "[[2,3] [1,4], [3,5], [4,6], [5, 7]]\n",
    "회의의 끝나는 시간을 기록하고 다음 회의 시작 시간과 비교 \n",
    "'''"
   ]
  },
  {
   "cell_type": "code",
   "execution_count": 46,
   "metadata": {},
   "outputs": [
    {
     "name": "stdout",
     "output_type": "stream",
     "text": [
      "[(1, 4), (2, 3), (3, 5), (4, 6), (5, 7)]\n"
     ]
    }
   ],
   "source": [
    "n = int(input())\n",
    "meeting = []\n",
    "\n",
    "for i in range(n):\n",
    "    s,e = map(int,input().split())\n",
    "    meeting.append((s,e))\n",
    "print(meeting)"
   ]
  },
  {
   "cell_type": "code",
   "execution_count": 47,
   "metadata": {},
   "outputs": [
    {
     "name": "stdout",
     "output_type": "stream",
     "text": [
      "[(2, 3), (1, 4), (3, 5), (4, 6), (5, 7)]\n"
     ]
    }
   ],
   "source": [
    "# 회의가 끝나는 시간을 기준으로 정렬하는데 선순위가 끝나는 시간이고 후순위가 시작 시간 \n",
    "meeting.sort(key=lambda x : (x[1], x[0]))\n",
    "print(meeting)"
   ]
  },
  {
   "cell_type": "code",
   "execution_count": 48,
   "metadata": {},
   "outputs": [
    {
     "name": "stdout",
     "output_type": "stream",
     "text": [
      "3\n"
     ]
    }
   ],
   "source": [
    "et = 0 \n",
    "cnt = 0 \n",
    "for s, e in meeting:\n",
    "    if s >= et:\n",
    "        # 회의 시작 시간이 끝나는 시간보다 크거나 같을 때만 \n",
    "        et = e \n",
    "        cnt += 1 \n",
    "print(cnt)\n",
    "# 엄청 간단하네...\n",
    "# key는 정렬 후 회의 시작 시간이 끝나는 시간보다 크거나 같아야함 "
   ]
  },
  {
   "attachments": {},
   "cell_type": "markdown",
   "metadata": {},
   "source": [
    "## 씨름 선수 \n",
    "- 현수는 씨름 감독입니다. 현수는 씨름 선수를 선발공고를 냈고, N명의 지원자가 지원을 했습 니다. 현수는 각 지원자의 키와 몸무게 정보를 알고 있습니다.\n",
    "- 현수는 씨름 선수 선발 원칙을 다음과 같이 정했습니다.\n",
    "- “다른 모든 지원자와 일대일 비교하여 키와 몸무게 중 적어도 하나는 크거나, 무거운 지원자 만 뽑기로 했습니다.”\n",
    "- 만약 A라는 지원자보다 키도 크고 몸무게도 무거운 지원자가 존재한다면 A지원자는 탈락입니다.\n",
    "\n",
    "- ▣ 입력설명\n",
    "    - 첫째 줄에 지원자의 수 N(5<=N<=50)이 주어집니다.\n",
    "    - 두 번째 줄부터 N명의 키와 몸무게 정보가 차례로 주어집니다. 각 선수의 키와 몸무게는 모두 다릅니다.\n",
    "- ▣ 출력설명\n",
    "    - 첫째 줄에 씨름 선수로 뽑히는 최대 인원을 출력하세요\n",
    "\n",
    "- ▣ 입력예제 1 \n",
    "    - 5\n",
    "    - 172 67\n",
    "    - 183 65\n",
    "    - 180 70 \n",
    "    - 170 72 \n",
    "    - 181 60\n",
    "- ▣ 출력예제 1 \n",
    "    - 3"
   ]
  },
  {
   "cell_type": "code",
   "execution_count": 49,
   "metadata": {},
   "outputs": [
    {
     "data": {
      "text/plain": [
       "'\\n다른 사람과 비교했을 때 키와 몸무게가 모두 밀리는 사람 제외하는 방법 찾기 \\n'"
      ]
     },
     "execution_count": 49,
     "metadata": {},
     "output_type": "execute_result"
    }
   ],
   "source": [
    "'''\n",
    "다른 사람과 비교했을 때 키와 몸무게가 모두 밀리는 사람 제외하는 방법 찾기 \n",
    "\n",
    "1. 정렬(키를 선순위로 두고 몸무게를 후순위)\n",
    "2. 키를 선순위로 정렬을 했기 때문에 몸무게만 비교 (키는 이미 정렬을 해서 앞에 나오는 사람이 뒤에 나오는 사람보다 작다는 것임으로)\n",
    "3. 만약 몸무게가 진다면 count \n",
    "4. 전체 지원자 수 - count 값 도출 \n",
    "'''"
   ]
  },
  {
   "cell_type": "code",
   "execution_count": 53,
   "metadata": {},
   "outputs": [
    {
     "name": "stdout",
     "output_type": "stream",
     "text": [
      "[(172, 67), (183, 65), (180, 70), (170, 72), (181, 60)]\n"
     ]
    }
   ],
   "source": [
    "n = int(input())\n",
    "li = [] \n",
    "for i in range(n):\n",
    "    k,m = map(int,input().split())\n",
    "\n",
    "    li.append((k,m))\n",
    "print(li)"
   ]
  },
  {
   "cell_type": "code",
   "execution_count": 56,
   "metadata": {},
   "outputs": [
    {
     "name": "stdout",
     "output_type": "stream",
     "text": [
      "[(170, 72), (172, 67), (180, 70), (181, 60), (183, 65)]\n"
     ]
    }
   ],
   "source": [
    "li.sort(key = lambda x : (x[0], x[1]))\n",
    "print(li)"
   ]
  },
  {
   "cell_type": "code",
   "execution_count": 58,
   "metadata": {},
   "outputs": [
    {
     "name": "stdout",
     "output_type": "stream",
     "text": [
      "3\n"
     ]
    }
   ],
   "source": [
    "# 키로 정렬을 했기 때문에 현재 지원자보다 비교 지원자는 모두 키가 크기 때문에 몸무게만 비교하면 됨 \n",
    "l = []\n",
    "for i in range(len(li)):\n",
    "    for k,m in li[i:]:\n",
    "        if li[i][1] < m:\n",
    "            l.append(li[i][1]) \n",
    "print(n-len(set(l)))"
   ]
  },
  {
   "cell_type": "code",
   "execution_count": 59,
   "metadata": {},
   "outputs": [
    {
     "name": "stdout",
     "output_type": "stream",
     "text": [
      "[(177, 107), (205, 88), (179, 65), (165, 104), (180, 50), (166, 116), (199, 119), (171, 70), (176, 51), (207, 101)]\n"
     ]
    }
   ],
   "source": [
    "n = int(input())\n",
    "li = [] \n",
    "for i in range(n):\n",
    "    k,m = map(int,input().split())\n",
    "\n",
    "    li.append((k,m))\n",
    "print(li)"
   ]
  },
  {
   "cell_type": "code",
   "execution_count": 68,
   "metadata": {},
   "outputs": [
    {
     "name": "stdout",
     "output_type": "stream",
     "text": [
      "[(165, 104), (166, 116), (171, 70), (176, 51), (177, 107), (179, 65), (180, 50), (199, 119), (205, 88), (207, 101)]\n"
     ]
    }
   ],
   "source": [
    "li.sort(key = lambda x : (x[0]))\n",
    "print(li)"
   ]
  },
  {
   "cell_type": "code",
   "execution_count": 70,
   "metadata": {},
   "outputs": [
    {
     "name": "stdout",
     "output_type": "stream",
     "text": [
      "104 116\n",
      "104 107\n",
      "104 119\n",
      "116 119\n",
      "70 107\n",
      "70 119\n",
      "70 88\n",
      "70 101\n",
      "51 107\n",
      "51 65\n",
      "51 119\n",
      "51 88\n",
      "51 101\n",
      "107 119\n",
      "65 119\n",
      "65 88\n",
      "65 101\n",
      "50 119\n",
      "50 88\n",
      "50 101\n",
      "88 101\n",
      "2\n"
     ]
    }
   ],
   "source": [
    "# 키로 정렬을 했기 때문에 현재 지원자보다 비교 지원자는 모두 키가 크기 때문에 몸무게만 비교하면 됨 \n",
    "l = [] \n",
    "for i in range(len(li)):\n",
    "    for k,m in li[i:]:\n",
    "        if li[i][1] < m:\n",
    "            print(li[i][1], m)\n",
    "            l.append(li[i][1]) \n",
    "\n",
    "print(n-len(set(l)))"
   ]
  },
  {
   "attachments": {},
   "cell_type": "markdown",
   "metadata": {},
   "source": [
    "### 추천 풀이"
   ]
  },
  {
   "cell_type": "code",
   "execution_count": null,
   "metadata": {},
   "outputs": [],
   "source": [
    "n=int(input())\n",
    "body=[]\n",
    "for i in range(n):\n",
    "    a, b=map(int, input().split())\n",
    "    body.append((a, b))\n",
    "body.sort(reverse=True)\n",
    "largest=0\n",
    "cnt=0\n",
    "for x, y in body:\n",
    "    if y>largest:\n",
    "        largest=y\n",
    "        cnt+=1\n",
    "print(cnt)"
   ]
  }
 ],
 "metadata": {
  "kernelspec": {
   "display_name": "Python 3",
   "language": "python",
   "name": "python3"
  },
  "language_info": {
   "codemirror_mode": {
    "name": "ipython",
    "version": 3
   },
   "file_extension": ".py",
   "mimetype": "text/x-python",
   "name": "python",
   "nbconvert_exporter": "python",
   "pygments_lexer": "ipython3",
   "version": "3.9.1"
  },
  "orig_nbformat": 4
 },
 "nbformat": 4,
 "nbformat_minor": 2
}
