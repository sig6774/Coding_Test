{
 "cells": [
  {
   "attachments": {},
   "cell_type": "markdown",
   "metadata": {},
   "source": [
    "## 창고 정리 \n",
    "- 창고에 상자가 가로방향으로 일렬로 쌓여 있습니다. 만약 가로의 길이가 7이라면 1열은 높이가 6으로 6개의 상자가 쌓여 있고, 2열은 3개의 상자, 3열은 9개의 상자가 쌓여 있 으며 높이는 9라고 읽는다.\n",
    "- 창고 높이 조정은 가장 높은 곳에 상자를 가장 낮은 곳으로 이동하는 것을 말한다.\n",
    "- 가장 높은 곳이나 가장 낮은 곳이 여러곳이면 그 중 아무거나 선택하면 된다.\n",
    "- 위에 그림을 1회 높이 조정을 하면 다음과 같아진다.\n",
    "- 창고의 가로 길이와 각 열의 상자 높이가 주어집니다. m회의 높이 조정을 한 후 가장 높은 곳 과 가장 낮은 곳의 차이를 출력하는 프로그램을 작성하세요.\n",
    "\n",
    "- ▣ 입력설명\n",
    "    - 첫 번째 줄에 창고 가로의 길이인 자연수 L(1<=L<=100)이 주어집니다.\n",
    "    - 두 번째 줄에 L개의 자연수가 공백을 사이에 두고 입력됩니다. 각 자연수는 100을 넘지 않습니다\n",
    "    - 세 번째 줄에 높이 조정 횟수인 M(1<=M<=1,000)이 주어집니다.\n",
    "- ▣ 출력설명\n",
    "    - M회의 높이 조정을 마친 후 가장 높은곳과 가장 낮은 곳의 차이를 출력하세요.\n",
    "\n",
    "- ▣ 입력예제 1\n",
    "    - 10 \n",
    "    - 69 50 42 68 76 40 87 14 65 76 81\n",
    "\n",
    "- ▣ 출력예제 1\n",
    "    - 20\n"
   ]
  },
  {
   "cell_type": "code",
   "execution_count": 1,
   "metadata": {},
   "outputs": [
    {
     "data": {
      "text/plain": [
       "'\\n1. 입력받은 M회 반복\\n2. 가장 큰 높이의 값과 가장 작은 높이의 값을 찾는다 \\n3. 큰 높이의 값에서 -1을 빼고 작은 높이의 값에서 +1 한다 \\n4. 반복이 끝난다면 다시 가장 큰 높이의 값과 가장 작은 높이의 차를 출력\\n\\n'"
      ]
     },
     "execution_count": 1,
     "metadata": {},
     "output_type": "execute_result"
    }
   ],
   "source": [
    "'''\n",
    "1. 입력받은 M회 반복\n",
    "2. 가장 큰 높이의 값과 가장 작은 높이의 값을 찾는다 (인덱스를 바탕으로)\n",
    "3. 큰 높이의 값에서 -1을 빼고 작은 높이의 값에서 +1 한다 \n",
    "4. 반복이 끝난다면 다시 가장 큰 높이의 값과 가장 작은 높이의 차를 출력\n",
    "\n",
    "위의 방법은 뭔가 비효율적인 느낌이 남 \n",
    "'''"
   ]
  },
  {
   "cell_type": "code",
   "execution_count": 29,
   "metadata": {},
   "outputs": [
    {
     "name": "stdout",
     "output_type": "stream",
     "text": [
      "20 [56, 80, 91, 56, 36, 97, 47, 15, 12, 70, 40, 71, 66, 10, 12, 68, 72, 38, 31, 55] 150\n"
     ]
    }
   ],
   "source": [
    "L = int(input())\n",
    "# li = [] \n",
    "\n",
    "    # li.append(int(input()))\n",
    "li = list(map(int, input().split()))\n",
    "M = int(input())\n",
    "\n",
    "print(L, li, M)"
   ]
  },
  {
   "cell_type": "code",
   "execution_count": 30,
   "metadata": {},
   "outputs": [
    {
     "data": {
      "text/plain": [
       "[56,\n",
       " 80,\n",
       " 91,\n",
       " 56,\n",
       " 36,\n",
       " 97,\n",
       " 47,\n",
       " 15,\n",
       " 12,\n",
       " 70,\n",
       " 40,\n",
       " 71,\n",
       " 66,\n",
       " 10,\n",
       " 12,\n",
       " 68,\n",
       " 72,\n",
       " 38,\n",
       " 31,\n",
       " 55]"
      ]
     },
     "execution_count": 30,
     "metadata": {},
     "output_type": "execute_result"
    }
   ],
   "source": [
    "li2 = li.copy()\n",
    "li2"
   ]
  },
  {
   "cell_type": "code",
   "execution_count": 31,
   "metadata": {},
   "outputs": [
    {
     "name": "stdout",
     "output_type": "stream",
     "text": [
      "16\n"
     ]
    }
   ],
   "source": [
    "for j in range(M):\n",
    "    # 임시 max, min 값 \n",
    "    temp_max = max(li2)\n",
    "    temp_min = min(li2)\n",
    "\n",
    "    # 반복문을 돌면서 해당 값을 가진 index만 추출 \n",
    "    for i in range(len(li2)):\n",
    "        if li2[i] == temp_max:\n",
    "            temp_max_idx = i\n",
    "        if li2[i] == temp_min:\n",
    "            temp_min_idx = i \n",
    "    \n",
    "    li2[temp_max_idx] = li2[temp_max_idx] - 1 \n",
    "    li2[temp_min_idx] = li2[temp_min_idx] + 1\n",
    "\n",
    "print(max(li2) - min(li2))"
   ]
  },
  {
   "attachments": {},
   "cell_type": "markdown",
   "metadata": {},
   "source": [
    "### 추천 풀이"
   ]
  },
  {
   "cell_type": "code",
   "execution_count": null,
   "metadata": {},
   "outputs": [],
   "source": [
    "L = int(input())\n",
    "\n",
    "a = list(map(int, input().split()))\n",
    "\n",
    "m = int(input())\n",
    "\n",
    "# 아... 이렇게 하면 더 효율적이네 \n",
    "a.sort()\n",
    "\n",
    "for _ in range(m):\n",
    "    a[0] = a[0] + 1\n",
    "    a[L-1] = a[L-1] - 1\n",
    "    a.sort()\n",
    "\n",
    "print(a[L-1] - a[0])\n",
    "\n",
    "# sort를 사용하면 내가 적은 코드처럼 값과 index를 선언할 필요가 없음"
   ]
  },
  {
   "attachments": {},
   "cell_type": "markdown",
   "metadata": {},
   "source": [
    "## 침몰하는 타이타닉(그리디)\n",
    "- 유럽에서 가장 유명했던 유람선 타이타닉이 침몰하고 있습니다. 유람선에는 N명의 승객이 타고 있습니다. \n",
    "- 구명보트를 타고 탈출해야 하는데 타이타닉에 있는 구명보트는 2명 이하로만 탈 수 있 으며, 보트 한 개에 탈 수 있는 총 무게도 M kg 이하로 제한되어 있습니다.\n",
    "- N명의 승객 몸무게가 주어졌을 때 승객 모두가 탈출하기 위한 구명보트의 최소개수를 출력하는 프로그램을 작성하세요.\n",
    "\n",
    "- ▣ 입력설명\n",
    "    - 첫째 줄에 자연수 N(5<=N<=1000)과 M(70<=M<=250)이 주어집니다.\n",
    "    - 두 번째 줄에 N개로 구성된 몸무게 수열이 주어집니다. 몸무게는 50이상 150이하입니다. 각 승객의 몸무게는 M을 넘지는 않습니다. 즉 탈출을 못하는 경우는 없습니다.\n",
    "- ▣ 출력설명\n",
    "    - 첫째 줄에 구명보트의 최소 개수를 출력합니다.\n",
    "\n",
    "- ▣ 입력예제 1\n",
    "    - 5 140\n",
    "    - 90 50 70 100 60\n",
    "- ▣ 출력예제 1 \n",
    "    - 3"
   ]
  },
  {
   "cell_type": "code",
   "execution_count": 32,
   "metadata": {},
   "outputs": [
    {
     "data": {
      "text/plain": [
       "'\\n1. 정렬하여 최소 최대가 한개의 보트에 탈 수 있는지 확인\\n    1.1 탈 수 있다면 그 값들 없애기 \\n    1.2 탈 수 없다면 최대만 없애기 \\n2. 위의 과정을 반복했을 때 남은 사람이 1명이면 +1하고 0명이면 그대로 출력 \\n'"
      ]
     },
     "execution_count": 32,
     "metadata": {},
     "output_type": "execute_result"
    }
   ],
   "source": [
    "'''\n",
    "1. 정렬하여 최소 최대가 한개의 보트에 탈 수 있는지 확인\n",
    "    1.1 탈 수 있다면 그 값들 없애기 \n",
    "    1.2 탈 수 없다면 최대만 없애기 \n",
    "2. 위의 과정을 반복했을 때 남은 사람이 1명이면 +1하고 0명이면 그대로 출력 \n",
    "'''"
   ]
  },
  {
   "cell_type": "code",
   "execution_count": 39,
   "metadata": {},
   "outputs": [
    {
     "name": "stdout",
     "output_type": "stream",
     "text": [
      "20 120\n",
      "[68, 72, 30, 105, 55, 115, 36, 67, 119, 111, 95, 24, 25, 80, 55, 85, 75, 83, 21, 81]\n"
     ]
    }
   ],
   "source": [
    "N, M = map(int, input().split())\n",
    "li = list(map(int, input().split()))\n",
    "print(N, M)\n",
    "print(li)"
   ]
  },
  {
   "cell_type": "code",
   "execution_count": 40,
   "metadata": {},
   "outputs": [
    {
     "name": "stdout",
     "output_type": "stream",
     "text": [
      "14\n"
     ]
    }
   ],
   "source": [
    "cnt = 0 \n",
    "while True:\n",
    "    if len(li) == 0:\n",
    "        break \n",
    "\n",
    "    li.sort()\n",
    "\n",
    "    # 최대, 최소 사람이 함께 탈 수 있다면 count 진행하고 빼기 \n",
    "    if max(li) + min(li) <= M:\n",
    "        cnt += 1 \n",
    "        li.pop()\n",
    "        li.pop(0)\n",
    "    # 할 수 없다면 가장 큰 사람만 빼기\n",
    "    else:\n",
    "        cnt += 1 \n",
    "        li.pop()\n",
    "    \n",
    "print(cnt)"
   ]
  },
  {
   "attachments": {},
   "cell_type": "markdown",
   "metadata": {},
   "source": [
    "### 추천 풀이"
   ]
  },
  {
   "cell_type": "code",
   "execution_count": null,
   "metadata": {},
   "outputs": [],
   "source": [
    "# 내가 생각한 아이디어랑 비슷하네 (정렬 후 비교 진행하면서 보트 count)\n",
    "\n",
    "n, limit = map(int, input().split())\n",
    "p = list(map(int, input().split()))\n",
    "\n",
    "p.sort()\n",
    "\n",
    "cnt = 0 \n",
    "\n",
    "# p가 비어있다면 거짓으로 빠져나오고 비어있지 않다면 빠져나오지 않음 \n",
    "while p:\n",
    "\n",
    "    # else에서 만약 1명만 남았는데 pop(0)를 한 후 밑에 또 pop()이 있으면 에러가 나기 때문에 조건절 추가 \n",
    "    if len(p) == 1:\n",
    "        cnt += 1\n",
    "        break \n",
    "\n",
    "    # 아 위에서도 sort를 했는데 굳이 max,min 함수 사용했네...\n",
    "    # 가장 무거운 사람만 보트타고 나갔을 떄 \n",
    "    if p[0] + p[-1] > limit:\n",
    "        p.pop()\n",
    "        cnt += 1 \n",
    "    \n",
    "    else:\n",
    "        p.pop(0)\n",
    "        p.pop()\n",
    "        cnt += 1 \n",
    "\n",
    "print(cnt)\n"
   ]
  },
  {
   "cell_type": "code",
   "execution_count": null,
   "metadata": {},
   "outputs": [],
   "source": [
    "# list를 pop하게 된다면 앞으로 땡겨지는 연산을 한번 진행하기 때문에 deque 사용하는게 더 효율적임 \n",
    "\n",
    "from collections import deque\n",
    "\n",
    "n, limit = map(int, input().split())\n",
    "p = list(map(int, input().split()))\n",
    "\n",
    "p.sort()\n",
    "\n",
    "# deque로 변경 \n",
    "p = deque(p)\n",
    "\n",
    "cnt = 0 \n",
    "\n",
    "while p:\n",
    "\n",
    "    if len(p) == 1:\n",
    "        cnt += 1\n",
    "        break \n",
    "\n",
    "    if p[0] + p[-1] > limit:\n",
    "        p.pop()\n",
    "        cnt += 1 \n",
    "    \n",
    "    else:\n",
    "        # 왼쪽 추출 \n",
    "        p.popleft()\n",
    "        p.pop()\n",
    "        cnt += 1 \n",
    "\n",
    "print(cnt)\n"
   ]
  }
 ],
 "metadata": {
  "kernelspec": {
   "display_name": "Python 3",
   "language": "python",
   "name": "python3"
  },
  "language_info": {
   "codemirror_mode": {
    "name": "ipython",
    "version": 3
   },
   "file_extension": ".py",
   "mimetype": "text/x-python",
   "name": "python",
   "nbconvert_exporter": "python",
   "pygments_lexer": "ipython3",
   "version": "3.9.1"
  },
  "orig_nbformat": 4
 },
 "nbformat": 4,
 "nbformat_minor": 2
}
