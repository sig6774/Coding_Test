{
 "cells": [
  {
   "attachments": {},
   "cell_type": "markdown",
   "metadata": {},
   "source": [
    "## 이분탐색 \n",
    "- 임의의 N개의 숫자가 입력으로 주어집니다. N개의 수를 오름차순으로 정렬한 다음 N개의 수 중 한 개의 수인 M이 주어지면 이분검색으로 M이 정렬된 상태에서 몇 번째에 있는지 구하는 프로그램을 작성하세요. - 단 중복값은 존재하지 않습니다.\n",
    "- ▣ 입력설명\n",
    "    - 첫 줄에 한 줄에 자연수 N(3<=N<=1,000,000)과 M이 주어집니다. 두 번째 줄에 N개의 수가 공백을 사이에 두고 주어집니다.\n",
    "- ▣ 출력설명\n",
    "    - 첫 줄에 정렬 후 M의 값의 위치 번호를 출력한다.\n",
    "\n"
   ]
  },
  {
   "cell_type": "code",
   "execution_count": 1,
   "metadata": {},
   "outputs": [
    {
     "data": {
      "text/plain": [
       "'\\n1. 정렬 진행 (오름차순)\\n2. 정렬한 값의 중간값과 입력값 비교\\n    2.1 입력값이 크다면 중간값보다 큰 값 사이 비교 진행(계속 반씩 쪼개면서)\\n    2.2 입력값이 작다면 중간값보다 작은 값 사이 비교 진행(계속 반씩 쪼개면서)\\n'"
      ]
     },
     "execution_count": 1,
     "metadata": {},
     "output_type": "execute_result"
    }
   ],
   "source": [
    "'''\n",
    "1. 정렬 진행 (오름차순)\n",
    "2. 정렬한 값의 중간값과 입력값 비교\n",
    "    2.1 입력값이 크다면 중간값보다 큰 값 사이 비교 진행(계속 반씩 쪼개면서)\n",
    "    2.2 입력값이 작다면 중간값보다 작은 값 사이 비교 진행(계속 반씩 쪼개면서)\n",
    "'''"
   ]
  },
  {
   "cell_type": "code",
   "execution_count": 5,
   "metadata": {},
   "outputs": [
    {
     "name": "stdout",
     "output_type": "stream",
     "text": [
      "8 32\n"
     ]
    }
   ],
   "source": [
    "n, m = map(int, input().split())\n",
    "print(n,m)"
   ]
  },
  {
   "cell_type": "code",
   "execution_count": 8,
   "metadata": {},
   "outputs": [
    {
     "name": "stdout",
     "output_type": "stream",
     "text": [
      "[23, 87, 65, 12, 57, 32, 99, 81]\n"
     ]
    }
   ],
   "source": [
    "li = list(map(int, input().split()))\n",
    "print(li)"
   ]
  },
  {
   "cell_type": "code",
   "execution_count": 10,
   "metadata": {},
   "outputs": [
    {
     "name": "stdout",
     "output_type": "stream",
     "text": [
      "[12, 23, 32, 57, 65, 81, 87, 99]\n"
     ]
    }
   ],
   "source": [
    "sort_li = sorted(li)\n",
    "print(sort_li)"
   ]
  },
  {
   "cell_type": "code",
   "execution_count": 28,
   "metadata": {},
   "outputs": [
    {
     "name": "stdout",
     "output_type": "stream",
     "text": [
      "3\n"
     ]
    }
   ],
   "source": [
    "mm = len(sort_li) // 2 \n",
    "\n",
    "# 반으로 계속 나누면서 값 비교 \n",
    "while True:\n",
    "    # print(mid)\n",
    "    if sort_li[mm] > m:\n",
    "        # 값보다 작으니깐 해당 값보다 작은 값에서 찾음 \n",
    "        mm = len(sort_li[:mm]) // 2 \n",
    "        continue\n",
    "    elif sort_li[mm] < m:\n",
    "        # 값보다 크니 해당 값보다 큰 값에서 찾음 \n",
    "        mm = len(sort_li[mm:]) // 2\n",
    "        continue\n",
    "    else:\n",
    "        # mm은 인덱스라서 +1 해야함\n",
    "        print(mm+1)\n",
    "        break \n",
    "# 맞는 것 같은데?\n"
   ]
  },
  {
   "attachments": {},
   "cell_type": "markdown",
   "metadata": {},
   "source": [
    "### 추천 풀이"
   ]
  },
  {
   "cell_type": "code",
   "execution_count": null,
   "metadata": {},
   "outputs": [],
   "source": [
    "# lt,rt를 만들어서 해당 값들을 갱신하면서 비교를 통해 범위를 줄여나가며 값을 찾는 방식 \n",
    "N,M = map(int, input().split())\n",
    "a = list(map(int, input().split()))\n",
    "\n",
    "a.sort()\n",
    "lt = 0 \n",
    "rt = N-1\n",
    "\n",
    "# lt가 rt보다 크면 해당 반복은 잘못된 것\n",
    "while lt <= rt:\n",
    "    mid = (lt+rt)//2\n",
    "    if a[mid] == M:\n",
    "        print(mid+1)\n",
    "        break \n",
    "    elif a[mid] > M:\n",
    "        # 값이 크다면 rt 갱신 \n",
    "        rt = mid - 1\n",
    "    else:\n",
    "        lt = mid + 1\n"
   ]
  },
  {
   "attachments": {},
   "cell_type": "markdown",
   "metadata": {},
   "source": [
    "## 랜선자르기\n",
    "- 엘리트 학원은 자체적으로 K개의 랜선을 가지고 있다. 그러나 K개의 랜선은 길이가 제각각이 다. 선생님은 랜선을 모두 N개의 같은 길이의 랜선으로 만들고 싶었기 때문에 K개의 랜선을 잘라서 만들어야 한다. \n",
    "- 예를 들어 300cm 짜리 랜선에서 140cm 짜리 랜선을 두 개 잘라내면 20cm 은 버려야 한다. (이미 자른 랜선은 붙일 수 없다.)\n",
    "- 편의를 위해 랜선을 자를때 손실되는 길이는 없다고 가정하며, 기존의 K개의 랜선으로 N개의 랜선을 만들 수 없는 경우는 없다고 가정하자. 그리고 자를 때는 항상 센티미터 단위로 정수 길이만큼 자른다고 \n",
    "- 가정하자. N개보다 많이 만드는 것도 N개를 만드는 것에 포함된다. 이때 만들 수 있는 최대 랜선의 길이를 구하는 프로그램을 작성하시오.\n",
    "- ▣ 입력설명\n",
    "    - 첫째 줄에는 엘리트학원이 이미 가지고 있는 랜선의 개수 K, 그리고 필요한 랜선의 개수 N이 입력된다. K는 1이상 10,000이하의 정수이고, N은 1이상 1,000,000이하의 정수이다. 그리고 항상 K ≦ N 이다. 그 후 K줄에 걸쳐 이미 가지고 있는 각 랜선의 길이가 센티미터 단위의   이하의 자연수로 주어진다.\n",
    "- ▣ 출력설명\n",
    "    - 첫째 줄에 N개를 만들 수 있는 랜선의 최대 길이를 센티미터 단위의 정수로 출력한다.\n",
    "- ▣ 입력예제 1 \n",
    "    - 4 11\n",
    "    - 802\n",
    "    - 743\n",
    "    - 457 \n",
    "    - 539\n",
    "- ▣ 출력예제 1 \n",
    "    - 200"
   ]
  },
  {
   "cell_type": "code",
   "execution_count": 29,
   "metadata": {},
   "outputs": [
    {
     "data": {
      "text/plain": [
       "'\\n1. lt, rt 선언 \\n2. N에 맞도록 lt,rt 변경 진행 \\n3. 만약 N 값으로 된다면 해당 값을 +1하면서 최대로 가지고 올 수 있도록 갱신\\n'"
      ]
     },
     "execution_count": 29,
     "metadata": {},
     "output_type": "execute_result"
    }
   ],
   "source": [
    "'''\n",
    "1. lt, rt 선언 \n",
    "2. N에 맞도록 lt,rt 변경 진행 \n",
    "3. 만약 N 값으로 된다면 해당 값을 +1하면서 최대로 가지고 올 수 있도록 갱신\n",
    "'''"
   ]
  },
  {
   "cell_type": "code",
   "execution_count": 46,
   "metadata": {},
   "outputs": [],
   "source": [
    "k,n = map(int, input().split())\n",
    "li = list(int(input()) for _ in range(k))\n",
    "lt = 0 \n",
    "rt = max(li)"
   ]
  },
  {
   "cell_type": "code",
   "execution_count": 47,
   "metadata": {},
   "outputs": [
    {
     "name": "stdout",
     "output_type": "stream",
     "text": [
      "4 11 [802, 743, 457, 539]\n",
      "0 802\n"
     ]
    }
   ],
   "source": [
    "print(k,n,li)\n",
    "print(lt, rt)"
   ]
  },
  {
   "cell_type": "code",
   "execution_count": 54,
   "metadata": {},
   "outputs": [
    {
     "name": "stdout",
     "output_type": "stream",
     "text": [
      "200\n"
     ]
    }
   ],
   "source": [
    "while lt <= rt:\n",
    "    cnt = 0 \n",
    "    mid = (lt + rt) // 2 \n",
    "    for i in li:\n",
    "        cnt += i // mid \n",
    "    \n",
    "    # cnt가 n보다 작다면 rt 갱신 (현재 나누는 mid가 크다는 의미)\n",
    "    if cnt < n:\n",
    "        rt = mid \n",
    "    # cnt가 n보다 크다면 lt 갱신 (현재 나누는 mid가 작다는 의미)\n",
    "    elif cnt > n:\n",
    "        lt = mid \n",
    "    else:\n",
    "        # n에 맞는 값을 찾았다면 이제 lt,rt를 바탕으로 최적의 n을 찾는 작업 \n",
    "        a = []\n",
    "        # lt가 0이라면 나누기가 안되기 때문에 +1진행 \n",
    "        for i in range(lt+1,rt+1):\n",
    "            new_cnt = 0 \n",
    "            for j in li:\n",
    "                new_cnt += j // i\n",
    "            if new_cnt == n:\n",
    "                a.append(i)\n",
    "        print(max(a))\n",
    "        break \n",
    "# 맞는 것 같은데 \n",
    "# 근데 시간 복잡도가 너무 불필요하게 큰 것 같음 \n"
   ]
  },
  {
   "attachments": {},
   "cell_type": "markdown",
   "metadata": {},
   "source": [
    "### 추천 풀이"
   ]
  },
  {
   "cell_type": "code",
   "execution_count": 55,
   "metadata": {},
   "outputs": [
    {
     "name": "stdout",
     "output_type": "stream",
     "text": [
      "200\n"
     ]
    }
   ],
   "source": [
    "k, n = map(int, input().split())\n",
    "Line = []\n",
    "res = 0 \n",
    "largest = 0 \n",
    "for i in range(k):\n",
    "    tmp = int(input())\n",
    "    Line.append(tmp)\n",
    "    largest = max(largest, tmp)\n",
    "\n",
    "lt = 1 \n",
    "rt = largest\n",
    "\n",
    "def Count(mid):\n",
    "    cnt = 0 \n",
    "    for x in Line:\n",
    "        cnt += x // mid\n",
    "    return cnt \n",
    "\n",
    "while lt <= rt:\n",
    "    mid = (lt+rt) // 2 \n",
    "    if Count(mid) >= n:\n",
    "        res = mid \n",
    "        lt = mid+1\n",
    "    else:\n",
    "        rt = mid-1\n",
    "    \n",
    "print(res)\n"
   ]
  },
  {
   "attachments": {},
   "cell_type": "markdown",
   "metadata": {},
   "source": [
    "## 뮤직비디오 \n",
    "\n",
    "- 지니레코드에서는 불세출의 가수 조영필의 라이브 동영상을 DVD로 만들어 판매하려 한다. DVD에는 총 N개의 곡이 들어가는데, DVD에 녹화할 때에는 라이브에서의 순서가 그대로 유지 되어야 한다. 순서가 바뀌는 것을 우리의 가수 조영필씨가 매우 싫어한다. 즉, 1번 노래와 5번 노래를 같은 DVD에 녹화하기 위해서는 1번과 5번 사이의 모든 노래도 같은 DVD에 녹화해야 한다. 또한 한 노래를 쪼개서 두 개의 DVD에 녹화하면 안된다.\n",
    "- 지니레코드 입장에서는 이 DVD가 팔릴 것인지 확신할 수 없기 때문에 이 사업에 낭비되는 DVD를 가급적 줄이려고 한다. 고민 끝에 지니레코드는 M개의 DVD에 모든 동영상을 녹화하기 로 하였다. 이 때 DVD의 크기(녹화 가능한 길이)를 최소로 하려고 한다. 그리고 M개의 DVD는 모두 같은 크기여야 제조원가가 적게 들기 때문에 꼭 같은 크기로 해야 한다.\n",
    "- ▣ 입력설명\n",
    "    - 첫째 줄에 자연수 N(1≤N≤1,000), M(1≤M≤N)이 주어진다. 다음 줄에는 조영필이 라이브에서 부른 순서대로 부른 곡의 길이가 분 단위로(자연수) 주어진다. 부른 곡의 길이는 10,000분을 넘지 않는다고 가정하자.\n",
    "- ▣ 출력설명\n",
    "    - 첫 번째 줄부터 DVD의 최소 용량 크기를 출력하세요.\n",
    "- ▣ 입력예제 1\n",
    "    - 93 \n",
    "    - 123456789\n",
    "- ▣ 출력예제 1 \n",
    "    - 17\n",
    "  "
   ]
  },
  {
   "cell_type": "code",
   "execution_count": 1,
   "metadata": {},
   "outputs": [
    {
     "data": {
      "text/plain": [
       "'\\n1. lt,rt(sum) 선언 \\n2. 입력받은 m개가 될 때까지 lt,rt 갱신 \\n3. m개가 되었다면 그것의 최소가 될 때까지 진행 \\n'"
      ]
     },
     "execution_count": 1,
     "metadata": {},
     "output_type": "execute_result"
    }
   ],
   "source": [
    "'''\n",
    "1. lt,rt(sum) 선언 \n",
    "2. 입력받은 m개가 될 때까지 lt,rt 갱신 \n",
    "3. m개가 되었다면 그것의 최소가 될 때까지 진행 \n",
    "'''"
   ]
  },
  {
   "cell_type": "code",
   "execution_count": 78,
   "metadata": {},
   "outputs": [
    {
     "name": "stdout",
     "output_type": "stream",
     "text": [
      "1000 77 [32, 18, 21, 52, 32, 56, 15, 66, 54, 57, 19, 35, 20, 60, 20, 42, 33, 42, 13, 9, 15, 55, 16, 44, 34, 16, 6, 60, 50, 25, 52, 17, 19, 5, 17, 13, 44, 52, 5, 60, 36, 49, 49, 7, 21, 57, 25, 56, 48, 13, 43, 64, 13, 59, 21, 8, 31, 62, 66, 14, 20, 55, 53, 13, 41, 17, 32, 63, 27, 26, 57, 45, 61, 70, 68, 33, 58, 56, 5, 26, 5, 49, 44, 9, 53, 12, 49, 30, 66, 8, 16, 38, 20, 38, 51, 22, 12, 62, 55, 5, 15, 49, 34, 64, 65, 27, 7, 26, 15, 28, 55, 14, 67, 28, 32, 67, 67, 59, 65, 57, 14, 40, 31, 19, 6, 5, 25, 16, 19, 16, 63, 20, 67, 13, 70, 65, 26, 58, 51, 40, 59, 35, 37, 39, 48, 60, 40, 44, 14, 39, 36, 63, 24, 56, 36, 50, 63, 11, 55, 66, 26, 30, 16, 5, 41, 64, 32, 52, 62, 13, 35, 14, 56, 57, 14, 22, 31, 66, 53, 60, 9, 11, 63, 55, 19, 52, 43, 43, 38, 31, 52, 42, 7, 24, 55, 68, 48, 6, 56, 64, 7, 41, 12, 63, 64, 63, 51, 44, 44, 69, 43, 17, 60, 19, 48, 68, 69, 33, 14, 55, 31, 31, 66, 70, 10, 25, 13, 33, 28, 28, 9, 66, 64, 68, 52, 21, 65, 17, 46, 51, 59, 33, 26, 23, 7, 31, 28, 34, 51, 10, 59, 57, 8, 61, 47, 14, 61, 65, 31, 37, 11, 11, 30, 26, 49, 22, 42, 61, 69, 27, 64, 19, 54, 24, 11, 10, 41, 7, 6, 50, 18, 63, 44, 33, 22, 33, 10, 31, 30, 48, 44, 63, 58, 55, 55, 35, 53, 70, 23, 12, 12, 32, 41, 21, 21, 49, 20, 16, 17, 24, 19, 9, 66, 48, 16, 48, 22, 9, 8, 9, 59, 17, 31, 42, 49, 50, 25, 54, 44, 51, 50, 8, 20, 56, 45, 28, 24, 54, 58, 59, 49, 49, 10, 65, 68, 21, 40, 45, 16, 40, 25, 33, 36, 18, 59, 51, 31, 42, 10, 36, 33, 13, 66, 35, 48, 44, 11, 5, 40, 21, 52, 11, 12, 39, 50, 8, 38, 13, 68, 50, 5, 34, 15, 18, 57, 5, 11, 46, 70, 30, 21, 33, 38, 68, 28, 59, 10, 34, 11, 49, 17, 6, 11, 49, 68, 70, 16, 53, 34, 27, 65, 67, 47, 55, 65, 43, 29, 33, 23, 33, 65, 38, 66, 61, 55, 41, 47, 24, 44, 12, 15, 22, 16, 68, 60, 70, 13, 11, 15, 15, 23, 38, 19, 51, 62, 19, 65, 16, 64, 35, 44, 29, 68, 40, 54, 33, 57, 24, 51, 22, 16, 59, 31, 12, 10, 8, 46, 47, 27, 16, 26, 37, 13, 57, 32, 31, 30, 31, 70, 11, 24, 45, 48, 33, 29, 5, 64, 22, 56, 49, 19, 61, 52, 43, 64, 42, 7, 30, 30, 36, 24, 59, 59, 27, 57, 37, 58, 22, 19, 55, 39, 62, 39, 37, 55, 21, 52, 18, 40, 5, 43, 54, 11, 23, 68, 18, 22, 29, 33, 42, 25, 37, 38, 43, 61, 23, 19, 35, 69, 47, 29, 7, 29, 69, 55, 55, 36, 54, 39, 25, 28, 46, 52, 48, 45, 44, 42, 61, 48, 21, 48, 60, 63, 67, 67, 52, 13, 27, 34, 10, 56, 14, 16, 24, 67, 30, 22, 51, 48, 36, 47, 54, 43, 49, 58, 13, 50, 68, 11, 39, 20, 62, 64, 37, 25, 21, 65, 64, 26, 35, 50, 65, 25, 41, 28, 33, 46, 37, 70, 46, 67, 54, 30, 60, 65, 44, 47, 33, 45, 23, 34, 8, 13, 29, 62, 30, 12, 41, 49, 9, 51, 11, 57, 38, 67, 31, 42, 52, 63, 46, 38, 35, 16, 5, 29, 53, 13, 55, 13, 67, 28, 15, 69, 42, 8, 60, 68, 5, 7, 50, 57, 38, 5, 13, 21, 7, 27, 61, 58, 49, 46, 13, 6, 52, 5, 69, 18, 29, 34, 8, 25, 46, 51, 63, 63, 41, 50, 55, 17, 62, 45, 17, 56, 28, 5, 61, 50, 20, 29, 59, 6, 19, 58, 51, 30, 67, 29, 7, 58, 6, 49, 23, 64, 38, 51, 70, 24, 25, 22, 48, 21, 11, 47, 25, 7, 41, 37, 43, 63, 32, 21, 34, 36, 42, 65, 13, 10, 58, 66, 24, 5, 25, 41, 16, 22, 17, 48, 15, 18, 69, 37, 68, 67, 62, 16, 36, 60, 63, 52, 43, 19, 36, 31, 37, 30, 54, 33, 6, 20, 38, 13, 7, 9, 49, 33, 37, 60, 28, 13, 58, 69, 70, 46, 42, 53, 66, 8, 62, 63, 67, 40, 69, 56, 64, 5, 70, 58, 15, 28, 38, 14, 62, 15, 22, 43, 30, 12, 63, 22, 55, 68, 41, 32, 16, 33, 24, 51, 48, 28, 26, 19, 49, 55, 35, 53, 20, 8, 16, 22, 36, 18, 47, 18, 56, 39, 17, 41, 40, 33, 35, 57, 56, 55, 53, 17, 45, 49, 69, 12, 68, 32, 65, 24, 27, 52, 46, 66, 12, 23, 34, 43, 54, 38, 38, 70, 50, 66, 19, 64, 9, 20, 58, 27, 56, 63, 27, 59, 22, 15, 26, 24, 60, 64, 30, 67, 38, 24, 39, 59, 53, 18, 32, 7, 59, 25, 38, 16, 48, 32, 67, 30, 52, 30, 68, 68, 25, 37, 45, 58, 65, 16, 43, 56, 29, 15, 17, 66, 12, 61, 46, 6, 30, 40, 66, 54, 65, 18, 45, 11, 23, 52, 19, 20, 9, 55, 29, 58, 65, 67, 70, 37, 14, 41, 29, 53, 21, 62, 39, 28, 31, 55, 66, 25, 34, 61, 39, 55, 38, 21, 52, 21, 23, 30, 40, 70, 40, 57, 38, 18, 21, 65, 43, 42, 30, 45, 58, 67, 14, 33, 52, 55, 66, 35, 26, 8, 26, 67, 32, 6, 33, 7, 46, 20, 64, 54, 13, 12, 60, 28, 20]\n"
     ]
    }
   ],
   "source": [
    "n,m = map(int,input().split())\n",
    "li = list(map(int, input().split()))\n",
    "print(n,m,li)"
   ]
  },
  {
   "cell_type": "code",
   "execution_count": 81,
   "metadata": {},
   "outputs": [],
   "source": [
    "def check_sum(mid):\n",
    "    res = mid \n",
    "    cnt = 0 \n",
    "\n",
    "    for i in li:\n",
    "        # res가 i보다 작고 res 0이상이면 갱신 진행 \n",
    "        # print(res)\n",
    "        if res < i and res >= 0:\n",
    "            res = mid\n",
    "            cnt += 1 \n",
    "\n",
    "        res -= i \n",
    "        #print(res)\n",
    "    \n",
    "    # 반복문이 끝나면 1개가 더 증가해야함 \n",
    "    return cnt+1\n"
   ]
  },
  {
   "cell_type": "code",
   "execution_count": 77,
   "metadata": {},
   "outputs": [
    {
     "name": "stdout",
     "output_type": "stream",
     "text": [
      "[1, 1, 1, 1, 1]\n",
      "2\n",
      "1\n",
      "0\n",
      "1\n",
      "0\n",
      "3\n"
     ]
    }
   ],
   "source": [
    "print(li)\n",
    "print(check_sum(2))"
   ]
  },
  {
   "cell_type": "code",
   "execution_count": 82,
   "metadata": {},
   "outputs": [
    {
     "name": "stdout",
     "output_type": "stream",
     "text": [
      "515\n"
     ]
    }
   ],
   "source": [
    "# 최소 m개가 들어갈려면 lt도 받은 길이의 평균부터 시작 \n",
    "lt = sum(li)//m\n",
    "rt = sum(li)\n",
    "\n",
    "\n",
    "\n",
    "while lt <= rt:\n",
    "    cnt = 0 \n",
    "    mid = (lt+rt)//2\n",
    "    #print(mid)\n",
    "    cnt = check_sum(mid)\n",
    "    #print(cnt)\n",
    "    if cnt == m:\n",
    "        a = [] \n",
    "        for i in range(lt, mid):\n",
    "            check = check_sum(i)\n",
    "            if check == m:\n",
    "                a.append(i)\n",
    "        print(min(a))\n",
    "        break\n",
    "    \n",
    "    elif cnt < m:\n",
    "        rt = mid \n",
    "\n",
    "    else:\n",
    "        lt = mid \n",
    "# 4/5 정답 \n",
    "# 5 4 [1,1,1,1,1]일 때 풀리지 않음 "
   ]
  },
  {
   "attachments": {},
   "cell_type": "markdown",
   "metadata": {},
   "source": [
    "### 추천 풀이"
   ]
  },
  {
   "cell_type": "code",
   "execution_count": null,
   "metadata": {},
   "outputs": [],
   "source": [
    "def Count(capacity):\n",
    "    cnt=1\n",
    "    sum=0\n",
    "    for x in Music:\n",
    "        if sum+x>capacity:\n",
    "            cnt+=1\n",
    "            sum=x\n",
    "        else:\n",
    "            sum+=x\n",
    "    return cnt\n",
    "\n",
    "n, m=map(int, input().split())\n",
    "Music=list(map(int, input().split()))\n",
    "maxx=max(Music)\n",
    "lt=1\n",
    "rt=sum(Music)\n",
    "res=0\n",
    "while lt<=rt:\n",
    "    mid=(lt+rt)//2\n",
    "    if mid>=maxx and Count(mid)<=m:\n",
    "        res=mid\n",
    "        rt=mid-1\n",
    "    else:\n",
    "        lt=mid+1\n",
    "print(res)\n"
   ]
  }
 ],
 "metadata": {
  "kernelspec": {
   "display_name": "Python 3",
   "language": "python",
   "name": "python3"
  },
  "language_info": {
   "codemirror_mode": {
    "name": "ipython",
    "version": 3
   },
   "file_extension": ".py",
   "mimetype": "text/x-python",
   "name": "python",
   "nbconvert_exporter": "python",
   "pygments_lexer": "ipython3",
   "version": "3.9.1"
  },
  "orig_nbformat": 4
 },
 "nbformat": 4,
 "nbformat_minor": 2
}
