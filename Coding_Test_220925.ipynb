{
 "cells": [
  {
   "cell_type": "markdown",
   "metadata": {},
   "source": [
    "## 1번\n",
    "- 수많은 마라톤 선수들이 마라톤에 참여하였습니다. 단 한 명의 선수를 제외하고는 모든 선수가 마라톤을 완주하였습니다.\n",
    "\n",
    "- 마라톤에 참여한 선수들의 이름이 담긴 배열 participant와 완주한 선수들의 이름이 담긴 배열 completion이 주어질 때, 완주하지 못한 선수의 이름을 return 하도록 solution 함수를 작성해주세요.\n",
    "\n",
    "- 마라톤 경기에 참여한 선수의 수는 1명 이상 100,000명 이하입니다.\n",
    "\n",
    "- completion의 길이는 participant의 길이보다 1 작습니다.\n",
    "\n",
    "- 참가자의 이름은 1개 이상 20개 이하의 알파벳 소문자로 이루어져 있습니다.\n",
    "\n",
    "- 참가자 중에는 동명이인이 있을 수 있습니다."
   ]
  },
  {
   "cell_type": "code",
   "execution_count": 2,
   "metadata": {},
   "outputs": [
    {
     "data": {
      "text/plain": [
       "'`\\n중첩 반복문을 돌려서 completion에 있으면 count하거나 지우고 남은 사람을 return \\n아니면 in 을 사용해서 진행하는 것도 될 듯\\n'"
      ]
     },
     "execution_count": 2,
     "metadata": {},
     "output_type": "execute_result"
    }
   ],
   "source": [
    "'''`\n",
    "중첩 반복문을 돌려서 completion에 있으면 count하거나 지우고 남은 사람을 return \n",
    "아니면 in 을 사용해서 진행하는 것도 될 듯\n",
    "'''"
   ]
  },
  {
   "cell_type": "code",
   "execution_count": 85,
   "metadata": {},
   "outputs": [],
   "source": [
    "participant = [\"marina\", \"josipa\", \"nikola\", \"vinko\", \"filipa\"]\n",
    "completion = [\"josipa\", \"filipa\", \"marina\", \"nikola\"]"
   ]
  },
  {
   "cell_type": "code",
   "execution_count": 5,
   "metadata": {},
   "outputs": [
    {
     "name": "stdout",
     "output_type": "stream",
     "text": [
      "vinko\n"
     ]
    }
   ],
   "source": [
    "for i in participant:\n",
    "    if i in completion:\n",
    "        continue\n",
    "    else:\n",
    "        print(i)"
   ]
  },
  {
   "cell_type": "code",
   "execution_count": 6,
   "metadata": {},
   "outputs": [],
   "source": [
    "def solution(participant, completion):\n",
    "    answer = ''\n",
    "\n",
    "    for i in participant:\n",
    "        if i in completion:\n",
    "            continue\n",
    "        else:\n",
    "            answer = i\n",
    "    \n",
    "    return answer\n",
    "# 해당 코드는 동명이인이 있으면 통과되지 못하는 코드임     "
   ]
  },
  {
   "cell_type": "code",
   "execution_count": 7,
   "metadata": {},
   "outputs": [
    {
     "data": {
      "text/plain": [
       "'vinko'"
      ]
     },
     "execution_count": 7,
     "metadata": {},
     "output_type": "execute_result"
    }
   ],
   "source": [
    "solution(participant, completion)"
   ]
  },
  {
   "cell_type": "code",
   "execution_count": 8,
   "metadata": {},
   "outputs": [
    {
     "data": {
      "text/plain": [
       "'\\ndictionary를 사용해서 count하면 되지 않을까? \\n'"
      ]
     },
     "execution_count": 8,
     "metadata": {},
     "output_type": "execute_result"
    }
   ],
   "source": [
    "'''\n",
    "dictionary를 사용해서 count하면 되지 않을까? \n",
    "'''"
   ]
  },
  {
   "cell_type": "code",
   "execution_count": 83,
   "metadata": {},
   "outputs": [],
   "source": [
    "participant = [\"mislav\", \"stanko\", \"mislav\", \"ana\"]\n",
    "completion = [\"stanko\", \"ana\", \"mislav\"]"
   ]
  },
  {
   "cell_type": "code",
   "execution_count": 50,
   "metadata": {},
   "outputs": [
    {
     "name": "stdout",
     "output_type": "stream",
     "text": [
      "{'marina': 0, 'josipa': 0, 'nikola': 0, 'vinko': 0, 'filipa': 0}\n",
      "{'marina': 1, 'josipa': 1, 'nikola': 1, 'vinko': 1, 'filipa': 1}\n"
     ]
    }
   ],
   "source": [
    "dict = {}\n",
    "\n",
    "for i in participant:\n",
    "    dict[i] = 0  \n",
    "print(dict)\n",
    "\n",
    "for idx, (k,v) in enumerate(dict.items()):\n",
    "    for j in participant:\n",
    "        if k == j:\n",
    "            dict[k] += 1 \n",
    "print(dict)"
   ]
  },
  {
   "cell_type": "code",
   "execution_count": 51,
   "metadata": {},
   "outputs": [
    {
     "name": "stdout",
     "output_type": "stream",
     "text": [
      "{'marina': 0, 'josipa': 0, 'nikola': 0, 'vinko': 1, 'filipa': 0}\n"
     ]
    }
   ],
   "source": [
    "for idx, (k,v) in enumerate(dict.items()):\n",
    "    for j in completion:\n",
    "        if k == j:\n",
    "            dict[k] -= 1 \n",
    "print(dict)"
   ]
  },
  {
   "cell_type": "code",
   "execution_count": 52,
   "metadata": {},
   "outputs": [
    {
     "name": "stdout",
     "output_type": "stream",
     "text": [
      "vinko\n"
     ]
    }
   ],
   "source": [
    "answer = ''\n",
    "for idx, (k,v) in enumerate(dict.items()):\n",
    "    if v != 0:\n",
    "        answer = k\n",
    "print(answer)"
   ]
  },
  {
   "cell_type": "code",
   "execution_count": 53,
   "metadata": {},
   "outputs": [],
   "source": [
    "# dictionary를 활용하여 count를 진행하고 count가 0이 아닌 것을 출력 \n",
    "\n",
    "def solution(participant, completion):\n",
    "    answer = ''\n",
    "\n",
    "    dict = {}\n",
    "\n",
    "    for i in participant:\n",
    "        dict[i] = 0  \n",
    "    # print(dict)\n",
    "    # dictionary 만들기 \n",
    "\n",
    "    for idx, (k,v) in enumerate(dict.items()):\n",
    "        for j in participant:\n",
    "            if k == j:\n",
    "                dict[k] += 1 \n",
    "    # print(dict)\n",
    "    # dictionary count 진행 \n",
    "\n",
    "    for idx, (k,v) in enumerate(dict.items()):\n",
    "        for j in completion:\n",
    "            if k == j:\n",
    "                dict[k] -= 1 \n",
    "    # completion에 있다면 count 차감 \n",
    "    \n",
    "    for idx, (k,v) in enumerate(dict.items()):\n",
    "        if v != 0:\n",
    "            answer = k           \n",
    "        # count가 0이 아니라면 완주하지 못했음으로 answer에 넣어줌 \n",
    "\n",
    "\n",
    "\n",
    "    return answer\n",
    "    # 답은 맞지만 효율성 테스트 실패 "
   ]
  },
  {
   "cell_type": "code",
   "execution_count": 54,
   "metadata": {},
   "outputs": [
    {
     "data": {
      "text/plain": [
       "'vinko'"
      ]
     },
     "execution_count": 54,
     "metadata": {},
     "output_type": "execute_result"
    }
   ],
   "source": [
    "solution(participant, completion)"
   ]
  },
  {
   "cell_type": "code",
   "execution_count": 61,
   "metadata": {},
   "outputs": [
    {
     "data": {
      "text/plain": [
       "'\\n정렬?\\n'"
      ]
     },
     "execution_count": 61,
     "metadata": {},
     "output_type": "execute_result"
    }
   ],
   "source": [
    "'''\n",
    "정렬?\n",
    "'''"
   ]
  },
  {
   "cell_type": "code",
   "execution_count": 91,
   "metadata": {},
   "outputs": [
    {
     "name": "stdout",
     "output_type": "stream",
     "text": [
      "vinko\n"
     ]
    }
   ],
   "source": [
    "participant.sort()\n",
    "completion.sort()\n",
    "answer = ''\n",
    "\n",
    "for p, c in zip(participant, completion):\n",
    "    # print(p,c)\n",
    "    \n",
    "    if p != c:\n",
    "        answer = p  \n",
    "    # 정렬을 했는데 같지 않으면 그것은 완주하지 못한것임 \n",
    "if answer == '':\n",
    "    answer = participant[-1]\n",
    "    \n",
    "print(answer)\n"
   ]
  },
  {
   "cell_type": "code",
   "execution_count": 96,
   "metadata": {},
   "outputs": [],
   "source": [
    "def solution(participant, completion):\n",
    "    participant.sort()\n",
    "    completion.sort()\n",
    "\n",
    "    for i in range(len(completion)):\n",
    "        if participant[i] != completion[i]:\n",
    "            return participant[i]\n",
    "        # 정렬을 했는데 같지 않으면 그것은 완주하지 못한것\n",
    "    \n",
    "    \n",
    "    # 위의 조건을 만족하지 못했으면 정렬을 했음으로 맨 마지막 참가자가 완주하지 못한 것임으로 맨 마지막 사람 출력 \n",
    "    return participant[-1]\n"
   ]
  },
  {
   "cell_type": "code",
   "execution_count": 97,
   "metadata": {},
   "outputs": [
    {
     "data": {
      "text/plain": [
       "'vinko'"
      ]
     },
     "execution_count": 97,
     "metadata": {},
     "output_type": "execute_result"
    }
   ],
   "source": [
    "solution(participant, completion)"
   ]
  },
  {
   "cell_type": "markdown",
   "metadata": {},
   "source": [
    "## 2번\n",
    "- 괄호가 바르게 짝지어졌다는 것은 '(' 문자로 열렸으면 반드시 짝지어서 ')' 문자로 닫혀야 한다는 뜻 \n",
    "- \"()()\" 또는 \"(())()\" 는 올바른 괄호입니다.\n",
    "- \")()(\" 또는 \"(()(\" 는 올바르지 않은 괄호입니다.\n",
    "\n",
    "- '(' 또는 ')' 로만 이루어진 문자열 s가 주어졌을 때, 문자열 s가 올바른 괄호이면 true를 return 하고, 올바르지 않은 괄호이면 false를 return 하는 solution 함수를 완성해 주세요.\n",
    "\n",
    "- 문자열 s의 길이 : 100,000 이하의 자연수\n",
    "- 문자열 s는 '(' 또는 ')' 로만 이루어져 있습니다."
   ]
  },
  {
   "cell_type": "code",
   "execution_count": 98,
   "metadata": {},
   "outputs": [
    {
     "data": {
      "text/plain": [
       "'\\n(가 들어가면 무조건 )이 나와야하고 둘의 개수도 같아야함\\n'"
      ]
     },
     "execution_count": 98,
     "metadata": {},
     "output_type": "execute_result"
    }
   ],
   "source": [
    "'''\n",
    "(가 들어가면 무조건 )이 나와야하고 둘의 개수도 같아야함\n",
    "'''"
   ]
  },
  {
   "cell_type": "code",
   "execution_count": 106,
   "metadata": {},
   "outputs": [],
   "source": [
    "s = \"(()(\"\n",
    "s = \"()()\"\n",
    "s = \")()(\""
   ]
  },
  {
   "cell_type": "code",
   "execution_count": 102,
   "metadata": {},
   "outputs": [
    {
     "name": "stdout",
     "output_type": "stream",
     "text": [
      "TRUE\n"
     ]
    }
   ],
   "source": [
    "l = [] \n",
    "for i in s:\n",
    "    if i == \"(\":\n",
    "        l.append(i)\n",
    "    elif i == \")\":\n",
    "        l.pop() \n",
    "    \n",
    "if len(l) == 0:\n",
    "    print(\"TRUE\")\n",
    "else:\n",
    "    print(\"FALSE\")"
   ]
  },
  {
   "cell_type": "code",
   "execution_count": 109,
   "metadata": {},
   "outputs": [],
   "source": [
    "def solution(s):\n",
    "    l = [] \n",
    "\n",
    "    if s == '':\n",
    "        return False\n",
    "    \n",
    "    if s[0] == \")\":\n",
    "        return False \n",
    "\n",
    "    for i in s:\n",
    "        if i == \"(\":\n",
    "            l.append(i)\n",
    "        else:\n",
    "            if len(l) == 0:\n",
    "                continue\n",
    "            # 비어있다면 pop이 안되니깐 \n",
    "            else:\n",
    "                l.pop()\n",
    "\n",
    "\n",
    "    \n",
    "    if len(l) == 0:\n",
    "        return True \n",
    "    else:\n",
    "        return False\n",
    "# 정답 ~         \n"
   ]
  },
  {
   "cell_type": "code",
   "execution_count": 110,
   "metadata": {},
   "outputs": [
    {
     "data": {
      "text/plain": [
       "False"
      ]
     },
     "execution_count": 110,
     "metadata": {},
     "output_type": "execute_result"
    }
   ],
   "source": [
    "solution(s)"
   ]
  },
  {
   "cell_type": "markdown",
   "metadata": {},
   "source": [
    "## 3번 (못품)\n",
    "- 선행 스킬이란 어떤 스킬을 배우기 전에 먼저 배워야 하는 스킬을 뜻합니다.\n",
    "- 예를 들어 선행 스킬 순서가 스파크 → 라이트닝 볼트 → 썬더 일때, 썬더를 배우려면 먼저 라이트닝 볼트를 배워야 하고, 라이트닝 볼트를 배우려면 먼저 스파크를 배워야 합니다.\n",
    "- 위 순서에 없는 다른 스킬(힐링 등)은 순서에 상관없이 배울 수 있습니다. 따라서 스파크 → 힐링 → 라이트닝 볼트 → 썬더와 같은 스킬트리는 가능하지만, 썬더 → 스파크나 라이트닝 볼트 → 스파크 → 힐링 → 썬더와 같은 스킬트리는 불가능합니다.\n",
    "\n",
    "- 스킬은 알파벳 대문자로 표기하며, 모든 문자열은 알파벳 대문자로만 이루어져 있습니다.\n",
    "- 스킬 순서와 스킬트리는 문자열로 표기합니다.\n",
    "- 선행 스킬 순서 skill의 길이는 1 이상 26 이하이며, 스킬은 중복해 주어지지 않습니다.\n",
    "- skill_trees는 길이 1 이상 20 이하인 배열입니다.\n",
    "- skill_trees의 원소는 스킬을 나타내는 문자열입니다.\n"
   ]
  },
  {
   "cell_type": "code",
   "execution_count": 121,
   "metadata": {},
   "outputs": [
    {
     "data": {
      "text/plain": [
       "'\\nskill 순서대로 진행되는지 확인 \\nskill이 다 완료되지 않아도 순서대로 진행되었다면 통과 \\n만약 조건에 맞는 값이 나오면 인덱스를 증가시켜서 하면 되지 않을까 \\n\\n위에거 안되겠네 \\n비교하면서 만약에 순서에 맞지 않는다면 pop을 해보자 \\n'"
      ]
     },
     "execution_count": 121,
     "metadata": {},
     "output_type": "execute_result"
    }
   ],
   "source": [
    "'''\n",
    "skill 순서대로 진행되는지 확인 \n",
    "skill이 다 완료되지 않아도 순서대로 진행되었다면 통과 \n",
    "만약 조건에 맞는 값이 나오면 인덱스를 증가시켜서 하면 되지 않을까 \n",
    "\n",
    "위에거 안되겠네 \n",
    "비교하면서 만약에 순서에 맞지 않는다면 pop을 해보자 \n",
    "'''"
   ]
  },
  {
   "cell_type": "code",
   "execution_count": 162,
   "metadata": {},
   "outputs": [],
   "source": [
    "skill = \"CBD\"\n",
    "skill_trees = [\"BACDE\", \"CBADF\", \"AECB\", \"BDA\"]"
   ]
  },
  {
   "cell_type": "code",
   "execution_count": 157,
   "metadata": {},
   "outputs": [
    {
     "name": "stdout",
     "output_type": "stream",
     "text": [
      "1\n"
     ]
    }
   ],
   "source": [
    "cnt = 0 \n",
    "l =[]\n",
    "for i in skill_trees:\n",
    "    skills = list(i)\n",
    "\n",
    "\n",
    "    for j in i:\n",
    "        if j in skill:\n",
    "            if j != skills.pop(0):\n",
    "                break \n",
    "    else:\n",
    "        cnt += 1 \n",
    "print(cnt)"
   ]
  },
  {
   "cell_type": "code",
   "execution_count": 170,
   "metadata": {},
   "outputs": [],
   "source": [
    "def solution(skill, skill_trees):\n",
    "    answer = 0\n",
    "\n",
    "    for i in skill_trees:\n",
    "        skills = list(i)\n",
    "\n",
    "        for j in i:\n",
    "            if j in skill:\n",
    "                if j != skills.pop(0):\n",
    "                    break \n",
    "        else:\n",
    "            answer += 1 \n",
    "            \n",
    "    return answer "
   ]
  },
  {
   "cell_type": "code",
   "execution_count": 171,
   "metadata": {},
   "outputs": [
    {
     "data": {
      "text/plain": [
       "1"
      ]
     },
     "execution_count": 171,
     "metadata": {},
     "output_type": "execute_result"
    }
   ],
   "source": [
    "solution(skill, skill_trees)"
   ]
  },
  {
   "cell_type": "markdown",
   "metadata": {},
   "source": [
    "### 참고 풀이"
   ]
  },
  {
   "cell_type": "code",
   "execution_count": 172,
   "metadata": {},
   "outputs": [],
   "source": [
    "def solution(skill, skill_trees):\n",
    "    count = 0\n",
    "    for skill_tree in skill_trees:\n",
    "        s = \"\"                      # 하나의 스킬트리를 뽑을 때마다 s 초기화\n",
    "        for ch in skill_tree:       \n",
    "            if ch in skill:         # 스킬트리 중에 skill이 있다면 s에 추가\n",
    "                s += ch\n",
    "        \n",
    "        if skill[:len(s)] == s:     # 만든 s를 기준으로 skill과 같다면 count += 1\n",
    "            count += 1\n",
    "    \n",
    "    return count"
   ]
  },
  {
   "cell_type": "code",
   "execution_count": 173,
   "metadata": {},
   "outputs": [
    {
     "data": {
      "text/plain": [
       "2"
      ]
     },
     "execution_count": 173,
     "metadata": {},
     "output_type": "execute_result"
    }
   ],
   "source": [
    "solution(skill, skill_trees)"
   ]
  },
  {
   "cell_type": "code",
   "execution_count": null,
   "metadata": {},
   "outputs": [],
   "source": []
  }
 ],
 "metadata": {
  "kernelspec": {
   "display_name": "Python 3.9.1 64-bit ('3.9.1')",
   "language": "python",
   "name": "python3"
  },
  "language_info": {
   "codemirror_mode": {
    "name": "ipython",
    "version": 3
   },
   "file_extension": ".py",
   "mimetype": "text/x-python",
   "name": "python",
   "nbconvert_exporter": "python",
   "pygments_lexer": "ipython3",
   "version": "3.9.1"
  },
  "orig_nbformat": 4,
  "vscode": {
   "interpreter": {
    "hash": "b29909ae39fc17549a84839997d927dda790dc9d9d25402f3e010c02e8c51a82"
   }
  }
 },
 "nbformat": 4,
 "nbformat_minor": 2
}
