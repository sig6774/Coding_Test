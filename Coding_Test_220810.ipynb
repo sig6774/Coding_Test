{
 "cells": [
  {
   "cell_type": "markdown",
   "metadata": {},
   "source": [
    "## 이진트리 순회(깊이 우선 탐색)\n",
    "- 아래 그림과 같은 이진트리를 전위순회와 후위순회를 연습해보세요."
   ]
  },
  {
   "cell_type": "code",
   "execution_count": null,
   "metadata": {},
   "outputs": [],
   "source": [
    "'''\n",
    "깊이 우선 탐색 \n",
    "- 트리 구조를 탐색하는데 사용하는 알고리즘 \n",
    "- 깊이가 계속 있으면 파고 들어가서 왔다는 것을 표시\n",
    "- stack으로 각 함수가 저장됨 \n",
    "'''"
   ]
  },
  {
   "cell_type": "code",
   "execution_count": 9,
   "metadata": {},
   "outputs": [],
   "source": [
    "def DFS(node):\n",
    "    if node > 7:\n",
    "        # 7까지 있으니깐 \n",
    "        return \n",
    "    else:\n",
    "        # print(node, end=\" \")\n",
    "        # 함수를 호출하기 전에 작업을 먼저 수행하는 것이므로 전위 순회방식\n",
    "        \n",
    "        DFS(node*2)\n",
    "        # 왼쪽 자식 노드 호출 \n",
    "\n",
    "        # print(node, end=\" \")\n",
    "        # 왼쪽 먼저 처리하고 이제 작업을 수행하는 것이므로 중위 순회방식\n",
    "\n",
    "\n",
    "\n",
    "        DFS(node*2+1)\n",
    "        # 오른쪽 자식 노드 호출 \n",
    "\n",
    "        print(node, end = \" \")\n",
    "        # 후위 순회방식(왼쪽, 오른쪽 자식 모두 처리하고 진행 )\n",
    "\n",
    "    # 1이 들어오면 if 조건을 만족하지 않으니깐 \n",
    "    # DFS(2), DFS(3)으로 뻗어나감 \n",
    "    # 위의 과정을 반복"
   ]
  },
  {
   "cell_type": "code",
   "execution_count": 10,
   "metadata": {},
   "outputs": [
    {
     "name": "stdout",
     "output_type": "stream",
     "text": [
      "4 5 2 6 7 3 1 "
     ]
    }
   ],
   "source": [
    "'''\n",
    "중위 순회방식 \n",
    "DFS(1)은 DFS(2) -> DFS(4)로 진행 \n",
    "DFS(4)는 print()만 실행되기 때문에 4출력 \n",
    "DFS(2)의 내용도 출력진행 \n",
    "DFS(2)에서 print()실행되고 밑의 DFS(2*2+1) 진행 \n",
    "DFS(5)는 print()만 실행되기 때문에 5출력 \n",
    "그러면 다시 DFS(1)의 print()수행 \n",
    "그러고 DFS(3) -> DFS(6)과 DFS(7) 진행 \n",
    "DFS(6)은 print()만 수행되고 DFS(3)으로 돌아감\n",
    "DFS(3)은 print()진행하고 밑의 DFS(7) 진행 \n",
    "DFS(7)은 print()만 진행하고 끝남 \n",
    "'''\n",
    "if __name__ ==\"__main__\":\n",
    "    DFS(1)\n",
    "\n"
   ]
  },
  {
   "cell_type": "markdown",
   "metadata": {},
   "source": [
    "## 부분집합 구하기(DFS)\n",
    "- 자연수 N이 주어지면 1부터 N까지의 원소를 갖는 집합의 부분집합을 모두 출력하는 프로그램 을 작성하세요.\n",
    "\n",
    "<hr>\n",
    "\n",
    "- 첫 번째 줄에 자연수 N(1<=N<=10)이 주어집니다.\n",
    "- 첫 번째 줄부터 각 줄에 하나씩 부분집합을 아래와 출력예제와 같은 순서로 출력한다. 단 공집합은 출력하지 않습니다."
   ]
  },
  {
   "cell_type": "code",
   "execution_count": 1,
   "metadata": {},
   "outputs": [
    {
     "data": {
      "text/plain": [
       "'\\n\\n'"
      ]
     },
     "execution_count": 1,
     "metadata": {},
     "output_type": "execute_result"
    }
   ],
   "source": [
    "'''\n",
    "원소가 들어가면 사용할건지 사용하지 않을건지 판단 \n",
    "D(1)을 넣으면 부분원소로 사용할 것인지 사용하지 않을 것인지 판단 \n",
    "D(2)를 넣으면 부분원소로 사용할 것인지 사용하지 않을 것인지 판단 \n",
    "D(3)를 넣으면 부분원소로 사용할 것인지 사용하지 않을 것인지 판단 \n",
    "D(4)는 조건에 맞지 않으므로 다시 돌아감 \n",
    "\n",
    "DFS를 잘하기 위해서는 상태트리를 잘 구성해서 재귀로 풀면 됨 \n",
    "'''"
   ]
  },
  {
   "cell_type": "code",
   "execution_count": 4,
   "metadata": {},
   "outputs": [],
   "source": [
    "def DFS(node):\n",
    "    if node == n+1:\n",
    "        # 종착이니깐 \n",
    "        for i in range(1, n+1):\n",
    "            if ch[i] == 1:\n",
    "                # 1일때 값만 출력하면 됨 \n",
    "                print(i, end = \" \")\n",
    "        print()\n",
    "    else:\n",
    "        # 사용할건지 사용하지 않을 건지를 여기서 사용 \n",
    "\n",
    "        # 사용할 때 \n",
    "        ch[node] = 1 \n",
    "        DFS(node+1)\n",
    "        # 1로 체크가 다 되었을 때 if조건문을 만족함으로 체크된 것의 index를 불러오면 됨 \n",
    "        # 이후 밑에 것을 수행하면서 하나씩 0이 되는 과정을 거치면 됨 \n",
    "\n",
    "        # 사용하지 않을 때 \n",
    "        ch[node] = 0    \n",
    "        DFS(node+1)"
   ]
  },
  {
   "cell_type": "code",
   "execution_count": null,
   "metadata": {},
   "outputs": [],
   "source": [
    "'''\n",
    "DFS(1) 호출\n",
    "    if 조건을 만족하지 못함\n",
    "    사용할 때 ch[1] = 1이 되고 DFS(2) 호출 \n",
    "\n",
    "    if 조건을 만족하지 못함 \n",
    "    사용하지 않을 때 ch[1] = 0이 되고 DFS(2)호출 \n",
    "\n",
    "    DFS(2) \n",
    "        if 조건을 만족하지 못함 \n",
    "        사용할 때 ch[2] = 1이 되고 DFS(3)호출 \n",
    "\n",
    "        if 조건을 만족하지 못함 \n",
    "        사용하지 않을 때 ch[2] = 0이 되고 DFS(2) 호출\n",
    "\n",
    "        DFS(3)\n",
    "        if 조건을 만족하지 못함 \n",
    "        사용할 때 ch[3] = 1이 되고 DFS(4)호출 \n",
    "\n",
    "        if 조건을 만족하지 못함 \n",
    "        사용하지 않을 떄 ch[3] = 0이 되고 DFS(3) 호출 \n",
    "\n",
    "            DFS(4)\n",
    "            if 조건을 만족함 \n",
    "            반복문을 통해 ch의 원소가 1인 것의 인덱스 값만 호출 \n",
    "\n",
    "'''"
   ]
  },
  {
   "cell_type": "code",
   "execution_count": 5,
   "metadata": {},
   "outputs": [
    {
     "name": "stdout",
     "output_type": "stream",
     "text": [
      "1 2 3 \n",
      "1 2 \n",
      "1 3 \n",
      "1 \n",
      "2 3 \n",
      "2 \n",
      "3 \n",
      "\n"
     ]
    }
   ],
   "source": [
    "if __name__ == \"__main__\":\n",
    "    n = int(input())\n",
    "    ch = [0] * (n+1)\n",
    "    # 체크 변수 \n",
    "\n",
    "    DFS(1)\n",
    "\n"
   ]
  },
  {
   "cell_type": "markdown",
   "metadata": {},
   "source": [
    "## 합이 같은 부분집합(DFS : 아마존 인터뷰)\n",
    "\n",
    "- N개의 원소로 구성된 자연수 집합이 주어지면, 이 집합을 두 개의 부분집합으로 나누었을 때 두 부분집합의 원소의 합이 서로 같은 경우가 존재하면 “YES\"를 출력하고, 그렇지 않으면 ”NO\"를 출력하는 프로그램을 작성하세요.\n",
    "- 둘로 나뉘는 두 부분집합은 서로소 집합이며, 두 부분집합을 합하면 입력으로 주어진 원래의 집합이 되어 합니다.\n",
    "- 예를 들어 {1, 3, 5, 6, 7, 10}이 입력되면 {1, 3, 5, 7} = {6, 10} 으로 두 부분집합의 합이 16으로 같은 경우가 존재하는 것을 알 수 있다.\n",
    "\n",
    "<hr>\n",
    "\n",
    "- 첫 번째 줄에 자연수 N(1<=N<=10)이 주어집니다.\n",
    "두 번째 줄에 집합의 원소 N개가 주어진다. 각 원소는 중복되지 않는다.\n",
    "- 첫 번째 줄에 “YES\" 또는 ”NO\"를 출력한다."
   ]
  },
  {
   "cell_type": "code",
   "execution_count": null,
   "metadata": {},
   "outputs": [],
   "source": [
    "'''\n",
    "만약 합이 같은 부분집합이 있다고 해도 그걸 어떻게 찾지? \n",
    "위에 부분집합을 구하는 방법과 똑같이 사용할 때와 사용하지 않을 때로 해서 리스트에 넣어주고\n",
    "그 리스트들의 합이 같다면 yes 출력?\n",
    "'''"
   ]
  },
  {
   "cell_type": "code",
   "execution_count": 6,
   "metadata": {},
   "outputs": [],
   "source": [
    "n = 6"
   ]
  },
  {
   "cell_type": "code",
   "execution_count": 7,
   "metadata": {},
   "outputs": [
    {
     "ename": "SyntaxError",
     "evalue": "invalid syntax (4103118593.py, line 10)",
     "output_type": "error",
     "traceback": [
      "\u001b[0;36m  Input \u001b[0;32mIn [7]\u001b[0;36m\u001b[0m\n\u001b[0;31m    a[index] =\u001b[0m\n\u001b[0m               ^\u001b[0m\n\u001b[0;31mSyntaxError\u001b[0m\u001b[0;31m:\u001b[0m invalid syntax\n"
     ]
    }
   ],
   "source": [
    "def DFS(index):\n",
    "    a = []\n",
    "    b = [] \n",
    "    if index > n+1:\n",
    "        if sum(a) == sum(b):\n",
    "            print(\"Yes\")\n",
    "        else:\n",
    "            print(\"No\")\n",
    "\n",
    "    a[index] = \n",
    "    DFS(index+1):\n",
    "    # 이렇게 하면 안될 듯 \n",
    "    "
   ]
  },
  {
   "cell_type": "markdown",
   "metadata": {},
   "source": [
    "### 참고 풀이"
   ]
  },
  {
   "cell_type": "code",
   "execution_count": 8,
   "metadata": {},
   "outputs": [
    {
     "data": {
      "text/plain": [
       "'\\n각 원소들을 포함한다 포함하지 않는다로 부분 집합을 만들어감 \\n부분집합을 만들었을 때 부분집합에 참여하지 않은 원소들이 또 다른 부분집합이 됨 \\n전체 원소의 합을 구하고 만든 부분집합의 sum값도 구함 \\n전체 원소 합 - 부분집합의 sum과 부분집합의 sum이 같다면 yes출력 \\n'"
      ]
     },
     "execution_count": 8,
     "metadata": {},
     "output_type": "execute_result"
    }
   ],
   "source": [
    "'''\n",
    "각 원소들을 포함한다 포함하지 않는다로 부분 집합을 만들어감 \n",
    "부분집합을 만들었을 때 부분집합에 참여하지 않은 원소들이 또 다른 부분집합이 됨 \n",
    "전체 원소의 합을 구하고 만든 부분집합의 sum값도 구함 \n",
    "전체 원소 합 - 부분집합의 sum과 부분집합의 sum이 같다면 yes출력 \n",
    "'''"
   ]
  },
  {
   "cell_type": "code",
   "execution_count": 16,
   "metadata": {},
   "outputs": [],
   "source": [
    "import sys \n",
    "def DFS(L, S):\n",
    "    # L은 리스트를 참조하는 인덱스 번호\n",
    "    # S는 만든 부분집합의 원소들의 합\n",
    "    # 원소를 사용할 때와 사용하지 않을 때 나눠서 진행 \n",
    "    # 종료는 L이 n이 되었을 때 종료 \n",
    "\n",
    "    if L == n:\n",
    "        if S == (total-S):\n",
    "            # 내가 만든 부분집합의 합이 (total - 내가 만든 부분집합의 합)과 같다면 \n",
    "            print(\"YES\")\n",
    "            sys.exit(0)\n",
    "\n",
    "    else:\n",
    "        # 원소를 사용할 때니깐 인덱스 증가시키고 값도 추가 \n",
    "        DFS(L+1, S+a[L])\n",
    "\n",
    "        # 원소를 사용하지 않을 때는 인덱스만 증가 \n",
    "        DFS(L+1, S)\n"
   ]
  },
  {
   "cell_type": "code",
   "execution_count": 17,
   "metadata": {},
   "outputs": [
    {
     "name": "stdout",
     "output_type": "stream",
     "text": [
      "YES\n"
     ]
    },
    {
     "ename": "SystemExit",
     "evalue": "0",
     "output_type": "error",
     "traceback": [
      "An exception has occurred, use %tb to see the full traceback.\n",
      "\u001b[0;31mSystemExit\u001b[0m\u001b[0;31m:\u001b[0m 0\n"
     ]
    },
    {
     "name": "stderr",
     "output_type": "stream",
     "text": [
      "/Users/sig6774/opt/anaconda3/lib/python3.9/site-packages/IPython/core/interactiveshell.py:3377: UserWarning: To exit: use 'exit', 'quit', or Ctrl-D.\n",
      "  warn(\"To exit: use 'exit', 'quit', or Ctrl-D.\", stacklevel=1)\n"
     ]
    }
   ],
   "source": [
    "if __name__ == \"__main__\":\n",
    "    n = int(input())\n",
    "    a = list(map(int, input().split()))\n",
    "    total = sum(a)\n",
    "    DFS(0, 0)\n",
    "    \n",
    "    # 합들이 같은게 없는 경우 \n",
    "    print(\"NO\")"
   ]
  },
  {
   "cell_type": "code",
   "execution_count": null,
   "metadata": {},
   "outputs": [],
   "source": []
  }
 ],
 "metadata": {
  "kernelspec": {
   "display_name": "Python 3.9.12 ('base')",
   "language": "python",
   "name": "python3"
  },
  "language_info": {
   "codemirror_mode": {
    "name": "ipython",
    "version": 3
   },
   "file_extension": ".py",
   "mimetype": "text/x-python",
   "name": "python",
   "nbconvert_exporter": "python",
   "pygments_lexer": "ipython3",
   "version": "3.9.12"
  },
  "orig_nbformat": 4,
  "vscode": {
   "interpreter": {
    "hash": "4e56095587f6faaee8b6fe269bd4758f04d4dcfca17a97e0204e5c06e32115c1"
   }
  }
 },
 "nbformat": 4,
 "nbformat_minor": 2
}
