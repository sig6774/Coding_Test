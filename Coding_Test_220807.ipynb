{
 "cells": [
  {
   "cell_type": "markdown",
   "metadata": {},
   "source": [
    "## 재귀함수 학습"
   ]
  },
  {
   "cell_type": "code",
   "execution_count": 2,
   "metadata": {},
   "outputs": [
    {
     "data": {
      "text/plain": [
       "'재귀함수와 스택 \\n재귀함수\\n    - 자기 자신을 호출하는 함수를 뜻함 \\n    - 재귀함수가 운용이 될 때 stack이라는 자료구조를 이용 \\n    - 알고리즘의 기준에서 봤을 때는 재귀함수는 반복문의 대체 (3중, 4중 반복문을 훨씬 쉽게 작성 가능)\\n'"
      ]
     },
     "execution_count": 2,
     "metadata": {},
     "output_type": "execute_result"
    }
   ],
   "source": [
    "'''재귀함수와 스택 \n",
    "재귀함수\n",
    "    - 자기 자신을 호출하는 함수를 뜻함 \n",
    "    - 재귀함수가 운용이 될 때 stack이라는 자료구조를 이용 \n",
    "    - 알고리즘의 기준에서 봤을 때는 재귀함수는 반복문의 대체 \n",
    "    - 3중, 4중 반복문을 훨씬 쉽게 작성 가능\n",
    "'''"
   ]
  },
  {
   "cell_type": "code",
   "execution_count": 7,
   "metadata": {},
   "outputs": [],
   "source": [
    "def DFS(num):\n",
    "\n",
    "    if num > 0:\n",
    "        # 종료 조건을 만들어줌 \n",
    "        DFS(num-1)\n",
    "        print(num)\n",
    "        '''\n",
    "        이렇게 작성하면 거꾸로 출력됨 \n",
    "        원래는 3, 2, 1 이렇게 출력되어야 하는데 \n",
    "        DFS(num-1) 밑에 print문을 작성하게 되면 1, 2, 3으로 출력 \n",
    "        이유는 stack구조를 이용하기 때문 \n",
    "        DFS(3)이 호출되면 메모리에 기록이 되는데 stack이라는 형태로 기록 \n",
    "        stack에는 매개변수 num값이 메모리에 할당되고 지역변수가 있으면 지역변수와 복귀주소(main에서 DFS(3)부분)도 할당 \n",
    "        DFS(2)가 호출되면 DFS(3)의 과정과 같이 stack에 저장되는데 복귀 주소가 def안에 DFS(3)임 \n",
    "        DFS(1)이 호출되면 DFS(2)의 과정과 같이 stack에 저장되는데 복귀 주소가 def안에 DFS(2)임 \n",
    "        DFS(0)이 호출되면 DFS(0)의 과정과 같이 stack에 저장되는데 조건문에 반하게 되므로 자기할일을 다하고 stack 할당 부분 해제 \n",
    "        DFS(0)이 끝나게 되면 복귀주소인 DFS(1)로 가게 되고 거기서 할 일을 한 뒤 stack에서 사라짐 \n",
    "        DFS(1)이 끝나게 되면 복귀주소인 DFS(2)로 가게 되고 거기서 할 일을 한 뒤 stack에서 사라짐 \n",
    "        DFS(2)가 끝나게 되면 복귀주소인 DFS(3)로 가게 되고 거기서 할 일을 한 뒤 stack에서 사라짐 \n",
    "        DFS(3)이 끝나게 되면 stack에서 할당된 값들이 다 없어지면서 \n",
    "        main의 DFS(3)으로 복귀하고 코드가 더 있다면 진행하고 없다면 코드 종료 \n",
    "        ''' "
   ]
  },
  {
   "cell_type": "code",
   "execution_count": 8,
   "metadata": {},
   "outputs": [
    {
     "name": "stdout",
     "output_type": "stream",
     "text": [
      "1\n",
      "2\n",
      "3\n"
     ]
    }
   ],
   "source": [
    "if __name__ == \"__main__\":\n",
    "    # main script \n",
    "    n = int(input())\n",
    "    DFS(n)\n",
    "    "
   ]
  },
  {
   "cell_type": "markdown",
   "metadata": {},
   "source": [
    "## 재귀함수를 이용한 이진수 출력\n",
    "- 10진수 N이 입력되면 2진수로 변환하여 출력하는 프로그램을 작성하세요. 단 재귀함수를 이용 해서 출력해야 합니다."
   ]
  },
  {
   "cell_type": "code",
   "execution_count": 11,
   "metadata": {},
   "outputs": [
    {
     "name": "stdout",
     "output_type": "stream",
     "text": [
      "10\n"
     ]
    }
   ],
   "source": [
    "from re import S\n",
    "\n",
    "\n",
    "s = \"\"\n",
    "n = 11 \n",
    "\n",
    "while True:\n",
    "    q = 0 \n",
    "    n = n // 2 \n",
    "    q = n % 2\n",
    "    s += str(q)\n",
    "\n",
    "    if n == 1:\n",
    "        s += \"1\"\n",
    "        break \n",
    "    else:\n",
    "        s += \"0\"\n",
    "        break\n",
    "print(s)"
   ]
  },
  {
   "cell_type": "code",
   "execution_count": 3,
   "metadata": {},
   "outputs": [],
   "source": [
    "def DFS(num):\n",
    "    \n",
    "    if num >= 1:\n",
    "        DFS(num)\n",
    "        s = str(num % 2)\n",
    "        num = num // 2 \n",
    "        # 값 갱신 \n",
    "        \n",
    "        print(s, end=\"\")\n",
    "        # stack이니깐 맨 처음 계산한 값이 가장 나중에 나옴 \n",
    "        "
   ]
  },
  {
   "cell_type": "code",
   "execution_count": 4,
   "metadata": {},
   "outputs": [
    {
     "ename": "RecursionError",
     "evalue": "maximum recursion depth exceeded in comparison",
     "output_type": "error",
     "traceback": [
      "\u001b[0;31m---------------------------------------------------------------------------\u001b[0m",
      "\u001b[0;31mRecursionError\u001b[0m                            Traceback (most recent call last)",
      "\u001b[1;32m/Users/sig6774/CodingTest/Coding_Test_220807.ipynb 셀 8\u001b[0m in \u001b[0;36m<cell line: 3>\u001b[0;34m()\u001b[0m\n\u001b[1;32m      <a href='vscode-notebook-cell:/Users/sig6774/CodingTest/Coding_Test_220807.ipynb#ch0000012?line=0'>1</a>\u001b[0m n \u001b[39m=\u001b[39m \u001b[39mint\u001b[39m(\u001b[39minput\u001b[39m())\n\u001b[1;32m      <a href='vscode-notebook-cell:/Users/sig6774/CodingTest/Coding_Test_220807.ipynb#ch0000012?line=1'>2</a>\u001b[0m s \u001b[39m=\u001b[39m \u001b[39m\"\u001b[39m\u001b[39m\"\u001b[39m\n\u001b[0;32m----> <a href='vscode-notebook-cell:/Users/sig6774/CodingTest/Coding_Test_220807.ipynb#ch0000012?line=2'>3</a>\u001b[0m DFS(n)\n",
      "\u001b[1;32m/Users/sig6774/CodingTest/Coding_Test_220807.ipynb 셀 8\u001b[0m in \u001b[0;36mDFS\u001b[0;34m(num)\u001b[0m\n\u001b[1;32m      <a href='vscode-notebook-cell:/Users/sig6774/CodingTest/Coding_Test_220807.ipynb#ch0000012?line=0'>1</a>\u001b[0m \u001b[39mdef\u001b[39;00m \u001b[39mDFS\u001b[39m(num):\n\u001b[1;32m      <a href='vscode-notebook-cell:/Users/sig6774/CodingTest/Coding_Test_220807.ipynb#ch0000012?line=2'>3</a>\u001b[0m     \u001b[39mif\u001b[39;00m num \u001b[39m>\u001b[39m\u001b[39m=\u001b[39m \u001b[39m1\u001b[39m:\n\u001b[0;32m----> <a href='vscode-notebook-cell:/Users/sig6774/CodingTest/Coding_Test_220807.ipynb#ch0000012?line=3'>4</a>\u001b[0m         DFS(num)\n\u001b[1;32m      <a href='vscode-notebook-cell:/Users/sig6774/CodingTest/Coding_Test_220807.ipynb#ch0000012?line=4'>5</a>\u001b[0m         s \u001b[39m=\u001b[39m \u001b[39mstr\u001b[39m(num \u001b[39m%\u001b[39m \u001b[39m2\u001b[39m)\n\u001b[1;32m      <a href='vscode-notebook-cell:/Users/sig6774/CodingTest/Coding_Test_220807.ipynb#ch0000012?line=5'>6</a>\u001b[0m         num \u001b[39m=\u001b[39m num \u001b[39m/\u001b[39m\u001b[39m/\u001b[39m \u001b[39m2\u001b[39m \n",
      "\u001b[1;32m/Users/sig6774/CodingTest/Coding_Test_220807.ipynb 셀 8\u001b[0m in \u001b[0;36mDFS\u001b[0;34m(num)\u001b[0m\n\u001b[1;32m      <a href='vscode-notebook-cell:/Users/sig6774/CodingTest/Coding_Test_220807.ipynb#ch0000012?line=0'>1</a>\u001b[0m \u001b[39mdef\u001b[39;00m \u001b[39mDFS\u001b[39m(num):\n\u001b[1;32m      <a href='vscode-notebook-cell:/Users/sig6774/CodingTest/Coding_Test_220807.ipynb#ch0000012?line=2'>3</a>\u001b[0m     \u001b[39mif\u001b[39;00m num \u001b[39m>\u001b[39m\u001b[39m=\u001b[39m \u001b[39m1\u001b[39m:\n\u001b[0;32m----> <a href='vscode-notebook-cell:/Users/sig6774/CodingTest/Coding_Test_220807.ipynb#ch0000012?line=3'>4</a>\u001b[0m         DFS(num)\n\u001b[1;32m      <a href='vscode-notebook-cell:/Users/sig6774/CodingTest/Coding_Test_220807.ipynb#ch0000012?line=4'>5</a>\u001b[0m         s \u001b[39m=\u001b[39m \u001b[39mstr\u001b[39m(num \u001b[39m%\u001b[39m \u001b[39m2\u001b[39m)\n\u001b[1;32m      <a href='vscode-notebook-cell:/Users/sig6774/CodingTest/Coding_Test_220807.ipynb#ch0000012?line=5'>6</a>\u001b[0m         num \u001b[39m=\u001b[39m num \u001b[39m/\u001b[39m\u001b[39m/\u001b[39m \u001b[39m2\u001b[39m \n",
      "    \u001b[0;31m[... skipping similar frames: DFS at line 4 (2969 times)]\u001b[0m\n",
      "\u001b[1;32m/Users/sig6774/CodingTest/Coding_Test_220807.ipynb 셀 8\u001b[0m in \u001b[0;36mDFS\u001b[0;34m(num)\u001b[0m\n\u001b[1;32m      <a href='vscode-notebook-cell:/Users/sig6774/CodingTest/Coding_Test_220807.ipynb#ch0000012?line=0'>1</a>\u001b[0m \u001b[39mdef\u001b[39;00m \u001b[39mDFS\u001b[39m(num):\n\u001b[1;32m      <a href='vscode-notebook-cell:/Users/sig6774/CodingTest/Coding_Test_220807.ipynb#ch0000012?line=2'>3</a>\u001b[0m     \u001b[39mif\u001b[39;00m num \u001b[39m>\u001b[39m\u001b[39m=\u001b[39m \u001b[39m1\u001b[39m:\n\u001b[0;32m----> <a href='vscode-notebook-cell:/Users/sig6774/CodingTest/Coding_Test_220807.ipynb#ch0000012?line=3'>4</a>\u001b[0m         DFS(num)\n\u001b[1;32m      <a href='vscode-notebook-cell:/Users/sig6774/CodingTest/Coding_Test_220807.ipynb#ch0000012?line=4'>5</a>\u001b[0m         s \u001b[39m=\u001b[39m \u001b[39mstr\u001b[39m(num \u001b[39m%\u001b[39m \u001b[39m2\u001b[39m)\n\u001b[1;32m      <a href='vscode-notebook-cell:/Users/sig6774/CodingTest/Coding_Test_220807.ipynb#ch0000012?line=5'>6</a>\u001b[0m         num \u001b[39m=\u001b[39m num \u001b[39m/\u001b[39m\u001b[39m/\u001b[39m \u001b[39m2\u001b[39m \n",
      "\u001b[1;32m/Users/sig6774/CodingTest/Coding_Test_220807.ipynb 셀 8\u001b[0m in \u001b[0;36mDFS\u001b[0;34m(num)\u001b[0m\n\u001b[1;32m      <a href='vscode-notebook-cell:/Users/sig6774/CodingTest/Coding_Test_220807.ipynb#ch0000012?line=0'>1</a>\u001b[0m \u001b[39mdef\u001b[39;00m \u001b[39mDFS\u001b[39m(num):\n\u001b[0;32m----> <a href='vscode-notebook-cell:/Users/sig6774/CodingTest/Coding_Test_220807.ipynb#ch0000012?line=2'>3</a>\u001b[0m     \u001b[39mif\u001b[39;00m num \u001b[39m>\u001b[39;49m\u001b[39m=\u001b[39;49m \u001b[39m1\u001b[39;49m:\n\u001b[1;32m      <a href='vscode-notebook-cell:/Users/sig6774/CodingTest/Coding_Test_220807.ipynb#ch0000012?line=3'>4</a>\u001b[0m         DFS(num)\n\u001b[1;32m      <a href='vscode-notebook-cell:/Users/sig6774/CodingTest/Coding_Test_220807.ipynb#ch0000012?line=4'>5</a>\u001b[0m         s \u001b[39m=\u001b[39m \u001b[39mstr\u001b[39m(num \u001b[39m%\u001b[39m \u001b[39m2\u001b[39m)\n",
      "\u001b[0;31mRecursionError\u001b[0m: maximum recursion depth exceeded in comparison"
     ]
    }
   ],
   "source": [
    "n = int(input())\n",
    "s = \"\"\n",
    "DFS(n)\n",
    "\n",
    "# 아 왜 안되는거지? \n",
    "# 뭐가 잘못된거 같은데 "
   ]
  },
  {
   "cell_type": "markdown",
   "metadata": {},
   "source": [
    "### 참고 풀이"
   ]
  },
  {
   "cell_type": "code",
   "execution_count": 76,
   "metadata": {},
   "outputs": [
    {
     "name": "stdout",
     "output_type": "stream",
     "text": [
      "1011"
     ]
    }
   ],
   "source": [
    "def DFS(x):\n",
    "    if x==0:\n",
    "        return\n",
    "    else:\n",
    "        DFS(x//2)\n",
    "        print(x%2, end='')\n",
    "\n",
    "n=int(input())\n",
    "DFS(n)"
   ]
  },
  {
   "cell_type": "code",
   "execution_count": null,
   "metadata": {},
   "outputs": [],
   "source": []
  }
 ],
 "metadata": {
  "kernelspec": {
   "display_name": "Python 3.9.1 64-bit ('3.9.1')",
   "language": "python",
   "name": "python3"
  },
  "language_info": {
   "codemirror_mode": {
    "name": "ipython",
    "version": 3
   },
   "file_extension": ".py",
   "mimetype": "text/x-python",
   "name": "python",
   "nbconvert_exporter": "python",
   "pygments_lexer": "ipython3",
   "version": "3.9.1"
  },
  "orig_nbformat": 4,
  "vscode": {
   "interpreter": {
    "hash": "b29909ae39fc17549a84839997d927dda790dc9d9d25402f3e010c02e8c51a82"
   }
  }
 },
 "nbformat": 4,
 "nbformat_minor": 2
}
