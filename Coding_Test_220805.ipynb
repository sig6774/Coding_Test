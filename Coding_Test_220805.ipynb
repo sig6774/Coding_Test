{
 "cells": [
  {
   "cell_type": "markdown",
   "metadata": {},
   "source": [
    "## 최소힙 \n",
    "- 최소힙은 완전이진트리로 구현된 자료구조입니다. 그 구성은 부모 노드값이 왼쪽자식과 오른 쪽 자식노드의 값보다 작게 트리를 구성하는 것입니다. \n",
    "- 그렇게 하면 트리의 루트(root)노드는 입력된 값들 중 가장 작은 값이 저장되어 있습니다. 예를 들어 5 3 2 1 4 6 7순으로 입력되 면 최소힙 트리는 아래와 같이 구성됩니다.\n",
    "\n",
    "- 최소힙 자료를 이용하여 다음과 같은 연산을 하는 프로그램을 작성하세요. \n",
    "\n",
    "- 1. 자연수가 입력되면 최소힙에 입력한다.\n",
    "- 2. 숫자 0 이 입력되면 최소힙에서 최솟값을 꺼내어 출력한다.\n",
    "(출력할 자료가 없으면 -1를 출력한다.) 3) -1이 입력되면 프로그램 종료한다.\n",
    "\n",
    "<hr>\n",
    "\n",
    "- 첫 번째 줄부터 숫자가 입력된다. 입력되는 숫자는 100,000개 이하이며 각 숫자의 크기는 정 수형 범위에 있다."
   ]
  },
  {
   "cell_type": "code",
   "execution_count": 1,
   "metadata": {},
   "outputs": [
    {
     "data": {
      "text/plain": [
       "'\\n찾아보니깐 왼쪽 자식 힙의 인덱스는 부모 힙의 인덱스*2이고 \\n오른쪽 자식 힙의 인덱스는 부모 힙의 인덱스*2 +1로 지정 \\n그러면 배열에서 인덱스를 통해 진행할 수 있음 \\n\\n처음에 들어온 값은 부모가 되고 두번째 들어온 값은 자식이 된다.\\n만약 부모보다 자식이 더 작다면 바꿔주면 됨 \\n'"
      ]
     },
     "execution_count": 1,
     "metadata": {},
     "output_type": "execute_result"
    }
   ],
   "source": [
    "'''\n",
    "찾아보니깐 왼쪽 자식 힙의 인덱스는 부모 힙의 인덱스*2이고 \n",
    "오른쪽 자식 힙의 인덱스는 부모 힙의 인덱스*2 +1로 지정 \n",
    "그러면 배열에서 인덱스를 통해 진행할 수 있음 \n",
    "\n",
    "처음에 들어온 값은 부모가 되고 두번째 들어온 값은 자식이 된다.\n",
    "만약 부모보다 자식이 더 작다면 바꿔주면 됨 \n",
    "'''"
   ]
  },
  {
   "cell_type": "code",
   "execution_count": 16,
   "metadata": {},
   "outputs": [
    {
     "name": "stdout",
     "output_type": "stream",
     "text": [
      "[-1, 5]\n",
      "[-1, 3, 5]\n",
      "[-1, 3, 5, 6]\n",
      "3\n",
      "[-1]\n",
      "[-1, 5]\n",
      "5\n",
      "[-1]\n",
      "[-1, 2]\n",
      "[-1, 2, 4]\n",
      "2\n",
      "[-1]\n"
     ]
    }
   ],
   "source": [
    "# 값 초기화를 어떻게 하지? \n",
    "\n",
    "li = [-1]\n",
    "\n",
    "while True:\n",
    "    num = int(input())\n",
    "    li.append(num)\n",
    "    # 일단 입력받은 값을 마지막에 넣어줌 \n",
    "\n",
    "    if num == -1:\n",
    "        break\n",
    "        # -1을 만나면 반복문 종료 \n",
    "    \n",
    "    if num == 0:\n",
    "        print(li[1])\n",
    "        li = [-1]\n",
    "    # 0을 입력하게 된다면 지금까지 입력받은 값의 최소값을 출력 \n",
    "    # 최소값은 1번 인덱스에 존재하기 때문에 1번 인덱스의 값 출력 \n",
    "\n",
    "\n",
    "    if li[len(li)-1] < li[len(li) // 2 ]:\n",
    "        temp = li[len(li) // 2]\n",
    "        li[len(li)//2] = li[len(li)-1]\n",
    "        li[len(li) -1] = temp\n",
    "    \n",
    "    print(li)\n",
    "    # 만약 입력받은 값이 부모의 값보다 작다면 부모와 자식을 바꿔줌 \n",
    "\n",
    "# 틀린것 같음 "
   ]
  },
  {
   "cell_type": "markdown",
   "metadata": {},
   "source": [
    "### 참고 풀이"
   ]
  },
  {
   "cell_type": "code",
   "execution_count": 17,
   "metadata": {},
   "outputs": [
    {
     "data": {
      "text/plain": [
       "'\\n트리 \\n- 완전 이진트리(부모노드와 왼쪽, 오른쪽 자식이 모두 있는 트리)로 구현 \\n- 왼쪽 서브트리 : 루트노드의 왼쪽에 있는 이진 트리 \\n\\n최소힙 \\n- 부모노드의 값이 모든 자식 노드의 값보다 작아야함 \\n- 채울때는 왼쪽부터 채움 \\n- 입력이 되고 나서 현재의 부모와 비교를 진행\\n    - 자식이 부모보다 작으면 바꿔줌 \\n    - root node가 가장 작은 값이 될 때 까지 진행하면서 반복 \\n'"
      ]
     },
     "execution_count": 17,
     "metadata": {},
     "output_type": "execute_result"
    }
   ],
   "source": [
    "'''\n",
    "트리 \n",
    "- 완전 이진트리(부모노드와 왼쪽, 오른쪽 자식이 모두 있는 트리)로 구현 \n",
    "- 왼쪽 서브트리 : 루트노드의 왼쪽에 있는 이진 트리 \n",
    "\n",
    "최소힙 \n",
    "- 부모노드의 값이 모든 자식 노드의 값보다 작아야함 \n",
    "- 채울때는 왼쪽부터 채움 \n",
    "- 입력이 되고 나서 현재의 부모와 비교를 진행\n",
    "    - 자식이 부모보다 작으면 바꿔줌 \n",
    "    - root node가 가장 작은 값이 될 때 까지 진행하면서 반복 \n",
    "'''"
   ]
  },
  {
   "cell_type": "code",
   "execution_count": 18,
   "metadata": {},
   "outputs": [
    {
     "name": "stdout",
     "output_type": "stream",
     "text": [
      "3\n",
      "5\n",
      "2\n"
     ]
    }
   ],
   "source": [
    "import sys \n",
    "import heapq as hq \n",
    "# 파이썬에서 heap을 구현하기 위한 라이브러리 \n",
    "\n",
    "a = [] \n",
    "while True:\n",
    "    n = int(input())\n",
    "\n",
    "    if n == -1:\n",
    "        break \n",
    "\n",
    "    if n == 0:\n",
    "        if len(a) == 0:\n",
    "        # 자료가 없을 수 있음 \n",
    "            print(-1)\n",
    "        else:\n",
    "        # 자료가 있을 수 있음 \n",
    "            print(hq.heappop(a))\n",
    "            # heap자료구조에서 자료를 pop해주는데 pop 대상은 root node값임 \n",
    "    else:\n",
    "        hq.heappush(a, n)\n",
    "        # a라는 리스트에 최소힙의 형태로 n값을 넣음 \n",
    "\n",
    "# 라이브러리 쓰니깐 엄청 간편하네 "
   ]
  },
  {
   "cell_type": "markdown",
   "metadata": {},
   "source": [
    "## 최대힙 \n",
    "- 최대힙은 완전이진트리로 구현된 자료구조입니다. 그 구성은 부모 노드값이 왼쪽자식과 오른 쪽 자식노드의 값보다 크게 트리를 구성하는 것입니다. \n",
    "- 그렇게 하면 트리의 루트(root)노드는 입력된 값들 중 가장 큰 값이 저장되어 있습니다. 예를 들어 5 3 2 1 4 6 7순으로 입력되면 최대힙 트리는 아래와 같이 구성됩니다.\n",
    "\n",
    "- 최대힙 자료를 이용하여 다음과 같은 연산을 하는 프로그램을 작성하세요. \n",
    "- 1. 자연수가 입력되면 최대힙에 입력한다.\n",
    "- 2.숫자 0 이 입력되면 최대힙에서 최댓값을 꺼내어 출력한다.\n",
    "(출력할 자료가 없으면 -1를 출력한다.) 3) -1이 입력되면 프로그램 종료한다.\n",
    "\n",
    "<hr>\n",
    "\n",
    "- 첫 번째 줄부터 숫자가 입력된다. 입력되는 숫자는 100,000개 이하이며 각 숫자의 크기는 정 수형 범위에 있다.\n"
   ]
  },
  {
   "cell_type": "code",
   "execution_count": 19,
   "metadata": {},
   "outputs": [
    {
     "name": "stdout",
     "output_type": "stream",
     "text": [
      "6\n",
      "5\n",
      "5\n"
     ]
    }
   ],
   "source": [
    "import sys \n",
    "import heapq as hq \n",
    "\n",
    "a = [] \n",
    "while True:\n",
    "    n = int(input())\n",
    "\n",
    "    if n == -1:\n",
    "        break \n",
    "\n",
    "    if n == 0:\n",
    "        if len(a) == 0:\n",
    "            print(-1)\n",
    "        else:\n",
    "            print(hq.heappop(a)[1])\n",
    "    else:\n",
    "        hq.heappush(a, (-n, n))\n",
    "        # 이게 핵심\n",
    "        # 가장 큰 값에 -를 붙여주면 가장 작은 값이 됨 \n",
    "    \n",
    "    # heappop은 가장 작은 원소를 가져오는 특징을 이용 \n",
    "    # -, +를 두개 넣어서 가장 큰 값에 -를 붙이면 가장 작은 값이 되기 때문에 \n",
    "    # 그 값을 가지고 와서 인덱싱으로 두번째 값을 불러주면 됨 "
   ]
  },
  {
   "cell_type": "markdown",
   "metadata": {},
   "source": [
    "### 참고 풀이"
   ]
  },
  {
   "cell_type": "code",
   "execution_count": 20,
   "metadata": {},
   "outputs": [
    {
     "name": "stdout",
     "output_type": "stream",
     "text": [
      "6\n",
      "5\n",
      "5\n"
     ]
    }
   ],
   "source": [
    "import sys \n",
    "import heapq as hq \n",
    "# 최대 힙의 효과를 가져오기 위해서는 부호를 바꿔줌 \n",
    "\n",
    "a = [] \n",
    "while True:\n",
    "    n = int(input())\n",
    "\n",
    "    if n == -1:\n",
    "        break \n",
    "\n",
    "    if n == 0:\n",
    "        if len(a) == 0:\n",
    "            print(-1)\n",
    "        else:\n",
    "            print(-hq.heappop(a))\n",
    "            # 음수화 된 부호를 출력할 때 -를 붙여서 바꿔줌 \n",
    "    else:\n",
    "        hq.heappush(a, -n)\n",
    "# 내가 생각한 것보다 더 간단하네 \n",
    "# heappop()이 가장 작은 수를 가져오는 특징을 이용해서 부호만 바꿔서 \n",
    "# 가장 큰 값을 출력할 수 있는 로직을 작성했네 "
   ]
  },
  {
   "cell_type": "code",
   "execution_count": null,
   "metadata": {},
   "outputs": [],
   "source": []
  }
 ],
 "metadata": {
  "kernelspec": {
   "display_name": "Python 3.9.1 64-bit ('3.9.1')",
   "language": "python",
   "name": "python3"
  },
  "language_info": {
   "codemirror_mode": {
    "name": "ipython",
    "version": 3
   },
   "file_extension": ".py",
   "mimetype": "text/x-python",
   "name": "python",
   "nbconvert_exporter": "python",
   "pygments_lexer": "ipython3",
   "version": "3.9.1"
  },
  "orig_nbformat": 4,
  "vscode": {
   "interpreter": {
    "hash": "b29909ae39fc17549a84839997d927dda790dc9d9d25402f3e010c02e8c51a82"
   }
  }
 },
 "nbformat": 4,
 "nbformat_minor": 2
}
