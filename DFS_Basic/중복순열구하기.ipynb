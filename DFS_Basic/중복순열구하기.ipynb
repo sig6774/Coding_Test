{
 "cells": [
  {
   "cell_type": "markdown",
   "metadata": {},
   "source": [
    "## 중복순열구하기 \n",
    "- 1부터 N까지 번호가 적힌 구슬이 있습니다. 이 중 중복을 허락하여 M번을 뽑아 일렬로 나열 하는 방법을 모두 출력합니다.\n",
    "- ▣ 입력설명\n",
    "    - 첫 번째 줄에 자연수 N(3<=N<=10)과 M(2<=M<=N) 이 주어집니다.\n",
    "- ▣ 출력설명\n",
    "    - 첫 번째 줄에 결과를 출력합니다. 맨 마지막 총 경우의 수를 출력합니다. 출력순서는 사전순으로 오름차순으로 출력합니다.\n",
    "\n",
    "- ▣ 입력예제 1 \n",
    "    - 3, 2\n",
    "- ▣ 출력예제 1 \n",
    "    - 1 1\n",
    "    - 1 2\n",
    "    - 1 3\n",
    "    - 2 1 \n",
    "    - 2 2 \n",
    "    - 2 3 \n",
    "    - 3 1 \n",
    "    - 3 2 \n",
    "    - 3 3 \n",
    "    - 9"
   ]
  },
  {
   "cell_type": "code",
   "execution_count": 4,
   "metadata": {},
   "outputs": [
    {
     "data": {
      "text/plain": [
       "'\\n1. 1부터 N만큼의 range 구성 \\n2. M개의 0으로 된 리스트 구성 \\n3. 비교하면서 1로 된 리스트에 있는 애들만 추출\\n'"
      ]
     },
     "execution_count": 4,
     "metadata": {},
     "output_type": "execute_result"
    }
   ],
   "source": [
    "'''\n",
    "1. 1부터 N만큼의 range 구성 \n",
    "2. M개의 0으로 된 리스트 구성 \n",
    "3. 비교하면서 1로 된 리스트에 있는 애들만 추출\n",
    "'''"
   ]
  },
  {
   "cell_type": "code",
   "execution_count": 3,
   "metadata": {},
   "outputs": [
    {
     "name": "stdout",
     "output_type": "stream",
     "text": [
      "3 2\n"
     ]
    }
   ],
   "source": [
    "N, M = map(int, input().split())\n",
    "print(N,M)\n"
   ]
  },
  {
   "cell_type": "code",
   "execution_count": 5,
   "metadata": {},
   "outputs": [
    {
     "data": {
      "text/plain": [
       "[0, 0, 0]"
      ]
     },
     "execution_count": 5,
     "metadata": {},
     "output_type": "execute_result"
    }
   ],
   "source": [
    "li = [0]  * N\n",
    "li"
   ]
  },
  {
   "cell_type": "code",
   "execution_count": 6,
   "metadata": {},
   "outputs": [
    {
     "name": "stdout",
     "output_type": "stream",
     "text": [
      "1 1 \n",
      "1 2 \n",
      "1 3 \n",
      "2 1 \n",
      "2 2 \n",
      "2 3 \n",
      "3 1 \n",
      "3 2 \n",
      "3 3 \n",
      "9\n"
     ]
    }
   ],
   "source": [
    "def DFS(L):\n",
    "    global cnt\n",
    "    if L==m:\n",
    "        for i in range(m):\n",
    "            print(res[i], end=' ')\n",
    "        print()\n",
    "        cnt+=1\n",
    "    else:\n",
    "        for i in range(1, n+1):\n",
    "            res[L]=i\n",
    "            DFS(L+1)\n",
    "\n",
    "if __name__==\"__main__\":\n",
    "    n, m=map(int, input().split())\n",
    "    res=[0]*n\n",
    "    cnt=0\n",
    "    DFS(0)\n",
    "    print(cnt)"
   ]
  },
  {
   "cell_type": "code",
   "execution_count": null,
   "metadata": {},
   "outputs": [],
   "source": []
  }
 ],
 "metadata": {
  "kernelspec": {
   "display_name": "Python 3",
   "language": "python",
   "name": "python3"
  },
  "language_info": {
   "codemirror_mode": {
    "name": "ipython",
    "version": 3
   },
   "file_extension": ".py",
   "mimetype": "text/x-python",
   "name": "python",
   "nbconvert_exporter": "python",
   "pygments_lexer": "ipython3",
   "version": "3.9.1"
  },
  "orig_nbformat": 4
 },
 "nbformat": 4,
 "nbformat_minor": 2
}
