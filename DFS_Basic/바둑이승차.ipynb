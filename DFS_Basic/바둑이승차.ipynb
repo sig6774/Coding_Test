{
 "cells": [
  {
   "cell_type": "markdown",
   "metadata": {},
   "source": [
    "## 바둑이 승차\n",
    "- 철수는 그의 바둑이들을 데리고 시장에 가려고 한다. 그런데 그의 트럭은 C킬로그램 넘게 태 울수가 없다. 철수는 C를 넘지 않으면서 그의 바둑이들을 가장 무겁게 태우고 싶다.\n",
    "N마리의 바둑이와 각 바둑이의 무게 W가 주어지면, 철수가 트럭에 태울 수 있는 가장 무거운 무게를 구하는 프로그램을 작성하세요.\n",
    "\n",
    "\n",
    "- ▣ 입력설명\n",
    "    - 첫 번째 줄에 자연수 C(1<=C<=100,000,000)와 N(1<=N<=30)이 주어집니다. 둘째 줄부터 N마리 바둑이의 무게가 주어진다.\n",
    "- ▣ 출력설명\n",
    "    - 첫 번째 줄에 가장 무거운 무게를 출력한다.\n",
    "- ▣ 입력예제 1 \n",
    "    - 259, 5\n",
    "    - 81\n",
    "    - 58\n",
    "    - 42 \n",
    "    - 33 \n",
    "    - 61"
   ]
  },
  {
   "cell_type": "code",
   "execution_count": null,
   "metadata": {},
   "outputs": [],
   "source": [
    "'''\n",
    "1. 더한 것과 더하지 않은 것 분리 \n",
    "2. 더했을 때 최종 C보다 크다면 제외 \n",
    "3. C보다 크지않고 max 값보다 크다면 Max 갱신 \n",
    "'''"
   ]
  },
  {
   "cell_type": "code",
   "execution_count": 1,
   "metadata": {},
   "outputs": [],
   "source": [
    "li = [] \n",
    "C = int(input())\n",
    "N = int(input())\n",
    "for i in range(N):\n",
    "    li.append(int(input()))"
   ]
  },
  {
   "cell_type": "code",
   "execution_count": 2,
   "metadata": {},
   "outputs": [
    {
     "data": {
      "text/plain": [
       "[81, 58, 42, 33, 61]"
      ]
     },
     "execution_count": 2,
     "metadata": {},
     "output_type": "execute_result"
    }
   ],
   "source": [
    "li"
   ]
  },
  {
   "cell_type": "code",
   "execution_count": 22,
   "metadata": {},
   "outputs": [],
   "source": [
    "max_ = 0 \n",
    "import sys \n",
    "def DFS(x, sum_):\n",
    "    print(x)\n",
    "    global max_\n",
    "    if x == 4:\n",
    "        if sum_ > max_:\n",
    "            sum_ = max_\n",
    "    \n",
    "    DFS(x+1, sum_+li[x])\n",
    "    DFS(x+1, sum_)"
   ]
  },
  {
   "cell_type": "code",
   "execution_count": 23,
   "metadata": {},
   "outputs": [
    {
     "name": "stdout",
     "output_type": "stream",
     "text": [
      "0\n",
      "1\n",
      "2\n",
      "3\n",
      "4\n",
      "5\n"
     ]
    },
    {
     "ename": "IndexError",
     "evalue": "list index out of range",
     "output_type": "error",
     "traceback": [
      "\u001b[0;31m---------------------------------------------------------------------------\u001b[0m",
      "\u001b[0;31mIndexError\u001b[0m                                Traceback (most recent call last)",
      "\u001b[1;32m/Users/sig6774/CodingTest/DFS_Basic/바둑이승차.ipynb 셀 6\u001b[0m in \u001b[0;36m<cell line: 1>\u001b[0;34m()\u001b[0m\n\u001b[0;32m----> <a href='vscode-notebook-cell:/Users/sig6774/CodingTest/DFS_Basic/%EB%B0%94%EB%91%91%EC%9D%B4%EC%8A%B9%EC%B0%A8.ipynb#W5sZmlsZQ%3D%3D?line=0'>1</a>\u001b[0m DFS(\u001b[39m0\u001b[39;49m, \u001b[39m0\u001b[39;49m)\n",
      "\u001b[1;32m/Users/sig6774/CodingTest/DFS_Basic/바둑이승차.ipynb 셀 6\u001b[0m in \u001b[0;36mDFS\u001b[0;34m(x, sum_)\u001b[0m\n\u001b[1;32m      <a href='vscode-notebook-cell:/Users/sig6774/CodingTest/DFS_Basic/%EB%B0%94%EB%91%91%EC%9D%B4%EC%8A%B9%EC%B0%A8.ipynb#W5sZmlsZQ%3D%3D?line=6'>7</a>\u001b[0m     \u001b[39mif\u001b[39;00m sum_ \u001b[39m>\u001b[39m max_:\n\u001b[1;32m      <a href='vscode-notebook-cell:/Users/sig6774/CodingTest/DFS_Basic/%EB%B0%94%EB%91%91%EC%9D%B4%EC%8A%B9%EC%B0%A8.ipynb#W5sZmlsZQ%3D%3D?line=7'>8</a>\u001b[0m         sum_ \u001b[39m=\u001b[39m max_\n\u001b[0;32m---> <a href='vscode-notebook-cell:/Users/sig6774/CodingTest/DFS_Basic/%EB%B0%94%EB%91%91%EC%9D%B4%EC%8A%B9%EC%B0%A8.ipynb#W5sZmlsZQ%3D%3D?line=9'>10</a>\u001b[0m DFS(x\u001b[39m+\u001b[39;49m\u001b[39m1\u001b[39;49m, sum_\u001b[39m+\u001b[39;49mli[x])\n\u001b[1;32m     <a href='vscode-notebook-cell:/Users/sig6774/CodingTest/DFS_Basic/%EB%B0%94%EB%91%91%EC%9D%B4%EC%8A%B9%EC%B0%A8.ipynb#W5sZmlsZQ%3D%3D?line=10'>11</a>\u001b[0m DFS(x\u001b[39m+\u001b[39m\u001b[39m1\u001b[39m, sum_)\n",
      "\u001b[1;32m/Users/sig6774/CodingTest/DFS_Basic/바둑이승차.ipynb 셀 6\u001b[0m in \u001b[0;36mDFS\u001b[0;34m(x, sum_)\u001b[0m\n\u001b[1;32m      <a href='vscode-notebook-cell:/Users/sig6774/CodingTest/DFS_Basic/%EB%B0%94%EB%91%91%EC%9D%B4%EC%8A%B9%EC%B0%A8.ipynb#W5sZmlsZQ%3D%3D?line=6'>7</a>\u001b[0m     \u001b[39mif\u001b[39;00m sum_ \u001b[39m>\u001b[39m max_:\n\u001b[1;32m      <a href='vscode-notebook-cell:/Users/sig6774/CodingTest/DFS_Basic/%EB%B0%94%EB%91%91%EC%9D%B4%EC%8A%B9%EC%B0%A8.ipynb#W5sZmlsZQ%3D%3D?line=7'>8</a>\u001b[0m         sum_ \u001b[39m=\u001b[39m max_\n\u001b[0;32m---> <a href='vscode-notebook-cell:/Users/sig6774/CodingTest/DFS_Basic/%EB%B0%94%EB%91%91%EC%9D%B4%EC%8A%B9%EC%B0%A8.ipynb#W5sZmlsZQ%3D%3D?line=9'>10</a>\u001b[0m DFS(x\u001b[39m+\u001b[39;49m\u001b[39m1\u001b[39;49m, sum_\u001b[39m+\u001b[39;49mli[x])\n\u001b[1;32m     <a href='vscode-notebook-cell:/Users/sig6774/CodingTest/DFS_Basic/%EB%B0%94%EB%91%91%EC%9D%B4%EC%8A%B9%EC%B0%A8.ipynb#W5sZmlsZQ%3D%3D?line=10'>11</a>\u001b[0m DFS(x\u001b[39m+\u001b[39m\u001b[39m1\u001b[39m, sum_)\n",
      "    \u001b[0;31m[... skipping similar frames: DFS at line 10 (3 times)]\u001b[0m\n",
      "\u001b[1;32m/Users/sig6774/CodingTest/DFS_Basic/바둑이승차.ipynb 셀 6\u001b[0m in \u001b[0;36mDFS\u001b[0;34m(x, sum_)\u001b[0m\n\u001b[1;32m      <a href='vscode-notebook-cell:/Users/sig6774/CodingTest/DFS_Basic/%EB%B0%94%EB%91%91%EC%9D%B4%EC%8A%B9%EC%B0%A8.ipynb#W5sZmlsZQ%3D%3D?line=6'>7</a>\u001b[0m     \u001b[39mif\u001b[39;00m sum_ \u001b[39m>\u001b[39m max_:\n\u001b[1;32m      <a href='vscode-notebook-cell:/Users/sig6774/CodingTest/DFS_Basic/%EB%B0%94%EB%91%91%EC%9D%B4%EC%8A%B9%EC%B0%A8.ipynb#W5sZmlsZQ%3D%3D?line=7'>8</a>\u001b[0m         sum_ \u001b[39m=\u001b[39m max_\n\u001b[0;32m---> <a href='vscode-notebook-cell:/Users/sig6774/CodingTest/DFS_Basic/%EB%B0%94%EB%91%91%EC%9D%B4%EC%8A%B9%EC%B0%A8.ipynb#W5sZmlsZQ%3D%3D?line=9'>10</a>\u001b[0m DFS(x\u001b[39m+\u001b[39m\u001b[39m1\u001b[39m, sum_\u001b[39m+\u001b[39mli[x])\n\u001b[1;32m     <a href='vscode-notebook-cell:/Users/sig6774/CodingTest/DFS_Basic/%EB%B0%94%EB%91%91%EC%9D%B4%EC%8A%B9%EC%B0%A8.ipynb#W5sZmlsZQ%3D%3D?line=10'>11</a>\u001b[0m DFS(x\u001b[39m+\u001b[39m\u001b[39m1\u001b[39m, sum_)\n",
      "\u001b[0;31mIndexError\u001b[0m: list index out of range"
     ]
    }
   ],
   "source": [
    "DFS(0, 0)"
   ]
  },
  {
   "cell_type": "code",
   "execution_count": null,
   "metadata": {},
   "outputs": [],
   "source": [
    "\n",
    "def DFS(L, sum, tsum):\n",
    "    global result\n",
    "    if sum+(total-tsum)<result:\n",
    "        return\n",
    "    if sum>c:\n",
    "        return\n",
    "    if L==n:\n",
    "        if sum>result:\n",
    "            result=sum\n",
    "    else:\n",
    "        DFS(L+1, sum+a[L], tsum+a[L])\n",
    "        DFS(L+1, sum, tsum+a[L])\n",
    "\n",
    "\n",
    "if __name__==\"__main__\":\n",
    "    c, n=map(int, input().split())\n",
    "    a=[0]*n\n",
    "    result=-2147000000\n",
    "    for i in range(n):\n",
    "        a[i]=int(input())\n",
    "    total=sum(a)\n",
    "    DFS(0, 0, 0)\n",
    "    print(result)\n",
    "\n"
   ]
  }
 ],
 "metadata": {
  "kernelspec": {
   "display_name": "Python 3",
   "language": "python",
   "name": "python3"
  },
  "language_info": {
   "codemirror_mode": {
    "name": "ipython",
    "version": 3
   },
   "file_extension": ".py",
   "mimetype": "text/x-python",
   "name": "python",
   "nbconvert_exporter": "python",
   "pygments_lexer": "ipython3",
   "version": "3.9.1"
  },
  "orig_nbformat": 4
 },
 "nbformat": 4,
 "nbformat_minor": 2
}
