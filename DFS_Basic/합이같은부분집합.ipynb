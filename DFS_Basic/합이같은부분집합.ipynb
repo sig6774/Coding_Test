{
 "cells": [
  {
   "attachments": {},
   "cell_type": "markdown",
   "metadata": {},
   "source": [
    "## 합이 같은 부분집합(DFS : 아마존 인터뷰)\n",
    "\n",
    "- N개의 원소로 구성된 자연수 집합이 주어지면, 이 집합을 두 개의 부분집합으로 나누었을 때 두 부분집합의 원소의 합이 서로 같은 경우가 존재하면 “YES\"를 출력하고, 그렇지 않으면 ”NO\"를 출력하는 프로그램을 작성하세요.\n",
    "- 둘로 나뉘는 두 부분집합은 서로소 집합이며, 두 부분집합을 합하면 입력으로 주어진 원래의 집합이 되어 합니다.\n",
    "- 예를 들어 {1, 3, 5, 6, 7, 10}이 입력되면 {1, 3, 5, 7} = {6, 10} 으로 두 부분집합의 합이 16으로 같은 경우가 존재하는 것을 알 수 있다.\n",
    "- ▣ 입력설명\n",
    "    - 첫 번째 줄에 자연수 N(1<=N<=10)이 주어집니다.\n",
    "    - 두 번째 줄에 집합의 원소 N개가 주어진다. 각 원소는 중복되지 않는다.\n",
    "- ▣ 출력설명\n",
    "    - 첫 번째 줄에 “YES\" 또는 ”NO\"를 출력한다.\n",
    "\n",
    "- ▣ 입력예제 1 \n",
    "    - 6\n",
    "    - 1 3 5 6 7 10\n",
    "- ▣ 출력예제 1 \n",
    "    - YES"
   ]
  },
  {
   "cell_type": "code",
   "execution_count": 9,
   "metadata": {},
   "outputs": [
    {
     "data": {
      "text/plain": [
       "'\\n1. 0으로 구성된 n개의 리스트 구성 \\n2. 리스트의 값을 1로 변경\\n3. 1인 값의 리스트 인덱스와 0인 값의 리스트 인덱스의 합을 비교해서 같은 값이 존재한다면 YES 출력 \\n4. 아니라면 NO 출력 \\n'"
      ]
     },
     "execution_count": 9,
     "metadata": {},
     "output_type": "execute_result"
    }
   ],
   "source": [
    "'''\n",
    "1. 0으로 구성된 n개의 리스트 구성 \n",
    "2. 리스트의 값을 1로 변경\n",
    "3. 1인 값의 리스트 인덱스와 0인 값의 리스트 인덱스의 합을 비교해서 같은 값이 존재한다면 YES 출력 \n",
    "4. 아니라면 NO 출력 \n",
    "'''"
   ]
  },
  {
   "cell_type": "code",
   "execution_count": 33,
   "metadata": {},
   "outputs": [
    {
     "name": "stdout",
     "output_type": "stream",
     "text": [
      "[3, 6, 9, 13, 11, 7, 16, 34, 23, 12]\n"
     ]
    }
   ],
   "source": [
    "# [1, 3, 5, 6, 7, 10]\n",
    "n = int(input())\n",
    "\n",
    "li = [] \n",
    "for i in range(n):\n",
    "    li.append(int(input()))\n",
    "print(li)"
   ]
  },
  {
   "cell_type": "code",
   "execution_count": 34,
   "metadata": {},
   "outputs": [
    {
     "data": {
      "text/plain": [
       "[0, 0, 0, 0, 0, 0, 0, 0, 0, 0]"
      ]
     },
     "execution_count": 34,
     "metadata": {},
     "output_type": "execute_result"
    }
   ],
   "source": [
    "l = [0] * n \n",
    "l"
   ]
  },
  {
   "cell_type": "code",
   "execution_count": 35,
   "metadata": {},
   "outputs": [],
   "source": [
    "s = 0\n",
    "s1 = 0 \n",
    "check_yes = []\n",
    "def DFS(x):\n",
    "    global s \n",
    "    global s1 \n",
    "    \n",
    "    if x == n:\n",
    "        s = 0 \n",
    "        s1 = 0 \n",
    "        for i in range(len(l)):\n",
    "            if l[i] == 1:\n",
    "                s += li[i]\n",
    "            else:\n",
    "                s1 += li[i]\n",
    "    else: \n",
    "        l[x] = 1 \n",
    "        DFS(x+1)\n",
    "        l[x] = 0 \n",
    "        DFS(x+1)\n",
    "    \n",
    "    if s == s1:\n",
    "        # print(s,s1)\n",
    "        # print(\"Yes\")\n",
    "        check_yes.append(\"Yes\")\n",
    "    return check_yes"
   ]
  },
  {
   "cell_type": "code",
   "execution_count": 36,
   "metadata": {},
   "outputs": [
    {
     "name": "stdout",
     "output_type": "stream",
     "text": [
      "Yes\n"
     ]
    }
   ],
   "source": [
    "if len(DFS(0)) > 0:\n",
    "    print(\"Yes\")\n",
    "else:\n",
    "    print(\"No\")"
   ]
  },
  {
   "cell_type": "markdown",
   "metadata": {},
   "source": [
    "### 추천 풀이"
   ]
  },
  {
   "cell_type": "code",
   "execution_count": null,
   "metadata": {},
   "outputs": [],
   "source": [
    "import sys \n",
    "def DFS(L, sum):\n",
    "    if sum>total//2:\n",
    "        return\n",
    "    if L==n:\n",
    "        if sum==(total-sum):\n",
    "            print(\"YES\")\n",
    "            sys.exit(0)\n",
    "    else:\n",
    "        DFS(L+1, sum+a[L])\n",
    "        DFS(L+1, sum)\n",
    "\n",
    "if __name__==\"__main__\":\n",
    "    n=int(input())\n",
    "    a=list(map(int, input().split()))\n",
    "    total=sum(a)\n",
    "    DFS(0, 0)\n",
    "    print(\"NO\")"
   ]
  }
 ],
 "metadata": {
  "kernelspec": {
   "display_name": "Python 3",
   "language": "python",
   "name": "python3"
  },
  "language_info": {
   "codemirror_mode": {
    "name": "ipython",
    "version": 3
   },
   "file_extension": ".py",
   "mimetype": "text/x-python",
   "name": "python",
   "nbconvert_exporter": "python",
   "pygments_lexer": "ipython3",
   "version": "3.9.1"
  },
  "orig_nbformat": 4
 },
 "nbformat": 4,
 "nbformat_minor": 2
}
