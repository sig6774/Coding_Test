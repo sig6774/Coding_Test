{
 "cells": [
  {
   "attachments": {},
   "cell_type": "markdown",
   "metadata": {},
   "source": [
    "## 재귀함수를 이용한 이진수 출력 \n",
    "- 10진수 N이 입력되면 2진수로 변환하여 출력하는 프로그램을 작성하세요. 단 재귀함수를 이용 해서 출력해야 합니다.\n",
    "\n",
    "- ▣ 입력설명\n",
    "    - 첫 번째 줄에 10진수 N(1<=N<=1,000)이 주어집니다.\n",
    "- ▣ 출력설명\n",
    "    - 첫 번째 줄에 이진수를 출력하세요.\n",
    "- ▣ 입력예제 1 \n",
    "    - 11\n",
    "- ▣ 출력예제 1 \n",
    "    - 1011\n"
   ]
  },
  {
   "cell_type": "code",
   "execution_count": 1,
   "metadata": {},
   "outputs": [
    {
     "name": "stdout",
     "output_type": "stream",
     "text": [
      "11\n"
     ]
    }
   ],
   "source": [
    "n = int(input())\n",
    "print(n)"
   ]
  },
  {
   "cell_type": "code",
   "execution_count": 17,
   "metadata": {},
   "outputs": [],
   "source": [
    "def DFS(x):\n",
    "    global strings\n",
    "    if x > 0:\n",
    "        DFS(x//2)\n",
    "        strings += str(x%2)"
   ]
  },
  {
   "cell_type": "code",
   "execution_count": 24,
   "metadata": {},
   "outputs": [
    {
     "name": "stdout",
     "output_type": "stream",
     "text": [
      "1011\n"
     ]
    },
    {
     "data": {
      "text/plain": [
       "'\\n1. x = 11로 입력 \\n2. 11은 조건에 통과 \\n    2.1 DFS(11//2)\\n        2.1.1 5는 조건에 통과 \\n        2.1.2 DFS(5//2)\\n            2.1.1.1 2는 조건에 통과 \\n            2.1.1.2 DFS(2//2)\\n                2.1.1.1.1 1은 조건에 통과 \\n                2.1.1.1.2 DFS(1//2)\\n                    2.1.1.1.1 0은 조건에 통과 x \\n                2.1.1.1.3 x = 1임으로 x%2 = 1로 strings = 1\\n            2.1.1.3 x = 2임으로 x%2 = 0으로 strings = 10\\n        2.1.3 x = 5임으로 x%2 = 1로 strings = 101\\n    2.2 x = 11임으로 x % 2 = 1로 strings = 1011\\n1011 리턴 \\n'"
      ]
     },
     "execution_count": 24,
     "metadata": {},
     "output_type": "execute_result"
    }
   ],
   "source": [
    "strings = \"\"\n",
    "DFS(11)\n",
    "print(strings)\n",
    "\n",
    "'''\n",
    "1. x = 11로 입력 \n",
    "2. 11은 조건에 통과 \n",
    "    2.1 DFS(11//2)\n",
    "        2.1.1 5는 조건에 통과 \n",
    "        2.1.2 DFS(5//2)\n",
    "            2.1.1.1 2는 조건에 통과 \n",
    "            2.1.1.2 DFS(2//2)\n",
    "                2.1.1.1.1 1은 조건에 통과 \n",
    "                2.1.1.1.2 DFS(1//2)\n",
    "                    2.1.1.1.1 0은 조건에 통과 x \n",
    "                2.1.1.1.3 x = 1임으로 x%2 = 1로 strings = 1\n",
    "            2.1.1.3 x = 2임으로 x%2 = 0으로 strings = 10\n",
    "        2.1.3 x = 5임으로 x%2 = 1로 strings = 101\n",
    "    2.2 x = 11임으로 x % 2 = 1로 strings = 1011\n",
    "1011 리턴 \n",
    "'''"
   ]
  },
  {
   "cell_type": "code",
   "execution_count": 25,
   "metadata": {},
   "outputs": [
    {
     "name": "stdout",
     "output_type": "stream",
     "text": [
      "10101\n"
     ]
    }
   ],
   "source": [
    "strings = \"\"\n",
    "DFS(21)\n",
    "print(strings)"
   ]
  },
  {
   "attachments": {},
   "cell_type": "markdown",
   "metadata": {},
   "source": [
    "### 추천 풀이"
   ]
  },
  {
   "cell_type": "code",
   "execution_count": null,
   "metadata": {},
   "outputs": [],
   "source": [
    "def DFS(v):\n",
    "    if v>7:\n",
    "        return\n",
    "    else:  \n",
    "        print(v, end=' ')\n",
    "        DFS(v*2)\n",
    "        DFS(v*2+1)\n",
    "        \n",
    "if __name__==\"__main__\":\n",
    "    DFS(1)"
   ]
  },
  {
   "attachments": {},
   "cell_type": "markdown",
   "metadata": {},
   "source": [
    "## 부분집합 구하기(DFS)\n",
    "\n",
    "- 자연수 N이 주어지면 1부터 N까지의 원소를 갖는 집합의 부분집합을 모두 출력하는 프로그램 을 작성하세요.\n",
    "- ▣ 입력설명\n",
    "    - 첫 번째 줄에 자연수 N(1<=N<=10)이 주어집니다.\n",
    "- ▣ 출력설명\n",
    "    - 첫 번째 줄부터 각 줄에 하나씩 부분집합을 아래와 출력예제와 같은 순서로 출력한다. 단 공집합은 출력하지 않습니다."
   ]
  },
  {
   "cell_type": "code",
   "execution_count": 26,
   "metadata": {},
   "outputs": [
    {
     "name": "stdout",
     "output_type": "stream",
     "text": [
      "3\n"
     ]
    }
   ],
   "source": [
    "n = int(input())\n",
    "print(n)"
   ]
  },
  {
   "cell_type": "code",
   "execution_count": 29,
   "metadata": {},
   "outputs": [
    {
     "data": {
      "text/plain": [
       "[0, 0, 0]"
      ]
     },
     "execution_count": 29,
     "metadata": {},
     "output_type": "execute_result"
    }
   ],
   "source": [
    "l = [0] * n\n",
    "l\n"
   ]
  },
  {
   "cell_type": "code",
   "execution_count": 38,
   "metadata": {},
   "outputs": [],
   "source": [
    "def DFS(x):\n",
    "    if x == n:\n",
    "        for i in range(n):\n",
    "            if l[i]==1:\n",
    "                print(i+1, end=' ')\n",
    "        print()\n",
    "    else:\n",
    "        l[x]=1\n",
    "        DFS(x+1)\n",
    "        l[x]=0\n",
    "        DFS(x+1)\n",
    "'''\n",
    "1. x = 0일때 \n",
    "    1.1 l[0] = 1\n",
    "    1.2 DFS(1)\n",
    "        1.1.1 l[1] = 1 \n",
    "        1.1.2 DFS(2)\n",
    "            1.1.1.1 l[2] = 1 \n",
    "            1.1.1.2 DFS(3)\n",
    "                1.1.1.1.1 조건 만족 \n",
    "                1.1.1.1.2 l안에 원소가 1인 데이터 print => 1 2 3\n",
    "            1.1.1.3 l[2] = 0 \n",
    "            1.1.1.4 DFS(3)\n",
    "                1.1.1.4.1 조건 만족 \n",
    "                1.1.1.4.2 l안에 원소가 1인 데이터 print => 1 2 \n",
    "        1.1.3 l[1] = 0 \n",
    "        1.1.4 DFS(2)\n",
    "            1.1.4.1 l[2] = 1 \n",
    "            1.1.4.2 DFS(3)\n",
    "                1.1.4.2.1 조건 만족 \n",
    "                1.1.4.2.2 l안에 원소가 1인 데이터 print => 1 3\n",
    "            1.1.4.3 l[2] = 0 \n",
    "            1.1.4.4 DFS(3)\n",
    "                1.1.4.4.1 조건 만족 \n",
    "                1.1.4.4.2 l안에 원소가 1인 데이터 print => 1 \n",
    "    1.3 l[0] = 0 \n",
    "    1.4 DFS(1)\n",
    "        1.4.1 l[1] = 1 \n",
    "        1.4.2 DFS(2)\n",
    "            1.4.2.1 l[2] = 1 \n",
    "            1.4.2.2 DFS(3)\n",
    "                1.4.2.2.1 조건 만족 \n",
    "                1.4.2.2.2 l안에 원소가 1인 데이터 print => 2 3 \n",
    "            1.4.2.3 l[2] = 0 \n",
    "            1.4.2.4 DFS(3)\n",
    "                1.4.2.4.1 조건 만족 \n",
    "                1.4.2.4.2 l안에 원소가 1인 데이터 print => 2\n",
    "        1.4.3 l[1] = 0 \n",
    "        1.4.3 DFS(2)\n",
    "            1.4.3.1 l[2] = 1 \n",
    "            1.4.3.2 DFS(3)\n",
    "                1.4.3.2.1 조건만족 \n",
    "                1.4.3.2.2 l안에 원소가 1인 데이터 print => 3 \n",
    "            1.4.3.3 l[2] = 0 \n",
    "            1.4.3.4 DFS(3)\n",
    "                1.4.3.4.1 조건만족 \n",
    "                1.4.3.4.2 l안에 원소가 1인 데이터 print => 없음 \n",
    "    이후 recursive 반복 없애기 \n",
    "'''"
   ]
  },
  {
   "cell_type": "code",
   "execution_count": 39,
   "metadata": {},
   "outputs": [
    {
     "name": "stdout",
     "output_type": "stream",
     "text": [
      "1 2 3 \n",
      "1 2 \n",
      "1 3 \n",
      "1 \n",
      "2 3 \n",
      "2 \n",
      "3 \n",
      "\n"
     ]
    }
   ],
   "source": [
    "DFS(0)"
   ]
  },
  {
   "cell_type": "code",
   "execution_count": null,
   "metadata": {},
   "outputs": [],
   "source": []
  }
 ],
 "metadata": {
  "kernelspec": {
   "display_name": "Python 3",
   "language": "python",
   "name": "python3"
  },
  "language_info": {
   "codemirror_mode": {
    "name": "ipython",
    "version": 3
   },
   "file_extension": ".py",
   "mimetype": "text/x-python",
   "name": "python",
   "nbconvert_exporter": "python",
   "pygments_lexer": "ipython3",
   "version": "3.9.1"
  },
  "orig_nbformat": 4
 },
 "nbformat": 4,
 "nbformat_minor": 2
}
