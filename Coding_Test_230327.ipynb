{
 "cells": [
  {
   "attachments": {},
   "cell_type": "markdown",
   "metadata": {},
   "source": [
    "## 자릿수의 합  \n",
    "- N개의 자연수가 입력되면 각 자연수의 자릿수의 합을 구하고, 그 합이 최대인 자연수를 출력 하는 프로그램을 작성하세요. 각 자연수의 자릿수의 합을 구하는 함수를 def digit_sum(x)를 꼭 작성해서 프로그래밍 하세요.\n",
    "- ▣ 입력설명\n",
    "    - 첫 줄에 자연수의 개수 N(3<=N<=100)이 주어지고, 그 다음 줄에 N개의 자연수가 주어진다. 각 자연수의 크기는 10,000,000를 넘지 않는다.\n",
    "- ▣ 출력설명\n",
    "    - 자릿수의 합이 최대인 자연수를 출력한다. 자릿수의 합이 같을 경우 입력순으로 먼저인 숫자 를 출력합니다.\n",
    "- ▣ 입력예제1 \n",
    "    - 3\n",
    "    - 125 15232 97\n",
    "- ▣ 출력예제 1 \n",
    "    - 97"
   ]
  },
  {
   "cell_type": "code",
   "execution_count": null,
   "metadata": {},
   "outputs": [],
   "source": [
    "'''\n",
    "1. 최대값을 저장할 수 있는 변수 및 인덱스 저장할 변수 생성 \n",
    "2. 반복문을 통해서 1번에서 생성한 변수 갱신 \n",
    "'''"
   ]
  },
  {
   "cell_type": "code",
   "execution_count": 11,
   "metadata": {},
   "outputs": [],
   "source": [
    "n = int(input())\n",
    "a = list(map(str, input().split()))"
   ]
  },
  {
   "cell_type": "code",
   "execution_count": 12,
   "metadata": {},
   "outputs": [
    {
     "name": "stdout",
     "output_type": "stream",
     "text": [
      "659\n"
     ]
    }
   ],
   "source": [
    "max_num = 0 \n",
    "max_idx = 0 \n",
    "\n",
    "for i in range(len(a)):\n",
    "    s = 0 \n",
    "    # print(a[i])\n",
    "    for j in a[i]:\n",
    "        s += int(j)\n",
    "    \n",
    "    if max_num < s:\n",
    "        max_num = s \n",
    "        max_idx = i \n",
    "print(a[max_idx])"
   ]
  },
  {
   "cell_type": "code",
   "execution_count": 13,
   "metadata": {},
   "outputs": [],
   "source": [
    "def digit_sum(x):\n",
    "    s = 0 \n",
    "    for i in x:\n",
    "        s += int(i)\n",
    "    return s"
   ]
  },
  {
   "cell_type": "code",
   "execution_count": 14,
   "metadata": {},
   "outputs": [
    {
     "name": "stdout",
     "output_type": "stream",
     "text": [
      "659\n"
     ]
    }
   ],
   "source": [
    "max_num = 0 \n",
    "max_idx = 0 \n",
    "\n",
    "for i in range(len(a)):\n",
    "    s = 0 \n",
    "    s = digit_sum(a[i])\n",
    "\n",
    "    # 가장 먼저인 숫자를 출력하기 때문에 <=을 사용하지 않음 \n",
    "    if max_num < s:\n",
    "        max_num = s \n",
    "        max_idx = i\n",
    "    \n",
    "print(a[max_idx])"
   ]
  },
  {
   "attachments": {},
   "cell_type": "markdown",
   "metadata": {},
   "source": [
    "### 추천 풀이"
   ]
  },
  {
   "cell_type": "code",
   "execution_count": 15,
   "metadata": {},
   "outputs": [
    {
     "name": "stdout",
     "output_type": "stream",
     "text": [
      "97\n"
     ]
    }
   ],
   "source": [
    "n = int(input())\n",
    "a = list(map(int, input().split()))\n",
    "\n",
    "def digit_sum(x):\n",
    "    sum1 = 0 \n",
    "    while x > 0:\n",
    "        sum1 += x%10\n",
    "        x = x//10\n",
    "    return sum1\n",
    "# 신박한데?\n",
    "\n",
    "max1 = -2147000000\n",
    "for x in a:\n",
    "    tot = digit_sum(x)\n",
    "    if tot > max1:\n",
    "        max1 = tot \n",
    "        res = x \n",
    "print(res)"
   ]
  },
  {
   "attachments": {},
   "cell_type": "markdown",
   "metadata": {},
   "source": [
    "## 소수(에라토스테네스 체)\n",
    "- 자연수 N이 입력되면 1부터 N까지의 소수의 개수를 출력하는 프로그램을 작성하세요. 만약 20이 입력되면 1부터 20까지의 소수는 2, 3, 5, 7, 11, 13, 17, 19로 총 8개입니다. 제한시간은 1초입니다.\n",
    "- ▣ 입력설명\n",
    "    - 첫 줄에 자연수의 개수 N(2<=N<=200,000)이 주어집니다.\n",
    "- ▣ 출력설명\n",
    "    - 첫 줄에 소수의 개수를 출력합니다.\n",
    "- ▣ 입력예제1 \n",
    "    - 20\n",
    "- ▣ 출력예제1\n",
    "    - 8"
   ]
  },
  {
   "cell_type": "code",
   "execution_count": null,
   "metadata": {},
   "outputs": [],
   "source": [
    "'''\n",
    "1. 입력된 N 만큼의 0으로 초기화된 리스트 생성 \n",
    "2. 2~N까지 돌면서 값이 0이면 count진행 \n",
    "    2.1 이후 0인 값에 대해서 해당 값의 배수는 모두 1로 변환 \n",
    "3. 해당 과정을 반복 \n",
    "'''"
   ]
  },
  {
   "cell_type": "code",
   "execution_count": 23,
   "metadata": {},
   "outputs": [
    {
     "name": "stdout",
     "output_type": "stream",
     "text": [
      "[0, 0, 0, 0, 0, 0, 0, 0, 0, 0, 0, 0, 0, 0, 0, 0, 0, 0, 0, 0, 0]\n"
     ]
    }
   ],
   "source": [
    "n = int(input())\n",
    "\n",
    "li = [0] * (n+1)\n",
    "print(li)"
   ]
  },
  {
   "cell_type": "code",
   "execution_count": 24,
   "metadata": {},
   "outputs": [
    {
     "name": "stdout",
     "output_type": "stream",
     "text": [
      "8\n"
     ]
    }
   ],
   "source": [
    "cnt = 0\n",
    "\n",
    "for i in range(2, n+1):\n",
    "    if li[i] == 0:\n",
    "        cnt += 1 \n",
    "        # 해당 값이 소수인 것은 확인했지만 이후 배수가 존재하기 때문에 해당 배수를 미리 걸러주는 과정 \n",
    "        for j in range(i, n+1, i):\n",
    "            li[j] = 1 \n",
    "print(cnt)"
   ]
  },
  {
   "attachments": {},
   "cell_type": "markdown",
   "metadata": {},
   "source": [
    "### 추천 풀이"
   ]
  },
  {
   "cell_type": "code",
   "execution_count": 26,
   "metadata": {},
   "outputs": [
    {
     "name": "stdout",
     "output_type": "stream",
     "text": [
      "8\n"
     ]
    }
   ],
   "source": [
    "n = int(input())\n",
    "ch = [0] * (n+1)\n",
    "\n",
    "cnt = 0 \n",
    "\n",
    "for i in range(2,n+1):\n",
    "    if ch[i] == 0:\n",
    "        cnt += 1 \n",
    "        for j in range(i, n+1, i):\n",
    "            ch[j] = 1 \n",
    "            \n",
    "print(cnt)"
   ]
  },
  {
   "attachments": {},
   "cell_type": "markdown",
   "metadata": {},
   "source": [
    "## 뒤집은 소수 \n",
    "\n",
    "- N개의 자연수가 입력되면 각 자연수를 뒤집은 후 그 뒤집은 수가 소수이면 그 수를 출력하는 프로그램을 작성하세요. 예를 들어 32를 뒤집으면 23이고, 23은 소수이다. 그러면 23을 출력 한다. 단 910를 뒤집으면 19로 숫자화 해야 한다. \n",
    "- 첫 자리부터의 연속된 0은 무시한다.\n",
    "- 뒤집는 함수인 def reverse(x) 와 소수인지를 확인하는 함수 def isPrime(x)를 반드시 작성하 여 프로그래밍 한다.\n",
    "- ▣ 입력설명\n",
    "    - 첫 줄에 자연수의 개수 N(3<=N<=100)이 주어지고, 그 다음 줄에 N개의 자연수가 주어진다. 각 자연수의 크기는 100,000를 넘지 않는다.\n",
    "- ▣ 출력설명\n",
    "    - 첫 줄에 뒤집은 소수를 출력합니다. 출력순서는 입력된 순서대로 출력합니다.\n",
    "- ▣ 입력예제1\n",
    "    - 5\n",
    "    - 32 55 62 3700 250\n",
    "- ▣ 출력예제1 \n",
    "    - 23 73"
   ]
  },
  {
   "cell_type": "code",
   "execution_count": 27,
   "metadata": {},
   "outputs": [
    {
     "data": {
      "text/plain": [
       "'\\n1. 숫자 뒤집는 함수 만들기\\n    1.1 숫자를 str로 변경해서 해당 숫자를 거꾸로 하나씩 + 연산으로 넣고 이후 int로 변환 \\n2. 소수 구하는 함수 만들기 \\n    2.1 특정 숫자가 들어온다면 그것이 2~특정 숫자까지 나눴을 떄 나눠지는게 있다면 소수가 아닌 함수 생성\\n'"
      ]
     },
     "execution_count": 27,
     "metadata": {},
     "output_type": "execute_result"
    }
   ],
   "source": [
    "'''\n",
    "1. 숫자 뒤집는 함수 만들기\n",
    "    1.1 숫자를 str로 변경해서 해당 숫자를 거꾸로 하나씩 + 연산으로 넣고 이후 int로 변환 \n",
    "2. 소수 구하는 함수 만들기 \n",
    "    2.1 특정 숫자가 들어온다면 그것이 2~특정 숫자까지 나눴을 떄 나눠지는게 있다면 소수가 아닌 함수 생성\n",
    "'''"
   ]
  },
  {
   "cell_type": "code",
   "execution_count": 28,
   "metadata": {},
   "outputs": [],
   "source": [
    "N = int(input())\n",
    "li = list(map(int, input().split()))"
   ]
  },
  {
   "cell_type": "code",
   "execution_count": 37,
   "metadata": {},
   "outputs": [
    {
     "data": {
      "text/plain": [
       "73"
      ]
     },
     "execution_count": 37,
     "metadata": {},
     "output_type": "execute_result"
    }
   ],
   "source": [
    "t = 32 \n",
    "s = \"\"\n",
    "for i in range(len(str(t))-1,-1,-1):\n",
    "    s+=str(t)[i]\n",
    "# print(s)\n",
    "\n",
    "def reverse(x):\n",
    "    str_x = str(x)\n",
    "    s = \"\"\n",
    "    for i in range(len(str(str_x))-1, -1, -1):\n",
    "        s += str_x[i]\n",
    "\n",
    "    # int로 변환하면 자동으로 앞의 0의 자리는 없어짐 \n",
    "    return int(s)\n",
    "\n",
    "reverse(3700)"
   ]
  },
  {
   "cell_type": "code",
   "execution_count": 58,
   "metadata": {},
   "outputs": [],
   "source": [
    "def isPrime(x):\n",
    "    cnt = 0 \n",
    "    # 자기 자신을 제외하고 나눠지면 안되기 때문에 나눠진다면 count 진행 \n",
    "    for i in range(2,x):\n",
    "        if x % i == 0:\n",
    "            cnt += 1\n",
    "        else:\n",
    "            pass \n",
    "    \n",
    "    if cnt == 0:\n",
    "        return \"Prime\"\n",
    "    else:\n",
    "        return \"NotPrime\""
   ]
  },
  {
   "cell_type": "code",
   "execution_count": 65,
   "metadata": {},
   "outputs": [
    {
     "name": "stdout",
     "output_type": "stream",
     "text": [
      "23 73 "
     ]
    }
   ],
   "source": [
    "for i in range(len(li)):\n",
    "\n",
    "    reverse_num = reverse(li[i])\n",
    "    #print(reverse_num)\n",
    "    check = isPrime(reverse_num)\n",
    "    if check == \"Prime\":\n",
    "        print(reverse_num, end = \" \")"
   ]
  },
  {
   "attachments": {},
   "cell_type": "markdown",
   "metadata": {},
   "source": [
    "### 추천 풀이"
   ]
  },
  {
   "cell_type": "code",
   "execution_count": 66,
   "metadata": {},
   "outputs": [
    {
     "name": "stdout",
     "output_type": "stream",
     "text": [
      "23 73 "
     ]
    }
   ],
   "source": [
    "n = int(input())\n",
    "a = list(map(int, input().split()))\n",
    "\n",
    "def reverse(x):\n",
    "    res = 0 \n",
    "    while x > 0:\n",
    "        t = x % 10\n",
    "        res = res * 10 + t \n",
    "        x = x // 10 \n",
    "        # 위의 연산을 수행하게 되면 해당 값을 reverse할 수 있음 \n",
    "            # ex) 32\n",
    "                # 1. t = 2, res = 2, x = 3\n",
    "                # 2. t = 3, res = 23, x = 0 \n",
    "                # 3. x가 0미만임으로 종료 \n",
    "\n",
    "    return res\n",
    "\n",
    "def isPrime(x):\n",
    "    # x에 1이 들어올 수 있음 \n",
    "    if x == 1:\n",
    "        return False\n",
    "    \n",
    "    # 특정 수의 약수는 x//2까지 안에 존재한다고 함 \n",
    "    # 연산을 조금 더 줄일 수 있음 \n",
    "    for i in range(2,x//2+1):\n",
    "        if x % i == 0:\n",
    "            return False \n",
    "    else:\n",
    "    # 반복문을 다 돌았는데 False가 안나왔다면 True 리턴 \n",
    "        return True \n",
    "\n",
    "\n",
    "\n",
    "for x in a:\n",
    "    tmp = reverse(x)\n",
    "    if isPrime(tmp):\n",
    "        print(tmp, end = \" \")"
   ]
  },
  {
   "cell_type": "code",
   "execution_count": null,
   "metadata": {},
   "outputs": [],
   "source": []
  }
 ],
 "metadata": {
  "kernelspec": {
   "display_name": "Python 3",
   "language": "python",
   "name": "python3"
  },
  "language_info": {
   "codemirror_mode": {
    "name": "ipython",
    "version": 3
   },
   "file_extension": ".py",
   "mimetype": "text/x-python",
   "name": "python",
   "nbconvert_exporter": "python",
   "pygments_lexer": "ipython3",
   "version": "3.9.1"
  },
  "orig_nbformat": 4
 },
 "nbformat": 4,
 "nbformat_minor": 2
}
