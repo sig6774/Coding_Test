{
 "cells": [
  {
   "cell_type": "markdown",
   "metadata": {},
   "source": [
    "## 짝 지어 제거하기 \n",
    "- 문제 설명\n",
    "    - 짝지어 제거하기는, 알파벳 소문자로 이루어진 문자열을 가지고 시작합니다. 먼저 문자열에서 같은 알파벳이 2개 붙어 있는 짝을 찾습니다. 그다음, 그 둘을 제거한 뒤, 앞뒤로 문자열을 이어 붙입니다. 이 과정을 반복해서 문자열을 모두 제거한다면 짝지어 제거하기가 종료됩니다. 문자열 S가 주어졌을 때, 짝지어 제거하기를 성공적으로 수행할 수 있는지 반환하는 함수를 완성해 주세요. 성공적으로 수행할 수 있으면 1을, 아닐 경우 0을 리턴해주면 됩니다.\n",
    "\n",
    "    - 예를 들어, 문자열 S = baabaa 라면\n",
    "\n",
    "    - b aa baa → bb aa → aa → 의 순서로 문자열을 모두 제거할 수 있으므로 1을 반환합니다.\n",
    "\n",
    "- 제한사항\n",
    "    - 문자열의 길이 : 1,000,000이하의 자연수\n",
    "    - 문자열은 모두 소문자로 이루어져 있습니다."
   ]
  },
  {
   "cell_type": "code",
   "execution_count": 9,
   "metadata": {},
   "outputs": [],
   "source": [
    "st = \"baabaa\"\n",
    "# st = \"cdcd\""
   ]
  },
  {
   "cell_type": "code",
   "execution_count": 10,
   "metadata": {},
   "outputs": [
    {
     "name": "stdout",
     "output_type": "stream",
     "text": [
      "[]\n",
      "1\n"
     ]
    }
   ],
   "source": [
    "a = [] \n",
    "for s in st:\n",
    "    if a and a[-1] == s:\n",
    "        a.pop() \n",
    "    # a에 값이 있고 a의 마지막 원소가 현재 string과 같다면 pop \n",
    "    # 즉 a의 마지막 원소와 현재 원소가 같은 문자라면 제거할 수 있기 때문에 pop \n",
    "    else:\n",
    "        a.append(s)\n",
    "    # 위의 조건을 만족하지 못한다면 append \n",
    "print(a)\n",
    "if len(a) == 0:\n",
    "    print(1)\n",
    "else:\n",
    "    print(0)"
   ]
  },
  {
   "cell_type": "code",
   "execution_count": 11,
   "metadata": {},
   "outputs": [],
   "source": [
    "def solution(s):\n",
    "    answer = 0\n",
    "    a = [] \n",
    "    for ss in s:\n",
    "        if a and a[-1] == ss:\n",
    "            a.pop()\n",
    "        else:\n",
    "            a.append(ss)\n",
    "    if len(a) == 0:\n",
    "        answer = 1 \n",
    "\n",
    "    return answer"
   ]
  },
  {
   "cell_type": "code",
   "execution_count": 13,
   "metadata": {},
   "outputs": [
    {
     "data": {
      "text/plain": [
       "1"
      ]
     },
     "execution_count": 13,
     "metadata": {},
     "output_type": "execute_result"
    }
   ],
   "source": [
    "solution(st)"
   ]
  },
  {
   "cell_type": "markdown",
   "metadata": {},
   "source": [
    "## 제로  \n",
    "- 문제\n",
    "    - 나코더 기장 재민이는 동아리 회식을 준비하기 위해서 장부를 관리하는 중이다.\n",
    "\n",
    "    - 재현이는 재민이를 도와서 돈을 관리하는 중인데, 애석하게도 항상 정신없는 재현이는 돈을 실수로 잘못 부르는 사고를 치기 일쑤였다.\n",
    "\n",
    "    - 재현이는 잘못된 수를 부를 때마다 0을 외쳐서, 가장 최근에 재민이가 쓴 수를 지우게 시킨다.\n",
    "\n",
    "    - 재민이는 이렇게 모든 수를 받아 적은 후 그 수의 합을 알고 싶어 한다. 재민이를 도와주자!\n",
    "\n",
    "- 입력\n",
    "    - 첫 번째 줄에 정수 K가 주어진다. (1 ≤ K ≤ 100,000)\n",
    "\n",
    "    - 이후 K개의 줄에 정수가 1개씩 주어진다. 정수는 0에서 1,000,000 사이의 값을 가지며, 정수가 \"0\" 일 경우에는 가장 최근에 쓴 수를 지우고, 아닐 경우 해당 수를 쓴다.\n",
    "\n",
    "    - 정수가 \"0\"일 경우에 지울 수 있는 수가 있음을 보장할 수 있다.\n",
    "\n",
    "- 출력\n",
    "    - 재민이가 최종적으로 적어 낸 수의 합을 출력한다. 최종적으로 적어낸 수의 합은 231-1보다 작거나 같은 정수이다."
   ]
  },
  {
   "cell_type": "code",
   "execution_count": 25,
   "metadata": {},
   "outputs": [
    {
     "name": "stdout",
     "output_type": "stream",
     "text": [
      "7\n"
     ]
    }
   ],
   "source": [
    "num = int(input())\n",
    "li = [] \n",
    "for i in range(num):\n",
    "    a = int(input())\n",
    "    if a == 0:\n",
    "        li.pop()\n",
    "    else:\n",
    "        li.append(a)\n",
    "print(sum(li))\n",
    "# 정답 "
   ]
  },
  {
   "cell_type": "markdown",
   "metadata": {},
   "source": [
    "## 괄호 \n",
    "- 문제\n",
    "    - 괄호 문자열(Parenthesis String, PS)은 두 개의 괄호 기호인 ‘(’ 와 ‘)’ 만으로 구성되어 있는 문자열이다. 그 중에서 괄호의 모양이 바르게 구성된 문자열을 올바른 괄호 문자열(Valid PS, VPS)이라고 부른다. 한 쌍의 괄호 기호로 된 “( )” 문자열은 기본 VPS 이라고 부른다. 만일 x 가 VPS 라면 이것을 하나의 괄호에 넣은 새로운 문자열 “(x)”도 VPS 가 된다. 그리고 두 VPS x 와 y를 접합(concatenation)시킨 새로운 문자열 xy도 VPS 가 된다. 예를 들어 “(())()”와 “((()))” 는 VPS 이지만 “(()(”, “(())()))” , 그리고 “(()” 는 모두 VPS 가 아닌 문자열이다. \n",
    "\n",
    "    - 여러분은 입력으로 주어진 괄호 문자열이 VPS 인지 아닌지를 판단해서 그 결과를 YES 와 NO 로 나타내어야 한다. \n",
    "\n",
    "- 입력\n",
    "    - 입력 데이터는 표준 입력을 사용한다. 입력은 T개의 테스트 데이터로 주어진다. 입력의 첫 번째 줄에는 입력 데이터의 수를 나타내는 정수 T가 주어진다. 각 테스트 데이터의 첫째 줄에는 괄호 문자열이 한 줄에 주어진다. 하나의 괄호 문자열의 길이는 2 이상 50 이하이다. \n",
    "\n",
    "- 출력\n",
    "    - 출력은 표준 출력을 사용한다. 만일 입력 괄호 문자열이 올바른 괄호 문자열(VPS)이면 “YES”, 아니면 “NO”를 한 줄에 하나씩 차례대로 출력해야 한다. "
   ]
  },
  {
   "cell_type": "code",
   "execution_count": 26,
   "metadata": {},
   "outputs": [],
   "source": [
    "s = \"(())())\"\n",
    "'''\n",
    "1. ( 개수랑 )개수가 같으면 YES 다르면 NO <- 이거는 안됨 \n",
    "2. (는 넣고 만약 )라면 pop 진행하고 남은게 있다면 NO 출력 \n",
    "'''"
   ]
  },
  {
   "cell_type": "code",
   "execution_count": 28,
   "metadata": {},
   "outputs": [
    {
     "name": "stdout",
     "output_type": "stream",
     "text": [
      "NO\n"
     ]
    }
   ],
   "source": [
    "cnt = 0 \n",
    "cnt2 = 0 \n",
    "for i in s:\n",
    "    if i == \"(\":\n",
    "        cnt += 1\n",
    "    else:\n",
    "        cnt2 += 1\n",
    "if cnt == cnt2:\n",
    "    print(\"YES\")\n",
    "else:\n",
    "    print(\"NO\")"
   ]
  },
  {
   "cell_type": "code",
   "execution_count": 33,
   "metadata": {},
   "outputs": [
    {
     "name": "stdout",
     "output_type": "stream",
     "text": [
      "NO\n",
      "NO\n",
      "YES\n"
     ]
    }
   ],
   "source": [
    "n = int(input())\n",
    "for i in range(n):\n",
    "    s = input()\n",
    "    cnt = 0 \n",
    "    cnt2 = 0 \n",
    "    for i in s:\n",
    "        if i == \"(\":\n",
    "            cnt += 1\n",
    "        else:\n",
    "            cnt2 += 1\n",
    "    if cnt == cnt2:\n",
    "        print(\"YES\")\n",
    "    else:\n",
    "        print(\"NO\")"
   ]
  },
  {
   "cell_type": "code",
   "execution_count": 43,
   "metadata": {},
   "outputs": [
    {
     "name": "stdout",
     "output_type": "stream",
     "text": [
      "[]\n",
      "['(']\n",
      "NO\n",
      "[]\n",
      "[')']\n",
      "NO\n",
      "[]\n",
      "['(']\n",
      "[]\n",
      "[')']\n",
      "[')', '(']\n",
      "[')', '(', '(']\n",
      "NO\n"
     ]
    }
   ],
   "source": [
    "n = int(input())\n",
    "for i in range(n):\n",
    "    li = [] \n",
    "    s = input()\n",
    "    for i in s:\n",
    "        # print(li)\n",
    "        if li and li[-1] == \"(\" and i == \")\":\n",
    "            li.pop()\n",
    "        else: \n",
    "            li.append(i)\n",
    "    if len(li) != 0:\n",
    "        print(\"NO\")\n",
    "    else:\n",
    "        print(\"YES\")\n",
    "# 정답 "
   ]
  },
  {
   "cell_type": "markdown",
   "metadata": {},
   "source": [
    "## 균형잡힌 세상 \n",
    "- 문제\n",
    "    - 세계는 균형이 잘 잡혀있어야 한다. 양과 음, 빛과 어둠 그리고 왼쪽 괄호와 오른쪽 괄호처럼 말이다.\n",
    "\n",
    "    - 정민이의 임무는 어떤 문자열이 주어졌을 때, 괄호들의 균형이 잘 맞춰져 있는지 판단하는 프로그램을 짜는 것이다.\n",
    "\n",
    "    - 문자열에 포함되는 괄호는 소괄호(\"()\") 와 대괄호(\"[]\")로 2종류이고, 문자열이 균형을 이루는 조건은 아래와 같다.\n",
    "\n",
    "    - 모든 왼쪽 소괄호(\"(\")는 오른쪽 소괄호(\")\")와만 짝을 이뤄야 한다.\n",
    "    - 모든 왼쪽 대괄호(\"[\")는 오른쪽 대괄호(\"]\")와만 짝을 이뤄야 한다.\n",
    "    - 모든 오른쪽 괄호들은 자신과 짝을 이룰 수 있는 왼쪽 괄호가 존재한다.\n",
    "    - 모든 괄호들의 짝은 1:1 매칭만 가능하다. 즉, 괄호 하나가 둘 이상의 괄호와 짝지어지지 않는다.\n",
    "    - 짝을 이루는 두 괄호가 있을 때, 그 사이에 있는 문자열도 균형이 잡혀야 한다.\n",
    "    - 정민이를 도와 문자열이 주어졌을 때 균형잡힌 문자열인지 아닌지를 판단해보자.\n",
    "\n",
    "- 입력\n",
    "    - 하나 또는 여러줄에 걸쳐서 문자열이 주어진다. 각 문자열은 영문 알파벳, 공백, 소괄호(\"( )\") 대괄호(\"[ ]\")등으로 이루어져 있으며, 길이는 100글자보다 작거나 같다. 각 줄은 마침표(\".\")로 끝난다.\n",
    "\n",
    "    - 입력의 종료조건으로 맨 마지막에 점 하나(\".\")가 들어온다.\n",
    "- 출력\n",
    "    - 각 줄마다 해당 문자열이 균형을 이루고 있으면 \"yes\"를, 아니면 \"no\"를 출력한다.\n",
    "\n",
    "- 예제 입력 1 \n",
    "    - So when I die (the [first] I will see in (heaven) is a score list).\n",
    "    - [ first in ] ( first out ).\n",
    "    - Half Moon tonight (At least it is better than no Moon at all].\n",
    "    - A rope may form )( a trail in a maze.\n",
    "    - Help( I[m being held prisoner in a fortune cookie factory)].\n",
    "    - ([ (([( [ ] ) ( ) (( ))] )) ]).\n",
    "    - .\n",
    "    - .\n",
    "\n",
    "- 예제 출력 1 \n",
    "    - yes\n",
    "    - yes\n",
    "    - no\n",
    "    - no\n",
    "    - no\n",
    "    - yes\n",
    "    - yes    "
   ]
  },
  {
   "cell_type": "code",
   "execution_count": 53,
   "metadata": {},
   "outputs": [
    {
     "name": "stdout",
     "output_type": "stream",
     "text": [
      "[]\n",
      "yes\n"
     ]
    }
   ],
   "source": [
    "s = \"So when I die (the [first] I will see in (heaven) is a score list).\"\n",
    "s = \"Half Moon tonight (At least it is better than no Moon at all].\"\n",
    "s = \"([ (([( [ ] ) ( ) (( ))] )) ]).\"\n",
    "s = \" .\"\n",
    "li = [] \n",
    "for i in s:\n",
    "    if i == \"(\":\n",
    "        li.append(i)\n",
    "    elif i == \"[\":\n",
    "        li.append(i)\n",
    "    elif li and li[-1] == \"(\" and i == \")\":\n",
    "        li.pop()\n",
    "    elif li and li[-1] == \"[\" and i == \"]\":\n",
    "        li.pop()\n",
    "    \n",
    "print(li)\n",
    "if i == \".\" and len(li) == 0: \n",
    "    print(\"yes\")\n",
    "else:\n",
    "    print(\"no\")"
   ]
  },
  {
   "cell_type": "code",
   "execution_count": 56,
   "metadata": {},
   "outputs": [
    {
     "name": "stdout",
     "output_type": "stream",
     "text": [
      "yes\n",
      "yes\n",
      "no\n",
      "no\n",
      "no\n",
      "yes\n",
      "yes\n"
     ]
    }
   ],
   "source": [
    "while True:\n",
    "    s = input()\n",
    "\n",
    "    if s == \".\":\n",
    "        break \n",
    "    else:\n",
    "        li = []\n",
    "        for i in s:\n",
    "            if i == \"(\":\n",
    "                li.append(i)\n",
    "            elif i == \"[\":\n",
    "                li.append(i)\n",
    "            elif li and li[-1] == \"(\" and i == \")\":\n",
    "                li.pop()\n",
    "            elif li and li[-1] == \"[\" and i == \"]\":\n",
    "                li.pop()\n",
    "            \n",
    "        # print(li)\n",
    "        if i == \".\":\n",
    "            if len(li) == 0: \n",
    "                print(\"yes\")\n",
    "            else:\n",
    "                print(\"no\")\n",
    "# 틀렸네 ... "
   ]
  },
  {
   "cell_type": "code",
   "execution_count": 57,
   "metadata": {},
   "outputs": [
    {
     "name": "stdout",
     "output_type": "stream",
     "text": [
      "yes\n",
      "yes\n",
      "no\n",
      "no\n",
      "no\n",
      "yes\n",
      "yes\n"
     ]
    }
   ],
   "source": [
    "while True:\n",
    "    s = input()\n",
    "\n",
    "    if s == \".\":\n",
    "        break \n",
    "    else:\n",
    "        li = []\n",
    "        for i in s:\n",
    "            if i == \"(\":\n",
    "                li.append(i)\n",
    "            elif i == \"[\":\n",
    "                li.append(i)\n",
    "            elif li and li[-1] == \"(\" and i == \")\":\n",
    "                li.pop()\n",
    "            elif i == \")\":\n",
    "                li.append(i)\n",
    "            elif li and li[-1] == \"[\" and i == \"]\":\n",
    "                li.pop()\n",
    "            elif i == \"]\":\n",
    "                li.append(i)\n",
    "            \n",
    "        # print(li)\n",
    "        if i == \".\":\n",
    "            if len(li) == 0: \n",
    "                print(\"yes\")\n",
    "            else:\n",
    "                print(\"no\")\n",
    "# 그냥 넣을 때도 생각해야함 "
   ]
  },
  {
   "cell_type": "code",
   "execution_count": null,
   "metadata": {},
   "outputs": [],
   "source": []
  }
 ],
 "metadata": {
  "kernelspec": {
   "display_name": "Python 3.9.1 64-bit ('3.9.1')",
   "language": "python",
   "name": "python3"
  },
  "language_info": {
   "codemirror_mode": {
    "name": "ipython",
    "version": 3
   },
   "file_extension": ".py",
   "mimetype": "text/x-python",
   "name": "python",
   "nbconvert_exporter": "python",
   "pygments_lexer": "ipython3",
   "version": "3.9.1"
  },
  "orig_nbformat": 4,
  "vscode": {
   "interpreter": {
    "hash": "b29909ae39fc17549a84839997d927dda790dc9d9d25402f3e010c02e8c51a82"
   }
  }
 },
 "nbformat": 4,
 "nbformat_minor": 2
}
