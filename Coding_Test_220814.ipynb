{
 "cells": [
  {
   "cell_type": "markdown",
   "metadata": {},
   "source": [
    "## 동전교환 \n",
    "- 다음과 같이 여러 단위의 동전들이 주어져 있을때 거스름돈을 가장 적은 수의 동전으로 교환 해주려면 어떻게 주면 되는가? 각 단위의 동전은 무한정 쓸 수 있다.\n",
    "\n",
    "<hr>\n",
    "\n",
    "- 첫 번째 줄에는 동전의 종류개수 N(1<=N<=12)이 주어진다. 두 번째 줄에는 N개의 동전의 종 류가 주어지고, 그 다음줄에 거슬러 줄 금액 M(1<=M<=500)이 주어진다.\n",
    "- 각 동전의 종류는 100원을 넘지 않는다.\n",
    "- 첫 번째 줄에 거슬러 줄 동전의 최소개수를 출력한다."
   ]
  },
  {
   "cell_type": "code",
   "execution_count": 1,
   "metadata": {},
   "outputs": [
    {
     "data": {
      "text/plain": [
       "'\\n전체 금액에서 n종류의 동전 종류를 빼서 0이 되도록 만들고 \\n0이 되는 경우의 수 중 가장 작은 것을 구하면 됨 \\nDFS를 통해서 할 수 있을 것 같은데\\n'"
      ]
     },
     "execution_count": 1,
     "metadata": {},
     "output_type": "execute_result"
    }
   ],
   "source": [
    "'''\n",
    "전체 금액에서 n종류의 동전 종류를 빼서 0이 되도록 만들고 \n",
    "0이 되는 경우의 수 중 가장 작은 것을 구하면 됨 \n",
    "DFS를 통해서 할 수 있을 것 같은데\n",
    "'''"
   ]
  },
  {
   "cell_type": "code",
   "execution_count": 1,
   "metadata": {},
   "outputs": [],
   "source": [
    "n = 3 \n",
    "li = [1, 2, 5]\n",
    "m = 15\n",
    "cnt = 0 \n",
    "res = [0] * 501 "
   ]
  },
  {
   "cell_type": "code",
   "execution_count": 47,
   "metadata": {},
   "outputs": [],
   "source": [
    "count = [] \n",
    "def DFS(cnt):\n",
    "\n",
    "    if cnt == 15:\n",
    "        if sum(res) == 15:\n",
    "\n",
    "\n",
    "            count.append(res)\n",
    "    \n",
    "\n",
    "    else:\n",
    "        for i in range(0,n):\n",
    "            res[cnt] = li[i]\n",
    "            print(res)\n",
    "            DFS(cnt+1)"
   ]
  },
  {
   "cell_type": "code",
   "execution_count": 46,
   "metadata": {},
   "outputs": [
    {
     "data": {
      "text/plain": [
       "501"
      ]
     },
     "execution_count": 46,
     "metadata": {},
     "output_type": "execute_result"
    }
   ],
   "source": [
    "sum(count[0])"
   ]
  },
  {
   "cell_type": "code",
   "execution_count": 12,
   "metadata": {},
   "outputs": [],
   "source": [
    "a = []\n",
    "\n",
    "def DFS(cnt):\n",
    "    if cnt == m or sum(res) == m:\n",
    "        a.append(cnt)\n",
    "\n",
    "    else:\n",
    "        for i in range(n):\n",
    "            res[i] = li[i]\n",
    "            DFS(cnt+1)\n",
    "\n",
    "# 안되네 "
   ]
  },
  {
   "cell_type": "code",
   "execution_count": 13,
   "metadata": {},
   "outputs": [
    {
     "ename": "KeyboardInterrupt",
     "evalue": "",
     "output_type": "error",
     "traceback": [
      "\u001b[0;31m---------------------------------------------------------------------------\u001b[0m",
      "\u001b[0;31mKeyboardInterrupt\u001b[0m                         Traceback (most recent call last)",
      "\u001b[1;32m/Users/sig6774/CodingTest/Coding_Test_220814.ipynb 셀 7\u001b[0m in \u001b[0;36m<cell line: 1>\u001b[0;34m()\u001b[0m\n\u001b[0;32m----> <a href='vscode-notebook-cell:/Users/sig6774/CodingTest/Coding_Test_220814.ipynb#X10sZmlsZQ%3D%3D?line=0'>1</a>\u001b[0m DFS(\u001b[39m0\u001b[39;49m)\n",
      "\u001b[1;32m/Users/sig6774/CodingTest/Coding_Test_220814.ipynb 셀 7\u001b[0m in \u001b[0;36mDFS\u001b[0;34m(cnt)\u001b[0m\n\u001b[1;32m      <a href='vscode-notebook-cell:/Users/sig6774/CodingTest/Coding_Test_220814.ipynb#X10sZmlsZQ%3D%3D?line=7'>8</a>\u001b[0m \u001b[39mfor\u001b[39;00m i \u001b[39min\u001b[39;00m \u001b[39mrange\u001b[39m(n):\n\u001b[1;32m      <a href='vscode-notebook-cell:/Users/sig6774/CodingTest/Coding_Test_220814.ipynb#X10sZmlsZQ%3D%3D?line=8'>9</a>\u001b[0m     res[i] \u001b[39m=\u001b[39m li[i]\n\u001b[0;32m---> <a href='vscode-notebook-cell:/Users/sig6774/CodingTest/Coding_Test_220814.ipynb#X10sZmlsZQ%3D%3D?line=9'>10</a>\u001b[0m     DFS(cnt\u001b[39m+\u001b[39;49m\u001b[39m1\u001b[39;49m)\n",
      "\u001b[1;32m/Users/sig6774/CodingTest/Coding_Test_220814.ipynb 셀 7\u001b[0m in \u001b[0;36mDFS\u001b[0;34m(cnt)\u001b[0m\n\u001b[1;32m      <a href='vscode-notebook-cell:/Users/sig6774/CodingTest/Coding_Test_220814.ipynb#X10sZmlsZQ%3D%3D?line=7'>8</a>\u001b[0m \u001b[39mfor\u001b[39;00m i \u001b[39min\u001b[39;00m \u001b[39mrange\u001b[39m(n):\n\u001b[1;32m      <a href='vscode-notebook-cell:/Users/sig6774/CodingTest/Coding_Test_220814.ipynb#X10sZmlsZQ%3D%3D?line=8'>9</a>\u001b[0m     res[i] \u001b[39m=\u001b[39m li[i]\n\u001b[0;32m---> <a href='vscode-notebook-cell:/Users/sig6774/CodingTest/Coding_Test_220814.ipynb#X10sZmlsZQ%3D%3D?line=9'>10</a>\u001b[0m     DFS(cnt\u001b[39m+\u001b[39;49m\u001b[39m1\u001b[39;49m)\n",
      "    \u001b[0;31m[... skipping similar frames: DFS at line 10 (9 times)]\u001b[0m\n",
      "\u001b[1;32m/Users/sig6774/CodingTest/Coding_Test_220814.ipynb 셀 7\u001b[0m in \u001b[0;36mDFS\u001b[0;34m(cnt)\u001b[0m\n\u001b[1;32m      <a href='vscode-notebook-cell:/Users/sig6774/CodingTest/Coding_Test_220814.ipynb#X10sZmlsZQ%3D%3D?line=7'>8</a>\u001b[0m \u001b[39mfor\u001b[39;00m i \u001b[39min\u001b[39;00m \u001b[39mrange\u001b[39m(n):\n\u001b[1;32m      <a href='vscode-notebook-cell:/Users/sig6774/CodingTest/Coding_Test_220814.ipynb#X10sZmlsZQ%3D%3D?line=8'>9</a>\u001b[0m     res[i] \u001b[39m=\u001b[39m li[i]\n\u001b[0;32m---> <a href='vscode-notebook-cell:/Users/sig6774/CodingTest/Coding_Test_220814.ipynb#X10sZmlsZQ%3D%3D?line=9'>10</a>\u001b[0m     DFS(cnt\u001b[39m+\u001b[39;49m\u001b[39m1\u001b[39;49m)\n",
      "\u001b[1;32m/Users/sig6774/CodingTest/Coding_Test_220814.ipynb 셀 7\u001b[0m in \u001b[0;36mDFS\u001b[0;34m(cnt)\u001b[0m\n\u001b[1;32m      <a href='vscode-notebook-cell:/Users/sig6774/CodingTest/Coding_Test_220814.ipynb#X10sZmlsZQ%3D%3D?line=2'>3</a>\u001b[0m \u001b[39mdef\u001b[39;00m \u001b[39mDFS\u001b[39m(cnt):\n\u001b[0;32m----> <a href='vscode-notebook-cell:/Users/sig6774/CodingTest/Coding_Test_220814.ipynb#X10sZmlsZQ%3D%3D?line=3'>4</a>\u001b[0m     \u001b[39mif\u001b[39;00m cnt \u001b[39m==\u001b[39m m \u001b[39mor\u001b[39;00m \u001b[39msum\u001b[39;49m(res) \u001b[39m==\u001b[39m m:\n\u001b[1;32m      <a href='vscode-notebook-cell:/Users/sig6774/CodingTest/Coding_Test_220814.ipynb#X10sZmlsZQ%3D%3D?line=4'>5</a>\u001b[0m         a\u001b[39m.\u001b[39mappend(cnt)\n\u001b[1;32m      <a href='vscode-notebook-cell:/Users/sig6774/CodingTest/Coding_Test_220814.ipynb#X10sZmlsZQ%3D%3D?line=6'>7</a>\u001b[0m     \u001b[39melse\u001b[39;00m:\n",
      "\u001b[0;31mKeyboardInterrupt\u001b[0m: "
     ]
    }
   ],
   "source": [
    "DFS(0)"
   ]
  },
  {
   "cell_type": "code",
   "execution_count": 14,
   "metadata": {},
   "outputs": [],
   "source": [
    "n = 3 \n",
    "li = [1, 2, 5]\n",
    "m = 15\n",
    "cnt = 0 \n",
    "res = [0] * 501 "
   ]
  },
  {
   "cell_type": "code",
   "execution_count": 27,
   "metadata": {},
   "outputs": [],
   "source": [
    "# 밑의 참고풀이의 힌트를 가지고 다시 한번 풀어봄 \n",
    "count = [] \n",
    "def DFS(c, s):\n",
    "    # c는 사용한 동전의 개수, s는 동전의 합 \n",
    "    if s == m:\n",
    "        count.append(c)\n",
    "        # 들어올 수 있는 모든 경우의 수를 count에 저장 \n",
    "        # 나중에 min으로 추출하면 되니깐 \n",
    "    \n",
    "    else:\n",
    "        for i in range(n):\n",
    "            s += li[i]\n",
    "            DFS(c+1, s)"
   ]
  },
  {
   "cell_type": "code",
   "execution_count": 31,
   "metadata": {},
   "outputs": [
    {
     "ename": "RecursionError",
     "evalue": "maximum recursion depth exceeded in comparison",
     "output_type": "error",
     "traceback": [
      "\u001b[0;31m---------------------------------------------------------------------------\u001b[0m",
      "\u001b[0;31mRecursionError\u001b[0m                            Traceback (most recent call last)",
      "\u001b[1;32m/Users/sig6774/CodingTest/Coding_Test_220814.ipynb 셀 10\u001b[0m in \u001b[0;36m<cell line: 1>\u001b[0;34m()\u001b[0m\n\u001b[0;32m----> <a href='vscode-notebook-cell:/Users/sig6774/CodingTest/Coding_Test_220814.ipynb#X20sZmlsZQ%3D%3D?line=0'>1</a>\u001b[0m DFS(\u001b[39m0\u001b[39;49m,\u001b[39m0\u001b[39;49m)\n",
      "\u001b[1;32m/Users/sig6774/CodingTest/Coding_Test_220814.ipynb 셀 10\u001b[0m in \u001b[0;36mDFS\u001b[0;34m(c, s)\u001b[0m\n\u001b[1;32m      <a href='vscode-notebook-cell:/Users/sig6774/CodingTest/Coding_Test_220814.ipynb#X20sZmlsZQ%3D%3D?line=8'>9</a>\u001b[0m \u001b[39mfor\u001b[39;00m i \u001b[39min\u001b[39;00m \u001b[39mrange\u001b[39m(n):\n\u001b[1;32m     <a href='vscode-notebook-cell:/Users/sig6774/CodingTest/Coding_Test_220814.ipynb#X20sZmlsZQ%3D%3D?line=9'>10</a>\u001b[0m     s \u001b[39m+\u001b[39m\u001b[39m=\u001b[39m li[i]\n\u001b[0;32m---> <a href='vscode-notebook-cell:/Users/sig6774/CodingTest/Coding_Test_220814.ipynb#X20sZmlsZQ%3D%3D?line=10'>11</a>\u001b[0m     DFS(c\u001b[39m+\u001b[39;49m\u001b[39m1\u001b[39;49m, s)\n",
      "\u001b[1;32m/Users/sig6774/CodingTest/Coding_Test_220814.ipynb 셀 10\u001b[0m in \u001b[0;36mDFS\u001b[0;34m(c, s)\u001b[0m\n\u001b[1;32m      <a href='vscode-notebook-cell:/Users/sig6774/CodingTest/Coding_Test_220814.ipynb#X20sZmlsZQ%3D%3D?line=8'>9</a>\u001b[0m \u001b[39mfor\u001b[39;00m i \u001b[39min\u001b[39;00m \u001b[39mrange\u001b[39m(n):\n\u001b[1;32m     <a href='vscode-notebook-cell:/Users/sig6774/CodingTest/Coding_Test_220814.ipynb#X20sZmlsZQ%3D%3D?line=9'>10</a>\u001b[0m     s \u001b[39m+\u001b[39m\u001b[39m=\u001b[39m li[i]\n\u001b[0;32m---> <a href='vscode-notebook-cell:/Users/sig6774/CodingTest/Coding_Test_220814.ipynb#X20sZmlsZQ%3D%3D?line=10'>11</a>\u001b[0m     DFS(c\u001b[39m+\u001b[39;49m\u001b[39m1\u001b[39;49m, s)\n",
      "    \u001b[0;31m[... skipping similar frames: DFS at line 11 (2969 times)]\u001b[0m\n",
      "\u001b[1;32m/Users/sig6774/CodingTest/Coding_Test_220814.ipynb 셀 10\u001b[0m in \u001b[0;36mDFS\u001b[0;34m(c, s)\u001b[0m\n\u001b[1;32m      <a href='vscode-notebook-cell:/Users/sig6774/CodingTest/Coding_Test_220814.ipynb#X20sZmlsZQ%3D%3D?line=8'>9</a>\u001b[0m \u001b[39mfor\u001b[39;00m i \u001b[39min\u001b[39;00m \u001b[39mrange\u001b[39m(n):\n\u001b[1;32m     <a href='vscode-notebook-cell:/Users/sig6774/CodingTest/Coding_Test_220814.ipynb#X20sZmlsZQ%3D%3D?line=9'>10</a>\u001b[0m     s \u001b[39m+\u001b[39m\u001b[39m=\u001b[39m li[i]\n\u001b[0;32m---> <a href='vscode-notebook-cell:/Users/sig6774/CodingTest/Coding_Test_220814.ipynb#X20sZmlsZQ%3D%3D?line=10'>11</a>\u001b[0m     DFS(c\u001b[39m+\u001b[39;49m\u001b[39m1\u001b[39;49m, s)\n",
      "\u001b[1;32m/Users/sig6774/CodingTest/Coding_Test_220814.ipynb 셀 10\u001b[0m in \u001b[0;36mDFS\u001b[0;34m(c, s)\u001b[0m\n\u001b[1;32m      <a href='vscode-notebook-cell:/Users/sig6774/CodingTest/Coding_Test_220814.ipynb#X20sZmlsZQ%3D%3D?line=2'>3</a>\u001b[0m \u001b[39mdef\u001b[39;00m \u001b[39mDFS\u001b[39m(c, s):\n\u001b[1;32m      <a href='vscode-notebook-cell:/Users/sig6774/CodingTest/Coding_Test_220814.ipynb#X20sZmlsZQ%3D%3D?line=3'>4</a>\u001b[0m     \u001b[39m# c는 사용한 동전의 개수, s는 동전의 합 \u001b[39;00m\n\u001b[0;32m----> <a href='vscode-notebook-cell:/Users/sig6774/CodingTest/Coding_Test_220814.ipynb#X20sZmlsZQ%3D%3D?line=4'>5</a>\u001b[0m     \u001b[39mif\u001b[39;00m s \u001b[39m==\u001b[39;49m m:\n\u001b[1;32m      <a href='vscode-notebook-cell:/Users/sig6774/CodingTest/Coding_Test_220814.ipynb#X20sZmlsZQ%3D%3D?line=5'>6</a>\u001b[0m         count\u001b[39m.\u001b[39mappend(c)\n\u001b[1;32m      <a href='vscode-notebook-cell:/Users/sig6774/CodingTest/Coding_Test_220814.ipynb#X20sZmlsZQ%3D%3D?line=7'>8</a>\u001b[0m     \u001b[39melse\u001b[39;00m:\n",
      "\u001b[0;31mRecursionError\u001b[0m: maximum recursion depth exceeded in comparison"
     ]
    }
   ],
   "source": [
    "DFS(0,0)\n",
    "# 안되네 "
   ]
  },
  {
   "cell_type": "code",
   "execution_count": 30,
   "metadata": {},
   "outputs": [
    {
     "name": "stdout",
     "output_type": "stream",
     "text": [
      "[15]\n"
     ]
    }
   ],
   "source": [
    "print(count)"
   ]
  },
  {
   "cell_type": "markdown",
   "metadata": {},
   "source": [
    "### 참고 풀이"
   ]
  },
  {
   "cell_type": "code",
   "execution_count": 32,
   "metadata": {},
   "outputs": [
    {
     "data": {
      "text/plain": [
       "'\\nDFS(0)이 호출되면 n개로 가지가 뻗어나감 \\nDFS(1)도 호출되면 n개로 가지가 뻗어나감 \\nDFS(L) <- 여기서 사용한 L이 동전의 개수를 의미 \\n추가적으로 DFS(L, SUM)으로 진행하면 됨 \\n'"
      ]
     },
     "execution_count": 32,
     "metadata": {},
     "output_type": "execute_result"
    }
   ],
   "source": [
    "'''\n",
    "DFS(0)이 호출되면 n개로 가지가 뻗어나감 \n",
    "DFS(1)도 호출되면 n개로 가지가 뻗어나감 \n",
    "DFS(L) <- 여기서 사용한 L이 동전의 개수를 의미 \n",
    "추가적으로 DFS(L, SUM)으로 진행하면 됨 \n",
    "'''"
   ]
  },
  {
   "cell_type": "code",
   "execution_count": 35,
   "metadata": {},
   "outputs": [],
   "source": [
    "def DFS(L, SUM):\n",
    "    global res \n",
    "\n",
    "    if SUM > m:\n",
    "        return \n",
    "\n",
    "    if SUM == m:\n",
    "        if L < res:\n",
    "            res = L \n",
    "            # res에 최소 값 갱신 \n",
    "\n",
    "    else:\n",
    "        for i in range(n):\n",
    "            DFS(L+1, SUM + a[i])\n",
    "\n",
    "            \n",
    "    '''\n",
    "        else에 이렇게 작성하게 되면 DFS(0,0)에서 a에 저장된 동전의 개수만큼 가지가 뻗어나감 \n",
    "        DFS(1, 5), DFS(1, 2), DFS(1, 1) 이런식으로 만들어지며 계속 뻗어나감 \n",
    "    '''"
   ]
  },
  {
   "cell_type": "code",
   "execution_count": 38,
   "metadata": {},
   "outputs": [
    {
     "name": "stdout",
     "output_type": "stream",
     "text": [
      "3\n"
     ]
    }
   ],
   "source": [
    "if __name__ == \"__main__\":\n",
    "    n = int(input())\n",
    "    a = list(map(int, input().split()))\n",
    "    m = int(input())\n",
    "    res = 214700000\n",
    "    a.sort(reverse=True)\n",
    "    # 내림차순으로 정렬하게 되면 깊이 안들어가고 최소 값이므로 답을 빨리 구할 수 있음 \n",
    "    DFS(0,0)\n",
    "    print(res)"
   ]
  },
  {
   "cell_type": "markdown",
   "metadata": {},
   "source": [
    "#### Cut Edge"
   ]
  },
  {
   "cell_type": "code",
   "execution_count": 39,
   "metadata": {},
   "outputs": [],
   "source": [
    "'''\n",
    "Cut Edge \n",
    "    5원 3개로 res가 3으로 갱신이 되었는데 굳이 더 할 필요가 없으므로 잘라줌\n",
    "'''\n",
    "def DFS(L, SUM):\n",
    "    global res \n",
    "\n",
    "    if L > res:\n",
    "        return \n",
    "    # 갱신된 res가 L보다 작으면 그냥 종료 \n",
    "\n",
    "    if SUM > m:\n",
    "        return \n",
    "\n",
    "    if SUM == m:\n",
    "        if L < res:\n",
    "            res = L \n",
    "            # res에 최소 값 갱신 \n",
    "\n",
    "    else:\n",
    "        for i in range(n):\n",
    "            DFS(L+1, SUM + a[i])\n"
   ]
  },
  {
   "cell_type": "code",
   "execution_count": 40,
   "metadata": {},
   "outputs": [
    {
     "name": "stdout",
     "output_type": "stream",
     "text": [
      "3\n"
     ]
    }
   ],
   "source": [
    "if __name__ == \"__main__\":\n",
    "    n = int(input())\n",
    "    a = list(map(int, input().split()))\n",
    "    m = int(input())\n",
    "    res = 214700000\n",
    "    a.sort(reverse=True)\n",
    "    # 내림차순으로 정렬하게 되면 깊이 안들어가고 최소 값이므로 답을 빨리 구할 수 있음 \n",
    "    DFS(0,0)\n",
    "    print(res)"
   ]
  },
  {
   "cell_type": "markdown",
   "metadata": {},
   "source": [
    "## 순열 구하기 \n",
    "- 1부터N까지번호가적힌구슬이있습니다.이중 M개를뽑아일렬로나열하는방법을 모두 출력합니다.\n",
    "\n",
    "<hr>\n",
    "\n",
    "- 첫 번째 줄에 자연수 N(3<=N<=10)과 M(2<=M<=N) 이 주어집니다.\n",
    "- 첫 번째 줄에 결과를 출력합니다. 맨 마지막 총 경우의 수를 출력합니다. 출력순서는 사전순으로 오름차순으로 출력합니다."
   ]
  },
  {
   "cell_type": "code",
   "execution_count": null,
   "metadata": {},
   "outputs": [],
   "source": [
    "''' \n",
    "DFS(1)이면 1제외하고 나머지 출력하는 방식으로 진행하면 되지 않을까?\n",
    "'''"
   ]
  },
  {
   "cell_type": "code",
   "execution_count": 108,
   "metadata": {},
   "outputs": [],
   "source": [
    "N, M = map(int, input().split())\n",
    "res = [0] * (M + 1)\n",
    "cnt = 0 "
   ]
  },
  {
   "cell_type": "code",
   "execution_count": 109,
   "metadata": {},
   "outputs": [],
   "source": [
    "def DFS(n):\n",
    "\n",
    "    global cnt \n",
    "\n",
    "    if n == M:\n",
    "        for j in range(M):\n",
    "            print(res[j], end = \" \")\n",
    "        print()\n",
    "        cnt += 1\n",
    "        \n",
    "    else:\n",
    "        for i in range(1, M+1):\n",
    "            if i == n:\n",
    "                res[0] = i \n",
    "            elif i > n:\n",
    "                res[i] = i\n",
    "                DFS(n+1)\n",
    "            print(res)"
   ]
  },
  {
   "cell_type": "code",
   "execution_count": 110,
   "metadata": {},
   "outputs": [
    {
     "name": "stdout",
     "output_type": "stream",
     "text": [
      "[1, 1, 0]\n",
      "1 1 \n",
      "[1, 1, 2]\n",
      "[1, 1, 2]\n",
      "[1, 1, 2]\n",
      "1 1 \n",
      "[1, 1, 2]\n",
      "[1, 1, 2]\n"
     ]
    }
   ],
   "source": [
    "DFS(0)\n",
    "# 못풀겠음 "
   ]
  },
  {
   "cell_type": "markdown",
   "metadata": {},
   "source": [
    "### 참고풀이"
   ]
  },
  {
   "cell_type": "code",
   "execution_count": 111,
   "metadata": {},
   "outputs": [],
   "source": [
    "# 체크 변수를 만들어서 check[i] == 0 일 때만 가지를 뻗어갈 수 있도록 진행 \n",
    "# 다시 돌아갈 때에는 체크 변수를 풀어줌 즉 0으로 바꿔줌 "
   ]
  },
  {
   "cell_type": "code",
   "execution_count": 115,
   "metadata": {},
   "outputs": [],
   "source": [
    "def DFS(L):\n",
    "\n",
    "    global cnt \n",
    "\n",
    "    if L == m:\n",
    "        for j in range(m):\n",
    "            print(res[j], end = \" \")\n",
    "        print()\n",
    "        cnt += 1 \n",
    "    else:\n",
    "        for i in range(1, n+1):\n",
    "            if ch[i] == 0:\n",
    "                # 적용이 안되었을 때 \n",
    "                ch[i] = 1 \n",
    "                res[L] = i \n",
    "                DFS(L+1)\n",
    "\n",
    "                ch[i] = 0\n",
    "                # 호출된 작업이 되돌아 왔을 때 진행 \n",
    "                # 재귀는 stack으로 순차적으로 들어감으로 DFS(L+1)의 호출된 함수가 \n",
    "                # 작업을 진행하고 끝낸 후 되돌아 왔을 때 진행하는 것 \n"
   ]
  },
  {
   "cell_type": "code",
   "execution_count": 117,
   "metadata": {},
   "outputs": [
    {
     "name": "stdout",
     "output_type": "stream",
     "text": [
      "1 2 \n",
      "1 3 \n",
      "2 1 \n",
      "2 3 \n",
      "3 1 \n",
      "3 2 \n",
      "6\n"
     ]
    }
   ],
   "source": [
    "if __name__ == \"__main__\":\n",
    "    n, m = map(int, input().split())\n",
    "    res = [0] * n \n",
    "    ch = [0] * (n+1)\n",
    "    # 체크 변수 \n",
    "    cnt = 0 \n",
    "    DFS(0)\n",
    "    print(cnt)"
   ]
  },
  {
   "cell_type": "code",
   "execution_count": null,
   "metadata": {},
   "outputs": [],
   "source": []
  }
 ],
 "metadata": {
  "kernelspec": {
   "display_name": "Python 3.9.1 64-bit ('3.9.1')",
   "language": "python",
   "name": "python3"
  },
  "language_info": {
   "codemirror_mode": {
    "name": "ipython",
    "version": 3
   },
   "file_extension": ".py",
   "mimetype": "text/x-python",
   "name": "python",
   "nbconvert_exporter": "python",
   "pygments_lexer": "ipython3",
   "version": "3.9.1"
  },
  "orig_nbformat": 4,
  "vscode": {
   "interpreter": {
    "hash": "b29909ae39fc17549a84839997d927dda790dc9d9d25402f3e010c02e8c51a82"
   }
  }
 },
 "nbformat": 4,
 "nbformat_minor": 2
}
