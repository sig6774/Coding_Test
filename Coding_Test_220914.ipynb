{
 "cells": [
  {
   "cell_type": "markdown",
   "metadata": {},
   "source": [
    "## JadenCase 문자열 만들기 \n",
    "- JadenCase란 모든 단어의 첫 문자가 대문자이고, 그 외의 알파벳은 소문자인 문자열입니다. 단, 첫 문자가 알파벳이 아닐 때에는 이어지는 알파벳은 소문자로 쓰면 됩니다. (첫 번째 입출력 예 참고)\n",
    "- 문자열 s가 주어졌을 때, s를 JadenCase로 바꾼 문자열을 리턴하는 함수, solution을 완성해주세요.\n",
    "\n",
    "<hr>\n",
    "\n",
    "- s는 길이 1 이상 200 이하인 문자열입니다.\n",
    "- s는 알파벳과 숫자, 공백문자(\" \")로 이루어져 있습니다.\n",
    "    - 숫자는 단어의 첫 문자로만 나옵니다.\n",
    "    - 숫자로만 이루어진 단어는 없습니다.\n",
    "    - 공백문자가 연속해서 나올 수 있습니다."
   ]
  },
  {
   "cell_type": "code",
   "execution_count": 1,
   "metadata": {},
   "outputs": [],
   "source": [
    "# 규칙은 맨앞에 숫자가 아니라면 대문자로 변환하고 앞에 공백이 있다면 바로 뒤의 문자를 대문자로 변환 "
   ]
  },
  {
   "cell_type": "code",
   "execution_count": 44,
   "metadata": {},
   "outputs": [],
   "source": [
    "s = \"3people unFollowed me\"\t"
   ]
  },
  {
   "cell_type": "code",
   "execution_count": 45,
   "metadata": {},
   "outputs": [
    {
     "name": "stdout",
     "output_type": "stream",
     "text": [
      "3people UnFollowed Me\n"
     ]
    }
   ],
   "source": [
    "sen = \"\"\n",
    "for i in range(len(s)):\n",
    "    if i == 0:\n",
    "        if not s[i].isdecimal():\n",
    "            # 문자일 때만 변환할 수 있게 제약 걸어줘야함 \n",
    "            sen += s[i].upper() \n",
    "        else:\n",
    "            sen += s[i]\n",
    "\n",
    "\n",
    "    elif s[i] == \" \":\n",
    "        sen += s[i]\n",
    "        space = 1 \n",
    "        # 공백 뒤의 문자를 확인하기 위한 변수 \n",
    "    else:\n",
    "        # 공백 뒤의 문자를 뜻함 \n",
    "        if space == 1:\n",
    "            sen += s[i].replace(s[i], s[i].upper())\n",
    "            space = 0 \n",
    "\n",
    "        else:\n",
    "            sen += s[i]\n",
    "print(sen)\n"
   ]
  },
  {
   "cell_type": "code",
   "execution_count": 50,
   "metadata": {},
   "outputs": [],
   "source": [
    "def solution(s):\n",
    "    s = s.lower()\n",
    "    answer = \"\"\n",
    "    space = 0 \n",
    "    for i in range(len(s)):\n",
    "        if i == 0:\n",
    "            if not s[i].isdecimal():\n",
    "                # 문자일 때만 변환할 수 있게 제약 걸어줘야함 \n",
    "                answer += s[i].upper() \n",
    "            else:\n",
    "                answer += s[i]\n",
    "\n",
    "\n",
    "        elif s[i] == \" \":\n",
    "            answer += s[i]\n",
    "            space = 1 \n",
    "            # 공백 뒤의 문자를 확인하기 위한 변수 \n",
    "        else:\n",
    "            # 공백 뒤의 문자를 뜻함 \n",
    "            if space == 1:\n",
    "                answer += s[i].replace(s[i], s[i].upper())\n",
    "                space = 0 \n",
    "\n",
    "            else:\n",
    "                answer += s[i]\n",
    "    return answer "
   ]
  },
  {
   "cell_type": "code",
   "execution_count": 51,
   "metadata": {},
   "outputs": [
    {
     "data": {
      "text/plain": [
       "'3people Unfollowed Me'"
      ]
     },
     "execution_count": 51,
     "metadata": {},
     "output_type": "execute_result"
    }
   ],
   "source": [
    "solution(s)"
   ]
  },
  {
   "cell_type": "markdown",
   "metadata": {},
   "source": [
    "## 구명보트 \n",
    "- 무인도에 갇힌 사람들을 구명보트를 이용하여 구출하려고 합니다. 구명보트는 작아서 한 번에 최대 2명씩 밖에 탈 수 없고, 무게 제한도 있습니다.\n",
    "\n",
    "- 예를 들어, 사람들의 몸무게가 [70kg, 50kg, 80kg, 50kg]이고 구명보트의 무게 제한이 100kg이라면 2번째 사람과 4번째 사람은 같이 탈 수 있지만 1번째 사람과 3번째 사람의 무게의 합은 150kg이므로 구명보트의 무게 제한을 초과하여 같이 탈 수 없습니다.\n",
    "\n",
    "- 구명보트를 최대한 적게 사용하여 모든 사람을 구출하려고 합니다.\n",
    "\n",
    "- 사람들의 몸무게를 담은 배열 people과 구명보트의 무게 제한 limit가 매개변수로 주어질 때, 모든 사람을 구출하기 위해 필요한 구명보트 개수의 최솟값을 return 하도록 solution 함수를 작성해주세요.\n",
    "\n",
    "<hr>\n",
    "\n",
    "- 무인도에 갇힌 사람은 1명 이상 50,000명 이하입니다.\n",
    "- 각 사람의 몸무게는 40kg 이상 240kg 이하입니다.\n",
    "- 구명보트의 무게 제한은 40kg 이상 240kg 이하입니다.\n",
    "- 구명보트의 무게 제한은 항상 사람들의 몸무게 중 최댓값보다 크게 주어지므로 사람들을 구출할 수 없는 경우는 없습니다."
   ]
  },
  {
   "cell_type": "code",
   "execution_count": 59,
   "metadata": {},
   "outputs": [],
   "source": [
    "people = [70, 50, 80, 50]\n",
    "limit = 100 "
   ]
  },
  {
   "cell_type": "code",
   "execution_count": 60,
   "metadata": {},
   "outputs": [],
   "source": [
    "from collections import deque\n",
    "\n",
    "def solution(people, limit):\n",
    "    people.sort(reverse = True)\n",
    "    people = deque(people)\n",
    "    answer = 0\n",
    "\n",
    "    while people:\n",
    "\n",
    "        if len(people) == 1:\n",
    "            answer += 1 \n",
    "            break \n",
    "            \n",
    "        elif people[0] + people[-1] > limit:\n",
    "            # 제일 무거운 사람과 제일 가벼운 사람을 더했는데 limit보다 크다면 \n",
    "            # 제일 무거운 사람은 그냥 1개로 카운트하고 popleft\n",
    "            answer += 1 \n",
    "            people.popleft()\n",
    "        else:\n",
    "            # else가 된다는 것은 더했을 때 limit보다 작다는 뜻이므로 \n",
    "            # 두개 모두 popleft, pop 진행 \n",
    "            people.popleft()\n",
    "            people.pop()\n",
    "\n",
    "            answer += 1 \n",
    "\n",
    "    return answer"
   ]
  },
  {
   "cell_type": "code",
   "execution_count": 61,
   "metadata": {},
   "outputs": [
    {
     "data": {
      "text/plain": [
       "3"
      ]
     },
     "execution_count": 61,
     "metadata": {},
     "output_type": "execute_result"
    }
   ],
   "source": [
    "solution(people, limit)"
   ]
  },
  {
   "cell_type": "markdown",
   "metadata": {},
   "source": [
    "## 숫자의 표현 \n",
    "- Finn은 요즘 수학공부에 빠져 있습니다. 수학 공부를 하던 Finn은 자연수 n을 연속한 자연수들로 표현 하는 방법이 여러개라는 사실을 알게 되었습니다. 예를들어 15는 다음과 같이 4가지로 표현 할 수 있습니다.\n",
    "\n",
    "    - 1 + 2 + 3 + 4 + 5 = 15\n",
    "    - 4 + 5 + 6 = 15\n",
    "    - 7 + 8 = 15\n",
    "    - 15 = 15\n",
    "\n",
    "- 자연수 n이 매개변수로 주어질 때, 연속된 자연수들로 n을 표현하는 방법의 수를 return하는 solution를 완성해주세요.\n",
    "\n",
    "<hr>\n",
    "\n",
    "- n은 10,000 이하의 자연수 입니다.\n"
   ]
  },
  {
   "cell_type": "code",
   "execution_count": null,
   "metadata": {},
   "outputs": [],
   "source": [
    "# 조건에 만족하는 경우를 찾게 되면 시작지점 +1로 해서 진행하면서 반복 "
   ]
  },
  {
   "cell_type": "code",
   "execution_count": 109,
   "metadata": {},
   "outputs": [],
   "source": [
    "def solution(n):\n",
    "    answer = 0\n",
    "    start = 1 \n",
    "    while True:\n",
    "        s = 0 \n",
    "        if start == n:\n",
    "            answer += 1 \n",
    "            break \n",
    "        else:\n",
    "\n",
    "            for i in range(start, n+1):\n",
    "                \n",
    "                s += i \n",
    "                # print(i)\n",
    "                if s == n:\n",
    "                    # print(n)\n",
    "                    answer += 1\n",
    "                    \n",
    "            start += 1 \n",
    "    return answer\n",
    "# 답은 되는데 효율성 문제가 발생 "
   ]
  },
  {
   "cell_type": "code",
   "execution_count": 110,
   "metadata": {},
   "outputs": [
    {
     "data": {
      "text/plain": [
       "4"
      ]
     },
     "execution_count": 110,
     "metadata": {},
     "output_type": "execute_result"
    }
   ],
   "source": [
    "solution(15)"
   ]
  },
  {
   "cell_type": "code",
   "execution_count": 115,
   "metadata": {},
   "outputs": [],
   "source": [
    "def solution(n):\n",
    "    answer = 0\n",
    "    start = 1 \n",
    "    while start <= n:\n",
    "        s = 0 \n",
    "        \n",
    "\n",
    "        for i in range(start, n+1):\n",
    "            \n",
    "            s += i \n",
    "            # print(i)\n",
    "            if s == n:\n",
    "                # print(n)\n",
    "                answer += 1\n",
    "                break \n",
    "        start += 1 \n",
    "    return answer\n",
    "# 답은 되는데 효율성 문제가 발생 "
   ]
  },
  {
   "cell_type": "code",
   "execution_count": 116,
   "metadata": {},
   "outputs": [
    {
     "data": {
      "text/plain": [
       "4"
      ]
     },
     "execution_count": 116,
     "metadata": {},
     "output_type": "execute_result"
    }
   ],
   "source": [
    "solution(15)"
   ]
  },
  {
   "cell_type": "code",
   "execution_count": 121,
   "metadata": {},
   "outputs": [],
   "source": [
    "def solution(n):\n",
    "    answer = 0 \n",
    "    for i in range(1, n+1):\n",
    "        s = 0 \n",
    "        for j in range(i, n+1):\n",
    "            s += j \n",
    "            if s == n:\n",
    "                answer += 1 \n",
    "                break \n",
    "            elif s > n:\n",
    "                break \n",
    "    \n",
    "    return answer\n",
    "\n",
    "# 효율성 문제도 해결 "
   ]
  },
  {
   "cell_type": "code",
   "execution_count": 122,
   "metadata": {},
   "outputs": [
    {
     "data": {
      "text/plain": [
       "4"
      ]
     },
     "execution_count": 122,
     "metadata": {},
     "output_type": "execute_result"
    }
   ],
   "source": [
    "solution(15)"
   ]
  },
  {
   "cell_type": "code",
   "execution_count": null,
   "metadata": {},
   "outputs": [],
   "source": []
  }
 ],
 "metadata": {
  "kernelspec": {
   "display_name": "Python 3.9.1 64-bit ('3.9.1')",
   "language": "python",
   "name": "python3"
  },
  "language_info": {
   "codemirror_mode": {
    "name": "ipython",
    "version": 3
   },
   "file_extension": ".py",
   "mimetype": "text/x-python",
   "name": "python",
   "nbconvert_exporter": "python",
   "pygments_lexer": "ipython3",
   "version": "3.9.1"
  },
  "orig_nbformat": 4,
  "vscode": {
   "interpreter": {
    "hash": "b29909ae39fc17549a84839997d927dda790dc9d9d25402f3e010c02e8c51a82"
   }
  }
 },
 "nbformat": 4,
 "nbformat_minor": 2
}
