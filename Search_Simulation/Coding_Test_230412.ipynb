{
 "cells": [
  {
   "attachments": {},
   "cell_type": "markdown",
   "metadata": {},
   "source": [
    "## 격자판 최대합 \n",
    "- 5*5 격자판에 아래롸 같이 숫자가 적혀있습니다.\n",
    "   \n",
    "- N*N의 격자판이 주어지면 각 행의 합, 각 열의 합, 두 대각선의 합 중 가 장 큰 합을 출력합니다.\n",
    "\n",
    "- ▣ 입력설명\n",
    "    - 첫 줄에 자연수 N이 주어진다.(1<=N<=50)\n",
    "    - 두 번째 줄부터 N줄에 걸쳐 각 줄에 N개의 자연수가 주어진다. 각 자연수는 100을 넘지 않는 다.\n",
    "- ▣ 출력설명 최대합을 출력합니다.\n",
    "\n"
   ]
  },
  {
   "cell_type": "code",
   "execution_count": 1,
   "metadata": {},
   "outputs": [
    {
     "data": {
      "text/plain": [
       "'\\n1. 행, 열에 대한 중첩 반복문 생성 \\n2. 대각선에 대한 중첩 반복문 생성 \\n3. 중첩 반복문을 통해 경우의 수에 대한 최대값을 입력할 변수 생성 후 비교하면서 갱신 진행 \\n'"
      ]
     },
     "execution_count": 1,
     "metadata": {},
     "output_type": "execute_result"
    }
   ],
   "source": [
    "'''\n",
    "1. 행, 열에 대한 중첩 반복문 생성 \n",
    "2. 대각선에 대한 중첩 반복문 생성 \n",
    "3. 중첩 반복문을 통해 경우의 수에 대한 최대값을 입력할 변수 생성 후 비교하면서 갱신 진행 \n",
    "'''"
   ]
  },
  {
   "cell_type": "code",
   "execution_count": 16,
   "metadata": {},
   "outputs": [],
   "source": [
    "N = int(input())\n",
    "li = [] \n",
    "for i in range(N):\n",
    "    a = list(map(int, input().split()))\n",
    "    li.append(a)"
   ]
  },
  {
   "cell_type": "code",
   "execution_count": 20,
   "metadata": {},
   "outputs": [
    {
     "data": {
      "text/plain": [
       "[[10, 13, 10, 12, 15],\n",
       " [12, 39, 30, 23, 11],\n",
       " [11, 25, 50, 53, 15],\n",
       " [19, 27, 29, 37, 27],\n",
       " [19, 13, 30, 13, 19]]"
      ]
     },
     "execution_count": 20,
     "metadata": {},
     "output_type": "execute_result"
    }
   ],
   "source": [
    "li"
   ]
  },
  {
   "cell_type": "code",
   "execution_count": 42,
   "metadata": {},
   "outputs": [
    {
     "name": "stdout",
     "output_type": "stream",
     "text": [
      "154\n",
      "155\n",
      "155\n"
     ]
    }
   ],
   "source": [
    "'''\n",
    "행에 대한 합 기록 \n",
    "11 12 13 14 15 \n",
    "21 22 23 24 25 \n",
    "'''\n",
    "tmp = 0 \n",
    "for i in range(N):\n",
    "    s = 0\n",
    "    for j in range(N):\n",
    "        s += li[i][j]\n",
    "    if s > tmp:\n",
    "        tmp = s \n",
    "# print(tmp)\n",
    "\n",
    "'''\n",
    "열에 대한 합 기록 \n",
    "11 12\n",
    "21 22\n",
    "31 32\n",
    "41 42\n",
    "51 52\n",
    "'''\n",
    "for i in range(N):\n",
    "    s = 0 \n",
    "    for j in range(N):\n",
    "        s += li[j][i]\n",
    "    if s > tmp:\n",
    "        tmp = s\n",
    "print(tmp)\n",
    "\n",
    "'''\n",
    "오른쪽 사선 대각선 \n",
    "11 22 33 44 55\n",
    "'''\n",
    "s = 0\n",
    "for i in range(N):\n",
    "    for j in range(N):\n",
    "        if i == j:\n",
    "            s += li[i][j]\n",
    "    if s > tmp:\n",
    "        tmp = s\n",
    "print(tmp)\n",
    "\n",
    "'''\n",
    "왼쪽 사선 대각선\n",
    "15 24 33 42 51\n",
    "'''\n",
    "s = 0 \n",
    "for i in range(N):\n",
    "    for j in range(N-i-1, -1, -1):\n",
    "        s += li[i][j]\n",
    "        break\n",
    "    if s > tmp:\n",
    "        tmp = s\n",
    "print(tmp)"
   ]
  },
  {
   "cell_type": "code",
   "execution_count": 44,
   "metadata": {},
   "outputs": [],
   "source": [
    "N = int(input())\n",
    "li = [] \n",
    "for i in range(N):\n",
    "    a = list(map(int, input().split()))\n",
    "    li.append(a)"
   ]
  },
  {
   "cell_type": "code",
   "execution_count": 46,
   "metadata": {},
   "outputs": [
    {
     "data": {
      "text/plain": [
       "[[75, 79, 6, 72, 40, 72, 28, 43, 64, 19],\n",
       " [97, 71, 12, 48, 64, 95, 64, 40, 38, 24],\n",
       " [52, 17, 58, 64, 13, 37, 38, 5, 30, 36],\n",
       " [43, 30, 15, 8, 13, 21, 81, 29, 79, 33],\n",
       " [20, 4, 31, 24, 93, 60, 61, 19, 9, 88],\n",
       " [12, 33, 30, 4, 38, 62, 98, 34, 65, 33],\n",
       " [37, 26, 6, 60, 82, 57, 49, 85, 66, 67],\n",
       " [93, 4, 29, 67, 65, 96, 5, 27, 39, 87],\n",
       " [16, 52, 8, 7, 56, 19, 8, 53, 52, 93],\n",
       " [87, 55, 58, 84, 61, 92, 3, 74, 66, 34]]"
      ]
     },
     "execution_count": 46,
     "metadata": {},
     "output_type": "execute_result"
    }
   ],
   "source": [
    "li"
   ]
  },
  {
   "cell_type": "code",
   "execution_count": 45,
   "metadata": {},
   "outputs": [
    {
     "name": "stdout",
     "output_type": "stream",
     "text": [
      "614\n"
     ]
    }
   ],
   "source": [
    "tmp = 0 \n",
    "s3 = 0\n",
    "for i in range(N):\n",
    "    s1 = 0\n",
    "    s2 = 0 \n",
    "    for j in range(N):\n",
    "        if i == j:\n",
    "            s3 += li[i][j]\n",
    "        s1 += li[i][j]\n",
    "        s2 += li[j][i]\n",
    "    if s1 > tmp:\n",
    "        tmp = s1 \n",
    "    elif s2 > tmp:\n",
    "        tmp = s2\n",
    "    elif s3 > tmp:\n",
    "        tmp = s3\n",
    "# print(tmp)\n",
    "\n",
    "s = 0 \n",
    "for i in range(N):\n",
    "    for j in range(N-i-1, -1, -1):\n",
    "        s += li[i][j]\n",
    "        break\n",
    "    if s > tmp:\n",
    "        tmp = s\n",
    "print(tmp)\n",
    "# 너무 미련하게 한 것 같음..."
   ]
  },
  {
   "attachments": {},
   "cell_type": "markdown",
   "metadata": {},
   "source": [
    "### 추천 풀이"
   ]
  },
  {
   "cell_type": "code",
   "execution_count": 48,
   "metadata": {},
   "outputs": [],
   "source": [
    "n = int(input())\n",
    "\n",
    "a = [list(map(int, input().split())) for _ in range(n)]"
   ]
  },
  {
   "cell_type": "code",
   "execution_count": 49,
   "metadata": {},
   "outputs": [
    {
     "data": {
      "text/plain": [
       "[[10, 13, 10, 12, 15],\n",
       " [12, 39, 30, 23, 11],\n",
       " [11, 25, 50, 53, 15],\n",
       " [19, 27, 29, 37, 27],\n",
       " [19, 13, 30, 13, 19]]"
      ]
     },
     "execution_count": 49,
     "metadata": {},
     "output_type": "execute_result"
    }
   ],
   "source": [
    "a"
   ]
  },
  {
   "cell_type": "code",
   "execution_count": 50,
   "metadata": {},
   "outputs": [
    {
     "name": "stdout",
     "output_type": "stream",
     "text": [
      "155\n"
     ]
    }
   ],
   "source": [
    "largest = -2147000000\n",
    "for i in range(n):\n",
    "    sum1 = 0\n",
    "    # 행의 합 \n",
    "    sum2 = 0\n",
    "    # 열의 합 \n",
    "    for j in range(n):\n",
    "        sum1 += a[i][j]\n",
    "        sum2 += a[j][i]\n",
    "    if sum1 > largest:\n",
    "        largest = sum1\n",
    "    if sum2 > largest:\n",
    "        largest = sum2 \n",
    "# 행과 열의 최대합 저장 \n",
    "\n",
    "sum1 = sum2 = 0 \n",
    "for i in range(n):\n",
    "    sum1 += a[i][i]\n",
    "    # 오른쪽 사선 대각선의 합 \n",
    "    sum2 += a[i][n-1-i]\n",
    "    # 왼쪽 사선 대각선의 합 \n",
    "\n",
    "# 대각선의 합이 신박하네 \n",
    "if sum1 > largest:\n",
    "    largest = sum1 \n",
    "elif sum2 > largest:\n",
    "    largest = sum2\n",
    "print(largest)"
   ]
  },
  {
   "attachments": {},
   "cell_type": "markdown",
   "metadata": {},
   "source": [
    "## 사과나무(다이아몬드)\n",
    "- 현수의 농장은 N*N 격자판으로 이루어져 있으며, 각 격자안에는 한 그루의 사과나무가 심어저 있다. N의 크기는 항상 홀수이다. 가을이 되어 사과를 수확해야 하는데 현수는 격자판안의 사 과를 수확할 때 다이아몬드 모양의 격자판만 수확하고 나머지 격자안의 사과는 새들을 위해서 남겨놓는다.\n",
    "- 만약 N이 5이면 아래 그림과 같이 진한 부분의 사과를 수확한다.\n",
    "- 현수과 수확하는 사과의 총 개수를 출력하세요.\n",
    "\n",
    "- ▣ 입력설명\n",
    "    - 첫 줄에 자연수 N(홀수)이 주어진다.(3<=N<=20)\n",
    "    - 두 번째 줄부터 N줄에 걸쳐 각 줄에 N개의 자연수가 주어진다. 이 자연수는 각 격자안에 있는 사과나무에 열린 사과의 개수이다. 각 격자안의 사과의 개수는 100을 넘지 않는다.\n",
    "- ▣ 출력설명\n",
    "    - 수확한 사과의 총 개수를 출력합니다.\n"
   ]
  },
  {
   "cell_type": "code",
   "execution_count": 52,
   "metadata": {},
   "outputs": [
    {
     "data": {
      "text/plain": [
       "'\\n1. 입력받은 N을 2로 나눈 몫을 바탕으로 시작 \\n2. N만큼 반복문 시작 \\n    2.1 몫에서 + i를 진행하면서 (몫+i) == N이 된다면 다시 (몫+i) -= 1을 하면서 (몫+i) == 몫이 될 때까지 반복하면서 더하기 연산 진행 \\n'"
      ]
     },
     "execution_count": 52,
     "metadata": {},
     "output_type": "execute_result"
    }
   ],
   "source": [
    "'''\n",
    "1. 입력받은 N을 2로 나눈 몫을 바탕으로 시작 \n",
    "2. N만큼 반복문 시작 \n",
    "    2.1 몫에서 + i를 진행하면서 (몫+i) == N이 된다면 다시 (몫+i) -= 1을 하면서 (몫+i) == 몫이 될 때까지 반복하면서 더하기 연산 진행 \n",
    "'''"
   ]
  },
  {
   "cell_type": "code",
   "execution_count": 54,
   "metadata": {},
   "outputs": [],
   "source": [
    "N = int(input())\n",
    "li = [list(map(int, input().split())) for _ in range(N)]"
   ]
  },
  {
   "cell_type": "code",
   "execution_count": 55,
   "metadata": {},
   "outputs": [
    {
     "data": {
      "text/plain": [
       "[[10, 13, 10, 12, 15],\n",
       " [12, 39, 30, 23, 11],\n",
       " [11, 25, 50, 53, 15],\n",
       " [19, 27, 29, 37, 27],\n",
       " [19, 13, 30, 13, 19]]"
      ]
     },
     "execution_count": 55,
     "metadata": {},
     "output_type": "execute_result"
    }
   ],
   "source": [
    "li"
   ]
  },
  {
   "cell_type": "code",
   "execution_count": 56,
   "metadata": {},
   "outputs": [
    {
     "name": "stdout",
     "output_type": "stream",
     "text": [
      "2\n"
     ]
    }
   ],
   "source": [
    "mid = N // 2 \n",
    "print(mid)"
   ]
  },
  {
   "cell_type": "code",
   "execution_count": 67,
   "metadata": {},
   "outputs": [
    {
     "name": "stdout",
     "output_type": "stream",
     "text": [
      "0 0\n",
      "2 2\n",
      "3 1\n",
      "4 0\n"
     ]
    },
    {
     "ename": "IndexError",
     "evalue": "list index out of range",
     "output_type": "error",
     "traceback": [
      "\u001b[0;31m---------------------------------------------------------------------------\u001b[0m",
      "\u001b[0;31mIndexError\u001b[0m                                Traceback (most recent call last)",
      "\u001b[1;32m/Users/sig6774/CodingTest/Search_Simulation/Coding_Test_230412.ipynb Cell 18\u001b[0m in \u001b[0;36m<cell line: 10>\u001b[0;34m()\u001b[0m\n\u001b[1;32m     <a href='vscode-notebook-cell:/Users/sig6774/CodingTest/Search_Simulation/Coding_Test_230412.ipynb#X31sZmlsZQ%3D%3D?line=18'>19</a>\u001b[0m         d \u001b[39m=\u001b[39m mid \u001b[39m-\u001b[39m i\n\u001b[1;32m     <a href='vscode-notebook-cell:/Users/sig6774/CodingTest/Search_Simulation/Coding_Test_230412.ipynb#X31sZmlsZQ%3D%3D?line=19'>20</a>\u001b[0m         \u001b[39mfor\u001b[39;00m j \u001b[39min\u001b[39;00m \u001b[39mrange\u001b[39m(d, u\u001b[39m+\u001b[39m\u001b[39m1\u001b[39m):\n\u001b[0;32m---> <a href='vscode-notebook-cell:/Users/sig6774/CodingTest/Search_Simulation/Coding_Test_230412.ipynb#X31sZmlsZQ%3D%3D?line=20'>21</a>\u001b[0m             s \u001b[39m+\u001b[39m\u001b[39m=\u001b[39m li[i][j]   \n\u001b[1;32m     <a href='vscode-notebook-cell:/Users/sig6774/CodingTest/Search_Simulation/Coding_Test_230412.ipynb#X31sZmlsZQ%3D%3D?line=21'>22</a>\u001b[0m \u001b[39mprint\u001b[39m(s)\n",
      "\u001b[0;31mIndexError\u001b[0m: list index out of range"
     ]
    }
   ],
   "source": [
    "'''\n",
    "2 \n",
    "1 2 3\n",
    "0 1 2 3 4 \n",
    "1 2 3\n",
    "2\n",
    "'''\n",
    "s = 0 \n",
    "u,d = 0, 0\n",
    "for i in range(N):\n",
    "    print(u,d)\n",
    "    if u == N:\n",
    "        u -= 1\n",
    "        d += 1\n",
    "        for j in range(d, u+1):\n",
    "            s += li[i][j]\n",
    "    else:\n",
    "        u += 1\n",
    "        d -= 1\n",
    "        for j in range(d, u+1):\n",
    "            s += li[i][j]   \n",
    "print(s)\n",
    "# 중간부터 밑으로 내려가는 것을 구현을 못하겠음 ..."
   ]
  },
  {
   "attachments": {},
   "cell_type": "markdown",
   "metadata": {},
   "source": [
    "### 추천 풀이"
   ]
  },
  {
   "cell_type": "code",
   "execution_count": 68,
   "metadata": {},
   "outputs": [
    {
     "data": {
      "text/plain": [
       "[[10, 13, 10, 12, 15],\n",
       " [12, 39, 30, 23, 11],\n",
       " [11, 25, 50, 53, 15],\n",
       " [19, 27, 29, 37, 27],\n",
       " [19, 13, 30, 13, 19]]"
      ]
     },
     "execution_count": 68,
     "metadata": {},
     "output_type": "execute_result"
    }
   ],
   "source": [
    "n = int(input())\n",
    "a = [list(map(int, input().split())) for _ in range(n)]\n",
    "a"
   ]
  },
  {
   "cell_type": "code",
   "execution_count": 72,
   "metadata": {},
   "outputs": [
    {
     "name": "stdout",
     "output_type": "stream",
     "text": [
      "2 2\n",
      "1 3\n",
      "0 4\n",
      "1 3\n",
      "2 2\n",
      "379\n"
     ]
    }
   ],
   "source": [
    "res = 0 \n",
    "s = e = n//2\n",
    "\n",
    "for i in range(n):\n",
    "    print(s,e)\n",
    "    for j in range(s, e+1):\n",
    "        res += a[i][j]\n",
    "\n",
    "    # 밑으로 내려가야하니깐 \n",
    "    if i < n // 2:\n",
    "        s -= 1 \n",
    "        e += 1\n",
    "\n",
    "    # 위로 올라가야하니깐 \n",
    "    else:\n",
    "        s += 1 \n",
    "        e -= 1 \n",
    "print(res)\n",
    "# 변수를 바꿔서 진행하면 되는거고 i를 바탕으로 기준점을 가지면 쉽게 풀 수 있는 문제였네..."
   ]
  },
  {
   "cell_type": "code",
   "execution_count": null,
   "metadata": {},
   "outputs": [],
   "source": []
  }
 ],
 "metadata": {
  "kernelspec": {
   "display_name": "Python 3",
   "language": "python",
   "name": "python3"
  },
  "language_info": {
   "codemirror_mode": {
    "name": "ipython",
    "version": 3
   },
   "file_extension": ".py",
   "mimetype": "text/x-python",
   "name": "python",
   "nbconvert_exporter": "python",
   "pygments_lexer": "ipython3",
   "version": "3.9.1"
  },
  "orig_nbformat": 4
 },
 "nbformat": 4,
 "nbformat_minor": 2
}
