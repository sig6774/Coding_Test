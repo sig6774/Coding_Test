{
 "cells": [
  {
   "attachments": {},
   "cell_type": "markdown",
   "metadata": {},
   "source": [
    "## 곳감(모래시계)\n",
    "- 현수는 곳감을 만들기 위해 감을 깍아 마당에 말리고 있습니다. 현수의 마당은 N*N 격자판으 로 이루어져 있으며, 현수는 각 격자단위로 말리는 감의 수를 정합니다.\n",
    "- 그런데 해의 위치에 따라 특정위치의 감은 잘 마르지 않습니다. 그래서 현수는 격자의 행을 기준으로 왼쪽, 또는 오른쪽으로 회전시켜 위치를 변경해 모든 감이 잘 마르게 합니다.\n",
    "- 만약 회전명령 정보가 2 0 3이면 2번째 행을 왼쪽으로 3만큼 아래 그림처럼 회전시키는 명령 입니다.\n",
    "- 첫 번째 수는 행번호, 두 번째 수는 방향인데 0이면 왼쪽, 1이면 오른쪽이고, 세 번째 수는 회 전하는 격자의 수입니다.\n",
    "- M개의 회전명령을 실행하고 난 후 아래와 같이 마당의 모래시계 모양의 영역에는 감 이 총 몇 개가 있는지 출력하는 프로그램을 작성하세요.\n",
    "\n",
    "- ▣ 입력설명\n",
    "    - 첫 줄에 자연수 N(3<=N<=20) 이 주어며, N은 홀수입니다.\n",
    "    - 두 번째 줄부터 N줄에 걸쳐 각 줄에 N개의 자연수가 주어진다.\n",
    "    - 이 자연수는 각 격자안에 있는 감의 개수이며, 각 격자안의 감의 개수는 100을 넘지 않는다. 그 다음 줄에 회전명령의 개수인 M(1<=M<=10)이 주어지고, 그 다음 줄부터 M개의 회전명령 정보가 M줄에 걸쳐 주어집니다.\n",
    "\n",
    "- ▣ 출력설명\n",
    "    - 총 감의 개수를 출력합니다.\n"
   ]
  },
  {
   "cell_type": "code",
   "execution_count": 25,
   "metadata": {},
   "outputs": [
    {
     "data": {
      "text/plain": [
       "[[10, 13, 10, 12, 15],\n",
       " [12, 39, 30, 23, 11],\n",
       " [11, 25, 50, 53, 15],\n",
       " [19, 27, 29, 37, 27],\n",
       " [19, 13, 30, 13, 19]]"
      ]
     },
     "execution_count": 25,
     "metadata": {},
     "output_type": "execute_result"
    }
   ],
   "source": [
    "N = int(input())\n",
    "a = [list(map(int, input().split())) for _ in range(N)]\n",
    "a"
   ]
  },
  {
   "cell_type": "code",
   "execution_count": 28,
   "metadata": {},
   "outputs": [
    {
     "data": {
      "text/plain": [
       "[[10, 13, 10, 12, 15],\n",
       " [23, 11, 11, 30, 23],\n",
       " [11, 25, 50, 53, 15],\n",
       " [19, 27, 29, 37, 27],\n",
       " [19, 13, 30, 13, 19]]"
      ]
     },
     "execution_count": 28,
     "metadata": {},
     "output_type": "execute_result"
    }
   ],
   "source": [
    "a1 = a\n",
    "a1"
   ]
  },
  {
   "cell_type": "code",
   "execution_count": 9,
   "metadata": {},
   "outputs": [
    {
     "name": "stdout",
     "output_type": "stream",
     "text": [
      "3\n",
      "4\n"
     ]
    }
   ],
   "source": [
    "print((5-3+1)%5)\n",
    "print((5-3+2)%5)\n",
    "# 왼쪽 이동\n",
    "# (N - 왼쪽 이동 자릿 수 + 원래 자릿 수) % 5"
   ]
  },
  {
   "cell_type": "code",
   "execution_count": 10,
   "metadata": {},
   "outputs": [
    {
     "name": "stdout",
     "output_type": "stream",
     "text": [
      "3\n",
      "4\n",
      "0\n"
     ]
    }
   ],
   "source": [
    "print((+2+1)%5)\n",
    "print((+2+2)%5)\n",
    "print((+2+3)%5)\n",
    "# 오른쪽 이동 \n",
    "# (오른쪽 이동 자릿 수 + 원래 자릿 수 ) % 5"
   ]
  },
  {
   "cell_type": "code",
   "execution_count": 12,
   "metadata": {},
   "outputs": [
    {
     "data": {
      "text/plain": [
       "'\\n1. 몇행을 변경할껀지에 대한 조건문 작성 \\n2. 왼쪽, 오른쪽 어디로 이동할껀지 조건문 작성 \\n3. 특정 조건에 맞게 이동 \\n'"
      ]
     },
     "execution_count": 12,
     "metadata": {},
     "output_type": "execute_result"
    }
   ],
   "source": [
    "'''\n",
    "1. 몇행을 변경할껀지에 대한 조건문 작성 \n",
    "2. 왼쪽, 오른쪽 어디로 이동할껀지 조건문 작성 \n",
    "3. 특정 조건에 맞게 이동 \n",
    "'''"
   ]
  },
  {
   "cell_type": "code",
   "execution_count": 27,
   "metadata": {},
   "outputs": [
    {
     "name": "stdout",
     "output_type": "stream",
     "text": [
      "3\n",
      "4\n",
      "0\n",
      "1\n",
      "2\n",
      "[[10, 13, 10, 12, 15], [23, 11, 11, 30, 23], [11, 25, 50, 53, 15], [19, 27, 29, 37, 27], [19, 13, 30, 13, 19]]\n",
      "2 0 3\n"
     ]
    }
   ],
   "source": [
    "num = int(input()) \n",
    "for i in range(num):\n",
    "    row, branch, move = map(int,input().split())\n",
    "    if branch == 0:\n",
    "        for i in range(len(a1)):\n",
    "            stand = (i+move) % 5\n",
    "            tmp = a1[row-1][stand]\n",
    "            print(tmp)\n",
    "            re = (N-move+i)%5\n",
    "            a1[row-1][i] = a1[row-1][re]\n",
    "            a1[row-1][re] = tmp\n",
    "\n",
    "print(a1)\n",
    "print(row, branch, move)"
   ]
  },
  {
   "cell_type": "code",
   "execution_count": 1,
   "metadata": {},
   "outputs": [
    {
     "data": {
      "text/plain": [
       "'\\n1. 시작과 끝을 알려주는 변수를 설정하고 시작은 0 끝은 N-1로 초기화 \\n2. 이후 반복을 통해 시작은 +1, 끝은 -1을 하면서 값을 더하기 \\n3. 시작과 끝의 값이 같다면 해당 값만 더함\\n4. 이후 시작은 -1 끝은 +1을 하면서 진행\\n5. 시작과 끝이 0, N-1이 된다면 종료\\n'"
      ]
     },
     "execution_count": 1,
     "metadata": {},
     "output_type": "execute_result"
    }
   ],
   "source": [
    "'''\n",
    "1. 시작과 끝을 알려주는 변수를 설정하고 시작은 0 끝은 N-1로 초기화 \n",
    "2. 이후 반복을 통해 시작은 +1, 끝은 -1을 하면서 값을 더하기 \n",
    "3. 시작과 끝의 값이 같다면 해당 값만 더함\n",
    "4. 이후 시작은 -1 끝은 +1을 하면서 진행\n",
    "5. 시작과 끝이 0, N-1이 된다면 종료\n",
    "'''"
   ]
  },
  {
   "cell_type": "code",
   "execution_count": null,
   "metadata": {},
   "outputs": [],
   "source": [
    "s = 0 \n",
    "e = N-1\n",
    "res = 0 \n",
    "for i in range(N):\n",
    "    a"
   ]
  },
  {
   "attachments": {},
   "cell_type": "markdown",
   "metadata": {},
   "source": [
    "# 못 품"
   ]
  },
  {
   "attachments": {},
   "cell_type": "markdown",
   "metadata": {},
   "source": [
    "### 추천 풀이"
   ]
  },
  {
   "cell_type": "code",
   "execution_count": 29,
   "metadata": {},
   "outputs": [
    {
     "data": {
      "text/plain": [
       "'\\n1. 빈 리스트를 만들어서 밀어내는 것을 뒤에 붙여주는 형식으로 작성 \\n2. 이후 시작과 끝 변수 만들어서 진행 \\n'"
      ]
     },
     "execution_count": 29,
     "metadata": {},
     "output_type": "execute_result"
    }
   ],
   "source": [
    "'''\n",
    "1. 빈 리스트를 만들어서 밀어내는 것을 뒤에 붙여주는 형식으로 작성 \n",
    "2. 이후 시작과 끝 변수 만들어서 진행 \n",
    "'''"
   ]
  },
  {
   "cell_type": "code",
   "execution_count": 30,
   "metadata": {},
   "outputs": [],
   "source": [
    "n = int(input())\n",
    "a = [list(map(int, input().split())) for _ in range(n)]\n",
    "m = int(input())\n",
    "\n",
    "for i in range(m):\n",
    "    h, t, k = map(int,input().split())\n",
    "    # 왼쪽 방향 \n",
    "    if t == 0:\n",
    "        # 밀면서 진행하는 것 \n",
    "        for _ in range(k):\n",
    "            # pop 함수를 사용하면 맨 앞에 요소를 가지고 오고 앞으로 땡겨지고 가져온 값을 맨뒤로 넣어줌 <- 해당 과정을 k번 반복하면 원하는 만큼 이동 \n",
    "            a[h-1].append(a[h-1].pop(0))\n",
    "    # 오른쪽 방향 \n",
    "    else:\n",
    "        for _ in range(k):\n",
    "            # 제일 뒤의 요소를 가지고 와서 제일 앞에 넣어주면서 반복하면 밀림 \n",
    "            a[h-1].insert(0, a[h-1].pop())\n",
    "\n",
    "# 모래시계 형태이기 때문에 시작을 0 끝을 n-1로 주고 각 변수를 +1-1하면서 진행 \n",
    "res = 0 \n",
    "s = 0 \n",
    "e = n-1\n",
    "\n",
    "for i in range(n):\n",
    "    for j in range(s, e+1):\n",
    "        res += a[i][j]\n",
    "    \n",
    "    # 모래시계형태로 내려가기 때문에 좁혀야함 \n",
    "    if i < n//2:\n",
    "        s += 1\n",
    "        e -= 1 \n",
    "    # 다시 증가시켜야하기 때문 \n",
    "    else:\n",
    "        s -= 1 \n",
    "        e += 1\n",
    "# 해당 코드에서 key는 pop함수 사용 유무 "
   ]
  },
  {
   "cell_type": "code",
   "execution_count": 31,
   "metadata": {},
   "outputs": [
    {
     "name": "stdout",
     "output_type": "stream",
     "text": [
      "362\n"
     ]
    }
   ],
   "source": [
    "print(res)"
   ]
  },
  {
   "attachments": {},
   "cell_type": "markdown",
   "metadata": {},
   "source": [
    "## 봉우리\n",
    "- 지도 정보가 N*N 격자판에 주어집니다. 각 격자에는 그 지역의 높이가 쓰여있습니다. 각 격자 판의 숫자 중 자신의 상하좌우 숫자보다 큰 숫자는 봉우리 지역입니다. 봉우리 지역이 몇 개 있는 지 알아내는 프로그램을 작성하세요.\n",
    "- 격자의 가장자리는 0으로 초기화 되었다고 가정한다.\n",
    "- 만약 N=5 이고, 격자판의 숫자가 다음과 같다면 봉우리의 개수는 10개입니다.\n",
    "\n",
    "- ▣ 입력설명\n",
    "    - 첫 줄에 자연수 N이 주어진다.(1<=N<=50)\n",
    "    - 두 번째 줄부터 N줄에 걸쳐 각 줄에 N개의 자연수가 주어진다. 각 자연수는 100을 넘지 않는 다.\n",
    "- ▣ 출력설명\n",
    "    - 봉우리의 개수를 출력하세요."
   ]
  },
  {
   "cell_type": "code",
   "execution_count": 32,
   "metadata": {},
   "outputs": [
    {
     "data": {
      "text/plain": [
       "'\\n1. 입력으로 주어진 n+2의 리스트를 만든다\\n    1.1 첫 행과 마지막 행, 그리고 첫번째 컬럼과 마지막 컬럼은 0으로 초기화를 한다.\\n'"
      ]
     },
     "execution_count": 32,
     "metadata": {},
     "output_type": "execute_result"
    }
   ],
   "source": [
    "'''\n",
    "1. 입력으로 주어진 n+2의 리스트를 만든다\n",
    "    1.1 첫 행과 마지막 행, 그리고 첫번째 컬럼과 마지막 컬럼은 0으로 초기화\n",
    "2. 2번째 행의 2번째 컬럼부터 n-2컬럼까지 상하좌우 비교 \n",
    "    2.1 n-2행까지 똑같이 진행 \n",
    "    2.2 조건에 맞는다면 count \n",
    "'''"
   ]
  },
  {
   "cell_type": "code",
   "execution_count": 83,
   "metadata": {},
   "outputs": [],
   "source": [
    "N = int(input())\n",
    "li = [list(map(int, input().split())) for _ in range(N)]"
   ]
  },
  {
   "cell_type": "code",
   "execution_count": 84,
   "metadata": {},
   "outputs": [
    {
     "data": {
      "text/plain": [
       "[[5, 3, 7, 2, 3],\n",
       " [3, 7, 1, 6, 1],\n",
       " [7, 2, 5, 3, 4],\n",
       " [4, 3, 6, 4, 1],\n",
       " [8, 7, 3, 5, 2]]"
      ]
     },
     "execution_count": 84,
     "metadata": {},
     "output_type": "execute_result"
    }
   ],
   "source": [
    "li"
   ]
  },
  {
   "cell_type": "code",
   "execution_count": 85,
   "metadata": {},
   "outputs": [],
   "source": [
    "li.insert(0, [0]*(N))\n",
    "li.insert(N+2-1, [0]*(N))"
   ]
  },
  {
   "cell_type": "code",
   "execution_count": 86,
   "metadata": {},
   "outputs": [
    {
     "name": "stdout",
     "output_type": "stream",
     "text": [
      "[[0, 0, 0, 0, 0, 0, 0], [0, 5, 3, 7, 2, 3, 0], [0, 3, 7, 1, 6, 1, 0], [0, 7, 2, 5, 3, 4, 0], [0, 4, 3, 6, 4, 1, 0], [0, 8, 7, 3, 5, 2, 0], [0, 0, 0, 0, 0, 0, 0]]\n"
     ]
    }
   ],
   "source": [
    "for i in range(N+2):\n",
    "    li[i].insert(0, 0)\n",
    "    li[i].insert(N+2-1,0)\n",
    "print(li)"
   ]
  },
  {
   "cell_type": "code",
   "execution_count": 87,
   "metadata": {},
   "outputs": [
    {
     "data": {
      "text/plain": [
       "[[0, 0, 0, 0, 0, 0, 0],\n",
       " [0, 5, 3, 7, 2, 3, 0],\n",
       " [0, 3, 7, 1, 6, 1, 0],\n",
       " [0, 7, 2, 5, 3, 4, 0],\n",
       " [0, 4, 3, 6, 4, 1, 0],\n",
       " [0, 8, 7, 3, 5, 2, 0],\n",
       " [0, 0, 0, 0, 0, 0, 0]]"
      ]
     },
     "execution_count": 87,
     "metadata": {},
     "output_type": "execute_result"
    }
   ],
   "source": [
    "li"
   ]
  },
  {
   "cell_type": "code",
   "execution_count": 118,
   "metadata": {},
   "outputs": [
    {
     "name": "stdout",
     "output_type": "stream",
     "text": [
      "10\n"
     ]
    }
   ],
   "source": [
    "direction = [-1,+1,1,-1]\n",
    "up_down = [-1,+1]\n",
    "right_left = [1,-1]\n",
    "cnt = 0\n",
    "for i in range(1, len(li)-1):\n",
    "    for j in range(1, len(li)-1):\n",
    "        check = 0 \n",
    "\n",
    "        for k in up_down:\n",
    "            if li[i][j] > li[i+k][j]:\n",
    "                check += 1\n",
    "        for l in right_left:\n",
    "            if li[i][j] > li[i][j+l]:\n",
    "                check += 1\n",
    "        if check == 4:\n",
    "            cnt += 1\n",
    "\n",
    "print(cnt)"
   ]
  },
  {
   "cell_type": "code",
   "execution_count": 124,
   "metadata": {},
   "outputs": [
    {
     "name": "stdout",
     "output_type": "stream",
     "text": [
      "[[27, 33, 80, 73, 19, 23, 15], [48, 84, 61, 3, 36, 9, 62], [87, 57, 3, 14, 69, 17, 22], [17, 57, 86, 21, 85, 51, 82], [7, 94, 66, 21, 19, 41, 82], [27, 5, 59, 28, 26, 77, 64], [5, 46, 4, 63, 76, 99, 8]]\n",
      "11\n"
     ]
    }
   ],
   "source": [
    "N = int(input())\n",
    "li = [list(map(int, input().split())) for _ in range(N)]\n",
    "\n",
    "print(li)\n",
    "# 첫행, 끝행 0으로 된 요소 추가 \n",
    "li.insert(0, [0]*(N))\n",
    "li.insert(N+2-1, [0]*(N))\n",
    "\n",
    "# 첫번째 컬럼, 마지막 컬럼 0요소 추가 \n",
    "for i in range(N+2):\n",
    "    li[i].insert(0, 0)\n",
    "    li[i].insert(N+2-1,0)\n",
    "\n",
    "direction = [-1,+1,1,-1]\n",
    "up_down = [-1,+1]\n",
    "right_left = [1,-1]\n",
    "cnt = 0\n",
    "for i in range(1, len(li)-1):\n",
    "    for j in range(1, len(li)-1):\n",
    "        # 만족하는지 체크하는 변수(4개 모두 만족해야함)\n",
    "        check = 0 \n",
    "\n",
    "        # 위, 아래 비교 \n",
    "        for k in up_down:\n",
    "            if li[i][j] > li[i+k][j]:\n",
    "                check += 1\n",
    "        \n",
    "        # 좌우 비교\n",
    "        for l in right_left:\n",
    "            if li[i][j] > li[i][j+l]:\n",
    "                check += 1\n",
    "        \n",
    "        # 최종 4가 나오게 된다면 모두 크다는 의미이므로 최종 check \n",
    "        if check == 4:\n",
    "            cnt += 1\n",
    "\n",
    "print(cnt)\n",
    "# 다른 예제로 진행했을때도 맞음 "
   ]
  },
  {
   "attachments": {},
   "cell_type": "markdown",
   "metadata": {},
   "source": [
    "### 추천 풀이"
   ]
  },
  {
   "cell_type": "code",
   "execution_count": 125,
   "metadata": {},
   "outputs": [
    {
     "name": "stdout",
     "output_type": "stream",
     "text": [
      "10\n"
     ]
    }
   ],
   "source": [
    "n = int(input())\n",
    "a = [list(map(int, input().split())) for _ in range(n)]\n",
    "\n",
    "# 0번 및 마지막 행에 0으로 된 리스트 넣어줌 \n",
    "a.insert(0,[0]*n)\n",
    "a.append([0]*n)\n",
    "\n",
    "for x in a:\n",
    "    x.insert(0,0)\n",
    "    x.append(0)\n",
    "# 내가 진행한거랑 똑같네!!!\n",
    "\n",
    "cnt = 0 \n",
    "dx = [-1, 0, 1, 0]\n",
    "dy = [0, 1, 0, -1]\n",
    "# 위 아래 좌 우에 대한 값을 넣어줌 \n",
    "for i in range(1, n+1):\n",
    "    for j in range(1, n+1):\n",
    "        # all() 함수는 안에 있는 조건이 모두 맞아야 true 반환\n",
    "        if all(a[i][j] > a[i+dx[k]][j+dy[k]] for k in range(4)):\n",
    "            cnt += 1\n",
    "print(cnt)\n"
   ]
  },
  {
   "attachments": {},
   "cell_type": "markdown",
   "metadata": {},
   "source": [
    "## 스토쿠 검사 \n",
    "- 스도쿠는 매우 간단한 숫자 퍼즐이다. 9×9 크기의 보드가 있을 때, 각 행과 각 열, 그리고 9 개의 3×3 크기의 보드에 1부터 9까지의 숫자가 중복 없이 나타나도록 보드를 채우면 된다. 예를 들어 다음을 보자.\n",
    "- 위 그림은 스도쿠를 정확하게 푼 경우이다. 각 행에 1부터 9까지의 숫자가 중복 없이 나오 고, 각 열에 1부터 9까지의 숫자가 중복 없이 나오고, 각 3×3짜리 사각형(9개이며, 위에서 색 깔로 표시되었다)에 1부터 9까지의 숫자가 중복 없이 나오기 때문이다.\n",
    "- 완성된 9×9 크기의 수도쿠가 주어지면 정확하게 풀었으면 “YES\", 잘 못 풀었으면 ”NO\"를 출 력하는 프로그램을 작성하세요.\n",
    "\n",
    "- ▣ 입력설명\n",
    "    - 첫 번째 줄에 완성된 9×9 스도쿠가 주어집니다.\n",
    "- ▣ 출력설명\n",
    "    - 첫째 줄에 “YES\" 또는 ”NO\"를 출력하세요."
   ]
  },
  {
   "cell_type": "code",
   "execution_count": 149,
   "metadata": {},
   "outputs": [
    {
     "data": {
      "text/plain": [
       "'\\n1. 행, 열 9개 숫자 모두 존재하는지 확인 \\n2. 3*3으로 찾을 수 있도록 값을 부여 \\n3. 빈 리스트에 1 ~ 9까지 값이 모두 들어있는지 set을 활용해서 확인 \\n4. 만약 모든 조건이 만족한다면 YES 반환 \\n'"
      ]
     },
     "execution_count": 149,
     "metadata": {},
     "output_type": "execute_result"
    }
   ],
   "source": [
    "'''\n",
    "1. 행, 열 9개 숫자 모두 존재하는지 확인 \n",
    "2. 3*3으로 찾을 수 있도록 값을 부여 \n",
    "3. 빈 리스트에 1 ~ 9까지 값이 모두 들어있는지 set을 활용해서 확인 \n",
    "4. 만약 모든 조건이 만족한다면 YES 반환 \n",
    "'''"
   ]
  },
  {
   "cell_type": "code",
   "execution_count": 126,
   "metadata": {},
   "outputs": [],
   "source": [
    "li = [list(map(int, input().split())) for _ in range(9)]\n"
   ]
  },
  {
   "cell_type": "code",
   "execution_count": 127,
   "metadata": {},
   "outputs": [
    {
     "data": {
      "text/plain": [
       "[[1, 4, 3, 6, 2, 8, 5, 7, 9],\n",
       " [5, 7, 2, 1, 3, 9, 4, 6, 8],\n",
       " [9, 8, 6, 7, 5, 4, 2, 3, 1],\n",
       " [3, 9, 1, 5, 4, 2, 7, 8, 6],\n",
       " [4, 6, 8, 9, 1, 7, 3, 5, 2],\n",
       " [7, 2, 5, 8, 6, 3, 9, 1, 4],\n",
       " [2, 3, 7, 4, 8, 1, 6, 9, 5],\n",
       " [6, 1, 9, 2, 7, 5, 8, 4, 3],\n",
       " [8, 5, 4, 3, 9, 6, 1, 2, 7]]"
      ]
     },
     "execution_count": 127,
     "metadata": {},
     "output_type": "execute_result"
    }
   ],
   "source": [
    "li"
   ]
  },
  {
   "cell_type": "code",
   "execution_count": 160,
   "metadata": {},
   "outputs": [],
   "source": [
    "# 행 검사\n",
    "li_row_check = []\n",
    "\n",
    "# 열 검사 \n",
    "li_col_check = []\n",
    "\n",
    "for i in range(len(li)):\n",
    "    for j in range(len(li)):\n",
    "        li_row_check.append(li[i][j])\n",
    "        li_col_check.append(li[j][i])\n",
    "    if len(set(li_row_check)) == 9:\n",
    "        # print(set(li_row_check))\n",
    "        pass\n",
    "    elif len(set(li_col_check)) == 9:\n",
    "        #print(set(li_col_check))\n",
    "        pass\n",
    "    else:\n",
    "        print(\"NO\")\n",
    "    li_row_check =[]\n",
    "    li_col_check = []\n",
    "\n"
   ]
  },
  {
   "cell_type": "code",
   "execution_count": null,
   "metadata": {},
   "outputs": [],
   "source": [
    "'''\n",
    "row 1-3 1-3 1-3\n",
    "col 1-3 4-6 7-9\n",
    "\n",
    "row 4-6 4-6 4-6\n",
    "col 1-3 4-6 7-9\n",
    "\n",
    "row 7-9 7-9 7-9\n",
    "col 1-3 4-6 7-9\n",
    "'''"
   ]
  },
  {
   "cell_type": "code",
   "execution_count": 206,
   "metadata": {},
   "outputs": [
    {
     "name": "stdout",
     "output_type": "stream",
     "text": [
      "YES\n"
     ]
    }
   ],
   "source": [
    "s_r = 0 \n",
    "s_c = 0\n",
    "row = 3\n",
    "col = 3 \n",
    "\n",
    "for i in range(9):\n",
    "    # 검증 \n",
    "    if len(set(li_check)) != 9:\n",
    "        print(\"NO\")\n",
    "    \n",
    "    # 값 초기화 \n",
    "    li_check = []\n",
    "    if col > 9:\n",
    "        s_c = 0\n",
    "        col = 3 \n",
    "        s_r += 3\n",
    "        row += 3\n",
    "    for j in range(s_r, row):\n",
    "        for k in range(s_c, col):\n",
    "            li_check.append(li[j][k])\n",
    "    # print(li_check)\n",
    "print(\"YES\")"
   ]
  },
  {
   "cell_type": "code",
   "execution_count": 211,
   "metadata": {},
   "outputs": [
    {
     "data": {
      "text/plain": [
       "[[1, 4, 3, 6, 2, 8, 5, 7, 9],\n",
       " [5, 7, 2, 1, 3, 9, 4, 6, 8],\n",
       " [9, 8, 6, 7, 5, 4, 2, 3, 1],\n",
       " [3, 9, 1, 5, 4, 2, 7, 8, 6],\n",
       " [4, 6, 8, 9, 1, 7, 3, 5, 2],\n",
       " [7, 2, 5, 8, 6, 3, 9, 1, 4],\n",
       " [2, 3, 7, 4, 8, 1, 6, 9, 5],\n",
       " [6, 1, 9, 2, 7, 3, 8, 4, 5],\n",
       " [8, 5, 4, 3, 9, 6, 1, 2, 7]]"
      ]
     },
     "execution_count": 211,
     "metadata": {},
     "output_type": "execute_result"
    }
   ],
   "source": [
    "li = [list(map(int, input().split())) for _ in range(9)]\n",
    "li"
   ]
  },
  {
   "cell_type": "code",
   "execution_count": 212,
   "metadata": {},
   "outputs": [
    {
     "name": "stdout",
     "output_type": "stream",
     "text": [
      "NO\n"
     ]
    }
   ],
   "source": [
    "# 행 검사\n",
    "li_row_check = []\n",
    "\n",
    "# 열 검사 \n",
    "li_col_check = []\n",
    "\n",
    "cnt_check = 0\n",
    "\n",
    "for i in range(len(li)):\n",
    "    for j in range(len(li)):\n",
    "        li_row_check.append(li[i][j])\n",
    "        li_col_check.append(li[j][i])\n",
    "    if len(set(li_row_check)) == 9:\n",
    "        # print(set(li_row_check))\n",
    "        cnt_check += 1\n",
    "        pass\n",
    "    elif len(set(li_col_check)) == 9:\n",
    "        #print(set(li_col_check))\n",
    "        cnt_check += 1\n",
    "        pass\n",
    "\n",
    "    li_row_check =[]\n",
    "    li_col_check = []\n",
    "\n",
    "s_r = 0 \n",
    "s_c = 0\n",
    "row = 3\n",
    "col = 3 \n",
    "for i in range(9):\n",
    "    # 검증 \n",
    "    if len(set(li_check)) == 9:\n",
    "        cnt += 1\n",
    "    # 값 초기화 \n",
    "    li_check = []\n",
    "    if col > 9:\n",
    "        s_c = 0\n",
    "        col = 3 \n",
    "        s_r += 3\n",
    "        row += 3\n",
    "    for j in range(s_r, row):\n",
    "        for k in range(s_c, col):\n",
    "            li_check.append(li[j][k])\n",
    "\n",
    "# 총 27번 검사 진행 \n",
    "if cnt == 27:\n",
    "    print(\"YES\")\n",
    "else:\n",
    "    print(\"NO\")\n",
    "# 정답인듯...?"
   ]
  },
  {
   "attachments": {},
   "cell_type": "markdown",
   "metadata": {},
   "source": [
    "### 추천 풀이"
   ]
  },
  {
   "cell_type": "code",
   "execution_count": null,
   "metadata": {},
   "outputs": [],
   "source": [
    "def check(a):\n",
    "    for i in range(9):\n",
    "        # 빈 리스트를 만들어줌 \n",
    "        # 행.열 검사\n",
    "        ch1=[0]*10\n",
    "        ch2=[0]*10\n",
    "        for j in range(9):\n",
    "            ch1[a[i][j]]=1\n",
    "            ch2[a[j][i]]=1\n",
    "            # 각 요소를 넣어주고 합이 9인지 아닌지 체크 \n",
    "        if sum(ch1)!=9 or sum(ch2)!=9:\n",
    "            return False\n",
    "        \n",
    "    for i in range(3):\n",
    "        for j in range(3):\n",
    "            ch3=[0]*10\n",
    "            for k in range(3):\n",
    "                for s in range(3):\n",
    "                    ch3[a[i*3+k][j*3+s]]=1\n",
    "            if sum(ch3)!=9:\n",
    "                return False\n",
    "    return True\n",
    "\n",
    "a=[list(map(int, input().split())) for _ in range(9)]\n",
    "if check(a):\n",
    "    print(\"YES\")\n",
    "else:\n",
    "    print(\"NO\")"
   ]
  }
 ],
 "metadata": {
  "kernelspec": {
   "display_name": "Python 3",
   "language": "python",
   "name": "python3"
  },
  "language_info": {
   "codemirror_mode": {
    "name": "ipython",
    "version": 3
   },
   "file_extension": ".py",
   "mimetype": "text/x-python",
   "name": "python",
   "nbconvert_exporter": "python",
   "pygments_lexer": "ipython3",
   "version": "3.9.1"
  },
  "orig_nbformat": 4
 },
 "nbformat": 4,
 "nbformat_minor": 2
}
