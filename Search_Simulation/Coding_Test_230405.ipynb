{
 "cells": [
  {
   "attachments": {},
   "cell_type": "markdown",
   "metadata": {},
   "source": [
    "## 회문 문자열 검사\n",
    "- N개의 문자열 데이터를 입력받아 앞에서 읽을 때나 뒤에서 읽을 때나 같은 경우(회문 문자열) 이면 YES를 출력하고 회문 문자열이 아니면 NO를 출력하는 프로그램을 작성한다.\n",
    "단 회문을 검사할 때 대소문자를 구분하지 않습니다.\n",
    "- ▣ 입력설명\n",
    "    - 첫  줄에 정수 N(1<=N<=20)이 주어지고, 그 다음 줄부터 N개의 단어가 입력된다. 각 단어의 길이는 100을 넘지 않는다.\n",
    "- ▣ 출력설명\n",
    "    - 각 줄에 해당 문자열의 결과를 YES 또는 NO로 출력한다.\n",
    "\n",
    "- ▣ 입력예제 1 5\n",
    "    - level moon abcba soon gooG\n",
    "- ▣ 출력예제 1 \n",
    "- #1 YES #2 NO #3 YES #4 NO #5 YES\n"
   ]
  },
  {
   "cell_type": "code",
   "execution_count": 1,
   "metadata": {},
   "outputs": [
    {
     "data": {
      "text/plain": [
       "'\\n1. 입력받은 문자 소문자 변환 \\n2. 짝수인지 홀수 인지 구분 \\n    2.1 짝수라면 2로 나눈 몫과 몫을 -1한 값을 넓혀가며 문자열 비교 진행 \\n    2.2 홀수라면 2로 나눈 몫을 바탕으로 -1 +1 값을 넓혀가며 문자열 비교 진행 \\n'"
      ]
     },
     "execution_count": 1,
     "metadata": {},
     "output_type": "execute_result"
    }
   ],
   "source": [
    "'''\n",
    "1. 입력받은 문자 소문자 변환 \n",
    "2. 짝수인지 홀수 인지 구분 \n",
    "    2.1 짝수라면 2로 나눈 몫과 몫을 -1한 값을 넓혀가며 문자열 비교 진행 \n",
    "    2.2 홀수라면 2로 나눈 몫을 바탕으로 -1 +1 값을 넓혀가며 문자열 비교 진행 \n",
    "'''"
   ]
  },
  {
   "cell_type": "code",
   "execution_count": 2,
   "metadata": {},
   "outputs": [],
   "source": [
    "a = \"moon\"\n",
    "b = \"level\""
   ]
  },
  {
   "cell_type": "code",
   "execution_count": 3,
   "metadata": {},
   "outputs": [],
   "source": [
    "len_a = len(a)\n",
    "len_b = len(b)"
   ]
  },
  {
   "cell_type": "code",
   "execution_count": 10,
   "metadata": {},
   "outputs": [
    {
     "name": "stdout",
     "output_type": "stream",
     "text": [
      "m n\n"
     ]
    }
   ],
   "source": [
    "print(a[0], a[-1])\n"
   ]
  },
  {
   "cell_type": "code",
   "execution_count": 17,
   "metadata": {},
   "outputs": [],
   "source": [
    "a = \"level\""
   ]
  },
  {
   "cell_type": "code",
   "execution_count": 18,
   "metadata": {},
   "outputs": [
    {
     "name": "stdout",
     "output_type": "stream",
     "text": [
      "0\n",
      "1\n",
      "NO\n"
     ]
    }
   ],
   "source": [
    "i = 0\n",
    "j = -1\n",
    "while True:\n",
    "    print(i)\n",
    "    if a[i] == a[j]:\n",
    "        i += 1 \n",
    "        j -= 1\n",
    "    if i == len(a) // 2:\n",
    "        if a[i] == a[i-1]:\n",
    "            print(\"YES\")\n",
    "            break\n",
    "        else:\n",
    "            print(\"NO\")\n",
    "    else:\n",
    "        print(\"NO\")\n",
    "        break\n",
    "# 이거 아님 \n"
   ]
  },
  {
   "cell_type": "code",
   "execution_count": 20,
   "metadata": {},
   "outputs": [
    {
     "data": {
      "text/plain": [
       "'\\n1. 소문자 변환 \\n2. 홀수 짝수 판단 \\n    2.1 홀수라면 몫을 제외하고 0 ~ 몫-1, 몫 +1 ~ 끝 문자열 추출 \\n    2.2 짝수라면 몫을 포함해서 0 ~ 몫-1, 몫 ~ 끝 문자열 추출 \\n3. 몫 + 1 ~ 끝, 몫 ~ 끝 문자열을 reverse 사용해서 문자열 비교 \\n'"
      ]
     },
     "execution_count": 20,
     "metadata": {},
     "output_type": "execute_result"
    }
   ],
   "source": [
    "'''\n",
    "1. 소문자 변환 \n",
    "2. 홀수 짝수 판단 \n",
    "    2.1 홀수라면 몫을 제외하고 0 ~ 몫-1, 몫 +1 ~ 끝 문자열 추출 \n",
    "    2.2 짝수라면 몫을 포함해서 0 ~ 몫-1, 몫 ~ 끝 문자열 추출 \n",
    "3. 몫 + 1 ~ 끝, 몫 ~ 끝 문자열을 reverse 사용해서 문자열 비교 \n",
    "'''"
   ]
  },
  {
   "cell_type": "code",
   "execution_count": 41,
   "metadata": {},
   "outputs": [
    {
     "name": "stdout",
     "output_type": "stream",
     "text": [
      "NO\n"
     ]
    }
   ],
   "source": [
    "a = \"moon\"\n",
    "# print(a)\n",
    "a = a.lower()\n",
    "\n",
    "if len(a) % 2 == 0:\n",
    "    m = len(a) // 2\n",
    "    st1 = a[0:m]\n",
    "    st2 = a[m:len(a)+1]\n",
    "\n",
    "else:\n",
    "    m = len(a) // 2 \n",
    "    st1 = a[0:m]\n",
    "    st2 = a[m+1 : len(a)+1]\n",
    "# print(st1, st2)\n",
    "if st1 == st2[::-1]:\n",
    "    print(\"Yes\")\n",
    "else:\n",
    "    print(\"NO\")"
   ]
  },
  {
   "cell_type": "code",
   "execution_count": 42,
   "metadata": {},
   "outputs": [],
   "source": [
    "def check_string(a):\n",
    "    a = a.lower()\n",
    "\n",
    "    m = len(a)// 2\n",
    "\n",
    "    if len(a) % 2 == 0:\n",
    "        st1 = a[0 : m]\n",
    "        st2 = a[m :len(a) + 1]\n",
    "    \n",
    "    else:\n",
    "        st1 = a[0 : m]\n",
    "        st2 = a[m+1 : len(a) + 1]\n",
    "    \n",
    "    if st1 == st2[::-1]:\n",
    "        return \"YES\"\n",
    "    else:\n",
    "        return \"NO\"\n",
    "\n",
    "# 초반에 처음 틀리면 바로 NO를 리턴하도록 하는게 연산 Cost가 더 적게 들어갈 것 같음 "
   ]
  },
  {
   "cell_type": "code",
   "execution_count": 43,
   "metadata": {},
   "outputs": [
    {
     "data": {
      "text/plain": [
       "'YES'"
      ]
     },
     "execution_count": 43,
     "metadata": {},
     "output_type": "execute_result"
    }
   ],
   "source": [
    "check_string(\"level\")"
   ]
  },
  {
   "cell_type": "code",
   "execution_count": 44,
   "metadata": {},
   "outputs": [
    {
     "data": {
      "text/plain": [
       "'NO'"
      ]
     },
     "execution_count": 44,
     "metadata": {},
     "output_type": "execute_result"
    }
   ],
   "source": [
    "check_string(\"soon\")"
   ]
  },
  {
   "cell_type": "code",
   "execution_count": 45,
   "metadata": {},
   "outputs": [
    {
     "data": {
      "text/plain": [
       "'YES'"
      ]
     },
     "execution_count": 45,
     "metadata": {},
     "output_type": "execute_result"
    }
   ],
   "source": [
    "check_string(\"gooG\")"
   ]
  },
  {
   "cell_type": "code",
   "execution_count": 47,
   "metadata": {},
   "outputs": [
    {
     "name": "stdout",
     "output_type": "stream",
     "text": [
      "YES\n",
      "NO\n",
      "YES\n",
      "NO\n",
      "YES\n"
     ]
    }
   ],
   "source": [
    "n = int(input())\n",
    "for i in range(n):\n",
    "    st = input()\n",
    "    print(check_string(st))"
   ]
  },
  {
   "attachments": {},
   "cell_type": "markdown",
   "metadata": {},
   "source": [
    "### 추천 풀이"
   ]
  },
  {
   "cell_type": "code",
   "execution_count": 48,
   "metadata": {},
   "outputs": [
    {
     "name": "stdout",
     "output_type": "stream",
     "text": [
      "#1 YES\n",
      "#2 NO\n",
      "#3 YES\n",
      "#4 NO\n",
      "#5 YES\n"
     ]
    }
   ],
   "source": [
    "n = int(input())\n",
    "for i in range(n):\n",
    "    s = input()\n",
    "    s = s.upper()\n",
    "    if s == s[::-1]:\n",
    "        print(\"#%d YES\" %(i+1))\n",
    "    else:\n",
    "        print(\"#%d NO\" %(i+1))\n",
    "# 다 찾았는데 나는 그걸 또 나눠서 찾았네 ..."
   ]
  },
  {
   "attachments": {},
   "cell_type": "markdown",
   "metadata": {},
   "source": [
    "## 숫자만 추출 \n",
    "- 문자와 숫자가 섞여있는 문자열이 주어지면 그 중 숫자만 추출하여 그 순서대로 자연수를 만 듭니다. 만들어진 자연수와 그 자연수의 약수 개수를 출력합니다.\n",
    "만약 “t0e0a1c2h0er”에서 숫자만 추출하면 0, 0, 1, 2, 0이고 이것을 자연수를 만들면 120이 됩니다.즉첫자리0은자연수화할때무시합니다. 출력은120를출력하고,다음줄에120 의 약수의 개수를 출력하면 됩니다.\n",
    "추출하여 만들어지는 자연수는 100,000,000을 넘지 않습니다.\n",
    "- ▣ 입력설명\n",
    "    - 첫 줄에 숫자가 썩인 문자열이 주어집니다. 문자열의 길이는 50을 넘지 않습니다.\n",
    "- ▣ 출력설명\n",
    "    - 첫 줄에 자연수를 출력하고, 두 번째 줄에 약수의 개수를 출력합니다.\n",
    "- ▣ 입력예제 1 \n",
    "    - g0en2Ts8eSoft\n",
    "- ▣ 출력예제 1 \n",
    "    - 28\n",
    "    - 6"
   ]
  },
  {
   "cell_type": "code",
   "execution_count": 50,
   "metadata": {},
   "outputs": [
    {
     "data": {
      "text/plain": [
       "'\\n1. 소문자 변환한 후 abcd~~가 존재하지 않는다면 해당 문자열만 추출 \\n2. 추출한 문자열을 숫자로 변환 \\n3. 1~변환한 숫자까지 나눠가며 count\\n'"
      ]
     },
     "execution_count": 50,
     "metadata": {},
     "output_type": "execute_result"
    }
   ],
   "source": [
    "'''\n",
    "1. 소문자 변환한 후 abcd~~가 존재하지 않는다면 해당 문자열만 추출 \n",
    "2. 추출한 문자열을 숫자로 변환 \n",
    "3. 1~변환한 숫자까지 나눠가며 count\n",
    "'''"
   ]
  },
  {
   "cell_type": "code",
   "execution_count": 54,
   "metadata": {},
   "outputs": [
    {
     "name": "stdout",
     "output_type": "stream",
     "text": [
      "28\n",
      "6\n"
     ]
    }
   ],
   "source": [
    "s = \"g0en2Ts8eSoft\"\n",
    "lower_s = s.lower()\n",
    "\n",
    "extract_string = \"\"\n",
    "for i in lower_s:\n",
    "    if i not in \"abcdefghijklmnopqrstuvwxyz\":\n",
    "        extract_string += i \n",
    "\n",
    "trans_int = int(extract_string)\n",
    "print(trans_int)\n",
    "cnt = 0 \n",
    "for i in range(1,trans_int+1):\n",
    "    if trans_int % i == 0:\n",
    "        cnt += 1\n",
    "print(cnt)"
   ]
  },
  {
   "cell_type": "code",
   "execution_count": 57,
   "metadata": {},
   "outputs": [],
   "source": [
    "def extract_number(string):\n",
    "    lower_s = string.lower()\n",
    "\n",
    "    extract_string = \"\"\n",
    "    for i in lower_s:\n",
    "        if i not in \"abcdefghijklmnopqrstuvwxyz\":\n",
    "            extract_string += i \n",
    "\n",
    "    trans_int = int(extract_string)\n",
    "    print(trans_int)\n",
    "    cnt = 0 \n",
    "    for i in range(1,trans_int+1):\n",
    "        if trans_int % i == 0:\n",
    "            cnt += 1\n",
    "    print(cnt)"
   ]
  },
  {
   "cell_type": "code",
   "execution_count": 58,
   "metadata": {},
   "outputs": [
    {
     "name": "stdout",
     "output_type": "stream",
     "text": [
      "102\n",
      "8\n"
     ]
    }
   ],
   "source": [
    "extract_number(\"dkf0jkk0dkjkgjljl1kgh0ekjlkjf2lkjsklfjlkdj\")"
   ]
  },
  {
   "cell_type": "code",
   "execution_count": 59,
   "metadata": {},
   "outputs": [
    {
     "name": "stdout",
     "output_type": "stream",
     "text": [
      "12\n",
      "6\n"
     ]
    }
   ],
   "source": [
    "extract_number(\"Akdj0Gk1djADG2SDGkdjf\")"
   ]
  },
  {
   "cell_type": "code",
   "execution_count": 60,
   "metadata": {},
   "outputs": [
    {
     "name": "stdout",
     "output_type": "stream",
     "text": [
      "120\n",
      "16\n"
     ]
    }
   ],
   "source": [
    "extract_number(\"Akdj0Gk1djADG2SDGkdj0f\")"
   ]
  },
  {
   "cell_type": "code",
   "execution_count": 61,
   "metadata": {},
   "outputs": [
    {
     "name": "stdout",
     "output_type": "stream",
     "text": [
      "134520\n",
      "64\n"
     ]
    }
   ],
   "source": [
    "extract_number(\"Akdj0Gk1dgdgdAGSGAG3DGGA45GAGADGDGdjADG2SDGkdj0f\")"
   ]
  },
  {
   "attachments": {},
   "cell_type": "markdown",
   "metadata": {},
   "source": [
    "### 추천 풀이"
   ]
  },
  {
   "cell_type": "code",
   "execution_count": 62,
   "metadata": {},
   "outputs": [
    {
     "name": "stdout",
     "output_type": "stream",
     "text": [
      "28\n",
      "6\n"
     ]
    }
   ],
   "source": [
    "s = input()\n",
    "res = 0 \n",
    "\n",
    "for x in s:\n",
    "    if x.isdecimal():\n",
    "        # 숫자로 변환할 수 있다면 \n",
    "        res = res*10+int(x)\n",
    "print(res)\n",
    "\n",
    "cnt = 0 \n",
    "for i in range(1, res+1):\n",
    "    if res % i == 0:\n",
    "        cnt += 1\n",
    "print(cnt)"
   ]
  },
  {
   "cell_type": "code",
   "execution_count": null,
   "metadata": {},
   "outputs": [],
   "source": []
  }
 ],
 "metadata": {
  "kernelspec": {
   "display_name": "Python 3",
   "language": "python",
   "name": "python3"
  },
  "language_info": {
   "codemirror_mode": {
    "name": "ipython",
    "version": 3
   },
   "file_extension": ".py",
   "mimetype": "text/x-python",
   "name": "python",
   "nbconvert_exporter": "python",
   "pygments_lexer": "ipython3",
   "version": "3.9.1"
  },
  "orig_nbformat": 4
 },
 "nbformat": 4,
 "nbformat_minor": 2
}
