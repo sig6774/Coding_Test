{
 "cells": [
  {
   "cell_type": "markdown",
   "metadata": {},
   "source": [
    "## 가장 큰 수\n",
    "- 선생님은 현수에게 숫자 하나를 주고, 해당 숫자의 자릿수들 중 m개의 숫자를 제거하 여 가장 큰 수를 만들라고 했습니다. \n",
    "- 여러분이 현수를 도와주세요.(단 숫자의 순서는 유지해야 합니다)\n",
    "- 만약 5276823 이 주어지고 3개의 자릿수를 제거한다면\n",
    "7823이 가장 큰 숫자가 됩니다.\n",
    "\n"
   ]
  },
  {
   "cell_type": "code",
   "execution_count": 1,
   "metadata": {},
   "outputs": [],
   "source": [
    "# 현재 자리의 수가 앞의 자리 수보다 작으면 삭제 \n",
    "# 만약 5276823이면 5는 앞에 자리가 없으니깐 5가 들어가게 됨 \n",
    "# 그렇다면 7이 5보다 크니 삭제하는 조건을 주게 되면 8은 7보다 크니깐 \n",
    "# 7도 삭제될 것 같은데 ... \n",
    "# 잘모르겠음 "
   ]
  },
  {
   "cell_type": "code",
   "execution_count": null,
   "metadata": {},
   "outputs": [],
   "source": [
    "# 현재 자리 수가 앞의 자리 수보다 작으면 삭제 \n",
    "# 위의 과정을 입력받은 횟수만큼 진행하고 횟수가 끝났으면 남은 수 그대로 출력 \n"
   ]
  },
  {
   "cell_type": "code",
   "execution_count": 2,
   "metadata": {},
   "outputs": [],
   "source": [
    "n,m = map(int, input().split())\n"
   ]
  },
  {
   "cell_type": "code",
   "execution_count": 3,
   "metadata": {},
   "outputs": [
    {
     "name": "stdout",
     "output_type": "stream",
     "text": [
      "5276823 3\n"
     ]
    }
   ],
   "source": [
    "print(n,m)"
   ]
  },
  {
   "cell_type": "code",
   "execution_count": 7,
   "metadata": {},
   "outputs": [
    {
     "name": "stdout",
     "output_type": "stream",
     "text": [
      "[5, 2, 7, 6, 8, 2, 3]\n"
     ]
    }
   ],
   "source": [
    "li = []\n",
    "for i in str(n):\n",
    "    li.append(int(i))\n",
    "print(li)"
   ]
  },
  {
   "cell_type": "code",
   "execution_count": 25,
   "metadata": {},
   "outputs": [
    {
     "name": "stdout",
     "output_type": "stream",
     "text": [
      "[5]\n",
      "3\n",
      "[5]\n",
      "2\n",
      "[5, 6]\n",
      "2\n",
      "[6, 8]\n",
      "1\n",
      "[8]\n"
     ]
    }
   ],
   "source": [
    "s = 0 \n",
    "ex = [] \n",
    "cnt = m \n",
    "\n",
    "\n",
    "for i in li:\n",
    "    if cnt > 0:\n",
    "        if s < i:\n",
    "            ex.append(i)\n",
    "            s = i \n",
    "        else:\n",
    "            cnt -= 1 \n",
    "            li.pop(li.index(i))\n",
    "        print(ex)\n",
    "        print(cnt)\n",
    "    for j in ex: \n",
    "        if s > j:\n",
    "            ex.pop(ex.index(j))\n",
    "            cnt -= 1 \n",
    "        \n",
    "print(ex)\n",
    "# 못풀겠음 "
   ]
  },
  {
   "cell_type": "markdown",
   "metadata": {},
   "source": [
    "### 참고풀이"
   ]
  },
  {
   "cell_type": "code",
   "execution_count": 28,
   "metadata": {},
   "outputs": [
    {
     "data": {
      "text/plain": [
       "'\\n스택\\n- last in first out \\n- 입구와 출구가 한곳임 \\n- 파이썬에서는 리스트가 스택 \\n'"
      ]
     },
     "execution_count": 28,
     "metadata": {},
     "output_type": "execute_result"
    }
   ],
   "source": [
    "'''\n",
    "스택\n",
    "- last in first out \n",
    "- 입구와 출구가 한곳임 \n",
    "- 파이썬에서는 리스트가 스택 \n",
    "'''"
   ]
  },
  {
   "cell_type": "code",
   "execution_count": 41,
   "metadata": {},
   "outputs": [],
   "source": [
    "num,m = map(int, input().split())"
   ]
  },
  {
   "cell_type": "code",
   "execution_count": 42,
   "metadata": {},
   "outputs": [],
   "source": [
    "num = list(map(int, str(num)))\n",
    "# 입력받은 수를 하나씩 잘라서 리스트에 저장 "
   ]
  },
  {
   "cell_type": "code",
   "execution_count": 43,
   "metadata": {},
   "outputs": [
    {
     "name": "stdout",
     "output_type": "stream",
     "text": [
      "[5, 2, 7, 6, 8, 2, 3]\n"
     ]
    }
   ],
   "source": [
    "print(num)"
   ]
  },
  {
   "cell_type": "code",
   "execution_count": 44,
   "metadata": {},
   "outputs": [
    {
     "name": "stdout",
     "output_type": "stream",
     "text": [
      "7823\n"
     ]
    }
   ],
   "source": [
    "stack = [] \n",
    "\n",
    "for x in num:\n",
    "    while stack and m > 0 and stack[-1] < x:\n",
    "        # stack이 비어있으면 False \n",
    "        # m이 0초과이고 stack의 마지막 값이 num의 요소보다 작을 때 \n",
    "        # 현재의 수가 이전 수가 들어있는 stack의 마지막 수보다 더 크다면 <- 핵심 \n",
    "        stack.pop() \n",
    "        m -= 1 \n",
    "        # while의 조건이 True일 때 \n",
    "\n",
    "    stack.append(x)\n",
    "\n",
    "if m != 0:\n",
    "    stack = stack[:-m]\n",
    "# 지워야하는 개수가 남아있을 가능성이 있으므로 \n",
    "\n",
    "\n",
    "res = ''.join(map(str, stack))\n",
    "print(res)\n",
    "\n",
    "# while 조건을 여러개 줘서 한번에 끝냈네\n",
    "# 만약 stack이 비어있지 않고 제거할 수 있는 count의 개수가 남아있고 \n",
    "# stack의 마지막 수가 현재 수보다 작다면 그건 stack에서 빼주고 제거할 수 있는 \n",
    "# count도 빼주면 됨 "
   ]
  },
  {
   "cell_type": "markdown",
   "metadata": {},
   "source": [
    "## 후위표기식 만들기 \n",
    "- 중위표기식이 입력되면 후위표기식으로 변환하는 프로그램을 작성하세요.\n",
    "중위표기식은 우리가 흔히 쓰은 표현식입니다. 즉 3+5 와 같이 연산자가 피연산자 사이에 있 으면 중위표기식입니다.\n",
    "- 후위표기식은 35+ 와 같이 연산자가 피연산자 뒤에 있는 표기식입니다.\n",
    "예를 들어 중위표기식이 3+5*2 를 후위표기식으로 표현하면 352*+ 로 표현됩니다.\n",
    "- 만약 다음과 같이 연산 최우선인 괄호가 표현된 식이라면\n",
    "(3+5)*2 이면 35+2* 로 바꾸어야 합니다.\n",
    "\n",
    "<hr>\n",
    "\n",
    "- 첫 줄에 중위표기식이 주어진다. 길이는 100을 넘지 않는다. 식은 1~9의 숫자와 +, -, *, /, (, ) 연산자로만 이루어진다."
   ]
  },
  {
   "cell_type": "code",
   "execution_count": 74,
   "metadata": {},
   "outputs": [],
   "source": [
    "m = input()"
   ]
  },
  {
   "cell_type": "code",
   "execution_count": 75,
   "metadata": {},
   "outputs": [
    {
     "data": {
      "text/plain": [
       "'3*(5+2)-9'"
      ]
     },
     "execution_count": 75,
     "metadata": {},
     "output_type": "execute_result"
    }
   ],
   "source": [
    "m"
   ]
  },
  {
   "cell_type": "code",
   "execution_count": 51,
   "metadata": {},
   "outputs": [],
   "source": [
    "# 숫자는 그대로 출력 \n",
    "# 리스트에 연산자들 넣어줌 \n",
    "    # 만약 ()안에 연산자가 있으면 해당 연산자는 괄호 숫자 다 나오고 바로 뒤에 넣어줌\n",
    "# 넣어준 연산자를 뒤에 넣어줌 "
   ]
  },
  {
   "cell_type": "code",
   "execution_count": 76,
   "metadata": {},
   "outputs": [
    {
     "name": "stdout",
     "output_type": "stream",
     "text": [
      "352+*9-\n"
     ]
    }
   ],
   "source": [
    "stack = [] \n",
    "n = [\"+\", \"-\", \"/\", \"*\"]\n",
    "li = [] \n",
    "\n",
    "for i in m:\n",
    "    if i in n:\n",
    "        stack.append(i)\n",
    "        # 특수 문자를 따로 저장 \n",
    "\n",
    "    elif i == \"(\" or i == \")\":\n",
    "        pass\n",
    "        # ()는 필요없음으로 제외 \n",
    "\n",
    "    else:\n",
    "        li.append(i)\n",
    "        # 연산자를 제외한 나머지 값들을 순차적으로 저장 \n",
    "    # print(stack)\n",
    "\n",
    "    if  i== \")\":\n",
    "        for _ in range(len(stack)):\n",
    "            li.append(stack.pop())\n",
    "    # 닫히는 괄호를 만나게 되면 stack에 저장된 길이만큼 뱉어냄 \n",
    "\n",
    "\n",
    "if len(stack) != 0:\n",
    "    li.append(stack.pop())\n",
    "# 마지막 스택에 저장된 값을 넣어줌 \n",
    "print(\"\".join(li))\n",
    "# 다른 문자에는 적용안됨 \n",
    "# 즉 작성한 로직이 잘못됨 "
   ]
  },
  {
   "cell_type": "code",
   "execution_count": 78,
   "metadata": {},
   "outputs": [
    {
     "name": "stdout",
     "output_type": "stream",
     "text": [
      "3+5*2/(7-2)\n"
     ]
    }
   ],
   "source": [
    "m = input()\n",
    "print(m)"
   ]
  },
  {
   "cell_type": "code",
   "execution_count": 80,
   "metadata": {},
   "outputs": [
    {
     "name": "stdout",
     "output_type": "stream",
     "text": [
      "35*2/72-+\n"
     ]
    }
   ],
   "source": [
    "stack = [] \n",
    "n = [\"+\", \"-\", \"/\", \"*\"]\n",
    "li = [] \n",
    "\n",
    "for i in m:\n",
    "    if i in n:\n",
    "        stack.append(i)\n",
    "        # 특수 문자를 따로 저장 \n",
    "\n",
    "    elif i == \"(\" or i == \")\":\n",
    "        pass\n",
    "        # ()는 필요없음으로 제외 \n",
    "\n",
    "    else:\n",
    "        li.append(i)\n",
    "        # 연산자를 제외한 나머지 값들을 순차적으로 저장 \n",
    "    # print(stack)\n",
    "\n",
    "    if  i== \")\":\n",
    "        for _ in range(len(stack)):\n",
    "            li.append(stack.pop())\n",
    "    # 닫히는 괄호를 만나게 되면 stack에 저장된 길이만큼 뱉어냄 \n",
    "    # 이게 문제네 \n",
    "    # 그렇다면 연산자 우선순위를 적용해야하는건가...?\n",
    "    elif i == \"*\" or i == \"/\":\n",
    "        li.append(stack.pop())\n",
    "    # 그래도 안되네 .. \n",
    "\n",
    "\n",
    "if len(stack) != 0:\n",
    "    li.append(stack.pop())\n",
    "# 마지막 스택에 저장된 값을 넣어줌 \n",
    "print(\"\".join(li))\n",
    "# 다른 문자에는 적용안됨 \n",
    "# 즉 작성한 로직이 잘못됨 \n",
    "# 못품 "
   ]
  },
  {
   "cell_type": "markdown",
   "metadata": {},
   "source": [
    "### 참고풀이"
   ]
  },
  {
   "cell_type": "code",
   "execution_count": 81,
   "metadata": {},
   "outputs": [],
   "source": [
    "# 숫자를 만나면 출력하거나 새로운 스택에 누적 \n",
    "# 연산자를 만나면 연산자 우선순위를 적용하고 만약 같은 연산자 우선순위라면 왼쪽에 있는 것부터 먼저 처리 \n",
    "# 곱하기나 나누기를 만나게 된다면 연산자만 저장된 공간에서 빼줌 \n",
    "# 추가로 괄호도 연산자가 저장된 공간에 순차적으로 넣어줌 "
   ]
  },
  {
   "cell_type": "code",
   "execution_count": 82,
   "metadata": {},
   "outputs": [
    {
     "name": "stdout",
     "output_type": "stream",
     "text": [
      "352*72-/+\n"
     ]
    }
   ],
   "source": [
    "a = input() \n",
    "stack = [] \n",
    "res = \"\"\n",
    "# 문자열 누적 \n",
    "\n",
    "for x in a:\n",
    "    if x.isdecimal():\n",
    "        # 10진수 숫자이면 참 \n",
    "        res += x \n",
    "    else:\n",
    "        # 10진수가 아니라면 \n",
    "        if x == \"(\":\n",
    "            stack.append(x)\n",
    "        elif x == \"*\" or x == \"/\":\n",
    "            while stack and (stack[-1] == \"*\" or stack[-1] == \"/\"):\n",
    "                # 아 여기서 while을 사용해서 연산자 우선순위를 계속 처리하는 구만 \n",
    "                res += stack.pop()\n",
    "            # +, -를 만나면 while 반복 안함 \n",
    "            stack.append(x)\n",
    "            # +,-가 stack에 들어감 \n",
    "        elif x == \"+\" or x == \"-\":\n",
    "            while stack and stack[-1] != \"(\":\n",
    "                # 여는 괄호 전까지만 값을 더해줌 \n",
    "                # 왜냐면 여기에서 더해주는 연산자는 괄호 안의 연산자를 뜻함 \n",
    "                res += stack.pop() \n",
    "            stack.append(x)\n",
    "        elif x == \")\":\n",
    "            while stack and stack[-1] != \"(\":\n",
    "                res += stack.pop()\n",
    "            stack.pop()\n",
    "            # 여는 괄호를 빼서 없애줘야함 \n",
    "\n",
    "while stack:\n",
    "    res += stack.pop() \n",
    "    # stack에 값이 남아있다면 남아있는 것들 출력 \n",
    "print(res)\n",
    "    \n"
   ]
  },
  {
   "cell_type": "markdown",
   "metadata": {},
   "source": [
    "## 후위식 연산 \n",
    "- 후위연산식이 주어지면 연산한 결과를 출력하는 프로그램을 작성하세요.\n",
    "만약 3*(5+2)-9 을 후위연산식으로 표현하면 352+*9- 로 표현되며 그 결과는 21입니다.\n",
    "\n",
    "<hr>\n",
    "\n",
    "- 첫 줄에 후위연산식이 주어집니다. 연산식의 길이는 50을 넘지 않습니다. 식은 1~9의 숫자와 +, -, *, /, (, ) 연산자로만 이루어진다.\n"
   ]
  },
  {
   "cell_type": "code",
   "execution_count": 83,
   "metadata": {},
   "outputs": [],
   "source": [
    "# 연산자를 만나게 되면 연산자 앞 2개의 숫자와 연산 진행\n",
    "# 연산자에 맞게 연산 진행\n"
   ]
  },
  {
   "cell_type": "code",
   "execution_count": 110,
   "metadata": {},
   "outputs": [],
   "source": [
    "m = input()"
   ]
  },
  {
   "cell_type": "code",
   "execution_count": 111,
   "metadata": {},
   "outputs": [
    {
     "name": "stdout",
     "output_type": "stream",
     "text": [
      "['3', '5', '2', '+', '*', '9', '-']\n"
     ]
    }
   ],
   "source": [
    "n = [] \n",
    "for i in m:\n",
    "    n.append(i)\n",
    "print(n)"
   ]
  },
  {
   "cell_type": "code",
   "execution_count": 108,
   "metadata": {},
   "outputs": [
    {
     "ename": "IndexError",
     "evalue": "list index out of range",
     "output_type": "error",
     "traceback": [
      "\u001b[0;31m---------------------------------------------------------------------------\u001b[0m",
      "\u001b[0;31mIndexError\u001b[0m                                Traceback (most recent call last)",
      "\u001b[1;32m/Users/sig6774/CodingTest/Coding_Test_220731.ipynb 셀 28\u001b[0m in \u001b[0;36m<cell line: 2>\u001b[0;34m()\u001b[0m\n\u001b[1;32m      <a href='vscode-notebook-cell:/Users/sig6774/CodingTest/Coding_Test_220731.ipynb#ch0000036?line=0'>1</a>\u001b[0m res \u001b[39m=\u001b[39m \u001b[39m0\u001b[39m \n\u001b[1;32m      <a href='vscode-notebook-cell:/Users/sig6774/CodingTest/Coding_Test_220731.ipynb#ch0000036?line=1'>2</a>\u001b[0m \u001b[39mfor\u001b[39;00m i \u001b[39min\u001b[39;00m \u001b[39mrange\u001b[39m(\u001b[39mlen\u001b[39m(n)):\n\u001b[0;32m----> <a href='vscode-notebook-cell:/Users/sig6774/CodingTest/Coding_Test_220731.ipynb#ch0000036?line=2'>3</a>\u001b[0m     \u001b[39mif\u001b[39;00m n[i] \u001b[39m==\u001b[39m \u001b[39m\"\u001b[39m\u001b[39m+\u001b[39m\u001b[39m\"\u001b[39m:\n\u001b[1;32m      <a href='vscode-notebook-cell:/Users/sig6774/CodingTest/Coding_Test_220731.ipynb#ch0000036?line=3'>4</a>\u001b[0m         n\u001b[39m.\u001b[39mpop(n\u001b[39m.\u001b[39mindex(m[i]))        \n\u001b[1;32m      <a href='vscode-notebook-cell:/Users/sig6774/CodingTest/Coding_Test_220731.ipynb#ch0000036?line=4'>5</a>\u001b[0m         \u001b[39m# +연산자 pop \u001b[39;00m\n",
      "\u001b[0;31mIndexError\u001b[0m: list index out of range"
     ]
    }
   ],
   "source": [
    "res = 0 \n",
    "for i in range(len(n)):\n",
    "    if n[i] == \"+\":\n",
    "        n.pop(n.index(m[i]))        \n",
    "        # +연산자 pop \n",
    "\n",
    "        a = n.pop(n.index(m[i-2]))\n",
    "        b = n.pop(n.index(m[i-1]))\n",
    "        c = int(a)+int(b)\n",
    "        n.insert(i-2,c )\n",
    "print(n)"
   ]
  },
  {
   "cell_type": "code",
   "execution_count": 109,
   "metadata": {},
   "outputs": [
    {
     "data": {
      "text/plain": [
       "['3', 7, '*', '9', '-']"
      ]
     },
     "execution_count": 109,
     "metadata": {},
     "output_type": "execute_result"
    }
   ],
   "source": [
    "print(n)\n",
    "# 이렇게 작성하면 에러 발생 "
   ]
  },
  {
   "cell_type": "code",
   "execution_count": 2,
   "metadata": {},
   "outputs": [
    {
     "name": "stdout",
     "output_type": "stream",
     "text": [
      "['3', '5', '2', '+', '*', '9', '-']\n"
     ]
    }
   ],
   "source": [
    "m = input()\n",
    "n = [] \n",
    "for i in m:\n",
    "    n.append(i)\n",
    "print(n)"
   ]
  },
  {
   "cell_type": "code",
   "execution_count": 141,
   "metadata": {},
   "outputs": [
    {
     "name": "stdout",
     "output_type": "stream",
     "text": [
      "[3, 7]\n",
      "[21]\n",
      "[21, 9]\n"
     ]
    }
   ],
   "source": [
    "# 값을 저장할 공간 만들기 \n",
    "# 거기에 숫자를 넣고 연산자가 있을 때 마다 값을 꺼내서 연산 후 다시 넣어주는 것을 반복 \n",
    "stack = [] \n",
    "for i in n:\n",
    "    if i.isdecimal():\n",
    "        stack.append(int(i))\n",
    "    elif i == \"+\":\n",
    "        # print(i)\n",
    "        res = 0 \n",
    "        for i in range(len(stack[-2:])):\n",
    "            res += int(stack.pop())\n",
    "        stack.append(res)\n",
    "        print(stack)\n",
    "    elif i == \"*\":\n",
    "        res = 1 \n",
    "        for i in range(len(stack[-2:])):\n",
    "            res *= stack.pop()\n",
    "        stack.append(res)\n",
    "        print(stack)\n",
    "# 이거 아닌것 같음 \n",
    "\n"
   ]
  },
  {
   "cell_type": "code",
   "execution_count": null,
   "metadata": {},
   "outputs": [],
   "source": [
    "# 3,5,2에서 +를 만나면 앞에 2개와 + 해줌 \n",
    "# 3,7에서 *를 만나면 앞에 2개와 * \n",
    "# 21,9에서 -를 만나면 앞에 2개와 - "
   ]
  },
  {
   "cell_type": "code",
   "execution_count": 19,
   "metadata": {},
   "outputs": [
    {
     "name": "stdout",
     "output_type": "stream",
     "text": [
      "['3', '5', '2', '+', '*', '9', '-']\n"
     ]
    }
   ],
   "source": [
    "m = input()\n",
    "n = [] \n",
    "for i in m:\n",
    "    n.append(i)\n",
    "print(n)"
   ]
  },
  {
   "cell_type": "code",
   "execution_count": 20,
   "metadata": {},
   "outputs": [
    {
     "name": "stdout",
     "output_type": "stream",
     "text": [
      "[3, 7]\n",
      "[21]\n",
      "12\n"
     ]
    }
   ],
   "source": [
    "# 값을 저장할 공간 만들기 \n",
    "# 거기에 숫자를 넣고 연산자가 있을 때 마다 값을 꺼내서 연산 후 다시 넣어주는 것을 반복 \n",
    "stack = [] \n",
    "for i in n:\n",
    "    if i.isdecimal():\n",
    "        stack.append(int(i))\n",
    "    elif i == \"+\":\n",
    "        # print(i)\n",
    "        res = 0 \n",
    "        for i in stack[-2:]:\n",
    "            res += i\n",
    "            stack.pop() \n",
    "\n",
    "        stack.append(res)\n",
    "        print(stack)\n",
    "    elif i == \"*\":\n",
    "        res = 1 \n",
    "        for i in stack[-2:]:\n",
    "            res *= i \n",
    "            stack.pop()\n",
    "        stack.append(res)\n",
    "        print(stack)\n",
    "    elif i == \"-\":\n",
    "        res = stack[0]\n",
    "        res -= stack[-1]\n",
    "        stack.pop()\n",
    "        stack.pop()\n",
    "            \n",
    "        stack.append(res)\n",
    "    else:\n",
    "        res = stack[0]\n",
    "        res /= stack[-1]\n",
    "        stack.pop()\n",
    "        stack.pop()\n",
    "\n",
    "        stack.append(res)\n",
    "# 다른 예제를 만족 못할 것으로 예상\n",
    "\n",
    "for i in stack:\n",
    "    print(i)"
   ]
  },
  {
   "cell_type": "markdown",
   "metadata": {},
   "source": [
    "### 참고풀이"
   ]
  },
  {
   "cell_type": "code",
   "execution_count": 12,
   "metadata": {},
   "outputs": [],
   "source": [
    "# 숫자면 넣어주고 연산자를 만나면 앞에 2개를 빼주고 연산 진행 \n",
    "# 연산 진행 결과를 다시 push \n",
    "# 위의 과정을 반복 "
   ]
  },
  {
   "cell_type": "code",
   "execution_count": 21,
   "metadata": {},
   "outputs": [
    {
     "name": "stdout",
     "output_type": "stream",
     "text": [
      "[12]\n"
     ]
    }
   ],
   "source": [
    "a = input()\n",
    "stack = [] \n",
    "for x in a:\n",
    "    if x.isdecimal():\n",
    "        stack.append(int(x))\n",
    "    else:\n",
    "        if x == \"+\":\n",
    "            n1 = stack.pop()\n",
    "            n2 = stack.pop()\n",
    "            # 2개를 꺼냄 \n",
    "            stack.append(n2 + n1 )\n",
    "        elif x == \"-\":\n",
    "            n1 = stack.pop()\n",
    "            n2 = stack.pop()\n",
    "            # 2개를 꺼냄 \n",
    "            stack.append(n2 - n1 )\n",
    "        elif x == \"*\":\n",
    "            n1 = stack.pop()\n",
    "            n2 = stack.pop()\n",
    "            # 2개를 꺼냄 \n",
    "            stack.append(n2 * n1 )\n",
    "        else:\n",
    "            n1 = stack.pop()\n",
    "            n2 = stack.pop()\n",
    "            # 2개를 꺼냄 \n",
    "            stack.append(n2 / n1 )\n",
    "print(stack)\n",
    "# 나는 2개를 무조건 꺼내야한다고 생각해서 -슬라이싱과 반복문을 활용해서 진행 \n",
    "# 너무 복잡하게 생각했다... "
   ]
  },
  {
   "cell_type": "code",
   "execution_count": null,
   "metadata": {},
   "outputs": [],
   "source": []
  }
 ],
 "metadata": {
  "kernelspec": {
   "display_name": "Python 3.9.12 ('base')",
   "language": "python",
   "name": "python3"
  },
  "language_info": {
   "codemirror_mode": {
    "name": "ipython",
    "version": 3
   },
   "file_extension": ".py",
   "mimetype": "text/x-python",
   "name": "python",
   "nbconvert_exporter": "python",
   "pygments_lexer": "ipython3",
   "version": "3.9.12"
  },
  "orig_nbformat": 4,
  "vscode": {
   "interpreter": {
    "hash": "4e56095587f6faaee8b6fe269bd4758f04d4dcfca17a97e0204e5c06e32115c1"
   }
  }
 },
 "nbformat": 4,
 "nbformat_minor": 2
}
