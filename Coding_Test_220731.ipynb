{
 "cells": [
  {
   "cell_type": "markdown",
   "metadata": {},
   "source": [
    "## 가장 큰 수\n",
    "- 선생님은 현수에게 숫자 하나를 주고, 해당 숫자의 자릿수들 중 m개의 숫자를 제거하 여 가장 큰 수를 만들라고 했습니다. \n",
    "- 여러분이 현수를 도와주세요.(단 숫자의 순서는 유지해야 합니다)\n",
    "- 만약 5276823 이 주어지고 3개의 자릿수를 제거한다면\n",
    "7823이 가장 큰 숫자가 됩니다.\n",
    "\n"
   ]
  },
  {
   "cell_type": "code",
   "execution_count": 1,
   "metadata": {},
   "outputs": [],
   "source": [
    "# 현재 자리의 수가 앞의 자리 수보다 작으면 삭제 \n",
    "# 만약 5276823이면 5는 앞에 자리가 없으니깐 5가 들어가게 됨 \n",
    "# 그렇다면 7이 5보다 크니 삭제하는 조건을 주게 되면 8은 7보다 크니깐 \n",
    "# 7도 삭제될 것 같은데 ... \n",
    "# 잘모르겠음 "
   ]
  },
  {
   "cell_type": "code",
   "execution_count": null,
   "metadata": {},
   "outputs": [],
   "source": [
    "# 현재 자리 수가 앞의 자리 수보다 작으면 삭제 \n",
    "# 위의 과정을 입력받은 횟수만큼 진행하고 횟수가 끝났으면 남은 수 그대로 출력 \n"
   ]
  },
  {
   "cell_type": "code",
   "execution_count": 2,
   "metadata": {},
   "outputs": [],
   "source": [
    "n,m = map(int, input().split())\n"
   ]
  },
  {
   "cell_type": "code",
   "execution_count": 3,
   "metadata": {},
   "outputs": [
    {
     "name": "stdout",
     "output_type": "stream",
     "text": [
      "5276823 3\n"
     ]
    }
   ],
   "source": [
    "print(n,m)"
   ]
  },
  {
   "cell_type": "code",
   "execution_count": 7,
   "metadata": {},
   "outputs": [
    {
     "name": "stdout",
     "output_type": "stream",
     "text": [
      "[5, 2, 7, 6, 8, 2, 3]\n"
     ]
    }
   ],
   "source": [
    "li = []\n",
    "for i in str(n):\n",
    "    li.append(int(i))\n",
    "print(li)"
   ]
  },
  {
   "cell_type": "code",
   "execution_count": 25,
   "metadata": {},
   "outputs": [
    {
     "name": "stdout",
     "output_type": "stream",
     "text": [
      "[5]\n",
      "3\n",
      "[5]\n",
      "2\n",
      "[5, 6]\n",
      "2\n",
      "[6, 8]\n",
      "1\n",
      "[8]\n"
     ]
    }
   ],
   "source": [
    "s = 0 \n",
    "ex = [] \n",
    "cnt = m \n",
    "\n",
    "\n",
    "for i in li:\n",
    "    if cnt > 0:\n",
    "        if s < i:\n",
    "            ex.append(i)\n",
    "            s = i \n",
    "        else:\n",
    "            cnt -= 1 \n",
    "            li.pop(li.index(i))\n",
    "        print(ex)\n",
    "        print(cnt)\n",
    "    for j in ex: \n",
    "        if s > j:\n",
    "            ex.pop(ex.index(j))\n",
    "            cnt -= 1 \n",
    "        \n",
    "print(ex)\n",
    "# 못풀겠음 "
   ]
  },
  {
   "cell_type": "markdown",
   "metadata": {},
   "source": [
    "### 참고풀이"
   ]
  },
  {
   "cell_type": "code",
   "execution_count": 28,
   "metadata": {},
   "outputs": [
    {
     "data": {
      "text/plain": [
       "'\\n스택\\n- last in first out \\n- 입구와 출구가 한곳임 \\n- 파이썬에서는 리스트가 스택 \\n'"
      ]
     },
     "execution_count": 28,
     "metadata": {},
     "output_type": "execute_result"
    }
   ],
   "source": [
    "'''\n",
    "스택\n",
    "- last in first out \n",
    "- 입구와 출구가 한곳임 \n",
    "- 파이썬에서는 리스트가 스택 \n",
    "'''"
   ]
  },
  {
   "cell_type": "code",
   "execution_count": 41,
   "metadata": {},
   "outputs": [],
   "source": [
    "num,m = map(int, input().split())"
   ]
  },
  {
   "cell_type": "code",
   "execution_count": 42,
   "metadata": {},
   "outputs": [],
   "source": [
    "num = list(map(int, str(num)))\n",
    "# 입력받은 수를 하나씩 잘라서 리스트에 저장 "
   ]
  },
  {
   "cell_type": "code",
   "execution_count": 43,
   "metadata": {},
   "outputs": [
    {
     "name": "stdout",
     "output_type": "stream",
     "text": [
      "[5, 2, 7, 6, 8, 2, 3]\n"
     ]
    }
   ],
   "source": [
    "print(num)"
   ]
  },
  {
   "cell_type": "code",
   "execution_count": 44,
   "metadata": {},
   "outputs": [
    {
     "name": "stdout",
     "output_type": "stream",
     "text": [
      "7823\n"
     ]
    }
   ],
   "source": [
    "stack = [] \n",
    "\n",
    "for x in num:\n",
    "    while stack and m > 0 and stack[-1] < x:\n",
    "        # stack이 비어있으면 False \n",
    "        # m이 0초과이고 stack의 마지막 값이 num의 요소보다 작을 때 \n",
    "        # 현재의 수가 이전 수가 들어있는 stack의 마지막 수보다 더 크다면 <- 핵심 \n",
    "        stack.pop() \n",
    "        m -= 1 \n",
    "        # while의 조건이 True일 때 \n",
    "\n",
    "    stack.append(x)\n",
    "\n",
    "if m != 0:\n",
    "    stack = stack[:-m]\n",
    "# 지워야하는 개수가 남아있을 가능성이 있으므로 \n",
    "\n",
    "\n",
    "res = ''.join(map(str, stack))\n",
    "print(res)\n",
    "\n",
    "# while 조건을 여러개 줘서 한번에 끝냈네\n",
    "# 만약 stack이 비어있지 않고 제거할 수 있는 count의 개수가 남아있고 \n",
    "# stack의 마지막 수가 현재 수보다 작다면 그건 stack에서 빼주고 제거할 수 있는 \n",
    "# count도 빼주면 됨 "
   ]
  },
  {
   "cell_type": "markdown",
   "metadata": {},
   "source": [
    "## 쇠막대기 \n",
    "- 여러 개의 쇠막대기를 레이저로 절단하려고 한다. 효율적인 작업을 위해서 쇠막대기를 아래에 서 위로 겹쳐 놓고, 레이저를 위에서 수직으로 발사하여 쇠막대기들을 자른다. \n",
    "- 쇠막대기와 레 이저의 배치는 다음 조건을 만족한다.\n",
    "- 쇠막대기는 자신보다 긴 쇠막대기 위에만 놓일 수 있다. - 쇠막대기를 다른 쇠막대기 위에 놓는 경우 완전히 포함되도록 놓되, 끝점은 겹치지 않도록 놓는다.\n",
    "- 각 쇠막대기를 자르는 레이저는 적어도 하나 존재한다.\n",
    "- 레이저는 어떤 쇠막대기의 양 끝점과도 겹치지 않는다.\n",
    "- 아래 그림은 위 조건을 만족하는 예를 보여준다. 수평으로 그려진 굵은 실선은 쇠막대기이고, 점은 레이저의 위치, 수직으로 그려진 점선 화살표는 레이저의 발사 방향이다.\n",
    "\n",
    "- 이러한 레이저와 쇠막대기의 배치는 다음과 같이 괄호를 이용하여 왼쪽부터 순서대로 표현할 수 있다.\n",
    "- 1. 레이저는 여는 괄호와 닫는 괄호의 인접한 쌍 ‘( ) ’ 으로 표현된다. 또한, 모든 ‘( ) ’는 반 드시 레이저를 표현한다.\n",
    "- 2. 쇠막대기의 왼쪽 끝은 여는 괄호 ‘ ( ’ 로, 오른쪽 끝은 닫힌 괄호 ‘) ’ 로 표현된다.\n",
    "- 위 예의 괄호 표현은 그림 위에 주어져 있다.\n",
    "- 쇠막대기는 레이저에 의해 몇 개의 조각으로 잘려지는데, 위 예에서 가장 위에 있는 두 개의 쇠막대기는 각각 3개와 2개의 조각으로 잘려지고, 이와 같은 방식으로 주어진 쇠막대기들은 총 17개의 조각으로 잘려진다.\n",
    "- 쇠막대기와 레이저의 배치를 나타내는 괄호 표현이 주어졌을 때, 잘려진 쇠막대기 조각의 총 개수를 구하는 프로그램을 작성하시오."
   ]
  },
  {
   "cell_type": "code",
   "execution_count": null,
   "metadata": {},
   "outputs": [],
   "source": []
  },
  {
   "cell_type": "markdown",
   "metadata": {},
   "source": [
    "## 후위표기식 만들기 \n",
    "- 중위표기식이 입력되면 후위표기식으로 변환하는 프로그램을 작성하세요.\n",
    "중위표기식은 우리가 흔히 쓰은 표현식입니다. 즉 3+5 와 같이 연산자가 피연산자 사이에 있 으면 중위표기식입니다.\n",
    "- 후위표기식은 35+ 와 같이 연산자가 피연산자 뒤에 있는 표기식입니다.\n",
    "예를 들어 중위표기식이 3+5*2 를 후위표기식으로 표현하면 352*+ 로 표현됩니다.\n",
    "- 만약 다음과 같이 연산 최우선인 괄호가 표현된 식이라면\n",
    "(3+5)*2 이면 35+2* 로 바꾸어야 합니다.\n",
    "\n",
    "<hr>\n",
    "\n",
    "- 첫 줄에 중위표기식이 주어진다. 길이는 100을 넘지 않는다. 식은 1~9의 숫자와 +, -, *, /, (, ) 연산자로만 이루어진다."
   ]
  },
  {
   "cell_type": "code",
   "execution_count": 45,
   "metadata": {},
   "outputs": [],
   "source": [
    "m = input()"
   ]
  },
  {
   "cell_type": "code",
   "execution_count": 46,
   "metadata": {},
   "outputs": [
    {
     "data": {
      "text/plain": [
       "'3+5*2/(7-2)'"
      ]
     },
     "execution_count": 46,
     "metadata": {},
     "output_type": "execute_result"
    }
   ],
   "source": [
    "m"
   ]
  },
  {
   "cell_type": "code",
   "execution_count": 47,
   "metadata": {},
   "outputs": [
    {
     "name": "stdout",
     "output_type": "stream",
     "text": [
      "3\n",
      "+\n",
      "5\n",
      "*\n",
      "2\n",
      "/\n",
      "(\n",
      "7\n",
      "-\n",
      "2\n",
      ")\n"
     ]
    }
   ],
   "source": [
    "for i in m:\n",
    "    print(i)"
   ]
  },
  {
   "cell_type": "code",
   "execution_count": null,
   "metadata": {},
   "outputs": [],
   "source": []
  }
 ],
 "metadata": {
  "kernelspec": {
   "display_name": "Python 3.9.1 64-bit ('3.9.1')",
   "language": "python",
   "name": "python3"
  },
  "language_info": {
   "codemirror_mode": {
    "name": "ipython",
    "version": 3
   },
   "file_extension": ".py",
   "mimetype": "text/x-python",
   "name": "python",
   "nbconvert_exporter": "python",
   "pygments_lexer": "ipython3",
   "version": "3.9.1"
  },
  "orig_nbformat": 4,
  "vscode": {
   "interpreter": {
    "hash": "b29909ae39fc17549a84839997d927dda790dc9d9d25402f3e010c02e8c51a82"
   }
  }
 },
 "nbformat": 4,
 "nbformat_minor": 2
}
