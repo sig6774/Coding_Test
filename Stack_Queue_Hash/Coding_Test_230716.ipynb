{
 "cells": [
  {
   "attachments": {},
   "cell_type": "markdown",
   "metadata": {},
   "source": [
    "## 응급실 \n",
    "- 메디컬 병원 응급실에는 의사가 한 명밖에 없습니다.\n",
    "- 응급실은 환자가 도착한 순서대로 진료를 합니다. 하지만 위험도가 높은 환자는 빨리 응급조 치를 의사가 해야 합니다. \n",
    "- 이런 문제를 보완하기 위해 응급실은 다음과 같은 방법으로 환자의 진료순서를 정합니다.\n",
    "    - 환자가 접수한 순서대로의 목록에서 제일 앞에 있는 환자목록을 꺼냅니다.\n",
    "    - 나머지 대기 목록에서 꺼낸 환자 보다 위험도가 높은 환자가 존재하면 대기목록 제일 뒤로다시 넣습니다. 그렇지 않으면 진료를 받습니다.\n",
    "- 현재 N명의 환자가 대기목록에 있습니다.\n",
    "- N명의 대기목록 순서의 환자 위험도가 주어지면, 대기목록상의 M번째 환자는 몇 번째로 진료 를 받는지 출력하는 프로그램을 작성하세요.\n",
    "- 대기목록상의 M번째는 대기목록의 제일 처음 환자를 0번째로 간주하여 표현한 것입니다.\n",
    "\n",
    "- 입력설명\n",
    "    - 첫 줄에 자연수 N(5<=N<=100)과 M(0<=M<N) 주어집니다.\n",
    "    - 두 번째 줄에 접수한 순서대로 환자의 위험도(50<=위험도<=100)가 주어집니다.\n",
    "    - 위험도는 값이 높을 수록 더 위험하다는 뜻입니다. 같은 값의 위험도가 존재할 수 있습니다.\n",
    "- 출력설명\n",
    "    - M번째 환자의 몇 번째로 진료받는지 출력하세요."
   ]
  },
  {
   "cell_type": "code",
   "execution_count": null,
   "metadata": {},
   "outputs": [],
   "source": [
    "'''\n",
    "1. M번째 위험도를 저장할 임시 변수 선언 \n",
    "2. 조건 진행 \n",
    "    2.1 만약 현재 값보다 뒤의 값이 큰 것이 있다면 첫번째 값을 맨뒤로 이동 \n",
    "    2.2 만약 현재 값보다 뒤의 값이 큰 것이 없다면 임시변수와 비교 및 count 진행\n",
    "        2.2.1 비교했을 때 임시변수와 같다면 count 출력 \n",
    "        2.2.2 비교했을 때 임시변수와 같지 않다면 그대로 리스트에서 제거 \n",
    "\n",
    "'''"
   ]
  },
  {
   "cell_type": "code",
   "execution_count": 80,
   "metadata": {},
   "outputs": [],
   "source": [
    "N, M = map(int, input().split())\n",
    "l = [(pos, val) for pos, val in enumerate(list(map(int, input().split())))]\n"
   ]
  },
  {
   "cell_type": "code",
   "execution_count": 105,
   "metadata": {},
   "outputs": [
    {
     "name": "stdout",
     "output_type": "stream",
     "text": [
      "5 2 [(0, 60), (1, 50), (2, 70), (3, 80), (4, 90)]\n"
     ]
    }
   ],
   "source": [
    "print(N,M,l)"
   ]
  },
  {
   "cell_type": "code",
   "execution_count": 119,
   "metadata": {},
   "outputs": [
    {
     "data": {
      "text/plain": [
       "deque([(0, 60), (1, 50), (2, 70), (3, 80), (4, 90)])"
      ]
     },
     "execution_count": 119,
     "metadata": {},
     "output_type": "execute_result"
    }
   ],
   "source": [
    "from collections import deque\n",
    "\n",
    "li = deque(l)\n",
    "li"
   ]
  },
  {
   "cell_type": "code",
   "execution_count": 107,
   "metadata": {},
   "outputs": [
    {
     "ename": "RuntimeError",
     "evalue": "deque mutated during iteration",
     "output_type": "error",
     "traceback": [
      "\u001b[0;31m---------------------------------------------------------------------------\u001b[0m",
      "\u001b[0;31mRuntimeError\u001b[0m                              Traceback (most recent call last)",
      "\u001b[1;32m/Users/sig6774/CodingTest/Stack_Queue_Hash/Coding_Test_230716.ipynb 셀 6\u001b[0m in \u001b[0;36m<cell line: 11>\u001b[0;34m()\u001b[0m\n\u001b[1;32m      <a href='vscode-notebook-cell:/Users/sig6774/CodingTest/Stack_Queue_Hash/Coding_Test_230716.ipynb#W5sZmlsZQ%3D%3D?line=8'>9</a>\u001b[0m \u001b[39mwhile\u001b[39;00m \u001b[39mTrue\u001b[39;00m:\n\u001b[1;32m     <a href='vscode-notebook-cell:/Users/sig6774/CodingTest/Stack_Queue_Hash/Coding_Test_230716.ipynb#W5sZmlsZQ%3D%3D?line=9'>10</a>\u001b[0m     \u001b[39m# print(li)\u001b[39;00m\n\u001b[1;32m     <a href='vscode-notebook-cell:/Users/sig6774/CodingTest/Stack_Queue_Hash/Coding_Test_230716.ipynb#W5sZmlsZQ%3D%3D?line=10'>11</a>\u001b[0m     a \u001b[39m=\u001b[39m li\u001b[39m.\u001b[39mpopleft()\n\u001b[0;32m---> <a href='vscode-notebook-cell:/Users/sig6774/CodingTest/Stack_Queue_Hash/Coding_Test_230716.ipynb#W5sZmlsZQ%3D%3D?line=12'>13</a>\u001b[0m     \u001b[39mfor\u001b[39;00m i \u001b[39min\u001b[39;00m li:\n\u001b[1;32m     <a href='vscode-notebook-cell:/Users/sig6774/CodingTest/Stack_Queue_Hash/Coding_Test_230716.ipynb#W5sZmlsZQ%3D%3D?line=13'>14</a>\u001b[0m         \u001b[39mif\u001b[39;00m i[\u001b[39m1\u001b[39m] \u001b[39m>\u001b[39m a[\u001b[39m1\u001b[39m]:\n\u001b[1;32m     <a href='vscode-notebook-cell:/Users/sig6774/CodingTest/Stack_Queue_Hash/Coding_Test_230716.ipynb#W5sZmlsZQ%3D%3D?line=14'>15</a>\u001b[0m             li\u001b[39m.\u001b[39mappend(a)\n",
      "\u001b[0;31mRuntimeError\u001b[0m: deque mutated during iteration"
     ]
    }
   ],
   "source": [
    "from collections import deque\n",
    "\n",
    "li = deque(l)\n",
    "\n",
    "# 임시변수 선언 \n",
    "temp_val = li[M][0]\n",
    "\n",
    "cnt = 0 \n",
    "while True:\n",
    "    # print(li)\n",
    "    a = li.popleft()\n",
    "    \n",
    "    for i in li:\n",
    "        if i[1] > a[1]:\n",
    "            li.append(a)\n",
    "        else:\n",
    "            cnt += 1\n",
    "            if i[0] == temp_val:\n",
    "                break\n",
    "# 맞는것 같은데... "
   ]
  },
  {
   "cell_type": "code",
   "execution_count": 120,
   "metadata": {},
   "outputs": [],
   "source": [
    "from collections import deque\n",
    "\n",
    "li = deque(l)\n",
    "\n",
    "# 임시변수 선언 \n",
    "temp_val = li[M][0]\n",
    "\n",
    "cnt = 0 \n",
    "while True:\n",
    "    a = li.popleft()\n",
    "    # 위에서 에러가 난 이유는 반복문 돌릴 때 list의 크기가 자꾸 변해서 그런 에러를 뱉어내는 것 같음 \n",
    "    if any(a[1] < i[1] for i in li):\n",
    "        li.append(a)\n",
    "\n",
    "    else:\n",
    "        cnt += 1\n",
    "        \n",
    "        if a[0] == M:\n",
    "            break\n",
    "# 맞는것 같은데... "
   ]
  },
  {
   "cell_type": "code",
   "execution_count": 121,
   "metadata": {},
   "outputs": [
    {
     "data": {
      "text/plain": [
       "3"
      ]
     },
     "execution_count": 121,
     "metadata": {},
     "output_type": "execute_result"
    }
   ],
   "source": [
    "cnt"
   ]
  },
  {
   "cell_type": "code",
   "execution_count": null,
   "metadata": {},
   "outputs": [],
   "source": []
  }
 ],
 "metadata": {
  "kernelspec": {
   "display_name": "Python 3",
   "language": "python",
   "name": "python3"
  },
  "language_info": {
   "codemirror_mode": {
    "name": "ipython",
    "version": 3
   },
   "file_extension": ".py",
   "mimetype": "text/x-python",
   "name": "python",
   "nbconvert_exporter": "python",
   "pygments_lexer": "ipython3",
   "version": "3.9.1"
  },
  "orig_nbformat": 4
 },
 "nbformat": 4,
 "nbformat_minor": 2
}
