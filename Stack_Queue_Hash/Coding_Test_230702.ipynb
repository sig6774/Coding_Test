{
 "cells": [
  {
   "attachments": {},
   "cell_type": "markdown",
   "metadata": {},
   "source": [
    "## 가장 큰 수 \n",
    "- 선생님은 현수에게 숫자 하나를 주고, 해당 숫자의 자릿수들 중 m개의 숫자를 제거하여 가장 큰 수를 만들라고 했습니다. 여러분이 현수를 도와주세요.(단 숫자의 순서는 유지해야 합니다)\n",
    "- 만약 5276823 이 주어지고 3개의 자릿수를 제거한다면 7823이 가장 큰 숫자가 됩니다.\n",
    "- ▣ 입력설명\n",
    "    - 첫째 줄에 숫자(길이는 1000을 넘지 않습니다)와 제가해야할 자릿수의 개수가 주어집니다.\n",
    "- ▣ 출력설명\n",
    "    - 가장 큰 수를 출력합니다.\n",
    "- ▣ 입력예제 1 \n",
    "    - 5276823 3\n",
    "- ▣ 출력예제 1 \n",
    "    - 7823"
   ]
  },
  {
   "cell_type": "code",
   "execution_count": 39,
   "metadata": {},
   "outputs": [
    {
     "name": "stdout",
     "output_type": "stream",
     "text": [
      "5276823 3\n"
     ]
    }
   ],
   "source": [
    "m,n = input().split()\n",
    "print(m,n)"
   ]
  },
  {
   "cell_type": "code",
   "execution_count": 12,
   "metadata": {},
   "outputs": [
    {
     "data": {
      "text/plain": [
       "7"
      ]
     },
     "execution_count": 12,
     "metadata": {},
     "output_type": "execute_result"
    }
   ],
   "source": [
    "'''\n",
    "1. 처음 들어오는 숫자 일단 넣기 \n",
    "2. 현재 자리와 뒤의 자리의 값을 비교하는 로직 구현 \n",
    "    2.1 만약 현재 자리가 뒤의 자리보다 크다면 뒤의 자리 삭제하고 count -1 \n",
    "3. count가 0이 될 때까지 진행 \n",
    "'''"
   ]
  },
  {
   "cell_type": "code",
   "execution_count": 29,
   "metadata": {},
   "outputs": [
    {
     "name": "stdout",
     "output_type": "stream",
     "text": [
      "deque([2, 3, 4, 5])\n"
     ]
    }
   ],
   "source": [
    "from collections import deque\n",
    "a = [1,2,3,4,5]\n",
    "a = deque(a)\n",
    "\n",
    "c,d = a.pop(), a.popleft()\n",
    "if c > d:\n",
    "    a.append(c)\n",
    "print(a)"
   ]
  },
  {
   "cell_type": "code",
   "execution_count": 40,
   "metadata": {},
   "outputs": [
    {
     "name": "stdout",
     "output_type": "stream",
     "text": [
      "[7, 8, 2, 3]\n",
      "7823\n"
     ]
    }
   ],
   "source": [
    "a = [] \n",
    "# a = deque(a)\n",
    "cnt = int(n)\n",
    "for i in m:\n",
    "    a.append(int(i))\n",
    "    if len(a) >= 2 and cnt > 0:\n",
    "        for j in a:\n",
    "            if a[-1] < a[-2]:\n",
    "                a.pop()\n",
    "                cnt -= 1\n",
    "            elif a[-1] > a[-2]:\n",
    "                del a[0]\n",
    "                cnt -=1\n",
    "print(a)\n",
    "# 다시 문자열로 변환\n",
    "a_str = list(map(str, a)) \n",
    "\n",
    "print(''.join(a_str))\n",
    "# 위 코드로는 풀 수 없음 (특정 예제에서만 통과되는 풀이방식)\n",
    "# 비교할 기준이 있어야하는데 그걸 찾는 풀이방식이 떠오르지 않음..."
   ]
  },
  {
   "cell_type": "code",
   "execution_count": 41,
   "metadata": {},
   "outputs": [
    {
     "name": "stdout",
     "output_type": "stream",
     "text": [
      "9977252641 5\n"
     ]
    }
   ],
   "source": [
    "m,n = input().split()\n",
    "print(m,n)"
   ]
  },
  {
   "attachments": {},
   "cell_type": "markdown",
   "metadata": {},
   "source": [
    "### 추천 풀이"
   ]
  },
  {
   "cell_type": "code",
   "execution_count": 43,
   "metadata": {},
   "outputs": [
    {
     "name": "stdout",
     "output_type": "stream",
     "text": [
      "99776\n"
     ]
    }
   ],
   "source": [
    "import sys\n",
    "num, m=map(int, input().split())\n",
    "num=list(map(int, str(num)))\n",
    "stack=[]\n",
    "for x in num:\n",
    "    # key는 stack[-1] < x 연산 \n",
    "    while stack and m>0 and stack[-1]<x:\n",
    "        stack.pop()\n",
    "        m-=1\n",
    "    stack.append(x)\n",
    "if m!=0:\n",
    "    stack=stack[:-m]\n",
    "res=''.join(map(str, stack))\n",
    "print(res)\n",
    "'''\n",
    "이렇게 풀면 지속적으로 값은 들어가는데 계속 비교를 통해서 값을 빼나가네 \n",
    "'''"
   ]
  },
  {
   "attachments": {},
   "cell_type": "markdown",
   "metadata": {},
   "source": [
    "## 공주 구하기(큐 자료구조로 해결)\n",
    "- 정보 왕국의 이웃 나라 외동딸 공주가 숲속의 괴물에게 잡혀갔습니다.\n",
    "- 정보 왕국에는 왕자가 N명이 있는데 서로 공주를 구하러 가겠다고 합니다. 정보왕국의 왕은 다음과 같은 방법으로 공주를 구하러 갈 왕자를 결정하기로 했습니다.\n",
    "- 왕은 왕자들을 나이 순으로 1번부터 N번까지 차례로 번호를 매긴다. 그리고 1번 왕자부터 N 번 왕자까지 순서대로 시계 방향으로 돌아가며 동그랗게 앉게 한다. 그리고 1번 왕자부터 시 계방향으로 돌아가며 1부터 시작하여 번호를 외치게 한다. 한 왕자가 K(특정숫자)를 외치면 그 왕자는 공주를 구하러 가는데서 제외되고 원 밖으로 나오게 된다. 그리고 다음 왕자부터 다시 1부터 시작하여 번호를 외친다.\n",
    "- 이렇게 해서 마지막까지 남은 왕자가 공주를 구하러 갈 수 있다.\n",
    "- 예를 들어 총 8명의 왕자가 있고, 3을 외친 왕자가 제외된다고 하자. 처음에는 3번 왕자가 3 을 외쳐 제외된다. 이어 6, 1, 5, 2, 8, 4번 왕자가 차례대로 제외되고 마지막까지 남게 된 7 번 왕자에게 공주를 구하러갑니다.\n",
    "- N과 K가 주어질 때 공주를 구하러 갈 왕자의 번호를 출력하는 프로그램을 작성하시오.\n",
    "- ▣ 입력설명\n",
    "    - 첫 줄에 자연수 N(5<=N<=1,000)과 K(2<=K<=9)가 주어진다.\n",
    "- ▣ 출력설명\n",
    "    - 첫 줄에 마지막 남은 왕자의 번호를 출력합니다.\n",
    "- ▣ 입력예제 1 \n",
    "    - 8,3\n",
    "- ▣ 출력예제 1 \n",
    "    - 7"
   ]
  },
  {
   "cell_type": "code",
   "execution_count": 1,
   "metadata": {},
   "outputs": [
    {
     "data": {
      "text/plain": [
       "'\\n\\n'"
      ]
     },
     "execution_count": 1,
     "metadata": {},
     "output_type": "execute_result"
    }
   ],
   "source": [
    "'''\n",
    "1. 12345678\n",
    "2. 4567812\n",
    "3. 781245\n",
    "4. 24578\n",
    "5. 7824\n",
    "6. 478\n",
    "7. 474\n",
    "8. 7\n",
    "\n",
    "1. 뒤에 값을 앞으로 넣어주면서 반복 \n",
    "2. 만약 cnt == 3이라면 해당 값은 넣어주지 않고 진행 \n",
    "\n",
    "\n",
    "'''"
   ]
  },
  {
   "cell_type": "code",
   "execution_count": null,
   "metadata": {},
   "outputs": [],
   "source": [
    "from collections import deque\n",
    "a = [1,2,3,4,5]\n",
    "a = deque(a)\n",
    "a.append(a.popleft())\n",
    "a"
   ]
  },
  {
   "cell_type": "code",
   "execution_count": 15,
   "metadata": {},
   "outputs": [
    {
     "name": "stdout",
     "output_type": "stream",
     "text": [
      "deque([7])\n"
     ]
    }
   ],
   "source": [
    "from collections import deque\n",
    "N, K = map(int, input().split())\n",
    "\n",
    "a = [] \n",
    "for i in range(1, N+1):\n",
    "    a.append(i)\n",
    "\n",
    "a = deque(a)\n",
    "\n",
    "cnt = 0\n",
    "while True:\n",
    "\n",
    "    if len(a)== 1:\n",
    "        break \n",
    "\n",
    "    if cnt == 3:\n",
    "        a.pop()\n",
    "        cnt = 0\n",
    "\n",
    "    else:\n",
    "        a.append(a.popleft())\n",
    "        cnt += 1 \n",
    "        # print(a)\n",
    "\n",
    "print(a)\n"
   ]
  },
  {
   "cell_type": "code",
   "execution_count": 22,
   "metadata": {},
   "outputs": [
    {
     "name": "stdout",
     "output_type": "stream",
     "text": [
      "deque([91])\n",
      "91\n"
     ]
    }
   ],
   "source": [
    "from collections import deque\n",
    "N, K = map(int, input().split())\n",
    "\n",
    "a = [] \n",
    "for i in range(1, N+1):\n",
    "    a.append(i)\n",
    "\n",
    "a = deque(a)\n",
    "\n",
    "cnt = 0\n",
    "while True:\n",
    "\n",
    "    if len(a)== 1:\n",
    "        break \n",
    "\n",
    "    if cnt == 3:\n",
    "        a.pop()\n",
    "        cnt = 0\n",
    "\n",
    "    else:\n",
    "        # 계속 값을 넣었다 빼줬다하면서 반복\n",
    "        a.append(a.popleft())\n",
    "        cnt += 1 \n",
    "        # print(a)\n",
    "\n",
    "print(a)\n",
    "print(a[0])\n",
    "# 이거 뭔가 느낌이 완벽한 정답은 아닌것 같은데 "
   ]
  },
  {
   "attachments": {},
   "cell_type": "markdown",
   "metadata": {},
   "source": [
    "### 추천 풀이"
   ]
  },
  {
   "cell_type": "code",
   "execution_count": 19,
   "metadata": {},
   "outputs": [
    {
     "name": "stdout",
     "output_type": "stream",
     "text": [
      "7\n"
     ]
    }
   ],
   "source": [
    "import sys\n",
    "from collections import deque\n",
    "n, k=map(int, input().split())\n",
    "q=list(range(1, n+1))\n",
    "dq=deque(q)\n",
    "while dq:\n",
    "    # 신박하네...\n",
    "    for _ in range(k-1):\n",
    "        cur=dq.popleft()\n",
    "        dq.append(cur)\n",
    "    dq.popleft()\n",
    "    if len(dq)==1:\n",
    "        print(dq[0])\n",
    "        dq.popleft()\n"
   ]
  },
  {
   "attachments": {},
   "cell_type": "markdown",
   "metadata": {},
   "source": [
    "## 올바른 괄호\n",
    "- 괄호가 바르게 짝지어졌다는 것은 '(' 문자로 열렸으면 반드시 짝지어서 ')' 문자로 닫혀야 한다는 뜻입니다. 예를 들어\"()()\" 또는 \"(())()\" 는 올바른 괄호입니다.\n",
    "- \")()(\" 또는 \"(()(\" 는 올바르지 않은 괄호입니다.\n",
    "- '(' 또는 ')' 로만 이루어진 문자열 s가 주어졌을 때, 문자열 s가 올바른 괄호이면 true를 return 하고, 올바르지 않은 괄호이면 false를 return 하는 solution 함수를 완성해 주세요.\n",
    "- 제한사항\n",
    "    - 문자열 s의 길이 : 100,000 이하의 자연수\n",
    "    - 문자열 s는 '(' 또는 ')' 로만 이루어져 있습니다.\n"
   ]
  },
  {
   "cell_type": "code",
   "execution_count": null,
   "metadata": {},
   "outputs": [],
   "source": [
    "'''\n",
    "1. 만약 처음 )를 만나게 되며 바로 False를 return 하도록 진행 \n",
    "\n",
    "'''"
   ]
  },
  {
   "cell_type": "code",
   "execution_count": 23,
   "metadata": {},
   "outputs": [
    {
     "data": {
      "text/plain": [
       "'()()'"
      ]
     },
     "execution_count": 23,
     "metadata": {},
     "output_type": "execute_result"
    }
   ],
   "source": [
    "s = input()\n",
    "s"
   ]
  },
  {
   "cell_type": "code",
   "execution_count": 41,
   "metadata": {},
   "outputs": [
    {
     "data": {
      "text/plain": [
       "['(', ')', '(', ')']"
      ]
     },
     "execution_count": 41,
     "metadata": {},
     "output_type": "execute_result"
    }
   ],
   "source": [
    "a = []\n",
    "for i in s:\n",
    "    a.append(i)\n",
    "a"
   ]
  },
  {
   "cell_type": "code",
   "execution_count": 44,
   "metadata": {},
   "outputs": [
    {
     "name": "stdout",
     "output_type": "stream",
     "text": [
      "0 (\n",
      "1 )\n",
      "2 (\n",
      "3 )\n"
     ]
    }
   ],
   "source": [
    "for k,v in enumerate(a):\n",
    "    print(k,v)"
   ]
  },
  {
   "cell_type": "code",
   "execution_count": 59,
   "metadata": {},
   "outputs": [
    {
     "name": "stdout",
     "output_type": "stream",
     "text": [
      "['(']\n",
      "['(', ')']\n",
      "2\n",
      "['(']\n",
      "['(', ')']\n",
      "2\n"
     ]
    }
   ],
   "source": [
    "b = [] \n",
    "for k,v in enumerate(a):\n",
    "    \n",
    "    b.append(v)\n",
    "\n",
    "    if \")\" == v and b[len(b)-2] == \"(\":\n",
    "\n",
    "        b.pop()\n",
    "        b.pop()\n",
    "\n",
    "\n"
   ]
  },
  {
   "cell_type": "code",
   "execution_count": 60,
   "metadata": {},
   "outputs": [
    {
     "data": {
      "text/plain": [
       "[]"
      ]
     },
     "execution_count": 60,
     "metadata": {},
     "output_type": "execute_result"
    }
   ],
   "source": [
    "b"
   ]
  },
  {
   "cell_type": "code",
   "execution_count": 65,
   "metadata": {},
   "outputs": [],
   "source": [
    "def solution(s):\n",
    "\n",
    "    answer = True\n",
    "    \n",
    "    a = [] \n",
    "    for i in s:\n",
    "        a.append(i)\n",
    "\n",
    "    if a[0] == \")\":\n",
    "        answer = False \n",
    "    \n",
    "    b = [] \n",
    "    for k,v in enumerate(a):\n",
    "        \n",
    "        b.append(v)\n",
    "\n",
    "        # 만약 )를 만나고 이전 요소가 (라면 pop을 2번 진행하여 삭제 \n",
    "        if \")\" == v and b[len(b)-2] == \"(\":\n",
    "\n",
    "            b.pop()\n",
    "            b.pop()\n",
    "\n",
    "\n",
    "    if len(b) != 0:\n",
    "        answer = False\n",
    "\n",
    "    return answer"
   ]
  },
  {
   "cell_type": "code",
   "execution_count": 66,
   "metadata": {},
   "outputs": [
    {
     "data": {
      "text/plain": [
       "False"
      ]
     },
     "execution_count": 66,
     "metadata": {},
     "output_type": "execute_result"
    }
   ],
   "source": [
    "solution(\")()\")"
   ]
  },
  {
   "attachments": {},
   "cell_type": "markdown",
   "metadata": {},
   "source": [
    "### 추천 풀이"
   ]
  },
  {
   "cell_type": "code",
   "execution_count": null,
   "metadata": {},
   "outputs": [],
   "source": [
    "def is_pair(s):\n",
    "    pair = 0\n",
    "    for x in s:\n",
    "        if pair < 0: break\n",
    "        pair = pair + 1 if x == \"(\" else pair - 1 if x == \")\" else pair\n",
    "    return pair == 0\n",
    "\n",
    "\n",
    "# 아래는 테스트로 출력해 보기 위한 코드입니다.\n",
    "print( is_pair(\"(hello)()\"))\n",
    "print( is_pair(\")(\"))\n"
   ]
  }
 ],
 "metadata": {
  "kernelspec": {
   "display_name": "Python 3",
   "language": "python",
   "name": "python3"
  },
  "language_info": {
   "codemirror_mode": {
    "name": "ipython",
    "version": 3
   },
   "file_extension": ".py",
   "mimetype": "text/x-python",
   "name": "python",
   "nbconvert_exporter": "python",
   "pygments_lexer": "ipython3",
   "version": "3.9.1"
  },
  "orig_nbformat": 4
 },
 "nbformat": 4,
 "nbformat_minor": 2
}
