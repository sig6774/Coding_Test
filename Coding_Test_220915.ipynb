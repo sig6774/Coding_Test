{
 "cells": [
  {
   "cell_type": "markdown",
   "metadata": {},
   "source": [
    "## 최대점수 구하기(DFS)\n",
    "- 이번 정보올림피아드대회에서 좋은 성적을 내기 위하여 현수는 선생님이 주신 N개의 문제를 풀려고 합니다. 각 문제는 그것을 풀었을 때 얻는 점수와 푸는데 걸리는 시간이 주어지게 됩 니다. \n",
    "- 제한시간 M안에 N개의 문제 중 최대점수를 얻을 수 있도록 해야 합니다. (해당문제는 해당시간이 걸리면 푸는 걸로 간주한다, 한 유형당 한개만 풀 수 있습니다.)\n",
    "\n",
    "<hr>\n",
    "\n",
    "- 첫 번째 줄에 문제의 개수N(1<=N<=20)과 제한 시간 M(10<=M<=300)이 주어집니다.\n",
    "- 두 번째 줄부터 N줄에 걸쳐 문제를 풀었을 때의 점수와 푸는데 걸리는 시간이 주어집니다."
   ]
  },
  {
   "cell_type": "code",
   "execution_count": 48,
   "metadata": {},
   "outputs": [],
   "source": [
    "def DFS(idx, num, time):\n",
    "    if idx == N:\n",
    "        if time <= M: \n",
    "            # 조건에 맞는 값만 리스트에 들어가도록 진행 \n",
    "            all_li.append(num)\n",
    "    \n",
    "    else:\n",
    "        # 넣을 떄 안 넣을 떄 구분 \n",
    "        DFS(idx+1, num+li[idx][0], time + li[idx][1])\n",
    "\n",
    "        DFS(idx+1, num, time)"
   ]
  },
  {
   "cell_type": "code",
   "execution_count": 49,
   "metadata": {},
   "outputs": [],
   "source": [
    "N, M = map(int, input().split())\n",
    "li = [] \n",
    "all_li = [] \n",
    "for i in range(N):\n",
    "    li.append(list(map(int, input().split())))"
   ]
  },
  {
   "cell_type": "code",
   "execution_count": 50,
   "metadata": {},
   "outputs": [
    {
     "data": {
      "text/plain": [
       "[[10, 5], [25, 12], [15, 8], [6, 3], [7, 4]]"
      ]
     },
     "execution_count": 50,
     "metadata": {},
     "output_type": "execute_result"
    }
   ],
   "source": [
    "li"
   ]
  },
  {
   "cell_type": "code",
   "execution_count": 51,
   "metadata": {},
   "outputs": [],
   "source": [
    "DFS(0,0,0)"
   ]
  },
  {
   "cell_type": "code",
   "execution_count": 52,
   "metadata": {},
   "outputs": [
    {
     "name": "stdout",
     "output_type": "stream",
     "text": [
      "41\n"
     ]
    }
   ],
   "source": [
    "print(max(all_li))\n",
    "# 맞는 것 같은데? "
   ]
  },
  {
   "cell_type": "markdown",
   "metadata": {},
   "source": [
    "### 참고 풀이"
   ]
  },
  {
   "cell_type": "code",
   "execution_count": 41,
   "metadata": {},
   "outputs": [
    {
     "data": {
      "text/plain": [
       "'\\n문제를 풀건지 말건지 정하고(부분집합) 특정 문제의 집합에서 \\n주어진 시간안에 모두 풀 수 있는지 구하고 풀 수 있다면 점수를 구함 \\n구한 점수에서 최대 점수를 도출 \\n'"
      ]
     },
     "execution_count": 41,
     "metadata": {},
     "output_type": "execute_result"
    }
   ],
   "source": [
    "'''\n",
    "문제를 풀건지 말건지 정하고(부분집합) 특정 문제의 집합에서 \n",
    "주어진 시간안에 모두 풀 수 있는지 구하고 풀 수 있다면 점수를 구함 \n",
    "구한 점수에서 최대 점수를 도출 \n",
    "'''"
   ]
  },
  {
   "cell_type": "code",
   "execution_count": 46,
   "metadata": {},
   "outputs": [],
   "source": [
    "def DFS(L, sum, time):\n",
    "    global res\n",
    "    if time > m:\n",
    "        # 시간 제약보다 크다면 그냥 종료 \n",
    "        return \n",
    "        \n",
    "    if L == n:\n",
    "        if sum > res:\n",
    "            res = sum \n",
    "    \n",
    "    else:\n",
    "        # L번째 문제를 푸느냐 풀지 않느냐 \n",
    "        DFS(L+1, sum+pv[L], time+pt[L])\n",
    "\n",
    "        DFS(L+1, sum, time)\n",
    "            "
   ]
  },
  {
   "cell_type": "code",
   "execution_count": 47,
   "metadata": {},
   "outputs": [
    {
     "name": "stdout",
     "output_type": "stream",
     "text": [
      "41\n"
     ]
    }
   ],
   "source": [
    "if __name__ == \"__main__\":\n",
    "    n, m = map(int, input().split())\n",
    "    pv = list()\n",
    "    # 문제 점수 \n",
    "    pt = list()\n",
    "    # 문제 푼 시간 \n",
    "\n",
    "    for i in range(n):\n",
    "        a, b = map(int, input().split())\n",
    "        pv.append(a)\n",
    "        pt.append(b)\n",
    "    res = -214700000\n",
    "    DFS(0,0,0)\n",
    "    print(res)"
   ]
  },
  {
   "cell_type": "markdown",
   "metadata": {},
   "source": [
    "## 휴가(삼성 SW역량평가 기출문제 : DFS활용)\n",
    "- 카운셀러로 일하고 있는 현수는 오늘부터 N+1일째 되는 날 휴가를 가기 위해서, 남은 N일 동 안 최대한 많은 상담을 해서 휴가비를 넉넉히 만들어 휴가를 떠나려 한다.\n",
    "- 현수가 다니는 회사에 하루에 하나씩 서로 다른 사람의 상담이 예약되어 있다.\n",
    "각각의 상담은 상담을 완료하는데 걸리는 날수 T와 상담을 했을 때 받을 수 있는 금액 P로 이 루어져 있다.\n",
    "\n",
    "- 만약 N = 7이고, 아래와 같이 예약이 잡혔있다면\n",
    "1일에 잡혀있는 상담은 총 4일이 걸리며, 상담했을 때 받을 수 있는 금액은 20이다. 만약 1일 에 예약된 상담을 하면 4일까지는 상담을 할 수가 없다.\n",
    "\n",
    "- 하나의 상담이 하루를 넘어가는 경우가 많기 때문에 현수는 예약된 모든 상담을 혼자 할 수 없어 최대 이익이 나는 상담 스케쥴을 짜기로 했다.\n",
    "- 휴가를 떠나기 전에 할 수 있는 상담의 최대 이익은 1일, 5일, 7일에 있는 상담을 하는 것이 며, 이때의 이익은 20+30+10=60이다.\n",
    "- 현수가 휴가를 가기 위해 얻을 수 있는 최대 수익을 구하는 프로그램을 작성하시오.\n",
    "\n",
    "<hr>\n",
    "\n",
    "- 첫째 줄에 N (1 ≤ N ≤ 15)이 주어진다.\n",
    "둘째 줄부터 1일부터 N일까지 순서대로 주어진다. (1 ≤ T ≤ 7, 1 ≤ P ≤ 100)\n",
    "- 첫째 줄에 현수가 얻을 수 있는 최대 이익을 출력한다.\n",
    "\n"
   ]
  },
  {
   "cell_type": "code",
   "execution_count": 53,
   "metadata": {},
   "outputs": [],
   "source": [
    "# 주어진 조건인 일 수에 맞는 것 중 최대의 값을 출력"
   ]
  },
  {
   "cell_type": "code",
   "execution_count": 80,
   "metadata": {},
   "outputs": [],
   "source": [
    "def DFS(idx, T, P):\n",
    "\n",
    "    global res \n",
    "    if T > N:\n",
    "        return \n",
    "    \n",
    "    if T <= N:\n",
    "        all_li.append(P)\n",
    "        if P > res:\n",
    "            \n",
    "            res = P\n",
    "    else:\n",
    "        DFS(idx+(li[idx][0]-1), T+li[idx][0], P+li[idx][1])\n",
    "\n",
    "        DFS(idx+1, T, P)"
   ]
  },
  {
   "cell_type": "code",
   "execution_count": 81,
   "metadata": {},
   "outputs": [],
   "source": [
    "N = int(input())\n",
    "li = [] \n",
    "all_li = [] \n",
    "for i in range(N):\n",
    "    li.append(list(map(int, input().split())))\n",
    "res = -214900000\n"
   ]
  },
  {
   "cell_type": "code",
   "execution_count": 82,
   "metadata": {},
   "outputs": [
    {
     "name": "stdout",
     "output_type": "stream",
     "text": [
      "0\n"
     ]
    }
   ],
   "source": [
    "DFS(0,0,0)\n",
    "print(res)\n",
    "# 안되네 "
   ]
  },
  {
   "cell_type": "markdown",
   "metadata": {},
   "source": [
    "### 참고 풀이"
   ]
  },
  {
   "cell_type": "code",
   "execution_count": 84,
   "metadata": {},
   "outputs": [
    {
     "data": {
      "text/plain": [
       "' \\n상담을 하느냐 하지 않느냐로 진행 \\n만약 1일에 상담을 하게 된다면 진행 후 5일로 이동 \\n만약 1일에 상담을 하지 않는다면 2일로 이동 \\n'"
      ]
     },
     "execution_count": 84,
     "metadata": {},
     "output_type": "execute_result"
    }
   ],
   "source": [
    "''' \n",
    "상담을 하느냐 하지 않느냐로 진행 \n",
    "만약 1일에 상담을 하게 된다면 진행 후 5일로 이동 \n",
    "만약 1일에 상담을 하지 않는다면 2일로 이동\n",
    "주어진 일 수 + 1이 제약 조건임 \n",
    "즉 일 수에 맞게 진행하면 됨 \n",
    "'''"
   ]
  },
  {
   "cell_type": "code",
   "execution_count": 87,
   "metadata": {},
   "outputs": [],
   "source": [
    "def DFS(L, sum):\n",
    "    global res \n",
    "\n",
    "    if L == n+1:\n",
    "        if sum > res:\n",
    "            res = sum \n",
    "\n",
    "    else:\n",
    "        if L+T[L] <= n+1:\n",
    "        # 현재 날짜와 앞으로 상담할 날짜가 n+1을 초과하면 안됨 \n",
    "        \n",
    "        # 상담을 할 때와 상담을 하지 않을 때 \n",
    "            DFS(L+T[L], sum+P[L])\n",
    "            # 다음 상담을 할 수 있는 날짜로 이동 \n",
    "\n",
    "        DFS(L+1, sum)\n",
    "    \n"
   ]
  },
  {
   "cell_type": "code",
   "execution_count": 88,
   "metadata": {},
   "outputs": [
    {
     "name": "stdout",
     "output_type": "stream",
     "text": [
      "60\n"
     ]
    }
   ],
   "source": [
    "if __name__ == \"__main__\":\n",
    "    n = int(input())\n",
    "    T = list()\n",
    "    P = list()\n",
    "\n",
    "    for i in range(n):\n",
    "        a,b = map(int, input().split())\n",
    "        T.append(a)\n",
    "        P.append(b)\n",
    "\n",
    "    res = -214700000\n",
    "    T.insert(0,0)\n",
    "    P.insert(0,0)\n",
    "    # 인덱스 번호를 날짜로 하기 위해 insert를 통해 각 값들을 한칸씩 뒤로 미뤘음 \n",
    "    \n",
    "    DFS(1,0)\n",
    "    print(res)"
   ]
  },
  {
   "cell_type": "markdown",
   "metadata": {},
   "source": [
    "## 양팔저울(DFS) 다시보기\n",
    "- 무게가 서로 다른 K개의 추와 빈 그릇이 있다. 모든 추의 무게는 정수이고, 그릇의 무게는 0 으로 간주한다. 양팔저울을 한 번만 이용하여 원하는 물의 무게를 그릇에 담고자 한다.\n",
    "- 주어진 모든 추 무게의 합을 S라 하자. 예를 들어, 추가 3개이고, 각 추의 무게가 {1, 2, 6}이 면, S=9이고, 양팔저울을 한 번만 이용하여 1부터 S사이에 대응되는 모든 무게의 물을 다음과 같이 그릇에 담을 수 있다. X는 그릇에 담는 물의 무게이고, ⎕은 그릇을 나타낸다.\n",
    "\n",
    "- 만약 추의 무게가 {1, 5, 7}이면 S=13이고, 그릇에 담을 수 있는 물의 무게는 {1, 2, 3, 4, 5, 6, 7, 8, 11, 12, 13}이고, 1부터 S사이에서 무게에서 9와 10에 대응하는 무게의 물을 담을 수 없다.\n",
    "K(3<=K<=13)개의 추 무게가 주어지면, 1부터 S사이의 정수 중 측정이 불가능한 물의 무게는 몇 가지가 있는 지 출력하는 프로그램을 작성하세요.\n",
    "\n",
    "<hr>\n",
    "\n",
    "- 첫 번째 줄에 자연수 K(3<=K<=13)이 주어집니다.\n",
    "두 번째 줄에 K개의 각 추의 무게가 공백을 사이에 두고 주어집니다. 각 추의 무게는 1부터 200,000까지이다.\n",
    "- 첫 번째 측정이 불가능한 가지수를 출력하세요."
   ]
  },
  {
   "cell_type": "code",
   "execution_count": 89,
   "metadata": {},
   "outputs": [
    {
     "data": {
      "text/plain": [
       "' \\n무게를 모두 더함 \\n더한 무게를 경우의 수와 각 무게를 더했을 때 경우의 수를 빼면 \\n측정 불가능한 경우의 수가 나옴 \\n'"
      ]
     },
     "execution_count": 89,
     "metadata": {},
     "output_type": "execute_result"
    }
   ],
   "source": [
    "''' \n",
    "무게를 모두 더함 \n",
    "더한 무게를 경우의 수와 각 무게를 더했을 때 경우의 수를 빼면 \n",
    "측정 불가능한 경우의 수가 나옴 \n",
    "'''"
   ]
  },
  {
   "cell_type": "code",
   "execution_count": 90,
   "metadata": {},
   "outputs": [],
   "source": [
    "n = 3 \n",
    "li = [1, 5, 7]"
   ]
  },
  {
   "cell_type": "code",
   "execution_count": 91,
   "metadata": {},
   "outputs": [],
   "source": [
    "def DFS(idx, s):\n",
    "    if idx == n+1:\n",
    "        all_li.append(s)\n",
    "        return \n",
    "\n",
    "    else:\n",
    "        for i in range(n):\n",
    "            DFS(i, s+li[i])\n",
    "\n",
    "            DFS(i, s)\n",
    "# 안되겠는데 ㅠㅠ...             "
   ]
  },
  {
   "cell_type": "markdown",
   "metadata": {},
   "source": [
    "### 참고 풀이"
   ]
  },
  {
   "cell_type": "code",
   "execution_count": 92,
   "metadata": {},
   "outputs": [
    {
     "data": {
      "text/plain": [
       "'\\n추를 사용해서 물의 양을 측정할 수 있도록 진행 \\n입력 1, 5, 7을 가지고 상태트리 구현 \\n0그램에서 출발\\n    - 왼쪽은 양팔 저울에 왼쪽에 1그램을 넣었다는 뜻 +함 \\n    - 오른쪽은 양팔 저울에 오른쪽에 1그램을 넣었다는 뜻 -함\\n    - 사용하지 않을 때도 생각 \\n다시 보기 한번 보기 \\n\\n'"
      ]
     },
     "execution_count": 92,
     "metadata": {},
     "output_type": "execute_result"
    }
   ],
   "source": [
    "'''\n",
    "추를 사용해서 물의 양을 측정할 수 있도록 진행 \n",
    "입력 1, 5, 7을 가지고 상태트리 구현 \n",
    "0그램에서 출발\n",
    "    - 왼쪽은 양팔 저울에 왼쪽에 1그램을 넣었다는 뜻 +함 \n",
    "    - 오른쪽은 양팔 저울에 오른쪽에 1그램을 넣었다는 뜻 -함\n",
    "    - 사용하지 않을 때도 생각 \n",
    "다시 보기 한번 보기 \n",
    "\n",
    "'''"
   ]
  },
  {
   "cell_type": "code",
   "execution_count": 95,
   "metadata": {},
   "outputs": [],
   "source": [
    "def DFS(L, sum):\n",
    "    # L은 G에 접근하는 인덱스 \n",
    "    # sum은 합 \n",
    "\n",
    "    global res \n",
    "    \n",
    "    if L == n:\n",
    "        if 0 < sum <= s:\n",
    "            # -가 있지만 대칭 구조임으로 음수는 신경쓰지 말고 0부터 해도 상관 x \n",
    "            res.add(sum)\n",
    "    else:\n",
    "        # 3갈래로 뻗어줘야함 \n",
    "        # 난 이게 잘 안되는 것 같음 \n",
    "\n",
    "        DFS(L+1, sum+G[L])\n",
    "        # 추를 왼쪽에다 놓는다는 뜻 \n",
    "\n",
    "        DFS(L+1, sum-G[L])\n",
    "        # 추를 오른족에다 놓는다는 뜻 \n",
    "\n",
    "        DFS(L+1, sum)\n",
    "        # 추를 놓지 않는다는 뜻\n"
   ]
  },
  {
   "cell_type": "code",
   "execution_count": 96,
   "metadata": {},
   "outputs": [
    {
     "name": "stdout",
     "output_type": "stream",
     "text": [
      "2\n"
     ]
    }
   ],
   "source": [
    "if __name__ == \"__main__\":\n",
    "    n = int(input())\n",
    "    G = list(map(int, input().split()))\n",
    "    s = sum(G)\n",
    "    # 추들의 총합 \n",
    "    res = set()\n",
    "    # 중복 제거 \n",
    "    DFS(0,0)\n",
    "    print(s-len(res))"
   ]
  },
  {
   "cell_type": "code",
   "execution_count": null,
   "metadata": {},
   "outputs": [],
   "source": []
  }
 ],
 "metadata": {
  "kernelspec": {
   "display_name": "Python 3.9.1 64-bit ('3.9.1')",
   "language": "python",
   "name": "python3"
  },
  "language_info": {
   "codemirror_mode": {
    "name": "ipython",
    "version": 3
   },
   "file_extension": ".py",
   "mimetype": "text/x-python",
   "name": "python",
   "nbconvert_exporter": "python",
   "pygments_lexer": "ipython3",
   "version": "3.9.1"
  },
  "orig_nbformat": 4,
  "vscode": {
   "interpreter": {
    "hash": "b29909ae39fc17549a84839997d927dda790dc9d9d25402f3e010c02e8c51a82"
   }
  }
 },
 "nbformat": 4,
 "nbformat_minor": 2
}
