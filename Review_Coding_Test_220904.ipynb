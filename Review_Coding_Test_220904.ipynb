{
 "cells": [
  {
   "cell_type": "markdown",
   "metadata": {},
   "source": [
    "## 재귀 함수를 이용한 이진수 출력 \n",
    "- 10진수 N이 입력되면 2진수로 변환하여 출력하는 프로그램을 작성하세요. 단 재귀함수를 이용 해서 출력해야 합니다.\n"
   ]
  },
  {
   "cell_type": "code",
   "execution_count": 1,
   "metadata": {},
   "outputs": [],
   "source": [
    "# 이진수를 출력하기 위해서는 나머지를 스택에 입력하고 후입선출로 빼면 될 것 같은데 "
   ]
  },
  {
   "cell_type": "code",
   "execution_count": 53,
   "metadata": {},
   "outputs": [
    {
     "name": "stdout",
     "output_type": "stream",
     "text": [
      "999\n"
     ]
    }
   ],
   "source": [
    "n = int(input())\n",
    "print(n)"
   ]
  },
  {
   "cell_type": "code",
   "execution_count": 54,
   "metadata": {},
   "outputs": [],
   "source": [
    "stack = [] \n",
    "def DFS(n):\n",
    "    if n == 1:\n",
    "        stack.append(1)\n",
    "        for _ in range(len(stack)):\n",
    "            print(stack.pop(), end= \"\")\n",
    "    # 결국은 1이기 때문에 1이 된다면 마지막에 1을 넣어주고 pop하면 차례대로 출력 \n",
    "\n",
    "    \n",
    "    else:\n",
    "        s = n % 2 \n",
    "        stack.append(s)\n",
    "        DFS(n // 2)\n",
    "# 맞는것 같은데...? "
   ]
  },
  {
   "cell_type": "code",
   "execution_count": 55,
   "metadata": {},
   "outputs": [
    {
     "name": "stdout",
     "output_type": "stream",
     "text": [
      "1111100111"
     ]
    }
   ],
   "source": [
    "DFS(n)"
   ]
  },
  {
   "cell_type": "markdown",
   "metadata": {},
   "source": [
    "## 이진트리 순회(깊이우선탐색)\n",
    "- 아래 그림과 같은 이진트리를 전위순회와 후위순회를 연습해보세요."
   ]
  },
  {
   "cell_type": "code",
   "execution_count": null,
   "metadata": {},
   "outputs": [],
   "source": [
    "'''\n",
    "왼쪽 자식 노드 : 부모값 * 2 \n",
    "오른쪽 자식 노드 : 부모값 * 2 + 1\n",
    "'''"
   ]
  },
  {
   "cell_type": "code",
   "execution_count": 60,
   "metadata": {},
   "outputs": [],
   "source": [
    "def DFS(v):\n",
    "    if v > 7:\n",
    "        return\n",
    "    \n",
    "    else:\n",
    "        # print(v, end=\" \")\n",
    "        # 여기에 print를 하게 되면 전위순회방식 \n",
    "        DFS(v*2)\n",
    "        # 왼쪽 자식 노드 호출 \n",
    "\n",
    "        # print(v, end=\" \")\n",
    "        # 여기서 print를 하게 되면 중위순회방식 \n",
    "\n",
    "        DFS(v*2+1)\n",
    "        # 오른쪽 자식 노드 호출 \n",
    "\n",
    "        print(v, end=\" \")\n",
    "        # 여기서 print를 하게 되면 후위순회방식 \n",
    "\n"
   ]
  },
  {
   "cell_type": "code",
   "execution_count": 61,
   "metadata": {},
   "outputs": [
    {
     "name": "stdout",
     "output_type": "stream",
     "text": [
      "4 5 2 6 7 3 1 "
     ]
    }
   ],
   "source": [
    "if __name__ == \"__main__\":\n",
    "    DFS(1)"
   ]
  },
  {
   "cell_type": "code",
   "execution_count": 62,
   "metadata": {},
   "outputs": [
    {
     "data": {
      "text/plain": [
       "' \\n위 코드 이해 \\nstack에 저장 \\n- DFS(1)이 작동하면서 DFS(1*2) 위치 기억 \\n    - DFS(1*2) 호출되고 DFS(2*2) 위치 기억 \\n        - DFS(2*2)호출 되고 DFS(4*2) 위치 기억 \\n            - DFS(4*2) 호출되고 조건문이 참이 되고 소멸 \\n        - DFS(4*2) 위치로 복귀되고 밑에 DFS(4*2+1) 위치 기억 \\n            DFS(9) 호출되고 조건문이 참이 되고 소멸 \\n        - DFS(4*2+1) 위치로 복귀되고 print(4)진행 \\n    - DFS(1*2)로 돌아옴 \\n        - DFS(2*2+1)호출되고 DFS(4+1) 위치 기억 \\n            - DFS(5*2) 호출되고 조건문이 참이되고 소멸 \\n        - DFS(4+1) 위치로 복귀되고 DFS(5*2+1) 호출 \\n            - DFS(5*2+1) 호출되고 조건문이 참이되고 소멸 \\n        - DFS(5*2+1) 위치로 복귀되고 print(5)진행 \\n    - DFS(1*2)로 돌아와서 밑에 print(2) 진행 \\n\\n    - DFS(1*2+1) 호출되고 DFS(3*2) 위치 기억 \\n        - 이후는 위와 똑같이 반복 \\n\\n\\n\\n\\n'"
      ]
     },
     "execution_count": 62,
     "metadata": {},
     "output_type": "execute_result"
    }
   ],
   "source": [
    "''' \n",
    "위 코드 이해 \n",
    "stack에 저장 \n",
    "- DFS(1)이 작동하면서 DFS(1*2) 위치 기억 \n",
    "    - DFS(1*2) 호출되고 DFS(2*2) 위치 기억 \n",
    "        - DFS(2*2)호출 되고 DFS(4*2) 위치 기억 \n",
    "            - DFS(4*2) 호출되고 조건문이 참이 되고 소멸 \n",
    "        - DFS(4*2) 위치로 복귀되고 밑에 DFS(4*2+1) 위치 기억 \n",
    "            DFS(9) 호출되고 조건문이 참이 되고 소멸 \n",
    "        - DFS(4*2+1) 위치로 복귀되고 print(4)진행 \n",
    "    - DFS(1*2)로 돌아옴 \n",
    "        - DFS(2*2+1)호출되고 DFS(4+1) 위치 기억 \n",
    "            - DFS(5*2) 호출되고 조건문이 참이되고 소멸 \n",
    "        - DFS(4+1) 위치로 복귀되고 DFS(5*2+1) 호출 \n",
    "            - DFS(5*2+1) 호출되고 조건문이 참이되고 소멸 \n",
    "        - DFS(5*2+1) 위치로 복귀되고 print(5)진행 \n",
    "    - DFS(1*2)로 돌아와서 밑에 print(2) 진행 \n",
    "\n",
    "    - DFS(1*2+1) 호출되고 DFS(3*2) 위치 기억 \n",
    "        - 이후는 위와 똑같이 반복 \n",
    "'''"
   ]
  },
  {
   "cell_type": "markdown",
   "metadata": {},
   "source": [
    "## 부분집합 구하기(DFS)\n",
    "- 자연수 N이 주어지면 1부터 N까지의 원소를 갖는 집합의 부분집합을 모두 출력하는 프로그램 을 작성하세요."
   ]
  },
  {
   "cell_type": "code",
   "execution_count": 63,
   "metadata": {},
   "outputs": [
    {
     "name": "stdout",
     "output_type": "stream",
     "text": [
      "[0, 0, 0, 0]\n"
     ]
    }
   ],
   "source": [
    "n = int(input())\n",
    "c = [0] * (n+1)\n",
    "print(c)"
   ]
  },
  {
   "cell_type": "code",
   "execution_count": 74,
   "metadata": {},
   "outputs": [],
   "source": [
    "def DFS(v):\n",
    "\n",
    "    if v == n+1:\n",
    "        for i in range(1, n+1):\n",
    "            if c[i] == 1:\n",
    "                print(i, end = \" \")\n",
    "        print()\n",
    "\n",
    "    else:\n",
    "        c[v] = 1 \n",
    "        DFS(v+1)\n",
    "\n",
    "        c[v] = 0 \n",
    "        DFS(v+1)\n"
   ]
  },
  {
   "cell_type": "code",
   "execution_count": 75,
   "metadata": {},
   "outputs": [
    {
     "name": "stdout",
     "output_type": "stream",
     "text": [
      "1 2 3 \n",
      "1 2 \n",
      "1 3 \n",
      "1 \n",
      "2 3 \n",
      "2 \n",
      "3 \n",
      "\n"
     ]
    }
   ],
   "source": [
    "DFS(1)"
   ]
  },
  {
   "cell_type": "code",
   "execution_count": null,
   "metadata": {},
   "outputs": [],
   "source": [
    "'''\n",
    "v = 1 \n",
    "    c[1] = 1 \n",
    "    DFS(1+1)\n",
    "    v = 2\n",
    "        c[2] = 1 \n",
    "        DFS(2+1)\n",
    "        v = 3 \n",
    "            c[3] = 1\n",
    "            DFS(3+1)\n",
    "            v = 4 조건문 발동 \n",
    "            c[i] = 1 인 것 모두 출력 (1 2 3 )\n",
    "\n",
    "            c[3] = 0\n",
    "            DFS(3+1)\n",
    "            v = 4 조건문 발동 \n",
    "            c[i] = 1 인 것 모두 출력 (1 2)\n",
    "\n",
    "        c[2] = 0 \n",
    "        DFS(2+1)\n",
    "        v = 3 \n",
    "            c[3] = 1 \n",
    "            DFS(3+1)\n",
    "            v = 4 조건문 발동 \n",
    "            c[i] = 1 인 것 모두 출력 (1 3)\n",
    "        \n",
    "            c[3] = 0 \n",
    "            DFS(3+1)\n",
    "            v = 4 조건문 발동 \n",
    "            c[i] = 1 인 것 모두 출력 (1)\n",
    "    \n",
    "    c[1] = 0 \n",
    "    DFS(1+1)\n",
    "    v = 2 \n",
    "        c[2] = 1 \n",
    "        DFS(2+1)\n",
    "        v = 3 \n",
    "            c[3] = 1 \n",
    "            DFS(3+1)\n",
    "            v = 4 조건문 발동 \n",
    "            c[i] = 1 인 것 모두 출력 (2 3)\n",
    "\n",
    "            c[3] = 0 \n",
    "            DFS(3+1)\n",
    "            v = 4 조건문 발동 \n",
    "            c[i] = 1 인 것 모두 출력 (2)\n",
    "\n",
    "            c[3] = 0 \n",
    "            DFS(3+1)\n",
    "            v = 4 조건문 발동 \n",
    "            c[i] = 1 인 것 모두 출력 (3)\n",
    "끄읏 \n",
    "            \n",
    "\n",
    "\n",
    "'''"
   ]
  }
 ],
 "metadata": {
  "kernelspec": {
   "display_name": "Python 3.9.1 64-bit ('3.9.1')",
   "language": "python",
   "name": "python3"
  },
  "language_info": {
   "codemirror_mode": {
    "name": "ipython",
    "version": 3
   },
   "file_extension": ".py",
   "mimetype": "text/x-python",
   "name": "python",
   "nbconvert_exporter": "python",
   "pygments_lexer": "ipython3",
   "version": "3.9.1"
  },
  "orig_nbformat": 4,
  "vscode": {
   "interpreter": {
    "hash": "b29909ae39fc17549a84839997d927dda790dc9d9d25402f3e010c02e8c51a82"
   }
  }
 },
 "nbformat": 4,
 "nbformat_minor": 2
}
