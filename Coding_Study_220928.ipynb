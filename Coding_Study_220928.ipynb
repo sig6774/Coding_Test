{
 "cells": [
  {
   "cell_type": "markdown",
   "metadata": {},
   "source": [
    "## 완주하지 못한 선수"
   ]
  },
  {
   "cell_type": "code",
   "execution_count": 1,
   "metadata": {},
   "outputs": [],
   "source": [
    "# 단순 반복으로 푸는 풀이 \n",
    "# O(n^2) -> 이중 루프 \n",
    "\n",
    "def solution(participant, completion):\n",
    "    for i in completion:\n",
    "        participant.remove(i)\n",
    "        # remove함수는 O(n)이라는 함수임 \n",
    "        # 즉 O(n^2)\n",
    "    return participant[0]\n",
    "# 이거는 효율성 테스트 실패"
   ]
  },
  {
   "cell_type": "code",
   "execution_count": 2,
   "metadata": {},
   "outputs": [],
   "source": [
    "# 정렬을 이용해서 푸는 풀이 \n",
    "# 정렬은 시간 복잡도가 O(n log n)\n",
    "def solution(participant, completion):\n",
    "    participant.sort()\n",
    "    completion.sort()\n",
    "\n",
    "    for p, c in zip(participant, completion):\n",
    "        if p != c:\n",
    "            return p\n",
    "    return participant[-1]\n",
    "# zip함수를 사용 값이 같은지 비교 "
   ]
  },
  {
   "cell_type": "code",
   "execution_count": null,
   "metadata": {},
   "outputs": [],
   "source": [
    "# 파이썬은 파이썬 답게 \n",
    "# 빌트인 함수 Counter를 이용한 풀이 \n",
    "# O(n)\n",
    "\n",
    "from collections import Counter\n",
    "def solution(participant, completion):\n",
    "    result = Counter(participant) - Counter(completion)\n",
    "    # dict형태를 - 연산을 통해 0이 되면 사라지는 방식을 사용 \n",
    "    # 파이썬의 내장 함수 \n",
    "\n",
    "    return list(result.keys())[0]\n"
   ]
  }
 ],
 "metadata": {
  "kernelspec": {
   "display_name": "Python 3.9.1 64-bit ('3.9.1')",
   "language": "python",
   "name": "python3"
  },
  "language_info": {
   "codemirror_mode": {
    "name": "ipython",
    "version": 3
   },
   "file_extension": ".py",
   "mimetype": "text/x-python",
   "name": "python",
   "nbconvert_exporter": "python",
   "pygments_lexer": "ipython3",
   "version": "3.9.1"
  },
  "orig_nbformat": 4,
  "vscode": {
   "interpreter": {
    "hash": "b29909ae39fc17549a84839997d927dda790dc9d9d25402f3e010c02e8c51a82"
   }
  }
 },
 "nbformat": 4,
 "nbformat_minor": 2
}
