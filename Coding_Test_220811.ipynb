{
 "cells": [
  {
   "cell_type": "markdown",
   "metadata": {},
   "source": [
    "### 전역변수와 지역변수"
   ]
  },
  {
   "cell_type": "code",
   "execution_count": 34,
   "metadata": {},
   "outputs": [],
   "source": [
    "def DFS1():\n",
    "    cnt = 3 \n",
    "    print(cnt)\n",
    "    # 함수는 우선 자신의 지역변수인지 확인하고 맞다면 지역변수로 작동\n",
    "    # 그래서 DFS1()은 3을 출력  \n",
    "\n",
    "def DFS2():\n",
    "    global cnt \n",
    "    # cnt는 전역변수라는 것을 의미 \n",
    "\n",
    "    if cnt == 5:\n",
    "        cnt = cnt + 1 \n",
    "        print(cnt)\n",
    "    # 지역변수로 사용 (global 키워드 사용하기 전 )\n",
    "    # cnt+1의 값을 새로운 cnt변수로 할당 \n",
    "    # 6출력 "
   ]
  },
  {
   "cell_type": "code",
   "execution_count": 35,
   "metadata": {},
   "outputs": [
    {
     "name": "stdout",
     "output_type": "stream",
     "text": [
      "3\n",
      "6\n",
      "6\n"
     ]
    }
   ],
   "source": [
    "if __name__ == \"__main__\":\n",
    "    cnt = 5\n",
    "    # cnt라는 전역변수 생성 \n",
    "    # 전역변수는 모든 함수가 접근할 수 있음 \n",
    "    # 즉 함수에서 값을 사용할 수 있음 \n",
    "\n",
    "    # 함수는 우선 변수를 보게 되면 자신의 지역변수인지 확인 \n",
    "    # 만약 자신의 지역변수가 아니라면 전역 변수인지 확인 \n",
    "\n",
    "    DFS1()\n",
    "    DFS2()\n",
    "    print(cnt)\n",
    "    # DFS2()에서 +1 했으므로 전역 변수인 cnt는 6으로 변경 "
   ]
  },
  {
   "cell_type": "code",
   "execution_count": 43,
   "metadata": {},
   "outputs": [],
   "source": [
    "def DFS3():\n",
    "    # a[0] = 7 \n",
    "    # 해당 부분이 새로운 리스트를 생성한다는 의미가 아니라 \n",
    "    # a라는 리스트의 0번 인덱스의 값을 변경해준다는 의미 \n",
    "\n",
    "    # a = [7,8]\n",
    "    # 이렇게 작성한다면 새로운 리스트로 생성되어 해당 함수의 지역 변수로 활용 \n",
    "    # 그래서 [7,8]이 출력 \n",
    "\n",
    "    global a \n",
    "    # 전역 변수인 a라고 생각해라 라는 뜻\n",
    "    a = a + [4]\n",
    "    # 이거는 지역 변수로 만들어져버리기 때문에 a가 할당된 값이 없기 때문에 에러 발생 \n",
    "    # 만약 global을 작성하게 된다면 원래 의도인 [1,2,3]에서 [4]를 추가할 수 있음 \n",
    "    print(a)\n"
   ]
  },
  {
   "cell_type": "code",
   "execution_count": 44,
   "metadata": {},
   "outputs": [
    {
     "name": "stdout",
     "output_type": "stream",
     "text": [
      "[1, 2, 3, 4]\n",
      "[1, 2, 3, 4]\n"
     ]
    }
   ],
   "source": [
    "if __name__ == \"__main__\":\n",
    "    a = [1,2,3]\n",
    "    DFS3()\n",
    "    print(a)\n",
    "    # 해당 a는 전역 변수임으로 [1,2,3]출력 "
   ]
  },
  {
   "cell_type": "markdown",
   "metadata": {},
   "source": [
    "## 바둑이 승차 \n",
    "- 철수는 그의 바둑이들을 데리고 시장에 가려고 한다. 그런데 그의 트럭은 C킬로그램 넘게 태 울수가 없다. 철수는 C를 넘지 않으면서 그의 바둑이들을 가장 무겁게 태우고 싶다.\n",
    "- N마리의 바둑이와 각 바둑이의 무게 W가 주어지면, 철수가 트럭에 태울 수 있는 가장 무거운 무게를 구하는 프로그램을 작성하세요.\n",
    "\n",
    "<hr>\n",
    "\n",
    "- 첫 번째 줄에 자연수 C(1<=C<=100,000,000)와 N(1<=N<=30)이 주어집니다. 둘째 줄부터 N마리 바둑이의 무게가 주어진다.\n",
    "- 첫 번째 줄에 가장 무거운 무게를 출력한다."
   ]
  },
  {
   "cell_type": "code",
   "execution_count": null,
   "metadata": {},
   "outputs": [],
   "source": [
    "'''\n",
    "개를 태울껀지 안태울껀지 정한 후 태운 것의 값이 259를 넘지 않는 최대를 구하면 되지 않을까?\n",
    "'''"
   ]
  },
  {
   "cell_type": "code",
   "execution_count": 65,
   "metadata": {},
   "outputs": [],
   "source": [
    "max_ = []\n",
    "def DFS(idx,S):\n",
    "    \n",
    "    if idx == N:\n",
    "        # idx가 n이 되어야 n에 있는 모든 값을 다 훑어보고 확인할 수 있음 \n",
    "        if S < C:\n",
    "            max_.append(S)\n",
    "            # 위의 조건에 맞는 값을 모두 리스트에 넣어줌 \n",
    "    else:\n",
    "        # 값을 넣을 때 \n",
    "        DFS(idx+1, S + li[idx])\n",
    "\n",
    "        # 값을 넣지 않을 때 \n",
    "        DFS(idx+1, S)"
   ]
  },
  {
   "cell_type": "code",
   "execution_count": 66,
   "metadata": {},
   "outputs": [
    {
     "name": "stdout",
     "output_type": "stream",
     "text": [
      "242\n"
     ]
    }
   ],
   "source": [
    "if __name__ == \"__main__\":\n",
    "    C, N = map(int, input().split())\n",
    "    li = []\n",
    "    for i in range(N):\n",
    "        li.append(int(input()))\n",
    "    DFS(0, 0)   \n",
    "    # 0번 인덱스부터 값이 0으로 초기화하고 시작 \n",
    "    \n",
    "# print(max_)\n",
    "print(max(max_))\n",
    "# 맞는거 같은데?"
   ]
  },
  {
   "cell_type": "markdown",
   "metadata": {},
   "source": [
    "### 참고 풀이"
   ]
  },
  {
   "cell_type": "code",
   "execution_count": 52,
   "metadata": {},
   "outputs": [],
   "source": [
    "def DFS(L, sum):\n",
    "    global result\n",
    "    # result를 전역변수로 사용하겠다는 뜻 \n",
    "    if sum > c:\n",
    "        # 값이 넘어버리면 종료해버림 \n",
    "        return \n",
    "\n",
    "    if L == n:\n",
    "        # 부분집합이 하나 완성되었다면 \n",
    "        if sum > result:\n",
    "            result = sum \n",
    "            # 값 갱신 \n",
    "            \n",
    "    else:\n",
    "        # 값을 사용했을 때 \n",
    "        DFS(L+1, sum + a[L])\n",
    "\n",
    "        # 값을 사용하지 않았을 때 \n",
    "        DFS(L+1, sum)\n",
    "# 이렇게 사용하면 time limit 걸림 "
   ]
  },
  {
   "cell_type": "code",
   "execution_count": 62,
   "metadata": {},
   "outputs": [],
   "source": [
    "def DFS(L, sum, tsum):\n",
    "    # tsum은 판단을 한 무게를 뜻함 \n",
    "\n",
    "    global result\n",
    "    # result를 전역변수로 사용하겠다는 뜻 \n",
    "\n",
    "    if sum + (total - tsum) < result:\n",
    "    # total - tsum : 앞으로 판단 해야할 바둑이들의 무게 \n",
    "    # result보다 작으면 더 밑으로 갈 필요가 없음 \n",
    "        return \n",
    "        \n",
    "    if sum > c:\n",
    "        # 값이 넘어버리면 종료해버림 \n",
    "        return \n",
    "\n",
    "    if L == n:\n",
    "        # 부분집합이 하나 완성되었다면 \n",
    "        if sum > result:\n",
    "            result = sum \n",
    "            # 값 갱신 \n",
    "            \n",
    "    else:\n",
    "        # 값을 사용했을 때 \n",
    "        DFS(L+1, sum + a[L], tsum + a[L])\n",
    "\n",
    "        # 값을 사용하지 않았을 때 \n",
    "        DFS(L+1, sum, tsum)\n"
   ]
  },
  {
   "cell_type": "code",
   "execution_count": 63,
   "metadata": {},
   "outputs": [],
   "source": [
    "if __name__ == \"__main__\":\n",
    "    c, n = map(int, input().split())\n",
    "    a= [0] * n\n",
    "    result = -21470000\n",
    "    for i in range(n):\n",
    "        a[i] = int(input())\n",
    "    total = sum(a)\n",
    "    DFS(0,0, 0)"
   ]
  },
  {
   "cell_type": "code",
   "execution_count": 64,
   "metadata": {},
   "outputs": [
    {
     "name": "stdout",
     "output_type": "stream",
     "text": [
      "242\n"
     ]
    }
   ],
   "source": [
    "print(result)"
   ]
  },
  {
   "cell_type": "markdown",
   "metadata": {},
   "source": [
    "## 중복 순열 구하기 \n",
    "- 1부터 N까지 번호가 적힌 구슬이 있습니다. 이 중 중복을 허락하여 M번을 뽑아 일렬로 나열 하는 방법을 모두 출력합니다.\n",
    "\n",
    "<hr>\n",
    "\n",
    "- 첫 번째 줄에 자연수 N(3<=N<=10)과 M(2<=M<=N) 이 주어집니다.\n",
    "- 첫 번째 줄에 결과를 출력합니다. 맨 마지막 총 경우의 수를 출력합니다. 출력순서는 사전순으로 오름차순으로 출력합니다."
   ]
  },
  {
   "cell_type": "code",
   "execution_count": 67,
   "metadata": {},
   "outputs": [
    {
     "data": {
      "text/plain": [
       "'\\n사용할지 안할지를 count해서 그 count를 다 쓰게 되면 하나씩 증가하면 되지 않을까?\\n'"
      ]
     },
     "execution_count": 67,
     "metadata": {},
     "output_type": "execute_result"
    }
   ],
   "source": [
    "'''\n",
    "사용할지 안할지를 count해서 그 count를 다 쓰게 되면 하나씩 증가하면 되지 않을까?\n",
    "'''"
   ]
  },
  {
   "cell_type": "code",
   "execution_count": null,
   "metadata": {},
   "outputs": [],
   "source": [
    "def DFS(n, cnt):\n",
    "    global cnt \n",
    "    if cnt == 0:\n",
    "        return \n",
    "    DFS(n, cnt)\n",
    "    cnt -= 1 \n",
    "    print()\n",
    "    # 이거 아님 "
   ]
  },
  {
   "cell_type": "code",
   "execution_count": 84,
   "metadata": {},
   "outputs": [],
   "source": [
    "def DFS(k):\n",
    "    global cnt\n",
    "    if k == N+1:\n",
    "        return \n",
    "\n",
    "    for i in range(1,N+1):\n",
    "        print(k, i)\n",
    "        cnt += 1 \n",
    "    DFS(k+1)"
   ]
  },
  {
   "cell_type": "code",
   "execution_count": 85,
   "metadata": {},
   "outputs": [
    {
     "name": "stdout",
     "output_type": "stream",
     "text": [
      "1 1\n",
      "1 2\n",
      "1 3\n",
      "2 1\n",
      "2 2\n",
      "2 3\n",
      "3 1\n",
      "3 2\n",
      "3 3\n",
      "9\n"
     ]
    }
   ],
   "source": [
    "N, M = map(int, input().split())\n",
    "cnt = 0 \n",
    "DFS(N-N+1)\n",
    "print(cnt)\n",
    "# 이거는 되는데 만약 M이 3이상이면 어떻게 하지? \n",
    "# 계속 반복문을 쓰는것도 한계가 있는데 \n",
    "\n",
    "# 아이디어가 생각이 안남... ㅠㅠ"
   ]
  },
  {
   "cell_type": "markdown",
   "metadata": {},
   "source": [
    "### 참고 풀이"
   ]
  },
  {
   "cell_type": "code",
   "execution_count": 86,
   "metadata": {},
   "outputs": [
    {
     "data": {
      "text/plain": [
       "'\\n트리가 M가닥으로 뻗어나감 \\n입력받은 M에 따라서 가지가 여러가지로 뻗어나감 \\n'"
      ]
     },
     "execution_count": 86,
     "metadata": {},
     "output_type": "execute_result"
    }
   ],
   "source": [
    "'''\n",
    "트리가 N가닥으로 뻗어나감 \n",
    "입력받은 N에 따라서 가지가 여러가지로 뻗어나감 \n",
    "res라는 리스트를 만들어서 res[L] = i로 진행하고 DFS() 호출 \n",
    "L == M이면 종료 \n",
    "'''"
   ]
  },
  {
   "cell_type": "code",
   "execution_count": 4,
   "metadata": {},
   "outputs": [],
   "source": [
    "def DFS(L):\n",
    "    global cnt \n",
    "    if L == m:\n",
    "        # 두개의 값이 같다면 저장된 res 출력 \n",
    "        for j in range(m):\n",
    "            print(res[j], end = \" \")\n",
    "        print()\n",
    "        cnt += 1 \n",
    "\n",
    "    else:\n",
    "        for i in range(1, n+1):\n",
    "            res[L] = i \n",
    "            DFS(L+1)"
   ]
  },
  {
   "cell_type": "code",
   "execution_count": 8,
   "metadata": {},
   "outputs": [
    {
     "name": "stdout",
     "output_type": "stream",
     "text": [
      "1 1 1 \n",
      "1 1 2 \n",
      "1 1 3 \n",
      "1 1 4 \n",
      "1 1 5 \n",
      "1 2 1 \n",
      "1 2 2 \n",
      "1 2 3 \n",
      "1 2 4 \n",
      "1 2 5 \n",
      "1 3 1 \n",
      "1 3 2 \n",
      "1 3 3 \n",
      "1 3 4 \n",
      "1 3 5 \n",
      "1 4 1 \n",
      "1 4 2 \n",
      "1 4 3 \n",
      "1 4 4 \n",
      "1 4 5 \n",
      "1 5 1 \n",
      "1 5 2 \n",
      "1 5 3 \n",
      "1 5 4 \n",
      "1 5 5 \n",
      "2 1 1 \n",
      "2 1 2 \n",
      "2 1 3 \n",
      "2 1 4 \n",
      "2 1 5 \n",
      "2 2 1 \n",
      "2 2 2 \n",
      "2 2 3 \n",
      "2 2 4 \n",
      "2 2 5 \n",
      "2 3 1 \n",
      "2 3 2 \n",
      "2 3 3 \n",
      "2 3 4 \n",
      "2 3 5 \n",
      "2 4 1 \n",
      "2 4 2 \n",
      "2 4 3 \n",
      "2 4 4 \n",
      "2 4 5 \n",
      "2 5 1 \n",
      "2 5 2 \n",
      "2 5 3 \n",
      "2 5 4 \n",
      "2 5 5 \n",
      "3 1 1 \n",
      "3 1 2 \n",
      "3 1 3 \n",
      "3 1 4 \n",
      "3 1 5 \n",
      "3 2 1 \n",
      "3 2 2 \n",
      "3 2 3 \n",
      "3 2 4 \n",
      "3 2 5 \n",
      "3 3 1 \n",
      "3 3 2 \n",
      "3 3 3 \n",
      "3 3 4 \n",
      "3 3 5 \n",
      "3 4 1 \n",
      "3 4 2 \n",
      "3 4 3 \n",
      "3 4 4 \n",
      "3 4 5 \n",
      "3 5 1 \n",
      "3 5 2 \n",
      "3 5 3 \n",
      "3 5 4 \n",
      "3 5 5 \n",
      "4 1 1 \n",
      "4 1 2 \n",
      "4 1 3 \n",
      "4 1 4 \n",
      "4 1 5 \n",
      "4 2 1 \n",
      "4 2 2 \n",
      "4 2 3 \n",
      "4 2 4 \n",
      "4 2 5 \n",
      "4 3 1 \n",
      "4 3 2 \n",
      "4 3 3 \n",
      "4 3 4 \n",
      "4 3 5 \n",
      "4 4 1 \n",
      "4 4 2 \n",
      "4 4 3 \n",
      "4 4 4 \n",
      "4 4 5 \n",
      "4 5 1 \n",
      "4 5 2 \n",
      "4 5 3 \n",
      "4 5 4 \n",
      "4 5 5 \n",
      "5 1 1 \n",
      "5 1 2 \n",
      "5 1 3 \n",
      "5 1 4 \n",
      "5 1 5 \n",
      "5 2 1 \n",
      "5 2 2 \n",
      "5 2 3 \n",
      "5 2 4 \n",
      "5 2 5 \n",
      "5 3 1 \n",
      "5 3 2 \n",
      "5 3 3 \n",
      "5 3 4 \n",
      "5 3 5 \n",
      "5 4 1 \n",
      "5 4 2 \n",
      "5 4 3 \n",
      "5 4 4 \n",
      "5 4 5 \n",
      "5 5 1 \n",
      "5 5 2 \n",
      "5 5 3 \n",
      "5 5 4 \n",
      "5 5 5 \n",
      "125\n"
     ]
    }
   ],
   "source": [
    "import sys \n",
    "\n",
    "if __name__==\"__main__\":\n",
    "    n, m = map(int, input().split())\n",
    "    res = [0] * m \n",
    "    cnt = 0 \n",
    "    DFS(0)\n",
    "    print(cnt)\n",
    "# 신박하네 \n",
    "# 가지가 여러개 뻗어나가기 위해서는 반복문과 리스트를 통해 진행할 수 있구나"
   ]
  },
  {
   "cell_type": "code",
   "execution_count": null,
   "metadata": {},
   "outputs": [],
   "source": []
  }
 ],
 "metadata": {
  "kernelspec": {
   "display_name": "Python 3.9.12 ('base')",
   "language": "python",
   "name": "python3"
  },
  "language_info": {
   "codemirror_mode": {
    "name": "ipython",
    "version": 3
   },
   "file_extension": ".py",
   "mimetype": "text/x-python",
   "name": "python",
   "nbconvert_exporter": "python",
   "pygments_lexer": "ipython3",
   "version": "3.9.12"
  },
  "orig_nbformat": 4,
  "vscode": {
   "interpreter": {
    "hash": "4e56095587f6faaee8b6fe269bd4758f04d4dcfca17a97e0204e5c06e32115c1"
   }
  }
 },
 "nbformat": 4,
 "nbformat_minor": 2
}
