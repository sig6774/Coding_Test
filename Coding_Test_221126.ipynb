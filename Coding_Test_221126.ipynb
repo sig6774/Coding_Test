{
 "cells": [
  {
   "cell_type": "markdown",
   "metadata": {},
   "source": [
    "## 나머지 한 점 \n",
    "- 문제 설명\n",
    "    - 직사각형을 만드는 데 필요한 4개의 점 중 3개의 좌표가 주어질 때, 나머지 한 점의 좌표를 구하려고 합니다. 점 3개의 좌표가 들어있는 배열 v가 매개변수로 주어질 때, 직사각형을 만드는 데 필요한 나머지 한 점의 좌표를 return 하도록 solution 함수를 완성해주세요. \n",
    "    - 단, 직사각형의 각 변은 x축, y축에 평행하며, 반드시 직사각형을 만들 수 있는 경우만 입력으로 주어집니다.\n",
    "\n",
    "<hr>\n",
    "\n",
    "- 제한사항\n",
    "    - v는 세 점의 좌표가 들어있는 2차원 배열입니다.\n",
    "    - v의 각 원소는 점의 좌표를 나타내며, 좌표는 [x축 좌표, y축 좌표] 순으로 주어집니다.\n",
    "    - 좌표값은 1 이상 10억 이하의 자연수입니다.\n",
    "    - 직사각형을 만드는 데 필요한 나머지 한 점의 좌표를 [x축 좌표, y축 좌표] 순으로 담아 return 해주세요.\n",
    "\n",
    "<hr>    \n",
    "\n",
    "- EX\n",
    "    - [[1, 4], [3, 4], [3, 10]]\t=> [1, 10]\n",
    "    - [[1, 1], [2, 2], [1, 2]]\t=> [2, 1]\n"
   ]
  },
  {
   "cell_type": "code",
   "execution_count": 1,
   "metadata": {},
   "outputs": [],
   "source": [
    "# x,y로 가정하고 x축 좌표의 개수가 1인 좌표를 찾아서 x 축 좌표의 개수가 2인 좌표들의 y좌표 차이를 통해 마지막 좌표 찾기?"
   ]
  },
  {
   "cell_type": "code",
   "execution_count": 2,
   "metadata": {},
   "outputs": [],
   "source": [
    "v = [[1,4], [3,4], [3,10]]"
   ]
  },
  {
   "cell_type": "code",
   "execution_count": 40,
   "metadata": {},
   "outputs": [
    {
     "name": "stdout",
     "output_type": "stream",
     "text": [
      "[1, 10]\n"
     ]
    }
   ],
   "source": [
    "t1 = [] \n",
    "t2 = [] \n",
    "c = v[0][0]\n",
    "\n",
    "for i in v:\n",
    "    if c == i[0]:\n",
    "        t1.append(i)\n",
    "    else:\n",
    "        t2.append(i)\n",
    "\n",
    "if len(t1) == 2:\n",
    "    m = abs(t1[0][1] - t1[1][1])\n",
    "\n",
    "    if t2[0][1] > m:\n",
    "        ans = t2[0][1] - m \n",
    "    else:\n",
    "        ans = m + t2[0][1]\n",
    "elif len(t2) == 2:\n",
    "    m = abs(t2[0][1] - t2[1][1])\n",
    "    # print(m)\n",
    "    if t1[0][1] > m:\n",
    "        ans = t1[0][1] - m \n",
    "    else:\n",
    "        ans = m + t1[0][1]\n",
    "\n",
    "    print([t1[0][0], ans])\n",
    "# 근데 이렇게 풀면 비효율적인거 같은데 \n",
    "# 그냥 x,y좌표 count해서 1인거 해당 좌표 넣으면 될 것 같은데"
   ]
  },
  {
   "cell_type": "code",
   "execution_count": 74,
   "metadata": {},
   "outputs": [
    {
     "name": "stdout",
     "output_type": "stream",
     "text": [
      "{1: 1, 3: 2} {4: 2, 10: 1}\n",
      "[1]\n",
      "[1, 10]\n",
      "[1, 10]\n"
     ]
    }
   ],
   "source": [
    "list1 = dict()\n",
    "list2 = dict()\n",
    "v = [[1,4], [3,4], [3,10]]\n",
    "\n",
    "for i,j in v:\n",
    "    if list1.get(i):\n",
    "        list1[i] += 1 \n",
    "    else:\n",
    "        list1[i] = 1 \n",
    "    \n",
    "    if list2.get(j):\n",
    "        list2[j] += 1 \n",
    "    else:\n",
    "        list2[j] = 1\n",
    "\n",
    "print(list1, list2)\n",
    "# 각 x,y 좌표 count \n",
    "\n",
    "a = [] \n",
    "b = [] \n",
    "c = [] \n",
    "for k1,k2 in zip(list1, list2):\n",
    "    if list1[k1] == 1:\n",
    "        a.append(k1)\n",
    "    elif list2[k2] == 1:\n",
    "        a.append(k2)\n",
    "# count가 1인 것의 key만 추출 \n",
    "    print(a)\n",
    "print(a)"
   ]
  },
  {
   "cell_type": "code",
   "execution_count": 80,
   "metadata": {},
   "outputs": [],
   "source": [
    "def solution(v):\n",
    "    answer = []\n",
    "    list1 = dict()\n",
    "    list2 = dict()\n",
    "\n",
    "    for i,j in v:\n",
    "        if list1.get(i):\n",
    "            list1[i] += 1 \n",
    "        else:\n",
    "            list1[i] = 1 \n",
    "        \n",
    "        if list2.get(j):\n",
    "            list2[j] += 1 \n",
    "        else:\n",
    "            list2[j] = 1\n",
    "    # 각 x,y 좌표 count \n",
    "\n",
    "    a = [] \n",
    "    for k in list1:\n",
    "        if list1[k] == 1:\n",
    "            answer.append(k)\n",
    "\n",
    "    for k in list2:\n",
    "        if list2[k] == 1:\n",
    "            answer.append(k)\n",
    "    # count가 1인 것의 key만 추출 \n",
    "    return answer"
   ]
  },
  {
   "cell_type": "code",
   "execution_count": 81,
   "metadata": {},
   "outputs": [
    {
     "data": {
      "text/plain": [
       "[2, 1]"
      ]
     },
     "execution_count": 81,
     "metadata": {},
     "output_type": "execute_result"
    }
   ],
   "source": [
    "v2 = [[1, 1], [2, 2], [1, 2]]\n",
    "solution(v2)"
   ]
  },
  {
   "cell_type": "markdown",
   "metadata": {},
   "source": [
    "### 참고 풀이"
   ]
  },
  {
   "cell_type": "code",
   "execution_count": 84,
   "metadata": {},
   "outputs": [],
   "source": [
    "# Counter 이용\n",
    "\n",
    "import collections\n",
    "\n",
    "def solution(v):\n",
    "    x = [i[0] for i in v]\n",
    "    y = [i[1] for i in v]\n",
    "    x_count = collections.Counter(x)\n",
    "    y_count = collections.Counter(y)\n",
    "\n",
    "    x_re = [i for i in x_count if x_count[i] == 1]\n",
    "    y_re = [i for i in y_count if y_count[i] == 1]\n",
    "    \n",
    "    answer = x_re + y_re\n",
    "\n",
    "    return answer"
   ]
  },
  {
   "cell_type": "code",
   "execution_count": 85,
   "metadata": {},
   "outputs": [
    {
     "data": {
      "text/plain": [
       "[2, 1]"
      ]
     },
     "execution_count": 85,
     "metadata": {},
     "output_type": "execute_result"
    }
   ],
   "source": [
    "v2 = [[1, 1], [2, 2], [1, 2]]\n",
    "solution(v2)"
   ]
  },
  {
   "cell_type": "code",
   "execution_count": 86,
   "metadata": {},
   "outputs": [],
   "source": [
    "# XOR 이용\n",
    "def solution(v):\n",
    "    x = [i[0] for i in v]\n",
    "    y = [i[1] for i in v]\n",
    "\n",
    "    for i in range(2):\n",
    "        x[0] ^= x[i + 1]\n",
    "        y[0] ^= y[i + 1]\n",
    "    answer = [x[0], y[0]]\n",
    "\n",
    "    return answer"
   ]
  },
  {
   "cell_type": "code",
   "execution_count": 87,
   "metadata": {},
   "outputs": [
    {
     "data": {
      "text/plain": [
       "[2, 1]"
      ]
     },
     "execution_count": 87,
     "metadata": {},
     "output_type": "execute_result"
    }
   ],
   "source": [
    "v2 = [[1, 1], [2, 2], [1, 2]]\n",
    "solution(v2)"
   ]
  },
  {
   "cell_type": "code",
   "execution_count": null,
   "metadata": {},
   "outputs": [],
   "source": []
  }
 ],
 "metadata": {
  "kernelspec": {
   "display_name": "Python 3.9.1 64-bit ('3.9.1')",
   "language": "python",
   "name": "python3"
  },
  "language_info": {
   "codemirror_mode": {
    "name": "ipython",
    "version": 3
   },
   "file_extension": ".py",
   "mimetype": "text/x-python",
   "name": "python",
   "nbconvert_exporter": "python",
   "pygments_lexer": "ipython3",
   "version": "3.9.1"
  },
  "orig_nbformat": 4,
  "vscode": {
   "interpreter": {
    "hash": "b29909ae39fc17549a84839997d927dda790dc9d9d25402f3e010c02e8c51a82"
   }
  }
 },
 "nbformat": 4,
 "nbformat_minor": 2
}
